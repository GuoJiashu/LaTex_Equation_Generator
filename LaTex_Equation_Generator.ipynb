{
 "cells": [
  {
   "cell_type": "code",
   "execution_count": 59,
   "id": "dc5c004b",
   "metadata": {},
   "outputs": [],
   "source": [
    "import os\n",
    "import math\n",
    "import numpy as np\n",
    "import pandas as pd\n",
    "import matplotlib.pyplot as plt\n",
    "from tqdm.notebook import tqdm\n",
    "from PIL import Image, ImageOps\n",
    "import re\n",
    "import pickle\n",
    "import random\n",
    "\n",
    "import torch\n",
    "import torch.nn as nn\n",
    "import torch.nn.functional as F\n",
    "from torch.utils.data import Dataset, DataLoader\n",
    "from torchvision.models import resnet18\n",
    "from sklearn.model_selection import train_test_split\n",
    "from collections import Counter"
   ]
  },
  {
   "cell_type": "code",
   "execution_count": 60,
   "id": "0a465e4a",
   "metadata": {},
   "outputs": [],
   "source": [
    "data_dir = r\"C:\\Users\\13658\\Desktop\\LaTex_Code_Generator\"\n",
    "handwritten_equations = os.path.join(data_dir, \"Handwritten_equations\")\n",
    "json_dict = os.path.join(data_dir, \"char_dict.json\")\n",
    "csv_file = os.path.join(data_dir, \"caption_data.csv\")"
   ]
  },
  {
   "cell_type": "code",
   "execution_count": 61,
   "id": "5e51cbd2",
   "metadata": {},
   "outputs": [],
   "source": [
    "def smart_clean_latex(code):\n",
    "    preserved = re.findall(r'(\\\\[a-zA-Z]+)\\s+', code)\n",
    "    for cmd in preserved:\n",
    "        code = code.replace(cmd + ' ', f'{cmd}<<<SPACE>>>')\n",
    "    code = code.replace(' ', '')\n",
    "    code = code.replace('<<<SPACE>>>', ' ')\n",
    "    return code\n",
    "\n",
    "csv_data = pd.read_csv(csv_file)\n",
    "latex_codes_raw = csv_data['Column2'].values\n",
    "latex_codes = [smart_clean_latex(code) for code in latex_codes_raw]\n",
    "image_names = csv_data['Column1'].values"
   ]
  },
  {
   "cell_type": "code",
   "execution_count": 62,
   "id": "bbaa51fc",
   "metadata": {},
   "outputs": [
    {
     "name": "stdout",
     "output_type": "stream",
     "text": [
      "Dic Length: 113\n",
      "Maximum Sequence Length: 224\n"
     ]
    }
   ],
   "source": [
    "command_tokens = set()\n",
    "for code in latex_codes:\n",
    "    i = 0\n",
    "    while i < len(code):\n",
    "        if code[i] == '\\\\':\n",
    "            j = i + 1\n",
    "            while j < len(code) and code[j].isalpha():\n",
    "                j += 1\n",
    "            command_tokens.add(code[i:j])\n",
    "            i = j\n",
    "        else:\n",
    "            i += 1\n",
    "\n",
    "def mixed_tokenize_latex(code, command_set):\n",
    "    tokens = []\n",
    "    i = 0\n",
    "    while i < len(code):\n",
    "        if code[i] == '\\\\':\n",
    "            j = i + 1\n",
    "            while j < len(code) and code[j].isalpha():\n",
    "                j += 1\n",
    "            cmd = code[i:j]\n",
    "            if cmd in command_set:\n",
    "                tokens.append(cmd)\n",
    "                i = j\n",
    "                continue\n",
    "        tokens.append(code[i])\n",
    "        i += 1\n",
    "    return tokens\n",
    "\n",
    "token_counter = Counter()\n",
    "for code in latex_codes:\n",
    "    tokens = mixed_tokenize_latex(code, command_tokens)\n",
    "    token_counter.update(tokens)\n",
    "\n",
    "special_tokens = ['<pad>', '<s>', '</s>']\n",
    "token_list = special_tokens + sorted(token_counter.keys())\n",
    "\n",
    "token2idx = {token: idx for idx, token in enumerate(token_list)}\n",
    "idx2token = {idx: token for token, idx in token2idx.items()}\n",
    "vocab_size = len(token2idx)\n",
    "\n",
    "def encode_label_mixed(code, token2idx, command_set, max_len):\n",
    "    tokens = ['<s>'] + mixed_tokenize_latex(code, command_set)[:max_len - 2] + ['</s>']\n",
    "    label = np.zeros(max_len, dtype=np.int32)\n",
    "    for t, token in enumerate(tokens):\n",
    "        label[t] = token2idx.get(token, 0)\n",
    "    return label\n",
    "\n",
    "max_seq_length = max(len(mixed_tokenize_latex(code, command_tokens)) for code in latex_codes) + 2\n",
    "print(f\"Dic Length: {vocab_size}\")\n",
    "print(f\"Maximum Sequence Length: {max_seq_length}\")"
   ]
  },
  {
   "cell_type": "code",
   "execution_count": 63,
   "id": "e1cf3dbd",
   "metadata": {},
   "outputs": [],
   "source": [
    "def preprocess_image(image_path, target_size=(464, 85)):\n",
    "    img = Image.open(image_path).convert('L')\n",
    "    img.thumbnail(target_size, Image.Resampling.LANCZOS)\n",
    "\n",
    "    delta_w = target_size[0] - img.size[0]\n",
    "    delta_h = target_size[1] - img.size[1]\n",
    "    padding = (delta_w // 2, delta_h // 2, delta_w - delta_w // 2, delta_h - delta_h // 2)\n",
    "    img = ImageOps.expand(img, padding, fill=255)\n",
    "\n",
    "    img_array = np.array(img, dtype=np.float32) / 255.0\n",
    "    img_array = np.stack([img_array] * 3, axis=0)\n",
    "    return torch.from_numpy(img_array).float()\n",
    "\n",
    "\n",
    "class LatexDataset(Dataset):\n",
    "    def __init__(self, image_dir, image_names, latex_codes, max_len):\n",
    "        self.image_dir = image_dir\n",
    "        self.image_names = image_names\n",
    "        self.latex_codes = latex_codes\n",
    "        self.max_len = max_len\n",
    "\n",
    "    def __len__(self):\n",
    "        return len(self.image_names)\n",
    "\n",
    "    def __getitem__(self, idx):\n",
    "        img_path = os.path.join(self.image_dir, f\"{self.image_names[idx]}.bmp\")\n",
    "        img = preprocess_image(img_path)\n",
    "        label = encode_label_mixed(self.latex_codes[idx], token2idx, command_tokens, self.max_len)\n",
    "        img_tensor = img.expand(3, -1, -1)\n",
    "        label_tensor = torch.tensor(label, dtype=torch.long)\n",
    "        return img_tensor, label_tensor\n",
    "\n",
    "\n",
    "def collate_fn(batch):\n",
    "    images, labels = zip(*batch)\n",
    "    images = torch.stack(images)\n",
    "    labels = torch.nn.utils.rnn.pad_sequence(labels, batch_first=True, padding_value=0)\n",
    "    return images, labels, [len(l) for l in labels]\n",
    "\n",
    "train_imgs, val_imgs, train_codes, val_codes = train_test_split(\n",
    "    image_names, latex_codes, test_size=0.3, random_state=42)\n",
    "\n",
    "train_dataset = LatexDataset(handwritten_equations, train_imgs, train_codes, max_seq_length)\n",
    "val_dataset = LatexDataset(handwritten_equations, val_imgs, val_codes, max_seq_length)\n",
    "\n",
    "train_loader = DataLoader(train_dataset, batch_size=32, shuffle=True, collate_fn=collate_fn)\n",
    "val_loader = DataLoader(val_dataset, batch_size=32, shuffle=False, collate_fn=collate_fn)"
   ]
  },
  {
   "cell_type": "code",
   "execution_count": 64,
   "id": "52fec02e",
   "metadata": {},
   "outputs": [
    {
     "name": "stdout",
     "output_type": "stream",
     "text": [
      "token2idx/idx2token stored in C:\\Users\\13658\\Desktop\\LaTex_Code_Generator\\token_dicts\n"
     ]
    },
    {
     "data": {
      "image/png": "[encoded data removed]",
      "text/plain": [
       "<Figure size 800x400 with 1 Axes>"
      ]
     },
     "metadata": {},
     "output_type": "display_data"
    }
   ],
   "source": [
    "dict_dir = os.path.join(data_dir, \"token_dicts\")\n",
    "os.makedirs(dict_dir, exist_ok=True)\n",
    "\n",
    "with open(os.path.join(dict_dir, \"token2idx.pkl\"), \"wb\") as f:\n",
    "    pickle.dump(token2idx, f)\n",
    "\n",
    "with open(os.path.join(dict_dir, \"idx2token.pkl\"), \"wb\") as f:\n",
    "    pickle.dump(idx2token, f)\n",
    "\n",
    "print(f\"token2idx/idx2token stored in {dict_dir}\")\n",
    "\n",
    "seq_lens = [len(mixed_tokenize_latex(code, command_tokens)) for code in latex_codes]\n",
    "plt.figure(figsize=(8, 4))\n",
    "plt.hist(seq_lens, bins=40, color='skyblue', edgecolor='black')\n",
    "plt.axvline(max_seq_length - 2, color='red', linestyle='--', label='max_seq_length (without <s>, </s>)')\n",
    "plt.title(\"LaTeX Sequence Length Distribution\")\n",
    "plt.xlabel(\"Token Count\")\n",
    "plt.ylabel(\"Sample Count\")\n",
    "plt.legend()\n",
    "plt.grid(True)\n",
    "plt.tight_layout()\n",
    "plt.show()"
   ]
  },
  {
   "cell_type": "code",
   "execution_count": 65,
   "id": "e94ebac3",
   "metadata": {},
   "outputs": [
    {
     "name": "stdout",
     "output_type": "stream",
     "text": [
      "Figure shape: torch.Size([3, 85, 464])\n",
      "Label shape: torch.Size([224])\n"
     ]
    },
    {
     "data": {
      "image/png": "[encoded data removed]",
      "text/plain": [
       "<Figure size 640x480 with 1 Axes>"
      ]
     },
     "metadata": {},
     "output_type": "display_data"
    }
   ],
   "source": [
    "idx = random.randint(0, len(train_dataset) - 1)\n",
    "img_tensor, label_tensor = train_dataset[idx]\n",
    "\n",
    "print(f\"Figure shape: {img_tensor.shape}\")  # 应为 (3, 85, 464)\n",
    "print(f\"Label shape: {label_tensor.shape}\")  # 应为 (max_seq_length,)\n",
    "\n",
    "plt.imshow(img_tensor.permute(1, 2, 0).numpy(), cmap='gray')\n",
    "plt.title(\"Preprocessed Image\")\n",
    "plt.axis(\"off\")\n",
    "plt.show()\n"
   ]
  },
  {
   "cell_type": "code",
   "execution_count": 66,
   "id": "70fc9a1f",
   "metadata": {},
   "outputs": [
    {
     "name": "stdout",
     "output_type": "stream",
     "text": [
      "\n",
      "Sample 1\n",
      "Token Length: 7\n",
      "Restore the LaTeX expression:\n",
      "x ^ { n } = r\n",
      "\n",
      "Sample 2\n",
      "Token Length: 16\n",
      "Restore the LaTeX expression:\n",
      "n 2 ^ { n - 1 } + 1 - 2 ^ { n }\n",
      "\n",
      "Sample 3\n",
      "Token Length: 7\n",
      "Restore the LaTeX expression:\n",
      "[ o ^ { q } ]\n",
      "\n",
      "Sample 4\n",
      "Token Length: 3\n",
      "Restore the LaTeX expression:\n",
      "x + n\n",
      "\n",
      "Sample 5\n",
      "Token Length: 24\n",
      "Restore the LaTeX expression:\n",
      "\\frac   { - b - \\sqrt   { b ^ { 2 } - 4 a c } } { 2 a }\n"
     ]
    }
   ],
   "source": [
    "import random\n",
    "\n",
    "# 随机挑选 5 个样本索引\n",
    "sample_indices = random.sample(range(len(train_dataset)), 5)\n",
    "\n",
    "for i, idx in enumerate(sample_indices, 1):\n",
    "    img_tensor, label_tensor = train_dataset[idx]\n",
    "    \n",
    "    # 解码标签序列\n",
    "    tokens = [idx2token[idx.item()] for idx in label_tensor \n",
    "              if idx.item() not in (token2idx['<pad>'], token2idx['<s>'], token2idx['</s>'])]\n",
    "    decoded_latex = ' '.join(tokens)\n",
    "\n",
    "    print(f\"\\nSample {i}\")\n",
    "    print(\"Token Length:\", len(tokens))\n",
    "    print(\"Restore the LaTeX expression:\")\n",
    "    print(decoded_latex)\n"
   ]
  },
  {
   "cell_type": "code",
   "execution_count": 67,
   "id": "65dadb30",
   "metadata": {},
   "outputs": [
    {
     "name": "stdout",
     "output_type": "stream",
     "text": [
      "Original Lable:\n",
      "x ( t ) = x ( t - 1 )\n",
      "\n",
      "Washed:\n",
      "x(t)=x(t-1)\n",
      "\n",
      "Encoded:\n",
      "[  1 107   6 103   7  24 107   6 103  10  14   7   2   0   0   0   0   0\n",
      "   0   0   0   0   0   0   0   0   0   0   0   0   0   0   0   0   0   0\n",
      "   0   0   0   0   0   0   0   0   0   0   0   0   0   0   0   0   0   0\n",
      "   0   0   0   0   0   0   0   0   0   0   0   0   0   0   0   0   0   0\n",
      "   0   0   0   0   0   0   0   0   0   0   0   0   0   0   0   0   0   0\n",
      "   0   0   0   0   0   0   0   0   0   0   0   0   0   0   0   0   0   0\n",
      "   0   0   0   0   0   0   0   0   0   0   0   0   0   0   0   0   0   0\n",
      "   0   0   0   0   0   0   0   0   0   0   0   0   0   0   0   0   0   0\n",
      "   0   0   0   0   0   0   0   0   0   0   0   0   0   0   0   0   0   0\n",
      "   0   0   0   0   0   0   0   0   0   0   0   0   0   0   0   0   0   0\n",
      "   0   0   0   0   0   0   0   0   0   0   0   0   0   0   0   0   0   0\n",
      "   0   0   0   0   0   0   0   0   0   0   0   0   0   0   0   0   0   0\n",
      "   0   0   0   0   0   0   0   0]\n",
      "\n",
      "Decoded:\n",
      "x(t)=x(t-1)\n"
     ]
    }
   ],
   "source": [
    "# 测试闭环：原始 → 清洗 → 编码 → 解码\n",
    "sample_idx = random.randint(0, len(latex_codes_raw) - 1)\n",
    "raw = latex_codes_raw[sample_idx]\n",
    "cleaned = smart_clean_latex(raw)\n",
    "encoded = encode_label_mixed(cleaned, token2idx, command_tokens, max_seq_length)\n",
    "\n",
    "# 去除 padding 特殊 token 后解码\n",
    "tokens = [idx2token[i] for i in encoded if i not in (token2idx['<pad>'], token2idx['<s>'], token2idx['</s>'])]\n",
    "decoded = ''.join(tokens)\n",
    "\n",
    "print(\"Original Lable:\")\n",
    "print(raw)\n",
    "print(\"\\nWashed:\")\n",
    "print(cleaned)\n",
    "print(\"\\nEncoded:\")\n",
    "print(encoded)\n",
    "print(\"\\nDecoded:\")\n",
    "print(decoded)\n"
   ]
  },
  {
   "cell_type": "code",
   "execution_count": 68,
   "id": "ac077749",
   "metadata": {},
   "outputs": [
    {
     "name": "stdout",
     "output_type": "stream",
     "text": [
      "Batch figure shape: torch.Size([32, 3, 85, 464])\n",
      "Batch label shape: torch.Size([32, 224])\n",
      "Label Length (first 5): [224, 224, 224, 224, 224]\n"
     ]
    }
   ],
   "source": [
    "batch = next(iter(train_loader))\n",
    "imgs, labels, lengths = batch\n",
    "\n",
    "print(f\"Batch figure shape: {imgs.shape}\")      # (B, 3, 85, 464)\n",
    "print(f\"Batch label shape: {labels.shape}\")    # (B, max_seq_length)\n",
    "print(f\"Label Length (first 5): {lengths[:5]}\")\n"
   ]
  }
 ],
 "metadata": {
  "kernelspec": {
   "display_name": ".venv",
   "language": "python",
   "name": "python3"
  },
  "language_info": {
   "codemirror_mode": {
    "name": "ipython",
    "version": 3
   },
   "file_extension": ".py",
   "mimetype": "text/x-python",
   "name": "python",
   "nbconvert_exporter": "python",
   "pygments_lexer": "ipython3",
   "version": "3.9.13"
  }
 },
 "nbformat": 4,
 "nbformat_minor": 5
}
