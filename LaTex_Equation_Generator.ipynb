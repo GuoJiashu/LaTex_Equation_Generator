{
 "cells": [
  {
   "cell_type": "code",
   "execution_count": 1,
   "id": "dc5c004b",
   "metadata": {},
   "outputs": [],
   "source": [
    "import os\n",
    "import math\n",
    "import numpy as np\n",
    "import pandas as pd\n",
    "import matplotlib.pyplot as plt\n",
    "from tqdm.notebook import tqdm\n",
    "from PIL import Image, ImageOps\n",
    "import re\n",
    "import pickle\n",
    "import random\n",
    "import Levenshtein\n",
    "import seaborn as sns\n",
    "from sklearn.metrics import confusion_matrix\n",
    "\n",
    "import torch\n",
    "import torch.nn as nn\n",
    "from torch.utils.data import Dataset, DataLoader\n",
    "from torchvision.models import resnet18\n",
    "from sklearn.model_selection import train_test_split\n",
    "from collections import Counter\n",
    "from torch.utils.tensorboard import SummaryWriter\n",
    "from matplotlib import gridspec"
   ]
  },
  {
   "cell_type": "code",
   "execution_count": 2,
   "id": "0a465e4a",
   "metadata": {},
   "outputs": [],
   "source": [
    "data_dir = r\"C:\\Users\\13658\\Desktop\\LaTex_Code_Generator\"\n",
    "handwritten_equations = os.path.join(data_dir, \"Handwritten_equations\")\n",
    "json_dict = os.path.join(data_dir, \"char_dict.json\")\n",
    "csv_file = os.path.join(data_dir, \"caption_data.csv\")"
   ]
  },
  {
   "cell_type": "code",
   "execution_count": 3,
   "id": "5e51cbd2",
   "metadata": {},
   "outputs": [],
   "source": [
    "def smart_clean_latex(code):\n",
    "    preserved = re.findall(r'(\\\\[a-zA-Z]+)\\s+', code)\n",
    "    for cmd in preserved:\n",
    "        code = code.replace(cmd + ' ', f'{cmd}<<<SPACE>>>')\n",
    "    code = code.replace(' ', '')\n",
    "    code = code.replace('<<<SPACE>>>', ' ')\n",
    "    return code\n",
    "\n",
    "csv_data = pd.read_csv(csv_file)\n",
    "latex_codes_raw = csv_data['Column2'].values.tolist()\n",
    "latex_codes = [smart_clean_latex(code) for code in latex_codes_raw]\n",
    "image_names = csv_data['Column1'].values.tolist()"
   ]
  },
  {
   "cell_type": "code",
   "execution_count": 4,
   "id": "bbaa51fc",
   "metadata": {},
   "outputs": [
    {
     "name": "stdout",
     "output_type": "stream",
     "text": [
      "Dic Length: 113\n",
      "Maximum Sequence: 224\n"
     ]
    }
   ],
   "source": [
    "command_tokens = set()\n",
    "for code in latex_codes:\n",
    "    i = 0\n",
    "    while i < len(code):\n",
    "        if code[i] == '\\\\':\n",
    "            j = i + 1\n",
    "            while j < len(code) and code[j].isalpha():\n",
    "                j += 1\n",
    "            command_tokens.add(code[i:j])\n",
    "            i = j\n",
    "        else:\n",
    "            i += 1\n",
    "\n",
    "def mixed_tokenize_latex(code, command_set):\n",
    "    tokens = []\n",
    "    i = 0\n",
    "    while i < len(code):\n",
    "        if code[i] == '\\\\':\n",
    "            j = i + 1\n",
    "            while j < len(code) and code[j].isalpha():\n",
    "                j += 1\n",
    "            cmd = code[i:j]\n",
    "            if cmd in command_set:\n",
    "                tokens.append(cmd)\n",
    "                i = j\n",
    "                continue\n",
    "        tokens.append(code[i])\n",
    "        i += 1\n",
    "    return tokens\n",
    "\n",
    "token_counter = Counter()\n",
    "for code in latex_codes:\n",
    "    tokens = mixed_tokenize_latex(code, command_tokens)\n",
    "    token_counter.update(tokens)\n",
    "\n",
    "special_tokens = ['<pad>', '<s>', '</s>']\n",
    "token_list = special_tokens + sorted(token_counter.keys())\n",
    "\n",
    "token2idx = {token: idx for idx, token in enumerate(token_list)}\n",
    "idx2token = {idx: token for token, idx in token2idx.items()}\n",
    "vocab_size = len(token2idx)\n",
    "\n",
    "def encode_label_mixed(code, token2idx, command_set, max_len):\n",
    "    tokens = ['<s>'] + mixed_tokenize_latex(code, command_set)[:max_len - 2] + ['</s>']\n",
    "    label = np.zeros(max_len, dtype=np.int32)\n",
    "    for t, token in enumerate(tokens):\n",
    "        label[t] = token2idx.get(token, 0)\n",
    "    return label\n",
    "\n",
    "max_seq_length = max(len(mixed_tokenize_latex(code, command_tokens)) for code in latex_codes) + 2\n",
    "print(f\"Dic Length: {vocab_size}\")\n",
    "print(f\"Maximum Sequence: {max_seq_length}\")"
   ]
  },
  {
   "cell_type": "code",
   "execution_count": 36,
   "id": "e1cf3dbd",
   "metadata": {},
   "outputs": [],
   "source": [
    "def preprocess_image(image_path, target_size=(464, 85)):\n",
    "    img = Image.open(image_path).convert('L')\n",
    "    img.thumbnail(target_size, Image.Resampling.LANCZOS)\n",
    "\n",
    "    delta_w = target_size[0] - img.size[0]\n",
    "    delta_h = target_size[1] - img.size[1]\n",
    "    padding = (delta_w // 2, delta_h // 2, delta_w - delta_w // 2, delta_h - delta_h // 2)\n",
    "    img = ImageOps.expand(img, padding, fill=255)\n",
    "\n",
    "    img_array = np.array(img, dtype=np.float32) / 255.0\n",
    "    img_array = np.expand_dims(img_array, axis=0)\n",
    "    img_array = np.repeat(img_array, 3, axis=0)\n",
    "    return torch.from_numpy(img_array).float()\n",
    "\n",
    "\n",
    "\n",
    "class LatexDataset(Dataset):\n",
    "    def __init__(self, image_dir, image_names, latex_codes, max_len):\n",
    "        self.image_dir = image_dir\n",
    "        self.image_names = image_names\n",
    "        self.latex_codes = latex_codes\n",
    "        self.max_len = max_len\n",
    "\n",
    "    def __len__(self):\n",
    "        return len(self.image_names)\n",
    "\n",
    "    def __getitem__(self, idx):\n",
    "        img_path = os.path.join(self.image_dir, f\"{self.image_names[idx]}.bmp\")\n",
    "        img = preprocess_image(img_path)\n",
    "        label = encode_label_mixed(self.latex_codes[idx], token2idx, command_tokens, self.max_len)\n",
    "        label_tensor = torch.tensor(label, dtype=torch.long)\n",
    "        return img, label_tensor\n",
    "\n",
    "\n",
    "def collate_fn(batch):\n",
    "    images, labels = zip(*batch)\n",
    "    images = torch.stack(images)\n",
    "    labels = torch.nn.utils.rnn.pad_sequence(labels, batch_first=True, padding_value=0)\n",
    "    return images, labels, [len(l) for l in labels]\n",
    "\n",
    "train_imgs, tep_imgs, train_codes, tep_codes = train_test_split(\n",
    "    image_names, latex_codes, test_size=0.3, random_state=42)\n",
    "\n",
    "val_imgs, test_imgs, val_codes, test_codes = train_test_split(\n",
    "    tep_imgs, tep_codes, test_size=0.5, random_state=41)\n",
    "\n",
    "train_dataset = LatexDataset(handwritten_equations, train_imgs, train_codes, max_seq_length)\n",
    "val_dataset = LatexDataset(handwritten_equations, val_imgs, val_codes, max_seq_length)\n",
    "test_dataset = LatexDataset(handwritten_equations, test_imgs, test_codes, max_seq_length)\n",
    "\n",
    "train_loader = DataLoader(train_dataset, batch_size=32, shuffle=True, collate_fn=collate_fn)\n",
    "val_loader = DataLoader(val_dataset, batch_size=32, shuffle=False, collate_fn=collate_fn)\n",
    "test_loader = DataLoader(test_dataset, batch_size=32, shuffle=False, collate_fn=collate_fn)"
   ]
  },
  {
   "cell_type": "code",
   "execution_count": 6,
   "id": "52fec02e",
   "metadata": {},
   "outputs": [
    {
     "name": "stdout",
     "output_type": "stream",
     "text": [
      "token2idx/idx2token stored in C:\\Users\\13658\\Desktop\\LaTex_Code_Generator\\token_dicts\n"
     ]
    },
    {
     "data": {
      "image/png": "[encoded data removed]",
      "text/plain": [
       "<Figure size 800x400 with 1 Axes>"
      ]
     },
     "metadata": {},
     "output_type": "display_data"
    }
   ],
   "source": [
    "dict_dir = os.path.join(data_dir, \"token_dicts\")\n",
    "os.makedirs(dict_dir, exist_ok=True)\n",
    "\n",
    "with open(os.path.join(dict_dir, \"token2idx.pkl\"), \"wb\") as f:\n",
    "    pickle.dump(token2idx, f)\n",
    "\n",
    "with open(os.path.join(dict_dir, \"idx2token.pkl\"), \"wb\") as f:\n",
    "    pickle.dump(idx2token, f)\n",
    "\n",
    "print(f\"token2idx/idx2token stored in {dict_dir}\")\n",
    "\n",
    "seq_lens = [len(mixed_tokenize_latex(code, command_tokens)) for code in latex_codes]\n",
    "plt.figure(figsize=(8, 4))\n",
    "plt.hist(seq_lens, bins=40, color='skyblue', edgecolor='black')\n",
    "plt.axvline(max_seq_length - 2, color='red', linestyle='--', label='max_seq_length (without <s>, </s>)')\n",
    "plt.title(\"LaTeX Sequence Length Distribution\")\n",
    "plt.xlabel(\"Token Count\")\n",
    "plt.ylabel(\"Sample Count\")\n",
    "plt.legend()\n",
    "plt.grid(True)\n",
    "plt.tight_layout()\n",
    "plt.show()"
   ]
  },
  {
   "cell_type": "code",
   "execution_count": 7,
   "id": "e94ebac3",
   "metadata": {},
   "outputs": [
    {
     "name": "stdout",
     "output_type": "stream",
     "text": [
      "Figure shape: torch.Size([3, 85, 464])\n",
      "Label shape: torch.Size([224])\n"
     ]
    },
    {
     "data": {
      "image/png": "[encoded data removed]",
      "text/plain": [
       "<Figure size 640x480 with 1 Axes>"
      ]
     },
     "metadata": {},
     "output_type": "display_data"
    }
   ],
   "source": [
    "idx = random.randint(0, len(train_dataset) - 1)\n",
    "img_tensor, label_tensor = train_dataset[idx]\n",
    "\n",
    "print(f\"Figure shape: {img_tensor.shape}\")\n",
    "print(f\"Label shape: {label_tensor.shape}\")\n",
    "\n",
    "plt.imshow(img_tensor.permute(1, 2, 0).numpy(), cmap='gray')\n",
    "plt.title(\"Preprocessed Image\")\n",
    "plt.axis(\"off\")\n",
    "plt.show()"
   ]
  },
  {
   "cell_type": "code",
   "execution_count": 8,
   "id": "70fc9a1f",
   "metadata": {},
   "outputs": [
    {
     "name": "stdout",
     "output_type": "stream",
     "text": [
      "\n",
      "Sample 1\n",
      "Token Length: 3\n",
      "Restore the LaTeX expression:\n",
      "\\cos   I\n",
      "\n",
      "Sample 2\n",
      "Token Length: 13\n",
      "Restore the LaTeX expression:\n",
      "Y = L \\cos   ( s ) \\sin   ( t )\n",
      "\n",
      "Sample 3\n",
      "Token Length: 13\n",
      "Restore the LaTeX expression:\n",
      "x ^ { 2 } + y ^ { 2 } < 1\n",
      "\n",
      "Sample 4\n",
      "Token Length: 35\n",
      "Restore the LaTeX expression:\n",
      "x _ { x } ^ { x } + y _ { y } ^ { y } + z _ { z } ^ { z } - x - y - z\n",
      "\n",
      "Sample 5\n",
      "Token Length: 50\n",
      "Restore the LaTeX expression:\n",
      "t ^ { \\prime   } = \\frac   { t - \\frac   { v x } { c ^ { 2 } } } { \\sqrt   { 1 - \\frac   { v ^ { 2 } } { c ^ { 2 } } } }\n"
     ]
    }
   ],
   "source": [
    "sample_indices = random.sample(range(len(train_dataset)), 5)\n",
    "\n",
    "for i, idx in enumerate(sample_indices, 1):\n",
    "    img_tensor, label_tensor = train_dataset[idx]\n",
    "    \n",
    "    tokens = [idx2token[idx.item()] for idx in label_tensor \n",
    "              if idx.item() not in (token2idx['<pad>'], token2idx['<s>'], token2idx['</s>'])]\n",
    "    decoded_latex = ' '.join(tokens)\n",
    "\n",
    "    print(f\"\\nSample {i}\")\n",
    "    print(\"Token Length:\", len(tokens))\n",
    "    print(\"Restore the LaTeX expression:\")\n",
    "    print(decoded_latex)"
   ]
  },
  {
   "cell_type": "code",
   "execution_count": 9,
   "id": "65dadb30",
   "metadata": {},
   "outputs": [
    {
     "name": "stdout",
     "output_type": "stream",
     "text": [
      "Original Lable:\n",
      "b d = Y\n",
      "\n",
      "Washed:\n",
      "bd=Y\n",
      "\n",
      "Encoded:\n",
      "[ 1 85 87 24 43  2  0  0  0  0  0  0  0  0  0  0  0  0  0  0  0  0  0  0\n",
      "  0  0  0  0  0  0  0  0  0  0  0  0  0  0  0  0  0  0  0  0  0  0  0  0\n",
      "  0  0  0  0  0  0  0  0  0  0  0  0  0  0  0  0  0  0  0  0  0  0  0  0\n",
      "  0  0  0  0  0  0  0  0  0  0  0  0  0  0  0  0  0  0  0  0  0  0  0  0\n",
      "  0  0  0  0  0  0  0  0  0  0  0  0  0  0  0  0  0  0  0  0  0  0  0  0\n",
      "  0  0  0  0  0  0  0  0  0  0  0  0  0  0  0  0  0  0  0  0  0  0  0  0\n",
      "  0  0  0  0  0  0  0  0  0  0  0  0  0  0  0  0  0  0  0  0  0  0  0  0\n",
      "  0  0  0  0  0  0  0  0  0  0  0  0  0  0  0  0  0  0  0  0  0  0  0  0\n",
      "  0  0  0  0  0  0  0  0  0  0  0  0  0  0  0  0  0  0  0  0  0  0  0  0\n",
      "  0  0  0  0  0  0  0  0]\n",
      "\n",
      "Decoded:\n",
      "bd=Y\n"
     ]
    }
   ],
   "source": [
    "sample_idx = random.randint(0, len(latex_codes_raw) - 1)\n",
    "raw = latex_codes_raw[sample_idx]\n",
    "cleaned = smart_clean_latex(raw)\n",
    "encoded = encode_label_mixed(cleaned, token2idx, command_tokens, max_seq_length)\n",
    "\n",
    "tokens = [idx2token[i] for i in encoded if i not in (token2idx['<pad>'], token2idx['<s>'], token2idx['</s>'])]\n",
    "decoded = ''.join(tokens)\n",
    "\n",
    "print(\"Original Lable:\")\n",
    "print(raw)\n",
    "print(\"\\nWashed:\")\n",
    "print(cleaned)\n",
    "print(\"\\nEncoded:\")\n",
    "print(encoded)\n",
    "print(\"\\nDecoded:\")\n",
    "print(decoded)"
   ]
  },
  {
   "cell_type": "code",
   "execution_count": 10,
   "id": "ac077749",
   "metadata": {},
   "outputs": [
    {
     "name": "stdout",
     "output_type": "stream",
     "text": [
      "Batch figure shape: torch.Size([32, 3, 85, 464])\n",
      "Batch label shape: torch.Size([32, 224])\n",
      "Label Length (first 5): [224, 224, 224, 224, 224]\n"
     ]
    }
   ],
   "source": [
    "batch = next(iter(train_loader))\n",
    "imgs, labels, lengths = batch\n",
    "\n",
    "print(f\"Batch figure shape: {imgs.shape}\")\n",
    "print(f\"Batch label shape: {labels.shape}\")\n",
    "print(f\"Label Length (first 5): {lengths[:5]}\")"
   ]
  },
  {
   "cell_type": "code",
   "execution_count": 11,
   "id": "caaead69",
   "metadata": {},
   "outputs": [],
   "source": [
    "class PositionalEncoding2D(nn.Module):\n",
    "    def __init__(self, d_model, height, width):\n",
    "        super().__init__()\n",
    "        if d_model % 4 != 0:\n",
    "            raise ValueError(\"d_model must be divisible by 4\")\n",
    "\n",
    "        self.d_model = d_model\n",
    "        self.height = height\n",
    "        self.width = width\n",
    "\n",
    "        pe = torch.zeros(d_model, height, width)\n",
    "\n",
    "        d_model_half = d_model // 2\n",
    "        div_term = torch.exp(torch.arange(0., d_model_half, 2) * -(math.log(10000.0) / d_model_half))\n",
    "\n",
    "        pos_w = torch.arange(0., width).unsqueeze(1)  # [W, 1]\n",
    "        pos_h = torch.arange(0., height).unsqueeze(1)  # [H, 1]\n",
    "\n",
    "        # 横向编码（宽度方向）\n",
    "        pe[0:d_model_half:2, :, :] = torch.sin(pos_w * div_term).T.unsqueeze(1).repeat(1, height, 1)\n",
    "        pe[1:d_model_half:2, :, :] = torch.cos(pos_w * div_term).T.unsqueeze(1).repeat(1, height, 1)\n",
    "\n",
    "        # 纵向编码（高度方向）\n",
    "        pe[d_model_half::2, :, :] = torch.sin(pos_h * div_term).T.unsqueeze(2).repeat(1, 1, width)\n",
    "        pe[d_model_half+1::2, :, :] = torch.cos(pos_h * div_term).T.unsqueeze(2).repeat(1, 1, width)\n",
    "\n",
    "        self.register_buffer('pe', pe.unsqueeze(0))  # shape: [1, d_model, H, W]\n",
    "\n",
    "    def forward(self, x):\n",
    "        return x + self.pe[:, :, :x.size(2), :x.size(3)]\n",
    "\n",
    "\n",
    "\n",
    "class Encoder(nn.Module):\n",
    "    def __init__(self, d_model=256):\n",
    "        super().__init__()\n",
    "        # Use ResNet18 up to layer3 (output: [B, 128, H, W])\n",
    "        base_cnn = resnet18(pretrained=True)\n",
    "        self.backbone = nn.Sequential(*list(base_cnn.children())[:6])  # conv1 + bn1 + relu + maxpool + layer1, layer2\n",
    "\n",
    "        self.project = nn.Conv2d(128, d_model, kernel_size=1)  # map channels to d_model\n",
    "        self.row_encoder = nn.LSTM(input_size=d_model,\n",
    "                                   hidden_size=d_model // 2,\n",
    "                                   batch_first=True,\n",
    "                                   bidirectional=True)\n",
    "\n",
    "        self.pe = None  # lazy initialization for Positional Encoding\n",
    "\n",
    "    def forward(self, x):\n",
    "        feat = self.backbone(x)           # [B, 128, H, W]\n",
    "        feat = self.project(feat)         # [B, d_model, H, W]\n",
    "        B, C, H, W = feat.shape\n",
    "\n",
    "        if self.pe is None:\n",
    "            self.pe = PositionalEncoding2D(C, H, W).to(x.device)\n",
    "        feat = self.pe(feat)\n",
    "\n",
    "        # Run Row-wise LSTM\n",
    "        feat = feat.permute(0, 2, 3, 1).contiguous()  # [B, H, W, C]\n",
    "        feat = feat.view(B * H, W, C)                 # [B*H, W, C]\n",
    "        feat, _ = self.row_encoder(feat)\n",
    "        feat = feat.view(B, H, W, C)\n",
    "\n",
    "        return feat  # [B, H, W, D]"
   ]
  },
  {
   "cell_type": "code",
   "execution_count": 12,
   "id": "aee69737",
   "metadata": {},
   "outputs": [
    {
     "name": "stderr",
     "output_type": "stream",
     "text": [
      "c:\\Users\\13658\\Desktop\\LaTex_Code_Generator\\.venv\\lib\\site-packages\\torchvision\\models\\_utils.py:208: UserWarning: The parameter 'pretrained' is deprecated since 0.13 and may be removed in the future, please use 'weights' instead.\n",
      "  warnings.warn(\n",
      "c:\\Users\\13658\\Desktop\\LaTex_Code_Generator\\.venv\\lib\\site-packages\\torchvision\\models\\_utils.py:223: UserWarning: Arguments other than a weight enum or `None` for 'weights' are deprecated since 0.13 and may be removed in the future. The current behavior is equivalent to passing `weights=ResNet18_Weights.IMAGENET1K_V1`. You can also use `weights=ResNet18_Weights.DEFAULT` to get the most up-to-date weights.\n",
      "  warnings.warn(msg)\n"
     ]
    },
    {
     "name": "stdout",
     "output_type": "stream",
     "text": [
      "Encoder Output: torch.Size([32, 11, 58, 256])\n"
     ]
    }
   ],
   "source": [
    "# 跑你的 train_loader 获取图像\n",
    "images, _, _ = next(iter(train_loader))\n",
    "images = images.cuda()\n",
    "\n",
    "# Encoder 实例\n",
    "encoder = Encoder(d_model=256).cuda()\n",
    "\n",
    "# Forward Pass\n",
    "features = encoder(images)\n",
    "\n",
    "print(\"Encoder Output:\", features.shape)  # 预计 [B, H, W, D]"
   ]
  },
  {
   "cell_type": "code",
   "execution_count": 13,
   "id": "db0b7467",
   "metadata": {},
   "outputs": [],
   "source": [
    "class VisualCNN(nn.Module):\n",
    "    def __init__(self):\n",
    "        super().__init__()\n",
    "        base = resnet18(pretrained=True)\n",
    "        self.stages = nn.ModuleList([\n",
    "            nn.Sequential(base.conv1, base.bn1, base.relu),  # stage 0\n",
    "            base.maxpool,                                    # stage 1\n",
    "            base.layer1,                                     # stage 2\n",
    "            base.layer2,                                     # stage 3\n",
    "            base.layer3                                      # stage 4\n",
    "        ])\n",
    "\n",
    "    def forward(self, x):\n",
    "        outputs = []\n",
    "        for stage in self.stages:\n",
    "            x = stage(x)\n",
    "            outputs.append(x)\n",
    "        return outputs"
   ]
  },
  {
   "cell_type": "code",
   "execution_count": 14,
   "id": "72cbe15f",
   "metadata": {},
   "outputs": [],
   "source": [
    "def show_feature_map(tensor, title, max_channels=4):\n",
    "    n = min(max_channels, tensor.shape[1])  # 显示前几个通道\n",
    "    fig, axes = plt.subplots(1, n, figsize=(3 * n, 3))\n",
    "    for i in range(n):\n",
    "        axes[i].imshow(tensor[0, i].detach().cpu(), cmap='gray')\n",
    "        axes[i].set_title(f\"{title} | Channel {i}\")\n",
    "        axes[i].axis(\"off\")\n",
    "    plt.tight_layout()\n",
    "    plt.show()"
   ]
  },
  {
   "cell_type": "code",
   "execution_count": 15,
   "id": "25a1db6c",
   "metadata": {},
   "outputs": [
    {
     "name": "stdout",
     "output_type": "stream",
     "text": [
      "Stage 0 output shape: torch.Size([1, 64, 43, 232])\n"
     ]
    },
    {
     "data": {
      "image/png": "[encoded data removed]",
      "text/plain": [
       "<Figure size 1200x300 with 4 Axes>"
      ]
     },
     "metadata": {},
     "output_type": "display_data"
    },
    {
     "name": "stdout",
     "output_type": "stream",
     "text": [
      "Stage 1 output shape: torch.Size([1, 64, 22, 116])\n"
     ]
    },
    {
     "data": {
      "image/png": "[encoded data removed]",
      "text/plain": [
       "<Figure size 1200x300 with 4 Axes>"
      ]
     },
     "metadata": {},
     "output_type": "display_data"
    },
    {
     "name": "stdout",
     "output_type": "stream",
     "text": [
      "Stage 2 output shape: torch.Size([1, 64, 22, 116])\n"
     ]
    },
    {
     "data": {
      "image/png": "[encoded data removed]",
      "text/plain": [
       "<Figure size 1200x300 with 4 Axes>"
      ]
     },
     "metadata": {},
     "output_type": "display_data"
    },
    {
     "name": "stdout",
     "output_type": "stream",
     "text": [
      "Stage 3 output shape: torch.Size([1, 128, 11, 58])\n"
     ]
    },
    {
     "data": {
      "image/png": "[encoded data removed]",
      "text/plain": [
       "<Figure size 1200x300 with 4 Axes>"
      ]
     },
     "metadata": {},
     "output_type": "display_data"
    },
    {
     "name": "stdout",
     "output_type": "stream",
     "text": [
      "Stage 4 output shape: torch.Size([1, 256, 6, 29])\n"
     ]
    },
    {
     "data": {
      "image/png": "[encoded data removed]",
      "text/plain": [
       "<Figure size 1200x300 with 4 Axes>"
      ]
     },
     "metadata": {},
     "output_type": "display_data"
    }
   ],
   "source": [
    "# 取一张图像样本\n",
    "images, _, _ = next(iter(train_loader))\n",
    "sample_img = images[0:1].cuda()  # shape: [1, C, H, W]\n",
    "\n",
    "# 初始化可视化 CNN\n",
    "viz_cnn = VisualCNN().cuda()\n",
    "features = viz_cnn(sample_img)\n",
    "\n",
    "# 可视化每一层输出\n",
    "for idx, feat in enumerate(features):\n",
    "    print(f\"Stage {idx} output shape: {feat.shape}\")\n",
    "    show_feature_map(feat, f\"Stage {idx}\")\n"
   ]
  },
  {
   "cell_type": "code",
   "execution_count": 16,
   "id": "3490e0de",
   "metadata": {},
   "outputs": [],
   "source": [
    "def show_max_activation(feature_map, title=\"Max Activation\"):\n",
    "    \n",
    "    max_activations = torch.max(feature_map[0], dim=0).values.detach().cpu()\n",
    "    \n",
    "    plt.figure(figsize=(6, 4))\n",
    "    plt.imshow(max_activations, cmap='hot')\n",
    "    plt.colorbar()\n",
    "    plt.title(title)\n",
    "    plt.axis('off')\n",
    "    plt.show()\n"
   ]
  },
  {
   "cell_type": "code",
   "execution_count": 17,
   "id": "96cde506",
   "metadata": {},
   "outputs": [
    {
     "name": "stdout",
     "output_type": "stream",
     "text": [
      "Stage 0 output shape: torch.Size([1, 64, 43, 232])\n"
     ]
    },
    {
     "data": {
      "image/png": "[encoded data removed]",
      "text/plain": [
       "<Figure size 600x400 with 2 Axes>"
      ]
     },
     "metadata": {},
     "output_type": "display_data"
    },
    {
     "name": "stdout",
     "output_type": "stream",
     "text": [
      "Stage 1 output shape: torch.Size([1, 64, 22, 116])\n"
     ]
    },
    {
     "data": {
      "image/png": "[encoded data removed]",
      "text/plain": [
       "<Figure size 600x400 with 2 Axes>"
      ]
     },
     "metadata": {},
     "output_type": "display_data"
    },
    {
     "name": "stdout",
     "output_type": "stream",
     "text": [
      "Stage 2 output shape: torch.Size([1, 64, 22, 116])\n"
     ]
    },
    {
     "data": {
      "image/png": "[encoded data removed]",
      "text/plain": [
       "<Figure size 600x400 with 2 Axes>"
      ]
     },
     "metadata": {},
     "output_type": "display_data"
    },
    {
     "name": "stdout",
     "output_type": "stream",
     "text": [
      "Stage 3 output shape: torch.Size([1, 128, 11, 58])\n"
     ]
    },
    {
     "data": {
      "image/png": "[encoded data removed]",
      "text/plain": [
       "<Figure size 600x400 with 2 Axes>"
      ]
     },
     "metadata": {},
     "output_type": "display_data"
    },
    {
     "name": "stdout",
     "output_type": "stream",
     "text": [
      "Stage 4 output shape: torch.Size([1, 256, 6, 29])\n"
     ]
    },
    {
     "data": {
      "image/png": "[encoded data removed]",
      "text/plain": [
       "<Figure size 600x400 with 2 Axes>"
      ]
     },
     "metadata": {},
     "output_type": "display_data"
    }
   ],
   "source": [
    "for idx, feat in enumerate(features):\n",
    "    print(f\"Stage {idx} output shape: {feat.shape}\")\n",
    "    show_max_activation(feat, f\"Stage {idx} Max Activation Heatmap\")\n"
   ]
  },
  {
   "cell_type": "code",
   "execution_count": 18,
   "id": "6011c300",
   "metadata": {},
   "outputs": [],
   "source": [
    "class Decoder(nn.Module):\n",
    "    def __init__(self, vocab_size, d_model=256, nhead=4, num_layers=4, max_len=256, dropout=0.1):\n",
    "        super().__init__()\n",
    "        self.token_embedding = nn.Embedding(vocab_size, d_model)\n",
    "        self.pos_embedding = nn.Parameter(torch.zeros(1, max_len * 2, d_model))\n",
    "\n",
    "        decoder_layer = nn.TransformerDecoderLayer(\n",
    "            d_model=d_model,\n",
    "            nhead=nhead,\n",
    "            dim_feedforward=d_model * 4,\n",
    "            dropout=dropout,\n",
    "            batch_first=True\n",
    "        )\n",
    "        self.transformer_decoder = nn.TransformerDecoder(decoder_layer, num_layers=num_layers)\n",
    "        self.output_layer = nn.Linear(d_model, vocab_size)\n",
    "\n",
    "        nn.init.normal_(self.pos_embedding, std=0.02)\n",
    "\n",
    "    def forward(self, tgt_input, memory, tgt_mask=None, memory_mask=None, tgt_key_padding_mask=None):\n",
    "        # tgt_input: [B, T]\n",
    "        tgt_emb = self.token_embedding(tgt_input) + self.pos_embedding[:, :tgt_input.size(1), :]  # [B, T, D]\n",
    "\n",
    "        # memory: [B, H, W, D] -> [B, HW, D]\n",
    "        memory = memory.reshape(memory.size(0), -1, memory.size(-1))\n",
    "\n",
    "\n",
    "        # Decoder output\n",
    "        output = self.transformer_decoder(\n",
    "            tgt=tgt_emb,\n",
    "            memory=memory,\n",
    "            tgt_mask=tgt_mask,\n",
    "            tgt_key_padding_mask=tgt_key_padding_mask\n",
    "        )\n",
    "        return self.output_layer(output)  # [B, T, vocab_size]"
   ]
  },
  {
   "cell_type": "code",
   "execution_count": 19,
   "id": "06e9237c",
   "metadata": {},
   "outputs": [],
   "source": [
    "def generate_square_subsequent_mask(sz: int) -> torch.Tensor:\n",
    "    mask = (torch.triu(torch.ones(sz, sz)) == 1).transpose(0, 1)\n",
    "    mask = mask.float().masked_fill(mask == 0, float('-inf')).masked_fill(mask == 1, float(0.0))\n",
    "    return mask"
   ]
  },
  {
   "cell_type": "code",
   "execution_count": 20,
   "id": "07954615",
   "metadata": {},
   "outputs": [],
   "source": [
    "class Im2LatexModel(nn.Module):\n",
    "    def __init__(self, vocab_size, d_model=256, max_seq_len=256):\n",
    "        super().__init__()\n",
    "        self.encoder = Encoder(d_model=d_model)\n",
    "        self.decoder = Decoder(vocab_size=vocab_size, d_model=d_model, max_len=max_seq_len)\n",
    "        self.max_seq_len = max_seq_len\n",
    "\n",
    "    def forward(self, images, tgt_input, tgt_mask=None):\n",
    "        enc_output = self.encoder(images)  # [B, H, W, D]\n",
    "        logits = self.decoder(tgt_input, enc_output, tgt_mask=tgt_mask)\n",
    "        return logits  # [B, T, vocab_size]"
   ]
  },
  {
   "cell_type": "code",
   "execution_count": 21,
   "id": "1e18ab2d",
   "metadata": {},
   "outputs": [
    {
     "name": "stdout",
     "output_type": "stream",
     "text": [
      "Decoder output: torch.Size([32, 223, 113])\n"
     ]
    }
   ],
   "source": [
    "# 假设你有 batch\n",
    "images, labels, _ = next(iter(train_loader))\n",
    "images = images.cuda()\n",
    "labels = labels.cuda()\n",
    "\n",
    "# Create input by shifting\n",
    "tgt_input = labels[:, :-1]\n",
    "tgt_output = labels[:, 1:]\n",
    "\n",
    "model = Im2LatexModel(vocab_size=len(token2idx), d_model=256, max_seq_len=max_seq_length).cuda()\n",
    "tgt_mask = generate_square_subsequent_mask(tgt_input.size(1)).to(images.device)\n",
    "\n",
    "logits = model(images, tgt_input, tgt_mask)  # [B, T, vocab_size]\n",
    "\n",
    "print(\"Decoder output:\", logits.shape)"
   ]
  },
  {
   "cell_type": "code",
   "execution_count": 22,
   "id": "8a5e6229",
   "metadata": {},
   "outputs": [],
   "source": [
    "def test_decoder_integrity(model, images, labels, token2idx, idx2token):\n",
    "    print(\"=\" * 50)\n",
    "    print(\"Running Decoder Integrity Tests\")\n",
    "    print(\"=\" * 50)\n",
    "\n",
    "    device = next(model.parameters()).device\n",
    "    images, labels = images.to(device), labels.to(device)\n",
    "    tgt_input = labels[:, :-1]\n",
    "    tgt_output = labels[:, 1:]\n",
    "    tgt_mask = generate_square_subsequent_mask(tgt_input.size(1)).to(device)\n",
    "\n",
    "    # Forward\n",
    "    logits = model(images, tgt_input, tgt_mask)  # [B, T, vocab_size]\n",
    "\n",
    "    # Test 1 - Logits stats\n",
    "    print(\"\\n[1] Logits distribution:\")\n",
    "    print(\"   mean:\", logits.mean().item())\n",
    "    print(\"   max :\", logits.max().item())\n",
    "    print(\"   min :\", logits.min().item())\n",
    "\n",
    "    # Test 2 - Sample Top-K token at t=10\n",
    "    t = min(10, logits.size(1) - 1)\n",
    "    sample_logits = logits[0, t]\n",
    "    probs = torch.softmax(sample_logits, dim=-1)\n",
    "    topk_probs, topk_idx = torch.topk(probs, k=5)\n",
    "\n",
    "    print(\"\\n[2] Top-5 tokens at timestep\", t)\n",
    "    for i in range(5):\n",
    "        print(f\"   {idx2token[topk_idx[i].item()]}: {topk_probs[i].item():.4f}\")\n",
    "\n",
    "    # Test 3 - First-step decoder only\n",
    "    print(\"\\n[3] First-step decoding test\")\n",
    "    start = torch.full((1, 1), token2idx['<s>'], dtype=torch.long).to(device)\n",
    "    enc_out = model.encoder(images[0:1])\n",
    "    logits_start = model.decoder(start, enc_out)\n",
    "    pred = torch.argmax(logits_start, dim=-1)[0, 0].item()\n",
    "    print(f\"   Predicted first token: {idx2token[pred]}\")\n",
    "\n",
    "    # Test 4 - Gradient check\n",
    "    print(\"\\n[4] Gradient flow check\")\n",
    "    logits_flat = logits.view(-1, logits.size(-1))\n",
    "    labels_flat = tgt_output.contiguous().view(-1)\n",
    "    loss_fn = nn.CrossEntropyLoss(ignore_index=token2idx['<pad>'])\n",
    "    loss = loss_fn(logits_flat, labels_flat)\n",
    "    loss.backward()\n",
    "\n",
    "    for name, param in model.named_parameters():\n",
    "        if param.grad is not None:\n",
    "            print(f\"   {name:40s} | grad norm = {param.grad.norm():.4f}\")\n",
    "\n",
    "    print(\"\\nDecoder passed all integrity checks (forward & backward).\\n\")"
   ]
  },
  {
   "cell_type": "code",
   "execution_count": 23,
   "id": "6da8c306",
   "metadata": {},
   "outputs": [
    {
     "name": "stdout",
     "output_type": "stream",
     "text": [
      "==================================================\n",
      "Running Decoder Integrity Tests\n",
      "==================================================\n",
      "\n",
      "[1] Logits distribution:\n",
      "   mean: 0.04098084196448326\n",
      "   max : 2.32029128074646\n",
      "   min : -2.123798131942749\n",
      "\n",
      "[2] Top-5 tokens at timestep 10\n",
      "   a: 0.0269\n",
      "   \\theta: 0.0235\n",
      "   \\exists: 0.0234\n",
      "   o: 0.0220\n",
      "   z: 0.0217\n",
      "\n",
      "[3] First-step decoding test\n",
      "   Predicted first token: v\n",
      "\n",
      "[4] Gradient flow check\n",
      "   encoder.backbone.0.weight                | grad norm = 0.0561\n",
      "   encoder.backbone.1.weight                | grad norm = 0.0052\n",
      "   encoder.backbone.1.bias                  | grad norm = 0.0018\n",
      "   encoder.backbone.4.0.conv1.weight        | grad norm = 0.0147\n",
      "   encoder.backbone.4.0.bn1.weight          | grad norm = 0.0033\n",
      "   encoder.backbone.4.0.bn1.bias            | grad norm = 0.0032\n",
      "   encoder.backbone.4.0.conv2.weight        | grad norm = 0.0113\n",
      "   encoder.backbone.4.0.bn2.weight          | grad norm = 0.0041\n",
      "   encoder.backbone.4.0.bn2.bias            | grad norm = 0.0018\n",
      "   encoder.backbone.4.1.conv1.weight        | grad norm = 0.0129\n",
      "   encoder.backbone.4.1.bn1.weight          | grad norm = 0.0027\n",
      "   encoder.backbone.4.1.bn1.bias            | grad norm = 0.0034\n",
      "   encoder.backbone.4.1.conv2.weight        | grad norm = 0.0111\n",
      "   encoder.backbone.4.1.bn2.weight          | grad norm = 0.0023\n",
      "   encoder.backbone.4.1.bn2.bias            | grad norm = 0.0012\n",
      "   encoder.backbone.5.0.conv1.weight        | grad norm = 0.0115\n",
      "   encoder.backbone.5.0.bn1.weight          | grad norm = 0.0032\n",
      "   encoder.backbone.5.0.bn1.bias            | grad norm = 0.0027\n",
      "   encoder.backbone.5.0.conv2.weight        | grad norm = 0.0143\n",
      "   encoder.backbone.5.0.bn2.weight          | grad norm = 0.0112\n",
      "   encoder.backbone.5.0.bn2.bias            | grad norm = 0.0188\n",
      "   encoder.backbone.5.0.downsample.0.weight | grad norm = 0.0084\n",
      "   encoder.backbone.5.0.downsample.1.weight | grad norm = 0.0101\n",
      "   encoder.backbone.5.0.downsample.1.bias   | grad norm = 0.0188\n",
      "   encoder.backbone.5.1.conv1.weight        | grad norm = 0.0108\n",
      "   encoder.backbone.5.1.bn1.weight          | grad norm = 0.0034\n",
      "   encoder.backbone.5.1.bn1.bias            | grad norm = 0.0025\n",
      "   encoder.backbone.5.1.conv2.weight        | grad norm = 0.0118\n",
      "   encoder.backbone.5.1.bn2.weight          | grad norm = 0.0122\n",
      "   encoder.backbone.5.1.bn2.bias            | grad norm = 0.0232\n",
      "   encoder.project.weight                   | grad norm = 0.1545\n",
      "   encoder.project.bias                     | grad norm = 0.0722\n",
      "   encoder.row_encoder.weight_ih_l0         | grad norm = 0.5694\n",
      "   encoder.row_encoder.weight_hh_l0         | grad norm = 0.1067\n",
      "   encoder.row_encoder.bias_ih_l0           | grad norm = 0.0563\n",
      "   encoder.row_encoder.bias_hh_l0           | grad norm = 0.0563\n",
      "   encoder.row_encoder.weight_ih_l0_reverse | grad norm = 0.6699\n",
      "   encoder.row_encoder.weight_hh_l0_reverse | grad norm = 0.1494\n",
      "   encoder.row_encoder.bias_ih_l0_reverse   | grad norm = 0.0663\n",
      "   encoder.row_encoder.bias_hh_l0_reverse   | grad norm = 0.0663\n",
      "   decoder.pos_embedding                    | grad norm = 0.0540\n",
      "   decoder.token_embedding.weight           | grad norm = 0.0712\n",
      "   decoder.transformer_decoder.layers.0.self_attn.in_proj_weight | grad norm = 0.4178\n",
      "   decoder.transformer_decoder.layers.0.self_attn.in_proj_bias | grad norm = 0.0791\n",
      "   decoder.transformer_decoder.layers.0.self_attn.out_proj.weight | grad norm = 0.5058\n",
      "   decoder.transformer_decoder.layers.0.self_attn.out_proj.bias | grad norm = 0.1470\n",
      "   decoder.transformer_decoder.layers.0.multihead_attn.in_proj_weight | grad norm = 0.2649\n",
      "   decoder.transformer_decoder.layers.0.multihead_attn.in_proj_bias | grad norm = 0.0883\n",
      "   decoder.transformer_decoder.layers.0.multihead_attn.out_proj.weight | grad norm = 0.2931\n",
      "   decoder.transformer_decoder.layers.0.multihead_attn.out_proj.bias | grad norm = 0.1456\n",
      "   decoder.transformer_decoder.layers.0.linear1.weight | grad norm = 0.3563\n",
      "   decoder.transformer_decoder.layers.0.linear1.bias | grad norm = 0.0419\n",
      "   decoder.transformer_decoder.layers.0.linear2.weight | grad norm = 1.2022\n",
      "   decoder.transformer_decoder.layers.0.linear2.bias | grad norm = 0.1395\n",
      "   decoder.transformer_decoder.layers.0.norm1.weight | grad norm = 0.0604\n",
      "   decoder.transformer_decoder.layers.0.norm1.bias | grad norm = 0.1456\n",
      "   decoder.transformer_decoder.layers.0.norm2.weight | grad norm = 0.0628\n",
      "   decoder.transformer_decoder.layers.0.norm2.bias | grad norm = 0.1463\n",
      "   decoder.transformer_decoder.layers.0.norm3.weight | grad norm = 0.0638\n",
      "   decoder.transformer_decoder.layers.0.norm3.bias | grad norm = 0.1437\n",
      "   decoder.transformer_decoder.layers.1.self_attn.in_proj_weight | grad norm = 0.3538\n",
      "   decoder.transformer_decoder.layers.1.self_attn.in_proj_bias | grad norm = 0.0614\n",
      "   decoder.transformer_decoder.layers.1.self_attn.out_proj.weight | grad norm = 0.4259\n",
      "   decoder.transformer_decoder.layers.1.self_attn.out_proj.bias | grad norm = 0.1150\n",
      "   decoder.transformer_decoder.layers.1.multihead_attn.in_proj_weight | grad norm = 0.2163\n",
      "   decoder.transformer_decoder.layers.1.multihead_attn.in_proj_bias | grad norm = 0.0721\n",
      "   decoder.transformer_decoder.layers.1.multihead_attn.out_proj.weight | grad norm = 0.2429\n",
      "   decoder.transformer_decoder.layers.1.multihead_attn.out_proj.bias | grad norm = 0.1206\n",
      "   decoder.transformer_decoder.layers.1.linear1.weight | grad norm = 0.3277\n",
      "   decoder.transformer_decoder.layers.1.linear1.bias | grad norm = 0.0357\n",
      "   decoder.transformer_decoder.layers.1.linear2.weight | grad norm = 1.0338\n",
      "   decoder.transformer_decoder.layers.1.linear2.bias | grad norm = 0.1162\n",
      "   decoder.transformer_decoder.layers.1.norm1.weight | grad norm = 0.0583\n",
      "   decoder.transformer_decoder.layers.1.norm1.bias | grad norm = 0.1210\n",
      "   decoder.transformer_decoder.layers.1.norm2.weight | grad norm = 0.0608\n",
      "   decoder.transformer_decoder.layers.1.norm2.bias | grad norm = 0.1219\n",
      "   decoder.transformer_decoder.layers.1.norm3.weight | grad norm = 0.0664\n",
      "   decoder.transformer_decoder.layers.1.norm3.bias | grad norm = 0.1247\n",
      "   decoder.transformer_decoder.layers.2.self_attn.in_proj_weight | grad norm = 0.3817\n",
      "   decoder.transformer_decoder.layers.2.self_attn.in_proj_bias | grad norm = 0.0554\n",
      "   decoder.transformer_decoder.layers.2.self_attn.out_proj.weight | grad norm = 0.4549\n",
      "   decoder.transformer_decoder.layers.2.self_attn.out_proj.bias | grad norm = 0.1046\n",
      "   decoder.transformer_decoder.layers.2.multihead_attn.in_proj_weight | grad norm = 0.1953\n",
      "   decoder.transformer_decoder.layers.2.multihead_attn.in_proj_bias | grad norm = 0.0651\n",
      "   decoder.transformer_decoder.layers.2.multihead_attn.out_proj.weight | grad norm = 0.2268\n",
      "   decoder.transformer_decoder.layers.2.multihead_attn.out_proj.bias | grad norm = 0.1127\n",
      "   decoder.transformer_decoder.layers.2.linear1.weight | grad norm = 0.3477\n",
      "   decoder.transformer_decoder.layers.2.linear1.bias | grad norm = 0.0343\n",
      "   decoder.transformer_decoder.layers.2.linear2.weight | grad norm = 1.0078\n",
      "   decoder.transformer_decoder.layers.2.linear2.bias | grad norm = 0.1085\n",
      "   decoder.transformer_decoder.layers.2.norm1.weight | grad norm = 0.0624\n",
      "   decoder.transformer_decoder.layers.2.norm1.bias | grad norm = 0.1124\n",
      "   decoder.transformer_decoder.layers.2.norm2.weight | grad norm = 0.0646\n",
      "   decoder.transformer_decoder.layers.2.norm2.bias | grad norm = 0.1135\n",
      "   decoder.transformer_decoder.layers.2.norm3.weight | grad norm = 0.0701\n",
      "   decoder.transformer_decoder.layers.2.norm3.bias | grad norm = 0.1191\n",
      "   decoder.transformer_decoder.layers.3.self_attn.in_proj_weight | grad norm = 0.4727\n",
      "   decoder.transformer_decoder.layers.3.self_attn.in_proj_bias | grad norm = 0.0577\n",
      "   decoder.transformer_decoder.layers.3.self_attn.out_proj.weight | grad norm = 0.5492\n",
      "   decoder.transformer_decoder.layers.3.self_attn.out_proj.bias | grad norm = 0.1090\n",
      "   decoder.transformer_decoder.layers.3.multihead_attn.in_proj_weight | grad norm = 0.2044\n",
      "   decoder.transformer_decoder.layers.3.multihead_attn.in_proj_bias | grad norm = 0.0681\n",
      "   decoder.transformer_decoder.layers.3.multihead_attn.out_proj.weight | grad norm = 0.2433\n",
      "   decoder.transformer_decoder.layers.3.multihead_attn.out_proj.bias | grad norm = 0.1210\n",
      "   decoder.transformer_decoder.layers.3.linear1.weight | grad norm = 0.4299\n",
      "   decoder.transformer_decoder.layers.3.linear1.bias | grad norm = 0.0398\n",
      "   decoder.transformer_decoder.layers.3.linear2.weight | grad norm = 1.1504\n",
      "   decoder.transformer_decoder.layers.3.linear2.bias | grad norm = 0.1190\n",
      "   decoder.transformer_decoder.layers.3.norm1.weight | grad norm = 0.0735\n",
      "   decoder.transformer_decoder.layers.3.norm1.bias | grad norm = 0.1210\n",
      "   decoder.transformer_decoder.layers.3.norm2.weight | grad norm = 0.0751\n",
      "   decoder.transformer_decoder.layers.3.norm2.bias | grad norm = 0.1224\n",
      "   decoder.transformer_decoder.layers.3.norm3.weight | grad norm = 0.0921\n",
      "   decoder.transformer_decoder.layers.3.norm3.bias | grad norm = 0.1362\n",
      "   decoder.output_layer.weight              | grad norm = 2.4281\n",
      "   decoder.output_layer.bias                | grad norm = 0.2291\n",
      "\n",
      "Decoder passed all integrity checks (forward & backward).\n",
      "\n"
     ]
    }
   ],
   "source": [
    "images, labels, _ = next(iter(train_loader))\n",
    "test_decoder_integrity(model, images, labels, token2idx, idx2token)"
   ]
  },
  {
   "cell_type": "code",
   "execution_count": 24,
   "id": "e8930824",
   "metadata": {},
   "outputs": [],
   "source": [
    "def create_loss_function(token2idx):\n",
    "    ignore_index = token2idx['<pad>']\n",
    "    return nn.CrossEntropyLoss(ignore_index=ignore_index)"
   ]
  },
  {
   "cell_type": "code",
   "execution_count": 25,
   "id": "6bfdb2f6",
   "metadata": {},
   "outputs": [],
   "source": [
    "def train_one_epoch(model, dataloader, optimizer, loss_fn, device):\n",
    "    model.train()\n",
    "    total_loss = 0\n",
    "\n",
    "    for images, labels, _ in tqdm(dataloader, desc=\"Training\"):\n",
    "        images = images.to(device)\n",
    "        labels = labels.to(device)\n",
    "\n",
    "        tgt_input = labels[:, :-1]\n",
    "        tgt_output = labels[:, 1:]\n",
    "\n",
    "        tgt_mask = generate_square_subsequent_mask(tgt_input.size(1)).to(device)\n",
    "\n",
    "        optimizer.zero_grad()\n",
    "        logits = model(images, tgt_input, tgt_mask)\n",
    "\n",
    "        logits = logits.view(-1, logits.size(-1))\n",
    "        tgt_output = tgt_output.contiguous().view(-1)\n",
    "\n",
    "        loss = loss_fn(logits, tgt_output)\n",
    "        loss.backward()\n",
    "        optimizer.step()\n",
    "\n",
    "        total_loss += loss.item()\n",
    "\n",
    "    return total_loss / len(dataloader)"
   ]
  },
  {
   "cell_type": "code",
   "execution_count": 26,
   "id": "83d548e8",
   "metadata": {},
   "outputs": [],
   "source": [
    "@torch.no_grad()\n",
    "def evaluate(model, dataloader, loss_fn, device):\n",
    "    model.eval()\n",
    "    total_loss = 0\n",
    "\n",
    "    for images, labels, _ in tqdm(dataloader, desc=\"Evaluating\"):\n",
    "        images = images.to(device)\n",
    "        labels = labels.to(device)\n",
    "\n",
    "        tgt_input = labels[:, :-1]\n",
    "        tgt_output = labels[:, 1:]\n",
    "\n",
    "        tgt_mask = generate_square_subsequent_mask(tgt_input.size(1)).to(device)\n",
    "\n",
    "        logits = model(images, tgt_input, tgt_mask)\n",
    "        logits = logits.view(-1, logits.size(-1))\n",
    "        tgt_output = tgt_output.contiguous().view(-1)\n",
    "\n",
    "        loss = loss_fn(logits, tgt_output)\n",
    "        total_loss += loss.item()\n",
    "\n",
    "    return total_loss / len(dataloader)"
   ]
  },
  {
   "cell_type": "code",
   "execution_count": 27,
   "id": "cfe5b008",
   "metadata": {},
   "outputs": [],
   "source": [
    "def fit(model, train_loader, val_loader, token2idx, epochs=10, lr=1e-4, device=\"cuda\"):\n",
    "    optimizer = torch.optim.Adam(model.parameters(), lr=lr)\n",
    "    loss_fn = create_loss_function(token2idx)\n",
    "    best_val_loss = float('inf')\n",
    "    save_path = \"best_model.pt\"\n",
    "\n",
    "    writer = SummaryWriter(log_dir=\"runs/im2latex\")\n",
    "\n",
    "    train_losses = []\n",
    "    val_losses = []\n",
    "\n",
    "    print(\"\\nMeasuring Initial Loss...\")\n",
    "    model.eval()\n",
    "    with torch.no_grad():\n",
    "        batch = next(iter(val_loader))\n",
    "        images, labels, _ = batch\n",
    "        images, labels = images.to(device), labels.to(device)\n",
    "\n",
    "        tgt_input = labels[:, :-1]\n",
    "        tgt_output = labels[:, 1:]\n",
    "        tgt_mask = generate_square_subsequent_mask(tgt_input.size(1)).to(device)\n",
    "\n",
    "        logits = model(images, tgt_input, tgt_mask)\n",
    "        loss = loss_fn(logits.reshape(-1, logits.size(-1)), tgt_output.reshape(-1))\n",
    "        print(f\"Initial Loss (on val batch): {loss.item():.4f}\")\n",
    "\n",
    "    for epoch in range(1, epochs + 1):\n",
    "        print(f\"\\nEpoch {epoch}/{epochs}\")\n",
    "\n",
    "        train_loss = train_one_epoch(model, train_loader, optimizer, loss_fn, device)\n",
    "        val_loss = evaluate(model, val_loader, loss_fn, device)\n",
    "\n",
    "        train_losses.append(train_loss)\n",
    "        val_losses.append(val_loss)\n",
    "\n",
    "        writer.add_scalar(\"Loss/train\", train_loss, epoch)\n",
    "        writer.add_scalar(\"Loss/val\", val_loss, epoch)\n",
    "\n",
    "        print(f\"Train Loss: {train_loss:.4f} | Val Loss: {val_loss:.4f}\")\n",
    "\n",
    "        if val_loss < best_val_loss:\n",
    "            best_val_loss = val_loss\n",
    "            torch.save(model.state_dict(), save_path)\n",
    "            print(f\"Saved best model to {save_path}\")\n",
    "\n",
    "    writer.close()\n",
    "\n",
    "    # Plot loss curve\n",
    "    plt.figure(figsize=(8, 4))\n",
    "    plt.plot(train_losses, label='Train Loss')\n",
    "    plt.plot(val_losses, label='Val Loss')\n",
    "    plt.xlabel(\"Epoch\")\n",
    "    plt.ylabel(\"Loss\")\n",
    "    plt.title(\"Training Curve\")\n",
    "    plt.legend()\n",
    "    plt.grid(True)\n",
    "    plt.tight_layout()\n",
    "    plt.savefig(\"loss_curve.png\")\n",
    "    plt.show()\n",
    "    print(\"Saved loss curve to loss_curve.png\")"
   ]
  },
  {
   "cell_type": "code",
   "execution_count": 28,
   "id": "760b3473",
   "metadata": {},
   "outputs": [
    {
     "name": "stdout",
     "output_type": "stream",
     "text": [
      "\n",
      "Measuring Initial Loss...\n",
      "Initial Loss (on val batch): 4.8908\n",
      "\n",
      "Epoch 1/50\n"
     ]
    },
    {
     "data": {
      "application/vnd.jupyter.widget-view+json": {
       "model_id": "e8c702bcad5c42c1b22f02f8fa9e073a",
       "version_major": 2,
       "version_minor": 0
      },
      "text/plain": [
       "Training:   0%|          | 0/267 [00:00<?, ?it/s]"
      ]
     },
     "metadata": {},
     "output_type": "display_data"
    },
    {
     "data": {
      "application/vnd.jupyter.widget-view+json": {
       "model_id": "0d283b13f12b40fba360b42dbf322567",
       "version_major": 2,
       "version_minor": 0
      },
      "text/plain": [
       "Evaluating:   0%|          | 0/58 [00:00<?, ?it/s]"
      ]
     },
     "metadata": {},
     "output_type": "display_data"
    },
    {
     "name": "stdout",
     "output_type": "stream",
     "text": [
      "Train Loss: 2.4277 | Val Loss: 1.9678\n",
      "Saved best model to best_model.pt\n",
      "\n",
      "Epoch 2/50\n"
     ]
    },
    {
     "data": {
      "application/vnd.jupyter.widget-view+json": {
       "model_id": "30752d8b57e14a6b957413d890f28c56",
       "version_major": 2,
       "version_minor": 0
      },
      "text/plain": [
       "Training:   0%|          | 0/267 [00:00<?, ?it/s]"
      ]
     },
     "metadata": {},
     "output_type": "display_data"
    },
    {
     "data": {
      "application/vnd.jupyter.widget-view+json": {
       "model_id": "c3945e7c49ed4ec180afe1cbeeaa89fb",
       "version_major": 2,
       "version_minor": 0
      },
      "text/plain": [
       "Evaluating:   0%|          | 0/58 [00:00<?, ?it/s]"
      ]
     },
     "metadata": {},
     "output_type": "display_data"
    },
    {
     "name": "stdout",
     "output_type": "stream",
     "text": [
      "Train Loss: 1.8725 | Val Loss: 1.7656\n",
      "Saved best model to best_model.pt\n",
      "\n",
      "Epoch 3/50\n"
     ]
    },
    {
     "data": {
      "application/vnd.jupyter.widget-view+json": {
       "model_id": "1d14c5dd3c4440f58652ce473b3103e2",
       "version_major": 2,
       "version_minor": 0
      },
      "text/plain": [
       "Training:   0%|          | 0/267 [00:00<?, ?it/s]"
      ]
     },
     "metadata": {},
     "output_type": "display_data"
    },
    {
     "data": {
      "application/vnd.jupyter.widget-view+json": {
       "model_id": "a671405f385e438e8a03cd7a986f6d3f",
       "version_major": 2,
       "version_minor": 0
      },
      "text/plain": [
       "Evaluating:   0%|          | 0/58 [00:00<?, ?it/s]"
      ]
     },
     "metadata": {},
     "output_type": "display_data"
    },
    {
     "name": "stdout",
     "output_type": "stream",
     "text": [
      "Train Loss: 1.6618 | Val Loss: 1.6283\n",
      "Saved best model to best_model.pt\n",
      "\n",
      "Epoch 4/50\n"
     ]
    },
    {
     "data": {
      "application/vnd.jupyter.widget-view+json": {
       "model_id": "0400a2c00a3d4b7b9f71b8909e26c978",
       "version_major": 2,
       "version_minor": 0
      },
      "text/plain": [
       "Training:   0%|          | 0/267 [00:00<?, ?it/s]"
      ]
     },
     "metadata": {},
     "output_type": "display_data"
    },
    {
     "data": {
      "application/vnd.jupyter.widget-view+json": {
       "model_id": "4bbc1f3079ee47b6afedcaa8f4a2d498",
       "version_major": 2,
       "version_minor": 0
      },
      "text/plain": [
       "Evaluating:   0%|          | 0/58 [00:00<?, ?it/s]"
      ]
     },
     "metadata": {},
     "output_type": "display_data"
    },
    {
     "name": "stdout",
     "output_type": "stream",
     "text": [
      "Train Loss: 1.4732 | Val Loss: 1.3782\n",
      "Saved best model to best_model.pt\n",
      "\n",
      "Epoch 5/50\n"
     ]
    },
    {
     "data": {
      "application/vnd.jupyter.widget-view+json": {
       "model_id": "20b3f94ad3084c11a911e9c9dd60693c",
       "version_major": 2,
       "version_minor": 0
      },
      "text/plain": [
       "Training:   0%|          | 0/267 [00:00<?, ?it/s]"
      ]
     },
     "metadata": {},
     "output_type": "display_data"
    },
    {
     "data": {
      "application/vnd.jupyter.widget-view+json": {
       "model_id": "c61a137d688f426697e6c86a15c462cc",
       "version_major": 2,
       "version_minor": 0
      },
      "text/plain": [
       "Evaluating:   0%|          | 0/58 [00:00<?, ?it/s]"
      ]
     },
     "metadata": {},
     "output_type": "display_data"
    },
    {
     "name": "stdout",
     "output_type": "stream",
     "text": [
      "Train Loss: 1.2943 | Val Loss: 1.2174\n",
      "Saved best model to best_model.pt\n",
      "\n",
      "Epoch 6/50\n"
     ]
    },
    {
     "data": {
      "application/vnd.jupyter.widget-view+json": {
       "model_id": "b5ff8e46d2dd4c5fa3f579bd935b1db1",
       "version_major": 2,
       "version_minor": 0
      },
      "text/plain": [
       "Training:   0%|          | 0/267 [00:00<?, ?it/s]"
      ]
     },
     "metadata": {},
     "output_type": "display_data"
    },
    {
     "data": {
      "application/vnd.jupyter.widget-view+json": {
       "model_id": "9e98d0ff1f5b46369d31b352de0ef924",
       "version_major": 2,
       "version_minor": 0
      },
      "text/plain": [
       "Evaluating:   0%|          | 0/58 [00:00<?, ?it/s]"
      ]
     },
     "metadata": {},
     "output_type": "display_data"
    },
    {
     "name": "stdout",
     "output_type": "stream",
     "text": [
      "Train Loss: 1.1272 | Val Loss: 1.0438\n",
      "Saved best model to best_model.pt\n",
      "\n",
      "Epoch 7/50\n"
     ]
    },
    {
     "data": {
      "application/vnd.jupyter.widget-view+json": {
       "model_id": "a936a39e934142a4af6a53e4ac6e7261",
       "version_major": 2,
       "version_minor": 0
      },
      "text/plain": [
       "Training:   0%|          | 0/267 [00:00<?, ?it/s]"
      ]
     },
     "metadata": {},
     "output_type": "display_data"
    },
    {
     "data": {
      "application/vnd.jupyter.widget-view+json": {
       "model_id": "3892341077764459bd11489810303260",
       "version_major": 2,
       "version_minor": 0
      },
      "text/plain": [
       "Evaluating:   0%|          | 0/58 [00:00<?, ?it/s]"
      ]
     },
     "metadata": {},
     "output_type": "display_data"
    },
    {
     "name": "stdout",
     "output_type": "stream",
     "text": [
      "Train Loss: 0.9635 | Val Loss: 0.8915\n",
      "Saved best model to best_model.pt\n",
      "\n",
      "Epoch 8/50\n"
     ]
    },
    {
     "data": {
      "application/vnd.jupyter.widget-view+json": {
       "model_id": "64cce0f258e74bc682c4ed808f13c92b",
       "version_major": 2,
       "version_minor": 0
      },
      "text/plain": [
       "Training:   0%|          | 0/267 [00:00<?, ?it/s]"
      ]
     },
     "metadata": {},
     "output_type": "display_data"
    },
    {
     "data": {
      "application/vnd.jupyter.widget-view+json": {
       "model_id": "7103d3ed586d44ca8fb944179840c427",
       "version_major": 2,
       "version_minor": 0
      },
      "text/plain": [
       "Evaluating:   0%|          | 0/58 [00:00<?, ?it/s]"
      ]
     },
     "metadata": {},
     "output_type": "display_data"
    },
    {
     "name": "stdout",
     "output_type": "stream",
     "text": [
      "Train Loss: 0.8178 | Val Loss: 0.7914\n",
      "Saved best model to best_model.pt\n",
      "\n",
      "Epoch 9/50\n"
     ]
    },
    {
     "data": {
      "application/vnd.jupyter.widget-view+json": {
       "model_id": "2ae45e4945ee4606ab3c07310e287637",
       "version_major": 2,
       "version_minor": 0
      },
      "text/plain": [
       "Training:   0%|          | 0/267 [00:00<?, ?it/s]"
      ]
     },
     "metadata": {},
     "output_type": "display_data"
    },
    {
     "data": {
      "application/vnd.jupyter.widget-view+json": {
       "model_id": "1e509fcc444b4718930ba764bcd66ac3",
       "version_major": 2,
       "version_minor": 0
      },
      "text/plain": [
       "Evaluating:   0%|          | 0/58 [00:00<?, ?it/s]"
      ]
     },
     "metadata": {},
     "output_type": "display_data"
    },
    {
     "name": "stdout",
     "output_type": "stream",
     "text": [
      "Train Loss: 0.7053 | Val Loss: 0.6748\n",
      "Saved best model to best_model.pt\n",
      "\n",
      "Epoch 10/50\n"
     ]
    },
    {
     "data": {
      "application/vnd.jupyter.widget-view+json": {
       "model_id": "7c7937dbbd724cb29553a1e74c472ad1",
       "version_major": 2,
       "version_minor": 0
      },
      "text/plain": [
       "Training:   0%|          | 0/267 [00:00<?, ?it/s]"
      ]
     },
     "metadata": {},
     "output_type": "display_data"
    },
    {
     "data": {
      "application/vnd.jupyter.widget-view+json": {
       "model_id": "ae1f2be787764f8991483b2483561510",
       "version_major": 2,
       "version_minor": 0
      },
      "text/plain": [
       "Evaluating:   0%|          | 0/58 [00:00<?, ?it/s]"
      ]
     },
     "metadata": {},
     "output_type": "display_data"
    },
    {
     "name": "stdout",
     "output_type": "stream",
     "text": [
      "Train Loss: 0.6068 | Val Loss: 0.6286\n",
      "Saved best model to best_model.pt\n",
      "\n",
      "Epoch 11/50\n"
     ]
    },
    {
     "data": {
      "application/vnd.jupyter.widget-view+json": {
       "model_id": "9edeaf9d20ca4bd7845e38698c535ae7",
       "version_major": 2,
       "version_minor": 0
      },
      "text/plain": [
       "Training:   0%|          | 0/267 [00:00<?, ?it/s]"
      ]
     },
     "metadata": {},
     "output_type": "display_data"
    },
    {
     "data": {
      "application/vnd.jupyter.widget-view+json": {
       "model_id": "2d79289bb75b4c5fbdbca3a62c658fd9",
       "version_major": 2,
       "version_minor": 0
      },
      "text/plain": [
       "Evaluating:   0%|          | 0/58 [00:00<?, ?it/s]"
      ]
     },
     "metadata": {},
     "output_type": "display_data"
    },
    {
     "name": "stdout",
     "output_type": "stream",
     "text": [
      "Train Loss: 0.5265 | Val Loss: 0.5408\n",
      "Saved best model to best_model.pt\n",
      "\n",
      "Epoch 12/50\n"
     ]
    },
    {
     "data": {
      "application/vnd.jupyter.widget-view+json": {
       "model_id": "b8a984b34e1a40388fc869b604805f63",
       "version_major": 2,
       "version_minor": 0
      },
      "text/plain": [
       "Training:   0%|          | 0/267 [00:00<?, ?it/s]"
      ]
     },
     "metadata": {},
     "output_type": "display_data"
    },
    {
     "data": {
      "application/vnd.jupyter.widget-view+json": {
       "model_id": "e79206c0c77c448a993ab2ae518653fe",
       "version_major": 2,
       "version_minor": 0
      },
      "text/plain": [
       "Evaluating:   0%|          | 0/58 [00:00<?, ?it/s]"
      ]
     },
     "metadata": {},
     "output_type": "display_data"
    },
    {
     "name": "stdout",
     "output_type": "stream",
     "text": [
      "Train Loss: 0.4667 | Val Loss: 0.5267\n",
      "Saved best model to best_model.pt\n",
      "\n",
      "Epoch 13/50\n"
     ]
    },
    {
     "data": {
      "application/vnd.jupyter.widget-view+json": {
       "model_id": "9eda241d0d0a4a79aa1720e39ff4ae37",
       "version_major": 2,
       "version_minor": 0
      },
      "text/plain": [
       "Training:   0%|          | 0/267 [00:00<?, ?it/s]"
      ]
     },
     "metadata": {},
     "output_type": "display_data"
    },
    {
     "data": {
      "application/vnd.jupyter.widget-view+json": {
       "model_id": "2f21af30629341c0b2eb93dc88dc95a0",
       "version_major": 2,
       "version_minor": 0
      },
      "text/plain": [
       "Evaluating:   0%|          | 0/58 [00:00<?, ?it/s]"
      ]
     },
     "metadata": {},
     "output_type": "display_data"
    },
    {
     "name": "stdout",
     "output_type": "stream",
     "text": [
      "Train Loss: 0.4120 | Val Loss: 0.4766\n",
      "Saved best model to best_model.pt\n",
      "\n",
      "Epoch 14/50\n"
     ]
    },
    {
     "data": {
      "application/vnd.jupyter.widget-view+json": {
       "model_id": "2e020edee8344ebf94a1780221b22910",
       "version_major": 2,
       "version_minor": 0
      },
      "text/plain": [
       "Training:   0%|          | 0/267 [00:00<?, ?it/s]"
      ]
     },
     "metadata": {},
     "output_type": "display_data"
    },
    {
     "data": {
      "application/vnd.jupyter.widget-view+json": {
       "model_id": "a0ad698bc14a49f4a6b41191f5be5f92",
       "version_major": 2,
       "version_minor": 0
      },
      "text/plain": [
       "Evaluating:   0%|          | 0/58 [00:00<?, ?it/s]"
      ]
     },
     "metadata": {},
     "output_type": "display_data"
    },
    {
     "name": "stdout",
     "output_type": "stream",
     "text": [
      "Train Loss: 0.3671 | Val Loss: 0.4628\n",
      "Saved best model to best_model.pt\n",
      "\n",
      "Epoch 15/50\n"
     ]
    },
    {
     "data": {
      "application/vnd.jupyter.widget-view+json": {
       "model_id": "7fa6a11ec00f4d92adb52b14db9a6fb7",
       "version_major": 2,
       "version_minor": 0
      },
      "text/plain": [
       "Training:   0%|          | 0/267 [00:00<?, ?it/s]"
      ]
     },
     "metadata": {},
     "output_type": "display_data"
    },
    {
     "data": {
      "application/vnd.jupyter.widget-view+json": {
       "model_id": "c1ddc3d01f0840dc8d20d5910f7f6d36",
       "version_major": 2,
       "version_minor": 0
      },
      "text/plain": [
       "Evaluating:   0%|          | 0/58 [00:00<?, ?it/s]"
      ]
     },
     "metadata": {},
     "output_type": "display_data"
    },
    {
     "name": "stdout",
     "output_type": "stream",
     "text": [
      "Train Loss: 0.3317 | Val Loss: 0.4876\n",
      "\n",
      "Epoch 16/50\n"
     ]
    },
    {
     "data": {
      "application/vnd.jupyter.widget-view+json": {
       "model_id": "1e80f1ea9d074df8b55e4a8d0d52c307",
       "version_major": 2,
       "version_minor": 0
      },
      "text/plain": [
       "Training:   0%|          | 0/267 [00:00<?, ?it/s]"
      ]
     },
     "metadata": {},
     "output_type": "display_data"
    },
    {
     "data": {
      "application/vnd.jupyter.widget-view+json": {
       "model_id": "69f6d63746df43e98250b85fd680dbb0",
       "version_major": 2,
       "version_minor": 0
      },
      "text/plain": [
       "Evaluating:   0%|          | 0/58 [00:00<?, ?it/s]"
      ]
     },
     "metadata": {},
     "output_type": "display_data"
    },
    {
     "name": "stdout",
     "output_type": "stream",
     "text": [
      "Train Loss: 0.3051 | Val Loss: 0.4615\n",
      "Saved best model to best_model.pt\n",
      "\n",
      "Epoch 17/50\n"
     ]
    },
    {
     "data": {
      "application/vnd.jupyter.widget-view+json": {
       "model_id": "2fc1ce8f165746e2a3d982d3339821b2",
       "version_major": 2,
       "version_minor": 0
      },
      "text/plain": [
       "Training:   0%|          | 0/267 [00:00<?, ?it/s]"
      ]
     },
     "metadata": {},
     "output_type": "display_data"
    },
    {
     "data": {
      "application/vnd.jupyter.widget-view+json": {
       "model_id": "d4dcb21b9aaa4a95800d2236125fdb44",
       "version_major": 2,
       "version_minor": 0
      },
      "text/plain": [
       "Evaluating:   0%|          | 0/58 [00:00<?, ?it/s]"
      ]
     },
     "metadata": {},
     "output_type": "display_data"
    },
    {
     "name": "stdout",
     "output_type": "stream",
     "text": [
      "Train Loss: 0.2706 | Val Loss: 0.4111\n",
      "Saved best model to best_model.pt\n",
      "\n",
      "Epoch 18/50\n"
     ]
    },
    {
     "data": {
      "application/vnd.jupyter.widget-view+json": {
       "model_id": "776f3c2feaa84a468cbc57bdd3c71bd5",
       "version_major": 2,
       "version_minor": 0
      },
      "text/plain": [
       "Training:   0%|          | 0/267 [00:00<?, ?it/s]"
      ]
     },
     "metadata": {},
     "output_type": "display_data"
    },
    {
     "data": {
      "application/vnd.jupyter.widget-view+json": {
       "model_id": "5eb4191ba29f4826abcac6bb6b7a0d85",
       "version_major": 2,
       "version_minor": 0
      },
      "text/plain": [
       "Evaluating:   0%|          | 0/58 [00:00<?, ?it/s]"
      ]
     },
     "metadata": {},
     "output_type": "display_data"
    },
    {
     "name": "stdout",
     "output_type": "stream",
     "text": [
      "Train Loss: 0.2458 | Val Loss: 0.4505\n",
      "\n",
      "Epoch 19/50\n"
     ]
    },
    {
     "data": {
      "application/vnd.jupyter.widget-view+json": {
       "model_id": "7059a5abd1c748f39d207162ece909b7",
       "version_major": 2,
       "version_minor": 0
      },
      "text/plain": [
       "Training:   0%|          | 0/267 [00:00<?, ?it/s]"
      ]
     },
     "metadata": {},
     "output_type": "display_data"
    },
    {
     "data": {
      "application/vnd.jupyter.widget-view+json": {
       "model_id": "5c3f4a4a69dc44b78544c3005a9710b7",
       "version_major": 2,
       "version_minor": 0
      },
      "text/plain": [
       "Evaluating:   0%|          | 0/58 [00:00<?, ?it/s]"
      ]
     },
     "metadata": {},
     "output_type": "display_data"
    },
    {
     "name": "stdout",
     "output_type": "stream",
     "text": [
      "Train Loss: 0.2302 | Val Loss: 0.3922\n",
      "Saved best model to best_model.pt\n",
      "\n",
      "Epoch 20/50\n"
     ]
    },
    {
     "data": {
      "application/vnd.jupyter.widget-view+json": {
       "model_id": "12eed8cf312c4e16a988aafd80510bf5",
       "version_major": 2,
       "version_minor": 0
      },
      "text/plain": [
       "Training:   0%|          | 0/267 [00:00<?, ?it/s]"
      ]
     },
     "metadata": {},
     "output_type": "display_data"
    },
    {
     "data": {
      "application/vnd.jupyter.widget-view+json": {
       "model_id": "a85dff55e1da4db085db17aea6e68f3e",
       "version_major": 2,
       "version_minor": 0
      },
      "text/plain": [
       "Evaluating:   0%|          | 0/58 [00:00<?, ?it/s]"
      ]
     },
     "metadata": {},
     "output_type": "display_data"
    },
    {
     "name": "stdout",
     "output_type": "stream",
     "text": [
      "Train Loss: 0.2100 | Val Loss: 0.3720\n",
      "Saved best model to best_model.pt\n",
      "\n",
      "Epoch 21/50\n"
     ]
    },
    {
     "data": {
      "application/vnd.jupyter.widget-view+json": {
       "model_id": "cd15a2bba63944b89f19dafbf3fedd44",
       "version_major": 2,
       "version_minor": 0
      },
      "text/plain": [
       "Training:   0%|          | 0/267 [00:00<?, ?it/s]"
      ]
     },
     "metadata": {},
     "output_type": "display_data"
    },
    {
     "data": {
      "application/vnd.jupyter.widget-view+json": {
       "model_id": "1df2f4db5eee475dbc2e65d3bec8d7ff",
       "version_major": 2,
       "version_minor": 0
      },
      "text/plain": [
       "Evaluating:   0%|          | 0/58 [00:00<?, ?it/s]"
      ]
     },
     "metadata": {},
     "output_type": "display_data"
    },
    {
     "name": "stdout",
     "output_type": "stream",
     "text": [
      "Train Loss: 0.1896 | Val Loss: 0.3731\n",
      "\n",
      "Epoch 22/50\n"
     ]
    },
    {
     "data": {
      "application/vnd.jupyter.widget-view+json": {
       "model_id": "96a3c932f4e84d06ae2c793f9ce4b9a5",
       "version_major": 2,
       "version_minor": 0
      },
      "text/plain": [
       "Training:   0%|          | 0/267 [00:00<?, ?it/s]"
      ]
     },
     "metadata": {},
     "output_type": "display_data"
    },
    {
     "data": {
      "application/vnd.jupyter.widget-view+json": {
       "model_id": "0e69f8daf98e4b31ab28b115be988e72",
       "version_major": 2,
       "version_minor": 0
      },
      "text/plain": [
       "Evaluating:   0%|          | 0/58 [00:00<?, ?it/s]"
      ]
     },
     "metadata": {},
     "output_type": "display_data"
    },
    {
     "name": "stdout",
     "output_type": "stream",
     "text": [
      "Train Loss: 0.1826 | Val Loss: 0.3897\n",
      "\n",
      "Epoch 23/50\n"
     ]
    },
    {
     "data": {
      "application/vnd.jupyter.widget-view+json": {
       "model_id": "b608140c396a4006bea4df3bfc9517ef",
       "version_major": 2,
       "version_minor": 0
      },
      "text/plain": [
       "Training:   0%|          | 0/267 [00:00<?, ?it/s]"
      ]
     },
     "metadata": {},
     "output_type": "display_data"
    },
    {
     "data": {
      "application/vnd.jupyter.widget-view+json": {
       "model_id": "fb805fe7d4c04f97a33c3c881c8e4cc0",
       "version_major": 2,
       "version_minor": 0
      },
      "text/plain": [
       "Evaluating:   0%|          | 0/58 [00:00<?, ?it/s]"
      ]
     },
     "metadata": {},
     "output_type": "display_data"
    },
    {
     "name": "stdout",
     "output_type": "stream",
     "text": [
      "Train Loss: 0.1598 | Val Loss: 0.3703\n",
      "Saved best model to best_model.pt\n",
      "\n",
      "Epoch 24/50\n"
     ]
    },
    {
     "data": {
      "application/vnd.jupyter.widget-view+json": {
       "model_id": "751b6fa69d5f4963a037303ba00901fa",
       "version_major": 2,
       "version_minor": 0
      },
      "text/plain": [
       "Training:   0%|          | 0/267 [00:00<?, ?it/s]"
      ]
     },
     "metadata": {},
     "output_type": "display_data"
    },
    {
     "data": {
      "application/vnd.jupyter.widget-view+json": {
       "model_id": "adc9156c6c584e65b8216ff697638eae",
       "version_major": 2,
       "version_minor": 0
      },
      "text/plain": [
       "Evaluating:   0%|          | 0/58 [00:00<?, ?it/s]"
      ]
     },
     "metadata": {},
     "output_type": "display_data"
    },
    {
     "name": "stdout",
     "output_type": "stream",
     "text": [
      "Train Loss: 0.1564 | Val Loss: 0.3543\n",
      "Saved best model to best_model.pt\n",
      "\n",
      "Epoch 25/50\n"
     ]
    },
    {
     "data": {
      "application/vnd.jupyter.widget-view+json": {
       "model_id": "d93c4d650747467299016b1885ac294b",
       "version_major": 2,
       "version_minor": 0
      },
      "text/plain": [
       "Training:   0%|          | 0/267 [00:00<?, ?it/s]"
      ]
     },
     "metadata": {},
     "output_type": "display_data"
    },
    {
     "data": {
      "application/vnd.jupyter.widget-view+json": {
       "model_id": "0638f55213254014a65ede6d33907739",
       "version_major": 2,
       "version_minor": 0
      },
      "text/plain": [
       "Evaluating:   0%|          | 0/58 [00:00<?, ?it/s]"
      ]
     },
     "metadata": {},
     "output_type": "display_data"
    },
    {
     "name": "stdout",
     "output_type": "stream",
     "text": [
      "Train Loss: 0.1357 | Val Loss: 0.3564\n",
      "\n",
      "Epoch 26/50\n"
     ]
    },
    {
     "data": {
      "application/vnd.jupyter.widget-view+json": {
       "model_id": "4925cb9b3c7a49528ea161d618baccde",
       "version_major": 2,
       "version_minor": 0
      },
      "text/plain": [
       "Training:   0%|          | 0/267 [00:00<?, ?it/s]"
      ]
     },
     "metadata": {},
     "output_type": "display_data"
    },
    {
     "data": {
      "application/vnd.jupyter.widget-view+json": {
       "model_id": "54f0a6b20fc94a66a666fc52e1fe2e97",
       "version_major": 2,
       "version_minor": 0
      },
      "text/plain": [
       "Evaluating:   0%|          | 0/58 [00:00<?, ?it/s]"
      ]
     },
     "metadata": {},
     "output_type": "display_data"
    },
    {
     "name": "stdout",
     "output_type": "stream",
     "text": [
      "Train Loss: 0.1263 | Val Loss: 0.3525\n",
      "Saved best model to best_model.pt\n",
      "\n",
      "Epoch 27/50\n"
     ]
    },
    {
     "data": {
      "application/vnd.jupyter.widget-view+json": {
       "model_id": "a66d59ce1efe40919d6ad624affced77",
       "version_major": 2,
       "version_minor": 0
      },
      "text/plain": [
       "Training:   0%|          | 0/267 [00:00<?, ?it/s]"
      ]
     },
     "metadata": {},
     "output_type": "display_data"
    },
    {
     "data": {
      "application/vnd.jupyter.widget-view+json": {
       "model_id": "39b0814c59f94231b3fbe0b577f75a0c",
       "version_major": 2,
       "version_minor": 0
      },
      "text/plain": [
       "Evaluating:   0%|          | 0/58 [00:00<?, ?it/s]"
      ]
     },
     "metadata": {},
     "output_type": "display_data"
    },
    {
     "name": "stdout",
     "output_type": "stream",
     "text": [
      "Train Loss: 0.1184 | Val Loss: 0.3585\n",
      "\n",
      "Epoch 28/50\n"
     ]
    },
    {
     "data": {
      "application/vnd.jupyter.widget-view+json": {
       "model_id": "6104620e581b4a8b919033e865dd1cdf",
       "version_major": 2,
       "version_minor": 0
      },
      "text/plain": [
       "Training:   0%|          | 0/267 [00:00<?, ?it/s]"
      ]
     },
     "metadata": {},
     "output_type": "display_data"
    },
    {
     "data": {
      "application/vnd.jupyter.widget-view+json": {
       "model_id": "adb1d92dd7054101b589a07fd77d21f0",
       "version_major": 2,
       "version_minor": 0
      },
      "text/plain": [
       "Evaluating:   0%|          | 0/58 [00:00<?, ?it/s]"
      ]
     },
     "metadata": {},
     "output_type": "display_data"
    },
    {
     "name": "stdout",
     "output_type": "stream",
     "text": [
      "Train Loss: 0.1110 | Val Loss: 0.3441\n",
      "Saved best model to best_model.pt\n",
      "\n",
      "Epoch 29/50\n"
     ]
    },
    {
     "data": {
      "application/vnd.jupyter.widget-view+json": {
       "model_id": "d4e2406a06e146be94db141840d90a69",
       "version_major": 2,
       "version_minor": 0
      },
      "text/plain": [
       "Training:   0%|          | 0/267 [00:00<?, ?it/s]"
      ]
     },
     "metadata": {},
     "output_type": "display_data"
    },
    {
     "data": {
      "application/vnd.jupyter.widget-view+json": {
       "model_id": "45d6d9c006b44a6bb9d7fe31e4fc8495",
       "version_major": 2,
       "version_minor": 0
      },
      "text/plain": [
       "Evaluating:   0%|          | 0/58 [00:00<?, ?it/s]"
      ]
     },
     "metadata": {},
     "output_type": "display_data"
    },
    {
     "name": "stdout",
     "output_type": "stream",
     "text": [
      "Train Loss: 0.1024 | Val Loss: 0.3579\n",
      "\n",
      "Epoch 30/50\n"
     ]
    },
    {
     "data": {
      "application/vnd.jupyter.widget-view+json": {
       "model_id": "a00629b5f6874842af225309e81c07cc",
       "version_major": 2,
       "version_minor": 0
      },
      "text/plain": [
       "Training:   0%|          | 0/267 [00:00<?, ?it/s]"
      ]
     },
     "metadata": {},
     "output_type": "display_data"
    },
    {
     "data": {
      "application/vnd.jupyter.widget-view+json": {
       "model_id": "7d33b33f410c4ecead5f0f933c227db5",
       "version_major": 2,
       "version_minor": 0
      },
      "text/plain": [
       "Evaluating:   0%|          | 0/58 [00:00<?, ?it/s]"
      ]
     },
     "metadata": {},
     "output_type": "display_data"
    },
    {
     "name": "stdout",
     "output_type": "stream",
     "text": [
      "Train Loss: 0.1026 | Val Loss: 0.3688\n",
      "\n",
      "Epoch 31/50\n"
     ]
    },
    {
     "data": {
      "application/vnd.jupyter.widget-view+json": {
       "model_id": "e81607b7422b4a27bff5dff44eff1666",
       "version_major": 2,
       "version_minor": 0
      },
      "text/plain": [
       "Training:   0%|          | 0/267 [00:00<?, ?it/s]"
      ]
     },
     "metadata": {},
     "output_type": "display_data"
    },
    {
     "data": {
      "application/vnd.jupyter.widget-view+json": {
       "model_id": "3c7f910321f74a0d94e9f97e7a7c2f69",
       "version_major": 2,
       "version_minor": 0
      },
      "text/plain": [
       "Evaluating:   0%|          | 0/58 [00:00<?, ?it/s]"
      ]
     },
     "metadata": {},
     "output_type": "display_data"
    },
    {
     "name": "stdout",
     "output_type": "stream",
     "text": [
      "Train Loss: 0.0942 | Val Loss: 0.3484\n",
      "\n",
      "Epoch 32/50\n"
     ]
    },
    {
     "data": {
      "application/vnd.jupyter.widget-view+json": {
       "model_id": "ba2a9162034b486f81e663fac5cf6bb3",
       "version_major": 2,
       "version_minor": 0
      },
      "text/plain": [
       "Training:   0%|          | 0/267 [00:00<?, ?it/s]"
      ]
     },
     "metadata": {},
     "output_type": "display_data"
    },
    {
     "data": {
      "application/vnd.jupyter.widget-view+json": {
       "model_id": "b96264c3dbbf436eb46901514b487e0d",
       "version_major": 2,
       "version_minor": 0
      },
      "text/plain": [
       "Evaluating:   0%|          | 0/58 [00:00<?, ?it/s]"
      ]
     },
     "metadata": {},
     "output_type": "display_data"
    },
    {
     "name": "stdout",
     "output_type": "stream",
     "text": [
      "Train Loss: 0.0867 | Val Loss: 0.3365\n",
      "Saved best model to best_model.pt\n",
      "\n",
      "Epoch 33/50\n"
     ]
    },
    {
     "data": {
      "application/vnd.jupyter.widget-view+json": {
       "model_id": "91d71c73a7204e2db90d4954554363f3",
       "version_major": 2,
       "version_minor": 0
      },
      "text/plain": [
       "Training:   0%|          | 0/267 [00:00<?, ?it/s]"
      ]
     },
     "metadata": {},
     "output_type": "display_data"
    },
    {
     "data": {
      "application/vnd.jupyter.widget-view+json": {
       "model_id": "d98fcbc630a84e30a7d617e887a27c7e",
       "version_major": 2,
       "version_minor": 0
      },
      "text/plain": [
       "Evaluating:   0%|          | 0/58 [00:00<?, ?it/s]"
      ]
     },
     "metadata": {},
     "output_type": "display_data"
    },
    {
     "name": "stdout",
     "output_type": "stream",
     "text": [
      "Train Loss: 0.0855 | Val Loss: 0.3508\n",
      "\n",
      "Epoch 34/50\n"
     ]
    },
    {
     "data": {
      "application/vnd.jupyter.widget-view+json": {
       "model_id": "8db6d57a29864ab78f0f9a5ebacc3b09",
       "version_major": 2,
       "version_minor": 0
      },
      "text/plain": [
       "Training:   0%|          | 0/267 [00:00<?, ?it/s]"
      ]
     },
     "metadata": {},
     "output_type": "display_data"
    },
    {
     "data": {
      "application/vnd.jupyter.widget-view+json": {
       "model_id": "eafdaa3ec3914756b75110af795bf34c",
       "version_major": 2,
       "version_minor": 0
      },
      "text/plain": [
       "Evaluating:   0%|          | 0/58 [00:00<?, ?it/s]"
      ]
     },
     "metadata": {},
     "output_type": "display_data"
    },
    {
     "name": "stdout",
     "output_type": "stream",
     "text": [
      "Train Loss: 0.0831 | Val Loss: 0.3627\n",
      "\n",
      "Epoch 35/50\n"
     ]
    },
    {
     "data": {
      "application/vnd.jupyter.widget-view+json": {
       "model_id": "7082c006ac934ce5bb9ae49f39330c76",
       "version_major": 2,
       "version_minor": 0
      },
      "text/plain": [
       "Training:   0%|          | 0/267 [00:00<?, ?it/s]"
      ]
     },
     "metadata": {},
     "output_type": "display_data"
    },
    {
     "data": {
      "application/vnd.jupyter.widget-view+json": {
       "model_id": "de553a3243d94220ab9a594960d8dc39",
       "version_major": 2,
       "version_minor": 0
      },
      "text/plain": [
       "Evaluating:   0%|          | 0/58 [00:00<?, ?it/s]"
      ]
     },
     "metadata": {},
     "output_type": "display_data"
    },
    {
     "name": "stdout",
     "output_type": "stream",
     "text": [
      "Train Loss: 0.0753 | Val Loss: 0.3471\n",
      "\n",
      "Epoch 36/50\n"
     ]
    },
    {
     "data": {
      "application/vnd.jupyter.widget-view+json": {
       "model_id": "9ffa1a7f728a4fbeb33c159e2d54b3be",
       "version_major": 2,
       "version_minor": 0
      },
      "text/plain": [
       "Training:   0%|          | 0/267 [00:00<?, ?it/s]"
      ]
     },
     "metadata": {},
     "output_type": "display_data"
    },
    {
     "data": {
      "application/vnd.jupyter.widget-view+json": {
       "model_id": "9a6eabea167945d4bfd1945c48b99cfa",
       "version_major": 2,
       "version_minor": 0
      },
      "text/plain": [
       "Evaluating:   0%|          | 0/58 [00:00<?, ?it/s]"
      ]
     },
     "metadata": {},
     "output_type": "display_data"
    },
    {
     "name": "stdout",
     "output_type": "stream",
     "text": [
      "Train Loss: 0.0734 | Val Loss: 0.3469\n",
      "\n",
      "Epoch 37/50\n"
     ]
    },
    {
     "data": {
      "application/vnd.jupyter.widget-view+json": {
       "model_id": "3d3d59047ebf4f55b4aa126a7f1dc3bb",
       "version_major": 2,
       "version_minor": 0
      },
      "text/plain": [
       "Training:   0%|          | 0/267 [00:00<?, ?it/s]"
      ]
     },
     "metadata": {},
     "output_type": "display_data"
    },
    {
     "data": {
      "application/vnd.jupyter.widget-view+json": {
       "model_id": "4f59eee2ef484494bdc7e21cb1bbd26f",
       "version_major": 2,
       "version_minor": 0
      },
      "text/plain": [
       "Evaluating:   0%|          | 0/58 [00:00<?, ?it/s]"
      ]
     },
     "metadata": {},
     "output_type": "display_data"
    },
    {
     "name": "stdout",
     "output_type": "stream",
     "text": [
      "Train Loss: 0.0672 | Val Loss: 0.3616\n",
      "\n",
      "Epoch 38/50\n"
     ]
    },
    {
     "data": {
      "application/vnd.jupyter.widget-view+json": {
       "model_id": "ed6f2fffd7ea43ffb612134b26471d0f",
       "version_major": 2,
       "version_minor": 0
      },
      "text/plain": [
       "Training:   0%|          | 0/267 [00:00<?, ?it/s]"
      ]
     },
     "metadata": {},
     "output_type": "display_data"
    },
    {
     "data": {
      "application/vnd.jupyter.widget-view+json": {
       "model_id": "e502f1552a704787b89006408656c360",
       "version_major": 2,
       "version_minor": 0
      },
      "text/plain": [
       "Evaluating:   0%|          | 0/58 [00:00<?, ?it/s]"
      ]
     },
     "metadata": {},
     "output_type": "display_data"
    },
    {
     "name": "stdout",
     "output_type": "stream",
     "text": [
      "Train Loss: 0.0657 | Val Loss: 0.3648\n",
      "\n",
      "Epoch 39/50\n"
     ]
    },
    {
     "data": {
      "application/vnd.jupyter.widget-view+json": {
       "model_id": "dccf350a55b9463c958704d732ae0d07",
       "version_major": 2,
       "version_minor": 0
      },
      "text/plain": [
       "Training:   0%|          | 0/267 [00:00<?, ?it/s]"
      ]
     },
     "metadata": {},
     "output_type": "display_data"
    },
    {
     "data": {
      "application/vnd.jupyter.widget-view+json": {
       "model_id": "4295f330e6864a85914f32685462cadf",
       "version_major": 2,
       "version_minor": 0
      },
      "text/plain": [
       "Evaluating:   0%|          | 0/58 [00:00<?, ?it/s]"
      ]
     },
     "metadata": {},
     "output_type": "display_data"
    },
    {
     "name": "stdout",
     "output_type": "stream",
     "text": [
      "Train Loss: 0.0669 | Val Loss: 0.3857\n",
      "\n",
      "Epoch 40/50\n"
     ]
    },
    {
     "data": {
      "application/vnd.jupyter.widget-view+json": {
       "model_id": "735e6ccf8ba54fb6928a0354c2fbf2c5",
       "version_major": 2,
       "version_minor": 0
      },
      "text/plain": [
       "Training:   0%|          | 0/267 [00:00<?, ?it/s]"
      ]
     },
     "metadata": {},
     "output_type": "display_data"
    },
    {
     "data": {
      "application/vnd.jupyter.widget-view+json": {
       "model_id": "0099f11e17ec4da480db8d85debf1add",
       "version_major": 2,
       "version_minor": 0
      },
      "text/plain": [
       "Evaluating:   0%|          | 0/58 [00:00<?, ?it/s]"
      ]
     },
     "metadata": {},
     "output_type": "display_data"
    },
    {
     "name": "stdout",
     "output_type": "stream",
     "text": [
      "Train Loss: 0.0660 | Val Loss: 0.3508\n",
      "\n",
      "Epoch 41/50\n"
     ]
    },
    {
     "data": {
      "application/vnd.jupyter.widget-view+json": {
       "model_id": "717a75a7e6c24174834854edd4983ff4",
       "version_major": 2,
       "version_minor": 0
      },
      "text/plain": [
       "Training:   0%|          | 0/267 [00:00<?, ?it/s]"
      ]
     },
     "metadata": {},
     "output_type": "display_data"
    },
    {
     "data": {
      "application/vnd.jupyter.widget-view+json": {
       "model_id": "c05692677cf24e3ea80982290576db99",
       "version_major": 2,
       "version_minor": 0
      },
      "text/plain": [
       "Evaluating:   0%|          | 0/58 [00:00<?, ?it/s]"
      ]
     },
     "metadata": {},
     "output_type": "display_data"
    },
    {
     "name": "stdout",
     "output_type": "stream",
     "text": [
      "Train Loss: 0.0569 | Val Loss: 0.3555\n",
      "\n",
      "Epoch 42/50\n"
     ]
    },
    {
     "data": {
      "application/vnd.jupyter.widget-view+json": {
       "model_id": "96c3d07796d24ba2b44a331e3892aa1f",
       "version_major": 2,
       "version_minor": 0
      },
      "text/plain": [
       "Training:   0%|          | 0/267 [00:00<?, ?it/s]"
      ]
     },
     "metadata": {},
     "output_type": "display_data"
    },
    {
     "data": {
      "application/vnd.jupyter.widget-view+json": {
       "model_id": "067f798cec7249eeb873845ba4a9c4aa",
       "version_major": 2,
       "version_minor": 0
      },
      "text/plain": [
       "Evaluating:   0%|          | 0/58 [00:00<?, ?it/s]"
      ]
     },
     "metadata": {},
     "output_type": "display_data"
    },
    {
     "name": "stdout",
     "output_type": "stream",
     "text": [
      "Train Loss: 0.0573 | Val Loss: 0.3456\n",
      "\n",
      "Epoch 43/50\n"
     ]
    },
    {
     "data": {
      "application/vnd.jupyter.widget-view+json": {
       "model_id": "a04c6394b9bd454da0a1071db5e956d3",
       "version_major": 2,
       "version_minor": 0
      },
      "text/plain": [
       "Training:   0%|          | 0/267 [00:00<?, ?it/s]"
      ]
     },
     "metadata": {},
     "output_type": "display_data"
    },
    {
     "data": {
      "application/vnd.jupyter.widget-view+json": {
       "model_id": "f5d9ba9ebb2a4e5292fe2ab9664e7d01",
       "version_major": 2,
       "version_minor": 0
      },
      "text/plain": [
       "Evaluating:   0%|          | 0/58 [00:00<?, ?it/s]"
      ]
     },
     "metadata": {},
     "output_type": "display_data"
    },
    {
     "name": "stdout",
     "output_type": "stream",
     "text": [
      "Train Loss: 0.0513 | Val Loss: 0.3603\n",
      "\n",
      "Epoch 44/50\n"
     ]
    },
    {
     "data": {
      "application/vnd.jupyter.widget-view+json": {
       "model_id": "5b11a7b9a0ac423381b0be3d52f81609",
       "version_major": 2,
       "version_minor": 0
      },
      "text/plain": [
       "Training:   0%|          | 0/267 [00:00<?, ?it/s]"
      ]
     },
     "metadata": {},
     "output_type": "display_data"
    },
    {
     "data": {
      "application/vnd.jupyter.widget-view+json": {
       "model_id": "f97bb510b8084edfbede3600ec9fc8f3",
       "version_major": 2,
       "version_minor": 0
      },
      "text/plain": [
       "Evaluating:   0%|          | 0/58 [00:00<?, ?it/s]"
      ]
     },
     "metadata": {},
     "output_type": "display_data"
    },
    {
     "name": "stdout",
     "output_type": "stream",
     "text": [
      "Train Loss: 0.0530 | Val Loss: 0.3644\n",
      "\n",
      "Epoch 45/50\n"
     ]
    },
    {
     "data": {
      "application/vnd.jupyter.widget-view+json": {
       "model_id": "ca27205994604aaa9d84373ec2e29855",
       "version_major": 2,
       "version_minor": 0
      },
      "text/plain": [
       "Training:   0%|          | 0/267 [00:00<?, ?it/s]"
      ]
     },
     "metadata": {},
     "output_type": "display_data"
    },
    {
     "data": {
      "application/vnd.jupyter.widget-view+json": {
       "model_id": "02671362e6a34d6e93dbb8f9766a6255",
       "version_major": 2,
       "version_minor": 0
      },
      "text/plain": [
       "Evaluating:   0%|          | 0/58 [00:00<?, ?it/s]"
      ]
     },
     "metadata": {},
     "output_type": "display_data"
    },
    {
     "name": "stdout",
     "output_type": "stream",
     "text": [
      "Train Loss: 0.0487 | Val Loss: 0.3594\n",
      "\n",
      "Epoch 46/50\n"
     ]
    },
    {
     "data": {
      "application/vnd.jupyter.widget-view+json": {
       "model_id": "7b076c03a98d4a53899f1c7c8bcb7cb7",
       "version_major": 2,
       "version_minor": 0
      },
      "text/plain": [
       "Training:   0%|          | 0/267 [00:00<?, ?it/s]"
      ]
     },
     "metadata": {},
     "output_type": "display_data"
    },
    {
     "data": {
      "application/vnd.jupyter.widget-view+json": {
       "model_id": "c603826afe9944f895c0e65848e43c95",
       "version_major": 2,
       "version_minor": 0
      },
      "text/plain": [
       "Evaluating:   0%|          | 0/58 [00:00<?, ?it/s]"
      ]
     },
     "metadata": {},
     "output_type": "display_data"
    },
    {
     "name": "stdout",
     "output_type": "stream",
     "text": [
      "Train Loss: 0.0517 | Val Loss: 0.3696\n",
      "\n",
      "Epoch 47/50\n"
     ]
    },
    {
     "data": {
      "application/vnd.jupyter.widget-view+json": {
       "model_id": "ada430f9f47144279ef330ddcec3c857",
       "version_major": 2,
       "version_minor": 0
      },
      "text/plain": [
       "Training:   0%|          | 0/267 [00:00<?, ?it/s]"
      ]
     },
     "metadata": {},
     "output_type": "display_data"
    },
    {
     "data": {
      "application/vnd.jupyter.widget-view+json": {
       "model_id": "5ceb4bea19dc4b2d9cf74471ed7fa7f9",
       "version_major": 2,
       "version_minor": 0
      },
      "text/plain": [
       "Evaluating:   0%|          | 0/58 [00:00<?, ?it/s]"
      ]
     },
     "metadata": {},
     "output_type": "display_data"
    },
    {
     "name": "stdout",
     "output_type": "stream",
     "text": [
      "Train Loss: 0.0520 | Val Loss: 0.3879\n",
      "\n",
      "Epoch 48/50\n"
     ]
    },
    {
     "data": {
      "application/vnd.jupyter.widget-view+json": {
       "model_id": "87dc712c82374ffe912bc577fd1f8a17",
       "version_major": 2,
       "version_minor": 0
      },
      "text/plain": [
       "Training:   0%|          | 0/267 [00:00<?, ?it/s]"
      ]
     },
     "metadata": {},
     "output_type": "display_data"
    },
    {
     "data": {
      "application/vnd.jupyter.widget-view+json": {
       "model_id": "4c7f82d3d0254bf597281ab0cdd8337e",
       "version_major": 2,
       "version_minor": 0
      },
      "text/plain": [
       "Evaluating:   0%|          | 0/58 [00:00<?, ?it/s]"
      ]
     },
     "metadata": {},
     "output_type": "display_data"
    },
    {
     "name": "stdout",
     "output_type": "stream",
     "text": [
      "Train Loss: 0.0484 | Val Loss: 0.3607\n",
      "\n",
      "Epoch 49/50\n"
     ]
    },
    {
     "data": {
      "application/vnd.jupyter.widget-view+json": {
       "model_id": "81dc69520e6b42089c8df98c30aaad53",
       "version_major": 2,
       "version_minor": 0
      },
      "text/plain": [
       "Training:   0%|          | 0/267 [00:00<?, ?it/s]"
      ]
     },
     "metadata": {},
     "output_type": "display_data"
    },
    {
     "data": {
      "application/vnd.jupyter.widget-view+json": {
       "model_id": "35c487e1860a4f3f92f79ab49865ea8c",
       "version_major": 2,
       "version_minor": 0
      },
      "text/plain": [
       "Evaluating:   0%|          | 0/58 [00:00<?, ?it/s]"
      ]
     },
     "metadata": {},
     "output_type": "display_data"
    },
    {
     "name": "stdout",
     "output_type": "stream",
     "text": [
      "Train Loss: 0.0431 | Val Loss: 0.3610\n",
      "\n",
      "Epoch 50/50\n"
     ]
    },
    {
     "data": {
      "application/vnd.jupyter.widget-view+json": {
       "model_id": "4c75b57338e44063bd62bf7180b86d87",
       "version_major": 2,
       "version_minor": 0
      },
      "text/plain": [
       "Training:   0%|          | 0/267 [00:00<?, ?it/s]"
      ]
     },
     "metadata": {},
     "output_type": "display_data"
    },
    {
     "data": {
      "application/vnd.jupyter.widget-view+json": {
       "model_id": "f225fcd8624745b49a62d7ae0771536c",
       "version_major": 2,
       "version_minor": 0
      },
      "text/plain": [
       "Evaluating:   0%|          | 0/58 [00:00<?, ?it/s]"
      ]
     },
     "metadata": {},
     "output_type": "display_data"
    },
    {
     "name": "stdout",
     "output_type": "stream",
     "text": [
      "Train Loss: 0.0395 | Val Loss: 0.3903\n"
     ]
    },
    {
     "data": {
      "image/png": "[encoded data removed]",
      "text/plain": [
       "<Figure size 800x400 with 1 Axes>"
      ]
     },
     "metadata": {},
     "output_type": "display_data"
    },
    {
     "name": "stdout",
     "output_type": "stream",
     "text": [
      "Saved loss curve to loss_curve.png\n"
     ]
    }
   ],
   "source": [
    "model = Im2LatexModel(\n",
    "    vocab_size=len(token2idx),\n",
    "    d_model=256,\n",
    "    max_seq_len=max_seq_length\n",
    ").to(\"cuda\")\n",
    "\n",
    "fit(\n",
    "    model=model,\n",
    "    train_loader=train_loader,\n",
    "    val_loader=val_loader,\n",
    "    token2idx=token2idx,\n",
    "    epochs=50,\n",
    "    lr=1e-4,\n",
    "    device=\"cuda\"\n",
    ")"
   ]
  },
  {
   "cell_type": "code",
   "execution_count": 63,
   "id": "c4ab4f9e",
   "metadata": {},
   "outputs": [],
   "source": [
    "def beam_search_decode(model, image, token2idx, idx2token, beam_width=3, max_len=256, device=\"cuda\"):\n",
    "    model.eval()\n",
    "    \n",
    "    if not image.is_cuda:\n",
    "        image = image.to(device)\n",
    "    \n",
    "    with torch.no_grad():\n",
    "        memory = model.encoder(image.unsqueeze(0))  # [1, C, H, W]\n",
    "        memory = memory.expand(beam_width, *memory.shape[1:])  # [beam, C, H, W]\n",
    "\n",
    "        sequences = [[token2idx['<s>']] for _ in range(beam_width)]\n",
    "        scores = torch.zeros(beam_width, device=device)\n",
    "        completed = []\n",
    "\n",
    "        for step in range(max_len):\n",
    "            all_candidates = []\n",
    "            for i, seq in enumerate(sequences):\n",
    "                if len(seq) > 1 and seq[-1] == token2idx['</s>']:\n",
    "                    completed.append((seq, scores[i].item()))\n",
    "                    continue\n",
    "\n",
    "                tgt_input = torch.tensor(seq, dtype=torch.long, device=device).unsqueeze(0)\n",
    "                tgt_mask = generate_square_subsequent_mask(tgt_input.size(1)).to(device)\n",
    "                output = model.decoder(tgt_input, memory[i:i+1], tgt_mask)\n",
    "                probs = torch.log_softmax(output[0, -1], dim=-1)  # log-probs\n",
    "\n",
    "                topk_probs, topk_idx = torch.topk(probs, beam_width)\n",
    "                for j in range(beam_width):\n",
    "                    candidate = seq + [topk_idx[j].item()]\n",
    "                    score = scores[i] + topk_probs[j]\n",
    "                    all_candidates.append((candidate, score))\n",
    "\n",
    "            all_candidates = sorted(all_candidates, key=lambda x: x[1], reverse=True)[:beam_width]\n",
    "            sequences = [cand[0] for cand in all_candidates]\n",
    "            scores = torch.tensor([cand[1] for cand in all_candidates], device=device)\n",
    "\n",
    "        completed += list(zip(sequences, scores.tolist()))\n",
    "        completed = sorted(completed, key=lambda x: x[1], reverse=True)\n",
    "\n",
    "        best_seq = completed[0][0]\n",
    "        return [idx2token[idx] for idx in best_seq[1:-1] if idx in idx2token]\n"
   ]
  },
  {
   "cell_type": "code",
   "execution_count": null,
   "id": "80043422",
   "metadata": {},
   "outputs": [],
   "source": [
    "@torch.no_grad()\n",
    "def evaluate_model_with_beam(model, dataset, token2idx, idx2token, num_samples, beam_width=3, max_len=256, visualize=True):\n",
    "    model.eval()\n",
    "    correct = 0\n",
    "    total = 0\n",
    "\n",
    "    device = next(model.parameters()).device\n",
    "\n",
    "    def tokens_to_str(tokens):\n",
    "        return ''.join(t for t in tokens if t not in ['<s>', '</s>', '<pad>'])\n",
    "\n",
    "    for i in range(num_samples):\n",
    "        image, label = dataset[i]\n",
    "        image = image.to(device)  # 🛠 把图片也搬上GPU\n",
    "        \n",
    "        pred_tokens = beam_search_decode(model, image, token2idx, idx2token, beam_width, max_len, device=device)\n",
    "        true_tokens = [idx2token[idx.item()] for idx in label if idx.item() != token2idx['<pad>']]\n",
    "\n",
    "        pred_str = tokens_to_str(pred_tokens)\n",
    "        true_str = tokens_to_str(true_tokens)\n",
    "\n",
    "        match = pred_str == true_str\n",
    "        correct += int(match)\n",
    "        total += 1\n",
    "\n",
    "        if visualize:\n",
    "            fig, axes = plt.subplots(1, 2, figsize=(12, 3))\n",
    "            axes[0].imshow(image.permute(1, 2, 0).squeeze().cpu(), cmap='gray')\n",
    "            axes[0].set_title(\"Input Image\")\n",
    "            axes[0].axis(\"off\")\n",
    "\n",
    "            axes[1].text(0.5, 0.7, f\"GT: ${true_str}$\", ha='center', fontsize=12)\n",
    "            axes[1].text(0.5, 0.3, f\"Pred: ${pred_str}$\", ha='center', fontsize=12, color=('green' if match else 'red'))\n",
    "            axes[1].axis(\"off\")\n",
    "            plt.show()\n",
    "\n",
    "        if (i+1) % 100 == 0:\n",
    "            print(f\"Processed {i+1}/{num_samples} samples...\")\n",
    "\n",
    "    acc = correct / total\n",
    "    print(f\"\\nBeam Search Accuracy (exact match): {acc * 100:.2f}%\")\n",
    "    return acc\n"
   ]
  },
  {
   "cell_type": "code",
   "execution_count": 67,
   "id": "ddeb896e",
   "metadata": {},
   "outputs": [
    {
     "name": "stdout",
     "output_type": "stream",
     "text": [
      "Processed 100/1826 samples...\n",
      "Processed 200/1826 samples...\n",
      "Processed 300/1826 samples...\n",
      "Processed 400/1826 samples...\n",
      "Processed 500/1826 samples...\n",
      "Processed 600/1826 samples...\n",
      "Processed 700/1826 samples...\n",
      "Processed 800/1826 samples...\n",
      "Processed 900/1826 samples...\n",
      "Processed 1000/1826 samples...\n",
      "Processed 1100/1826 samples...\n",
      "Processed 1200/1826 samples...\n",
      "Processed 1300/1826 samples...\n",
      "Processed 1400/1826 samples...\n",
      "Processed 1500/1826 samples...\n",
      "Processed 1600/1826 samples...\n",
      "Processed 1700/1826 samples...\n",
      "Processed 1800/1826 samples...\n",
      "\n",
      "Beam Search Accuracy (exact match): 45.62%\n"
     ]
    },
    {
     "data": {
      "text/plain": [
       "0.45618838992332966"
      ]
     },
     "execution_count": 67,
     "metadata": {},
     "output_type": "execute_result"
    }
   ],
   "source": [
    "evaluate_model_with_beam(\n",
    "    model=model,\n",
    "    dataset=test_dataset,\n",
    "    token2idx=token2idx,\n",
    "    idx2token=idx2token,\n",
    "    num_samples=len(test_dataset),\n",
    "    beam_width=3,\n",
    "    visualize=False\n",
    ")"
   ]
  },
  {
   "cell_type": "code",
   "execution_count": null,
   "id": "7b6d64c4",
   "metadata": {},
   "outputs": [],
   "source": [
    "def evaluate_token_level_accuracy(model, dataset, token2idx, idx2token, num_samples=50, beam_width=3, max_len=256):\n",
    "    model.eval()\n",
    "    total_tokens = 0\n",
    "    correct_tokens = 0\n",
    "\n",
    "    device = next(model.parameters()).device\n",
    "    print(f\"Evaluating on device: {device}\")\n",
    "\n",
    "    def strip_tokens(tokens):\n",
    "        return [t for t in tokens if t not in ['<pad>', '<s>', '</s>']]\n",
    "\n",
    "    for i in range(num_samples):\n",
    "        image, label = dataset[i]\n",
    "        image = image.to(device)\n",
    "\n",
    "        pred_tokens = beam_search_decode(model, image, token2idx, idx2token, beam_width, max_len, device=device)\n",
    "        true_tokens = [idx2token[idx.item()] for idx in label]\n",
    "\n",
    "        pred = strip_tokens(pred_tokens)\n",
    "        true = strip_tokens(true_tokens)\n",
    "\n",
    "        for p, t in zip(pred, true):\n",
    "            total_tokens += 1\n",
    "            if p == t:\n",
    "                correct_tokens += 1\n",
    "\n",
    "        total_tokens += abs(len(pred) - len(true))\n",
    "\n",
    "        if (i+1) % 100 == 0:\n",
    "            print(f\"Processed {i+1}/{num_samples} samples...\")\n",
    "\n",
    "    accuracy = correct_tokens / total_tokens if total_tokens > 0 else 0.0\n",
    "    print(f\"Token-level accuracy: {accuracy * 100:.2f}%\")\n",
    "    return accuracy\n"
   ]
  },
  {
   "cell_type": "code",
   "execution_count": null,
   "id": "c21696c6",
   "metadata": {},
   "outputs": [
    {
     "name": "stdout",
     "output_type": "stream",
     "text": [
      "Evaluating on device: cuda:0\n",
      "Processed 100/1826 samples...\n",
      "Processed 200/1826 samples...\n",
      "Processed 300/1826 samples...\n",
      "Processed 400/1826 samples...\n",
      "Processed 500/1826 samples...\n",
      "Processed 600/1826 samples...\n",
      "Processed 700/1826 samples...\n",
      "Processed 800/1826 samples...\n",
      "Processed 900/1826 samples...\n",
      "Processed 1000/1826 samples...\n",
      "Processed 1100/1826 samples...\n",
      "Processed 1200/1826 samples...\n",
      "Processed 1300/1826 samples...\n",
      "Processed 1400/1826 samples...\n",
      "Processed 1500/1826 samples...\n",
      "Processed 1600/1826 samples...\n",
      "Processed 1700/1826 samples...\n",
      "Processed 1800/1826 samples...\n",
      "Token-level accuracy: 68.29%\n"
     ]
    }
   ],
   "source": [
    "accuracy = evaluate_token_level_accuracy(\n",
    "    model=model,\n",
    "    dataset=test_dataset,\n",
    "    token2idx=token2idx,\n",
    "    idx2token=idx2token,\n",
    "    num_samples=len(test_dataset),\n",
    "    beam_width=3\n",
    ")"
   ]
  },
  {
   "cell_type": "code",
   "execution_count": 68,
   "id": "47a8c050",
   "metadata": {},
   "outputs": [],
   "source": [
    "@torch.no_grad()\n",
    "def evaluate_edit_distance(model, dataset, token2idx, idx2token, num_samples=50, beam_width=3, max_len=256):\n",
    "    model.eval()\n",
    "    total_ned = 0.0\n",
    "    count = 0\n",
    "\n",
    "    device = next(model.parameters()).device\n",
    "\n",
    "    def strip_tokens(tokens):\n",
    "        return [t for t in tokens if t not in ['<pad>', '<s>', '</s>']]\n",
    "\n",
    "    for i in range(num_samples):\n",
    "        image, label = dataset[i]\n",
    "        image = image.to(device)\n",
    "\n",
    "        pred_tokens = beam_search_decode(model, image, token2idx, idx2token, beam_width, max_len, device=device)\n",
    "        true_tokens = [idx2token[idx.item()] for idx in label]\n",
    "\n",
    "        pred = strip_tokens(pred_tokens)\n",
    "        true = strip_tokens(true_tokens)\n",
    "\n",
    "        pred_str = ' '.join(pred)\n",
    "        true_str = ' '.join(true)\n",
    "\n",
    "        if len(true_str.strip()) == 0:\n",
    "            continue\n",
    "\n",
    "        lev_dist = Levenshtein.distance(pred_str, true_str)\n",
    "        max_len_str = max(len(pred_str), len(true_str))\n",
    "        ned = 1 - lev_dist / max_len_str\n",
    "        total_ned += ned\n",
    "        count += 1\n",
    "\n",
    "        if (i+1) % 100 == 0:\n",
    "            print(f\"Processed {i+1}/{num_samples} samples...\")\n",
    "\n",
    "    avg_ned = total_ned / count if count > 0 else 0.0\n",
    "    print(f\"Normalized Edit Distance (NED): {avg_ned * 100:.2f}%\")\n",
    "    return avg_ned\n"
   ]
  },
  {
   "cell_type": "code",
   "execution_count": 69,
   "id": "7589448f",
   "metadata": {},
   "outputs": [
    {
     "name": "stdout",
     "output_type": "stream",
     "text": [
      "Processed 100/1826 samples...\n",
      "Processed 200/1826 samples...\n",
      "Processed 300/1826 samples...\n",
      "Processed 400/1826 samples...\n",
      "Processed 500/1826 samples...\n",
      "Processed 600/1826 samples...\n",
      "Processed 700/1826 samples...\n",
      "Processed 800/1826 samples...\n",
      "Processed 900/1826 samples...\n",
      "Processed 1000/1826 samples...\n",
      "Processed 1100/1826 samples...\n",
      "Processed 1200/1826 samples...\n",
      "Processed 1300/1826 samples...\n",
      "Processed 1400/1826 samples...\n",
      "Processed 1500/1826 samples...\n",
      "Processed 1600/1826 samples...\n",
      "Processed 1700/1826 samples...\n",
      "Processed 1800/1826 samples...\n",
      "Normalized Edit Distance (NED): 86.82%\n"
     ]
    },
    {
     "data": {
      "text/plain": [
       "0.8682135826428554"
      ]
     },
     "execution_count": 69,
     "metadata": {},
     "output_type": "execute_result"
    }
   ],
   "source": [
    "evaluate_edit_distance(\n",
    "    model=model,\n",
    "    dataset=test_dataset,\n",
    "    token2idx=token2idx,\n",
    "    idx2token=idx2token,\n",
    "    num_samples=len(test_dataset),\n",
    "    beam_width=3\n",
    ")"
   ]
  },
  {
   "cell_type": "code",
   "execution_count": 72,
   "id": "fd3fe03a",
   "metadata": {},
   "outputs": [],
   "source": [
    "@torch.no_grad()\n",
    "def export_predictions_to_csv(model, dataset, token2idx, idx2token, beam_width=3, max_len=256, num_samples=100, output_file=\"prediction_results.csv\"):\n",
    "    model.eval()\n",
    "    results = []\n",
    "\n",
    "    device = next(model.parameters()).device\n",
    "\n",
    "    def strip_tokens(tokens):\n",
    "        return [t for t in tokens if t not in ['<pad>', '<s>', '</s>']]\n",
    "\n",
    "    for i in range(num_samples):\n",
    "        image, label = dataset[i]\n",
    "        image = image.to(device)\n",
    "\n",
    "        pred_tokens = beam_search_decode(model, image, token2idx, idx2token, beam_width, max_len, device=device)\n",
    "        true_tokens = [idx2token[idx.item()] for idx in label]\n",
    "\n",
    "        pred = strip_tokens(pred_tokens)\n",
    "        true = strip_tokens(true_tokens)\n",
    "\n",
    "        pred_str = ' '.join(pred)\n",
    "        true_str = ' '.join(true)\n",
    "\n",
    "        sentence_match = pred == true\n",
    "\n",
    "        if len(true) > 0:\n",
    "            match_count = sum(p == t for p, t in zip(pred, true))\n",
    "            token_accuracy = match_count / len(true)\n",
    "        else:\n",
    "            token_accuracy = 0.0\n",
    "\n",
    "        if len(true_str.strip()) > 0:\n",
    "            lev = Levenshtein.distance(pred_str, true_str)\n",
    "            ned = 1 - lev / max(len(pred_str), len(true_str))\n",
    "        else:\n",
    "            ned = 0.0\n",
    "\n",
    "        results.append({\n",
    "            \"index\": i,\n",
    "            \"true_latex\": true_str,\n",
    "            \"pred_latex\": pred_str,\n",
    "            \"sentence_match\": sentence_match,\n",
    "            \"token_accuracy(%)\": round(token_accuracy * 100, 2),\n",
    "            \"normalized_edit_distance(%)\": round(ned * 100, 2)\n",
    "        })\n",
    "\n",
    "        if (i+1) % 100 == 0:\n",
    "            print(f\"Processed {i+1}/{num_samples} samples...\")\n",
    "\n",
    "    df = pd.DataFrame(results)\n",
    "    df.to_csv(output_file, index=False)\n",
    "    print(f\"Saved prediction results to: {output_file}\")\n",
    "    return df\n"
   ]
  },
  {
   "cell_type": "code",
   "execution_count": 73,
   "id": "2d25204a",
   "metadata": {},
   "outputs": [
    {
     "name": "stdout",
     "output_type": "stream",
     "text": [
      "Processed 100/1826 samples...\n",
      "Processed 200/1826 samples...\n",
      "Processed 300/1826 samples...\n",
      "Processed 400/1826 samples...\n",
      "Processed 500/1826 samples...\n",
      "Processed 600/1826 samples...\n",
      "Processed 700/1826 samples...\n",
      "Processed 800/1826 samples...\n",
      "Processed 900/1826 samples...\n",
      "Processed 1000/1826 samples...\n",
      "Processed 1100/1826 samples...\n",
      "Processed 1200/1826 samples...\n",
      "Processed 1300/1826 samples...\n",
      "Processed 1400/1826 samples...\n",
      "Processed 1500/1826 samples...\n",
      "Processed 1600/1826 samples...\n",
      "Processed 1700/1826 samples...\n",
      "Processed 1800/1826 samples...\n",
      "Saved prediction results to: latex_predictions.csv\n"
     ]
    }
   ],
   "source": [
    "df_results = export_predictions_to_csv(\n",
    "    model=model,\n",
    "    dataset=test_dataset,\n",
    "    token2idx=token2idx,\n",
    "    idx2token=idx2token,\n",
    "    beam_width=3,\n",
    "    num_samples=len(test_dataset),\n",
    "    output_file=\"latex_predictions.csv\"\n",
    ")"
   ]
  },
  {
   "cell_type": "code",
   "execution_count": 77,
   "id": "c5aef2c5",
   "metadata": {},
   "outputs": [],
   "source": [
    "def render_prediction_comparison(image_tensor, true_latex, pred_latex):\n",
    "    plt.figure(figsize=(12, 4))\n",
    "    gs = gridspec.GridSpec(1, 3, width_ratios=[1, 1, 1])\n",
    "\n",
    "    # 图像\n",
    "    ax0 = plt.subplot(gs[0])\n",
    "    ax0.imshow(image_tensor.permute(1, 2, 0).squeeze(), cmap='gray')\n",
    "    ax0.set_title(\"Input Image\")\n",
    "    ax0.axis(\"off\")\n",
    "\n",
    "    # GT LaTeX\n",
    "    ax1 = plt.subplot(gs[1])\n",
    "    ax1.text(0.5, 0.5, f\"${true_latex}$\", fontsize=18, ha='center', va='center')\n",
    "    ax1.set_title(\"Ground Truth\")\n",
    "    ax1.axis(\"off\")\n",
    "\n",
    "    # Prediction LaTeX\n",
    "    ax2 = plt.subplot(gs[2])\n",
    "    ax2.text(0.5, 0.5, f\"${pred_latex}$\", fontsize=18, ha='center', va='center')\n",
    "    ax2.set_title(\"Prediction\")\n",
    "    ax2.axis(\"off\")\n",
    "\n",
    "    plt.tight_layout()\n",
    "    plt.show()"
   ]
  },
  {
   "cell_type": "code",
   "execution_count": 79,
   "id": "ba6889bf",
   "metadata": {},
   "outputs": [
    {
     "data": {
      "image/png": "[encoded data removed]",
      "text/plain": [
       "<Figure size 1200x400 with 3 Axes>"
      ]
     },
     "metadata": {},
     "output_type": "display_data"
    }
   ],
   "source": [
    "# 选择一个样本，比如第 7 个\n",
    "index = 7\n",
    "image, label = test_dataset[index]\n",
    "\n",
    "# 预测\n",
    "pred_tokens = beam_search_decode(model, image, token2idx, idx2token, beam_width=3)\n",
    "true_tokens = [idx2token[idx.item()] for idx in label]\n",
    "\n",
    "# 去除特殊符号\n",
    "def clean(toks): return ''.join(t for t in toks if t not in ['<s>', '</s>', '<pad>'])\n",
    "true_str = clean(true_tokens)\n",
    "pred_str = clean(pred_tokens)\n",
    "\n",
    "# 渲染对比图\n",
    "render_prediction_comparison(image, true_str, pred_str)\n"
   ]
  },
  {
   "cell_type": "code",
   "execution_count": 88,
   "id": "280cee5c",
   "metadata": {},
   "outputs": [],
   "source": [
    "@torch.no_grad()\n",
    "def build_confusion_matrix_gpu(model, dataset, token2idx, idx2token,\n",
    "                                num_samples=200, beam_width=3, max_len=256, top_k_tokens=30):\n",
    "    model.eval()\n",
    "    true_labels = []\n",
    "    pred_labels = []\n",
    "\n",
    "    device = next(model.parameters()).device\n",
    "\n",
    "    def strip(tokens):\n",
    "        return [t for t in tokens if t not in ['<pad>', '<s>', '</s>']]\n",
    "\n",
    "    for i in range(num_samples):\n",
    "        image, label = dataset[i]\n",
    "        image = image.to(device)  # 🔥 图片搬到GPU\n",
    "\n",
    "        pred_tokens = beam_search_decode(model, image, token2idx, idx2token, beam_width, max_len, device=device)\n",
    "        true_tokens = [idx2token[idx.item()] for idx in label]\n",
    "\n",
    "        pred = strip(pred_tokens)\n",
    "        true = strip(true_tokens)\n",
    "\n",
    "        min_len = min(len(pred), len(true))\n",
    "        true_labels.extend(true[:min_len])\n",
    "        pred_labels.extend(pred[:min_len])\n",
    "\n",
    "        if (i+1) % 100 == 0:\n",
    "            print(f\"Processed {i+1}/{num_samples} samples...\")\n",
    "\n",
    "    # 统计 Top-K token\n",
    "    all_tokens = Counter(true_labels + pred_labels)\n",
    "    most_common = [tok for tok, _ in all_tokens.most_common(top_k_tokens)]\n",
    "    most_common_set = set(most_common)\n",
    "\n",
    "    def map_tok(tok):\n",
    "        return tok if tok in most_common_set else 'other'\n",
    "\n",
    "    mapped_true = [map_tok(tok) for tok in true_labels]\n",
    "    mapped_pred = [map_tok(tok) for tok in pred_labels]\n",
    "\n",
    "    labels_sorted = sorted(set(mapped_true + mapped_pred))\n",
    "\n",
    "    cm = confusion_matrix(mapped_true, mapped_pred, labels=labels_sorted)\n",
    "\n",
    "    # 绘制混淆矩阵\n",
    "    plt.figure(figsize=(12, 10))\n",
    "    sns.heatmap(cm, annot=True, fmt=\"d\", cmap=\"Blues\",\n",
    "                xticklabels=labels_sorted, yticklabels=labels_sorted)\n",
    "    plt.xlabel(\"Predicted Token\")\n",
    "    plt.ylabel(\"Ground Truth Token\")\n",
    "    plt.title(f\"Confusion Matrix (Top {top_k_tokens} Tokens + 'other')\")\n",
    "    plt.tight_layout()\n",
    "    plt.show()\n",
    "\n",
    "    return cm, labels_sorted, true_labels, pred_labels\n"
   ]
  },
  {
   "cell_type": "code",
   "execution_count": 89,
   "id": "4388c883",
   "metadata": {},
   "outputs": [],
   "source": [
    "def analyze_top_confusions(true_labels, pred_labels, top_k=10):\n",
    "    \"\"\"\n",
    "    分析最常见的混淆对\n",
    "    \"\"\"\n",
    "    assert len(true_labels) == len(pred_labels)\n",
    "\n",
    "    confusions = Counter()\n",
    "\n",
    "    for t, p in zip(true_labels, pred_labels):\n",
    "        if t != p:\n",
    "            confusions[(t, p)] += 1\n",
    "\n",
    "    most_common_confusions = confusions.most_common(top_k)\n",
    "\n",
    "    print(f\"\\nTop-{top_k} Most Common Confusions:\")\n",
    "    for (true_tok, pred_tok), count in most_common_confusions:\n",
    "        print(f\"  '{true_tok}' → '{pred_tok}' : {count} times\")\n",
    "\n",
    "    return most_common_confusions\n"
   ]
  },
  {
   "cell_type": "code",
   "execution_count": null,
   "id": "65041084",
   "metadata": {},
   "outputs": [
    {
     "name": "stdout",
     "output_type": "stream",
     "text": [
      "Processed 100/1826 samples...\n",
      "Processed 200/1826 samples...\n",
      "Processed 300/1826 samples...\n",
      "Processed 400/1826 samples...\n",
      "Processed 500/1826 samples...\n",
      "Processed 600/1826 samples...\n",
      "Processed 700/1826 samples...\n",
      "Processed 800/1826 samples...\n",
      "Processed 900/1826 samples...\n",
      "Processed 1000/1826 samples...\n",
      "Processed 1100/1826 samples...\n",
      "Processed 1200/1826 samples...\n",
      "Processed 1300/1826 samples...\n",
      "Processed 1400/1826 samples...\n",
      "Processed 1500/1826 samples...\n",
      "Processed 1600/1826 samples...\n",
      "Processed 1700/1826 samples...\n",
      "Processed 1800/1826 samples...\n"
     ]
    },
    {
     "data": {
      "image/png": "[encoded data removed]",
      "text/plain": [
       "<Figure size 1200x1000 with 2 Axes>"
      ]
     },
     "metadata": {},
     "output_type": "display_data"
    },
    {
     "name": "stdout",
     "output_type": "stream",
     "text": [
      "\n",
      "Top-15 Most Common Confusions:\n",
      "  '}' → '{' : 191 times\n",
      "  '{' → '}' : 190 times\n",
      "  '}' → ' ' : 82 times\n",
      "  ' ' → '{' : 82 times\n",
      "  '^' → '{' : 79 times\n",
      "  ' ' → '}' : 76 times\n",
      "  '{' → '^' : 71 times\n",
      "  '2' → '}' : 68 times\n",
      "  '{' → '2' : 65 times\n",
      "  '{' → ' ' : 62 times\n",
      "  '}' → '2' : 58 times\n",
      "  '1' → '}' : 56 times\n",
      "  '_' → '{' : 55 times\n",
      "  '2' → '{' : 51 times\n",
      "  '^' → '}' : 50 times\n"
     ]
    }
   ],
   "source": [
    "cm, labels_sorted, true_labels, pred_labels = build_confusion_matrix_gpu(\n",
    "    model=model,\n",
    "    dataset=test_dataset,\n",
    "    token2idx=token2idx,\n",
    "    idx2token=idx2token,\n",
    "    num_samples=len(test_dataset),\n",
    "    beam_width=3,\n",
    "    max_len=256,\n",
    "    top_k_tokens=30\n",
    ")\n",
    "\n",
    "top_confusions = analyze_top_confusions(true_labels, pred_labels, top_k=15)"
   ]
  }
 ],
 "metadata": {
  "kernelspec": {
   "display_name": ".venv",
   "language": "python",
   "name": "python3"
  },
  "language_info": {
   "codemirror_mode": {
    "name": "ipython",
    "version": 3
   },
   "file_extension": ".py",
   "mimetype": "text/x-python",
   "name": "python",
   "nbconvert_exporter": "python",
   "pygments_lexer": "ipython3",
   "version": "3.9.13"
  }
 },
 "nbformat": 4,
 "nbformat_minor": 5
}
