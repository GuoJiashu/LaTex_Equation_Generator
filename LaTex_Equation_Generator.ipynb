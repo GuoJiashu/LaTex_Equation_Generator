{
 "cells": [
  {
   "cell_type": "code",
   "execution_count": 47,
   "id": "dc5c004b",
   "metadata": {},
   "outputs": [],
   "source": [
    "import os\n",
    "import math\n",
    "import numpy as np\n",
    "import pandas as pd\n",
    "import matplotlib.pyplot as plt\n",
    "from tqdm.notebook import tqdm\n",
    "from PIL import Image, ImageOps\n",
    "import re\n",
    "import pickle\n",
    "import random\n",
    "import Levenshtein\n",
    "import seaborn as sns\n",
    "from sklearn.metrics import confusion_matrix\n",
    "\n",
    "import torch\n",
    "import torch.nn as nn\n",
    "from torch.utils.data import Dataset, DataLoader\n",
    "from torchvision.models import resnet18\n",
    "from sklearn.model_selection import train_test_split\n",
    "from collections import Counter\n",
    "from torch.utils.tensorboard import SummaryWriter\n",
    "from matplotlib import gridspec"
   ]
  },
  {
   "cell_type": "code",
   "execution_count": 2,
   "id": "0a465e4a",
   "metadata": {},
   "outputs": [],
   "source": [
    "data_dir = r\"C:\\Users\\13658\\Desktop\\LaTex_Code_Generator\"\n",
    "handwritten_equations = os.path.join(data_dir, \"Handwritten_equations\")\n",
    "json_dict = os.path.join(data_dir, \"char_dict.json\")\n",
    "csv_file = os.path.join(data_dir, \"caption_data.csv\")"
   ]
  },
  {
   "cell_type": "code",
   "execution_count": 3,
   "id": "5e51cbd2",
   "metadata": {},
   "outputs": [],
   "source": [
    "def smart_clean_latex(code):\n",
    "    preserved = re.findall(r'(\\\\[a-zA-Z]+)\\s+', code)\n",
    "    for cmd in preserved:\n",
    "        code = code.replace(cmd + ' ', f'{cmd}<<<SPACE>>>')\n",
    "    code = code.replace(' ', '')\n",
    "    code = code.replace('<<<SPACE>>>', ' ')\n",
    "    return code\n",
    "\n",
    "csv_data = pd.read_csv(csv_file)\n",
    "latex_codes_raw = csv_data['Column2'].values.tolist()\n",
    "latex_codes = [smart_clean_latex(code) for code in latex_codes_raw]\n",
    "image_names = csv_data['Column1'].values.tolist()"
   ]
  },
  {
   "cell_type": "code",
   "execution_count": 4,
   "id": "bbaa51fc",
   "metadata": {},
   "outputs": [
    {
     "name": "stdout",
     "output_type": "stream",
     "text": [
      "Dic Length: 113\n",
      "Maximum Sequence: 224\n"
     ]
    }
   ],
   "source": [
    "command_tokens = set()\n",
    "for code in latex_codes:\n",
    "    i = 0\n",
    "    while i < len(code):\n",
    "        if code[i] == '\\\\':\n",
    "            j = i + 1\n",
    "            while j < len(code) and code[j].isalpha():\n",
    "                j += 1\n",
    "            command_tokens.add(code[i:j])\n",
    "            i = j\n",
    "        else:\n",
    "            i += 1\n",
    "\n",
    "def mixed_tokenize_latex(code, command_set):\n",
    "    tokens = []\n",
    "    i = 0\n",
    "    while i < len(code):\n",
    "        if code[i] == '\\\\':\n",
    "            j = i + 1\n",
    "            while j < len(code) and code[j].isalpha():\n",
    "                j += 1\n",
    "            cmd = code[i:j]\n",
    "            if cmd in command_set:\n",
    "                tokens.append(cmd)\n",
    "                i = j\n",
    "                continue\n",
    "        tokens.append(code[i])\n",
    "        i += 1\n",
    "    return tokens\n",
    "\n",
    "token_counter = Counter()\n",
    "for code in latex_codes:\n",
    "    tokens = mixed_tokenize_latex(code, command_tokens)\n",
    "    token_counter.update(tokens)\n",
    "\n",
    "special_tokens = ['<pad>', '<s>', '</s>']\n",
    "token_list = special_tokens + sorted(token_counter.keys())\n",
    "\n",
    "token2idx = {token: idx for idx, token in enumerate(token_list)}\n",
    "idx2token = {idx: token for token, idx in token2idx.items()}\n",
    "vocab_size = len(token2idx)\n",
    "\n",
    "def encode_label_mixed(code, token2idx, command_set, max_len):\n",
    "    tokens = ['<s>'] + mixed_tokenize_latex(code, command_set)[:max_len - 2] + ['</s>']\n",
    "    label = np.zeros(max_len, dtype=np.int32)\n",
    "    for t, token in enumerate(tokens):\n",
    "        label[t] = token2idx.get(token, 0)\n",
    "    return label\n",
    "\n",
    "max_seq_length = max(len(mixed_tokenize_latex(code, command_tokens)) for code in latex_codes) + 2\n",
    "print(f\"Dic Length: {vocab_size}\")\n",
    "print(f\"Maximum Sequence: {max_seq_length}\")"
   ]
  },
  {
   "cell_type": "code",
   "execution_count": 5,
   "id": "e1cf3dbd",
   "metadata": {},
   "outputs": [],
   "source": [
    "def preprocess_image(image_path, target_size=(464, 85)):\n",
    "    img = Image.open(image_path).convert('L')\n",
    "    img.thumbnail(target_size, Image.Resampling.LANCZOS)\n",
    "\n",
    "    delta_w = target_size[0] - img.size[0]\n",
    "    delta_h = target_size[1] - img.size[1]\n",
    "    padding = (delta_w // 2, delta_h // 2, delta_w - delta_w // 2, delta_h - delta_h // 2)\n",
    "    img = ImageOps.expand(img, padding, fill=255)\n",
    "\n",
    "    img_array = np.array(img, dtype=np.float32) / 255.0\n",
    "    img_array = np.expand_dims(img_array, axis=0)\n",
    "    img_array = np.repeat(img_array, 3, axis=0)\n",
    "    return torch.from_numpy(img_array).float()\n",
    "\n",
    "\n",
    "\n",
    "class LatexDataset(Dataset):\n",
    "    def __init__(self, image_dir, image_names, latex_codes, max_len):\n",
    "        self.image_dir = image_dir\n",
    "        self.image_names = image_names\n",
    "        self.latex_codes = latex_codes\n",
    "        self.max_len = max_len\n",
    "\n",
    "    def __len__(self):\n",
    "        return len(self.image_names)\n",
    "\n",
    "    def __getitem__(self, idx):\n",
    "        img_path = os.path.join(self.image_dir, f\"{self.image_names[idx]}.bmp\")\n",
    "        img = preprocess_image(img_path)\n",
    "        label = encode_label_mixed(self.latex_codes[idx], token2idx, command_tokens, self.max_len)\n",
    "        label_tensor = torch.tensor(label, dtype=torch.long)\n",
    "        return img, label_tensor\n",
    "\n",
    "\n",
    "def collate_fn(batch):\n",
    "    images, labels = zip(*batch)\n",
    "    images = torch.stack(images)\n",
    "    labels = torch.nn.utils.rnn.pad_sequence(labels, batch_first=True, padding_value=0)\n",
    "    return images, labels, [len(l) for l in labels]\n",
    "\n",
    "train_imgs, val_imgs, train_codes, val_codes = train_test_split(\n",
    "    image_names, latex_codes, test_size=0.3, random_state=42)\n",
    "\n",
    "train_dataset = LatexDataset(handwritten_equations, train_imgs, train_codes, max_seq_length)\n",
    "val_dataset = LatexDataset(handwritten_equations, val_imgs, val_codes, max_seq_length)\n",
    "\n",
    "train_loader = DataLoader(train_dataset, batch_size=32, shuffle=True, collate_fn=collate_fn)\n",
    "val_loader = DataLoader(val_dataset, batch_size=32, shuffle=False, collate_fn=collate_fn)"
   ]
  },
  {
   "cell_type": "code",
   "execution_count": 6,
   "id": "52fec02e",
   "metadata": {},
   "outputs": [
    {
     "name": "stdout",
     "output_type": "stream",
     "text": [
      "token2idx/idx2token stored in C:\\Users\\13658\\Desktop\\LaTex_Code_Generator\\token_dicts\n"
     ]
    },
    {
     "data": {
      "image/png": "[encoded data removed]",
      "text/plain": [
       "<Figure size 800x400 with 1 Axes>"
      ]
     },
     "metadata": {},
     "output_type": "display_data"
    }
   ],
   "source": [
    "dict_dir = os.path.join(data_dir, \"token_dicts\")\n",
    "os.makedirs(dict_dir, exist_ok=True)\n",
    "\n",
    "with open(os.path.join(dict_dir, \"token2idx.pkl\"), \"wb\") as f:\n",
    "    pickle.dump(token2idx, f)\n",
    "\n",
    "with open(os.path.join(dict_dir, \"idx2token.pkl\"), \"wb\") as f:\n",
    "    pickle.dump(idx2token, f)\n",
    "\n",
    "print(f\"token2idx/idx2token stored in {dict_dir}\")\n",
    "\n",
    "seq_lens = [len(mixed_tokenize_latex(code, command_tokens)) for code in latex_codes]\n",
    "plt.figure(figsize=(8, 4))\n",
    "plt.hist(seq_lens, bins=40, color='skyblue', edgecolor='black')\n",
    "plt.axvline(max_seq_length - 2, color='red', linestyle='--', label='max_seq_length (without <s>, </s>)')\n",
    "plt.title(\"LaTeX Sequence Length Distribution\")\n",
    "plt.xlabel(\"Token Count\")\n",
    "plt.ylabel(\"Sample Count\")\n",
    "plt.legend()\n",
    "plt.grid(True)\n",
    "plt.tight_layout()\n",
    "plt.show()"
   ]
  },
  {
   "cell_type": "code",
   "execution_count": 7,
   "id": "e94ebac3",
   "metadata": {},
   "outputs": [
    {
     "name": "stdout",
     "output_type": "stream",
     "text": [
      "Figure shape: torch.Size([3, 85, 464])\n",
      "Label shape: torch.Size([224])\n"
     ]
    },
    {
     "data": {
      "image/png": "[encoded data removed]",
      "text/plain": [
       "<Figure size 640x480 with 1 Axes>"
      ]
     },
     "metadata": {},
     "output_type": "display_data"
    }
   ],
   "source": [
    "idx = random.randint(0, len(train_dataset) - 1)\n",
    "img_tensor, label_tensor = train_dataset[idx]\n",
    "\n",
    "print(f\"Figure shape: {img_tensor.shape}\")\n",
    "print(f\"Label shape: {label_tensor.shape}\")\n",
    "\n",
    "plt.imshow(img_tensor.permute(1, 2, 0).numpy(), cmap='gray')\n",
    "plt.title(\"Preprocessed Image\")\n",
    "plt.axis(\"off\")\n",
    "plt.show()"
   ]
  },
  {
   "cell_type": "code",
   "execution_count": 8,
   "id": "70fc9a1f",
   "metadata": {},
   "outputs": [
    {
     "name": "stdout",
     "output_type": "stream",
     "text": [
      "\n",
      "Sample 1\n",
      "Token Length: 42\n",
      "Restore the LaTeX expression:\n",
      "| \\int   \\limits   _ { a } ^ { b } f ( x ) d x | \\leq   \\int   \\limits   _ { a } ^ { b } | f ( x ) | d x\n",
      "\n",
      "Sample 2\n",
      "Token Length: 13\n",
      "Restore the LaTeX expression:\n",
      "e ^ { \\int   x ^ { 2 } d x }\n",
      "\n",
      "Sample 3\n",
      "Token Length: 14\n",
      "Restore the LaTeX expression:\n",
      "M = \\sqrt   { \\frac   { 2 } { c } }\n",
      "\n",
      "Sample 4\n",
      "Token Length: 4\n",
      "Restore the LaTeX expression:\n",
      "3 \\ldots   9\n",
      "\n",
      "Sample 5\n",
      "Token Length: 97\n",
      "Restore the LaTeX expression:\n",
      "\\frac   { T _ { H } ^ { \\frac   { f } { 2 } } V _ { 2 } } { T _ { H } ^ { \\frac   { f } { 2 } } V _ { 1 } } = \\frac   { T _ { C } ^ { \\frac   { f } { 2 } } V _ { 3 } } { T _ { C } ^ { \\frac   { f } { 2 } } V _ { 4 } }\n"
     ]
    }
   ],
   "source": [
    "sample_indices = random.sample(range(len(train_dataset)), 5)\n",
    "\n",
    "for i, idx in enumerate(sample_indices, 1):\n",
    "    img_tensor, label_tensor = train_dataset[idx]\n",
    "    \n",
    "    tokens = [idx2token[idx.item()] for idx in label_tensor \n",
    "              if idx.item() not in (token2idx['<pad>'], token2idx['<s>'], token2idx['</s>'])]\n",
    "    decoded_latex = ' '.join(tokens)\n",
    "\n",
    "    print(f\"\\nSample {i}\")\n",
    "    print(\"Token Length:\", len(tokens))\n",
    "    print(\"Restore the LaTeX expression:\")\n",
    "    print(decoded_latex)"
   ]
  },
  {
   "cell_type": "code",
   "execution_count": 9,
   "id": "65dadb30",
   "metadata": {},
   "outputs": [
    {
     "name": "stdout",
     "output_type": "stream",
     "text": [
      "Original Lable:\n",
      "x _ { 1 } + x _ { 2 } = x _ { 3 }\n",
      "\n",
      "Washed:\n",
      "x_{1}+x_{2}=x_{3}\n",
      "\n",
      "Encoded:\n",
      "[  1 107  83 110  14 112   8 107  83 110  15 112  24 107  83 110  16 112\n",
      "   2   0   0   0   0   0   0   0   0   0   0   0   0   0   0   0   0   0\n",
      "   0   0   0   0   0   0   0   0   0   0   0   0   0   0   0   0   0   0\n",
      "   0   0   0   0   0   0   0   0   0   0   0   0   0   0   0   0   0   0\n",
      "   0   0   0   0   0   0   0   0   0   0   0   0   0   0   0   0   0   0\n",
      "   0   0   0   0   0   0   0   0   0   0   0   0   0   0   0   0   0   0\n",
      "   0   0   0   0   0   0   0   0   0   0   0   0   0   0   0   0   0   0\n",
      "   0   0   0   0   0   0   0   0   0   0   0   0   0   0   0   0   0   0\n",
      "   0   0   0   0   0   0   0   0   0   0   0   0   0   0   0   0   0   0\n",
      "   0   0   0   0   0   0   0   0   0   0   0   0   0   0   0   0   0   0\n",
      "   0   0   0   0   0   0   0   0   0   0   0   0   0   0   0   0   0   0\n",
      "   0   0   0   0   0   0   0   0   0   0   0   0   0   0   0   0   0   0\n",
      "   0   0   0   0   0   0   0   0]\n",
      "\n",
      "Decoded:\n",
      "x_{1}+x_{2}=x_{3}\n"
     ]
    }
   ],
   "source": [
    "sample_idx = random.randint(0, len(latex_codes_raw) - 1)\n",
    "raw = latex_codes_raw[sample_idx]\n",
    "cleaned = smart_clean_latex(raw)\n",
    "encoded = encode_label_mixed(cleaned, token2idx, command_tokens, max_seq_length)\n",
    "\n",
    "tokens = [idx2token[i] for i in encoded if i not in (token2idx['<pad>'], token2idx['<s>'], token2idx['</s>'])]\n",
    "decoded = ''.join(tokens)\n",
    "\n",
    "print(\"Original Lable:\")\n",
    "print(raw)\n",
    "print(\"\\nWashed:\")\n",
    "print(cleaned)\n",
    "print(\"\\nEncoded:\")\n",
    "print(encoded)\n",
    "print(\"\\nDecoded:\")\n",
    "print(decoded)"
   ]
  },
  {
   "cell_type": "code",
   "execution_count": 10,
   "id": "ac077749",
   "metadata": {},
   "outputs": [
    {
     "name": "stdout",
     "output_type": "stream",
     "text": [
      "Batch figure shape: torch.Size([32, 3, 85, 464])\n",
      "Batch label shape: torch.Size([32, 224])\n",
      "Label Length (first 5): [224, 224, 224, 224, 224]\n"
     ]
    }
   ],
   "source": [
    "batch = next(iter(train_loader))\n",
    "imgs, labels, lengths = batch\n",
    "\n",
    "print(f\"Batch figure shape: {imgs.shape}\")\n",
    "print(f\"Batch label shape: {labels.shape}\")\n",
    "print(f\"Label Length (first 5): {lengths[:5]}\")"
   ]
  },
  {
   "cell_type": "code",
   "execution_count": null,
   "id": "caaead69",
   "metadata": {},
   "outputs": [],
   "source": [
    "class PositionalEncoding2D(nn.Module):\n",
    "    def __init__(self, d_model, height, width):\n",
    "        super().__init__()\n",
    "        if d_model % 4 != 0:\n",
    "            raise ValueError(\"d_model must be divisible by 4\")\n",
    "\n",
    "        self.d_model = d_model\n",
    "        self.height = height\n",
    "        self.width = width\n",
    "\n",
    "        pe = torch.zeros(d_model, height, width)\n",
    "\n",
    "        d_model_half = d_model // 2\n",
    "        div_term = torch.exp(torch.arange(0., d_model_half, 2) * -(math.log(10000.0) / d_model_half))\n",
    "\n",
    "        pos_w = torch.arange(0., width).unsqueeze(1)  # [W, 1]\n",
    "        pos_h = torch.arange(0., height).unsqueeze(1)  # [H, 1]\n",
    "\n",
    "        pe[0:d_model_half:2, :, :] = torch.sin(pos_w * div_term).T.unsqueeze(1).repeat(1, height, 1)\n",
    "        pe[1:d_model_half:2, :, :] = torch.cos(pos_w * div_term).T.unsqueeze(1).repeat(1, height, 1)\n",
    "\n",
    "        pe[d_model_half::2, :, :] = torch.sin(pos_h * div_term).T.unsqueeze(2).repeat(1, 1, width)\n",
    "        pe[d_model_half+1::2, :, :] = torch.cos(pos_h * div_term).T.unsqueeze(2).repeat(1, 1, width)\n",
    "\n",
    "        self.register_buffer('pe', pe.unsqueeze(0))\n",
    "\n",
    "    def forward(self, x):\n",
    "        return x + self.pe[:, :, :x.size(2), :x.size(3)]\n",
    "\n",
    "\n",
    "\n",
    "class Encoder(nn.Module):\n",
    "    def __init__(self, d_model=256):\n",
    "        super().__init__()\n",
    "        base_cnn = resnet18(pretrained=True)\n",
    "        self.backbone = nn.Sequential(*list(base_cnn.children())[:6])\n",
    "\n",
    "        self.project = nn.Conv2d(128, d_model, kernel_size=1)\n",
    "        self.row_encoder = nn.LSTM(input_size=d_model,\n",
    "                                   hidden_size=d_model // 2,\n",
    "                                   batch_first=True,\n",
    "                                   bidirectional=True)\n",
    "\n",
    "        self.pe = None\n",
    "\n",
    "    def forward(self, x):\n",
    "        feat = self.backbone(x)\n",
    "        feat = self.project(feat)\n",
    "        B, C, H, W = feat.shape\n",
    "\n",
    "        if self.pe is None:\n",
    "            self.pe = PositionalEncoding2D(C, H, W).to(x.device)\n",
    "        feat = self.pe(feat)\n",
    "\n",
    "        feat = feat.permute(0, 2, 3, 1).contiguous()\n",
    "        feat = feat.view(B * H, W, C)\n",
    "        feat, _ = self.row_encoder(feat)\n",
    "        feat = feat.view(B, H, W, C)\n",
    "\n",
    "        return feat"
   ]
  },
  {
   "cell_type": "code",
   "execution_count": null,
   "id": "aee69737",
   "metadata": {},
   "outputs": [
    {
     "name": "stderr",
     "output_type": "stream",
     "text": [
      "c:\\Users\\13658\\Desktop\\LaTex_Code_Generator\\.venv\\lib\\site-packages\\torchvision\\models\\_utils.py:208: UserWarning: The parameter 'pretrained' is deprecated since 0.13 and may be removed in the future, please use 'weights' instead.\n",
      "  warnings.warn(\n",
      "c:\\Users\\13658\\Desktop\\LaTex_Code_Generator\\.venv\\lib\\site-packages\\torchvision\\models\\_utils.py:223: UserWarning: Arguments other than a weight enum or `None` for 'weights' are deprecated since 0.13 and may be removed in the future. The current behavior is equivalent to passing `weights=ResNet18_Weights.IMAGENET1K_V1`. You can also use `weights=ResNet18_Weights.DEFAULT` to get the most up-to-date weights.\n",
      "  warnings.warn(msg)\n"
     ]
    },
    {
     "name": "stdout",
     "output_type": "stream",
     "text": [
      "Encoder Output: torch.Size([32, 11, 58, 256])\n"
     ]
    }
   ],
   "source": [
    "images, _, _ = next(iter(train_loader))\n",
    "images = images.cuda()\n",
    "\n",
    "encoder = Encoder(d_model=256).cuda()\n",
    "\n",
    "features = encoder(images)\n",
    "\n",
    "print(\"Encoder Output:\", features.shape)"
   ]
  },
  {
   "cell_type": "code",
   "execution_count": 13,
   "id": "db0b7467",
   "metadata": {},
   "outputs": [],
   "source": [
    "class VisualCNN(nn.Module):\n",
    "    def __init__(self):\n",
    "        super().__init__()\n",
    "        base = resnet18(pretrained=True)\n",
    "        self.stages = nn.ModuleList([\n",
    "            nn.Sequential(base.conv1, base.bn1, base.relu),  # stage 0\n",
    "            base.maxpool,                                    # stage 1\n",
    "            base.layer1,                                     # stage 2\n",
    "            base.layer2,                                     # stage 3\n",
    "            base.layer3                                      # stage 4\n",
    "        ])\n",
    "\n",
    "    def forward(self, x):\n",
    "        outputs = []\n",
    "        for stage in self.stages:\n",
    "            x = stage(x)\n",
    "            outputs.append(x)\n",
    "        return outputs"
   ]
  },
  {
   "cell_type": "code",
   "execution_count": 14,
   "id": "72cbe15f",
   "metadata": {},
   "outputs": [],
   "source": [
    "def show_feature_map(tensor, title, max_channels=4):\n",
    "    n = min(max_channels, tensor.shape[1])  # 显示前几个通道\n",
    "    fig, axes = plt.subplots(1, n, figsize=(3 * n, 3))\n",
    "    for i in range(n):\n",
    "        axes[i].imshow(tensor[0, i].detach().cpu(), cmap='gray')\n",
    "        axes[i].set_title(f\"{title} | Channel {i}\")\n",
    "        axes[i].axis(\"off\")\n",
    "    plt.tight_layout()\n",
    "    plt.show()"
   ]
  },
  {
   "cell_type": "code",
   "execution_count": null,
   "id": "25a1db6c",
   "metadata": {},
   "outputs": [
    {
     "name": "stdout",
     "output_type": "stream",
     "text": [
      "Stage 0 output shape: torch.Size([1, 64, 43, 232])\n"
     ]
    },
    {
     "data": {
      "image/png": "[encoded data removed]",
      "text/plain": [
       "<Figure size 1200x300 with 4 Axes>"
      ]
     },
     "metadata": {},
     "output_type": "display_data"
    },
    {
     "name": "stdout",
     "output_type": "stream",
     "text": [
      "Stage 1 output shape: torch.Size([1, 64, 22, 116])\n"
     ]
    },
    {
     "data": {
      "image/png": "[encoded data removed]",
      "text/plain": [
       "<Figure size 1200x300 with 4 Axes>"
      ]
     },
     "metadata": {},
     "output_type": "display_data"
    },
    {
     "name": "stdout",
     "output_type": "stream",
     "text": [
      "Stage 2 output shape: torch.Size([1, 64, 22, 116])\n"
     ]
    },
    {
     "data": {
      "image/png": "[encoded data removed]",
      "text/plain": [
       "<Figure size 1200x300 with 4 Axes>"
      ]
     },
     "metadata": {},
     "output_type": "display_data"
    },
    {
     "name": "stdout",
     "output_type": "stream",
     "text": [
      "Stage 3 output shape: torch.Size([1, 128, 11, 58])\n"
     ]
    },
    {
     "data": {
      "image/png": "[encoded data removed]",
      "text/plain": [
       "<Figure size 1200x300 with 4 Axes>"
      ]
     },
     "metadata": {},
     "output_type": "display_data"
    },
    {
     "name": "stdout",
     "output_type": "stream",
     "text": [
      "Stage 4 output shape: torch.Size([1, 256, 6, 29])\n"
     ]
    },
    {
     "data": {
      "image/png": "[encoded data removed]",
      "text/plain": [
       "<Figure size 1200x300 with 4 Axes>"
      ]
     },
     "metadata": {},
     "output_type": "display_data"
    }
   ],
   "source": [
    "images, _, _ = next(iter(train_loader))\n",
    "sample_img = images[0:1].cuda()\n",
    "\n",
    "viz_cnn = VisualCNN().cuda()\n",
    "features = viz_cnn(sample_img)\n",
    "\n",
    "for idx, feat in enumerate(features):\n",
    "    print(f\"Stage {idx} output shape: {feat.shape}\")\n",
    "    show_feature_map(feat, f\"Stage {idx}\")\n"
   ]
  },
  {
   "cell_type": "code",
   "execution_count": 16,
   "id": "3490e0de",
   "metadata": {},
   "outputs": [],
   "source": [
    "def show_max_activation(feature_map, title=\"Max Activation\"):\n",
    "    \n",
    "    max_activations = torch.max(feature_map[0], dim=0).values.detach().cpu()\n",
    "    \n",
    "    plt.figure(figsize=(6, 4))\n",
    "    plt.imshow(max_activations, cmap='hot')\n",
    "    plt.colorbar()\n",
    "    plt.title(title)\n",
    "    plt.axis('off')\n",
    "    plt.show()\n"
   ]
  },
  {
   "cell_type": "code",
   "execution_count": 17,
   "id": "96cde506",
   "metadata": {},
   "outputs": [
    {
     "name": "stdout",
     "output_type": "stream",
     "text": [
      "Stage 0 output shape: torch.Size([1, 64, 43, 232])\n"
     ]
    },
    {
     "data": {
      "image/png": "[encoded data removed]",
      "text/plain": [
       "<Figure size 600x400 with 2 Axes>"
      ]
     },
     "metadata": {},
     "output_type": "display_data"
    },
    {
     "name": "stdout",
     "output_type": "stream",
     "text": [
      "Stage 1 output shape: torch.Size([1, 64, 22, 116])\n"
     ]
    },
    {
     "data": {
      "image/png": "[encoded data removed]",
      "text/plain": [
       "<Figure size 600x400 with 2 Axes>"
      ]
     },
     "metadata": {},
     "output_type": "display_data"
    },
    {
     "name": "stdout",
     "output_type": "stream",
     "text": [
      "Stage 2 output shape: torch.Size([1, 64, 22, 116])\n"
     ]
    },
    {
     "data": {
      "image/png": "[encoded data removed]",
      "text/plain": [
       "<Figure size 600x400 with 2 Axes>"
      ]
     },
     "metadata": {},
     "output_type": "display_data"
    },
    {
     "name": "stdout",
     "output_type": "stream",
     "text": [
      "Stage 3 output shape: torch.Size([1, 128, 11, 58])\n"
     ]
    },
    {
     "data": {
      "image/png": "[encoded data removed]",
      "text/plain": [
       "<Figure size 600x400 with 2 Axes>"
      ]
     },
     "metadata": {},
     "output_type": "display_data"
    },
    {
     "name": "stdout",
     "output_type": "stream",
     "text": [
      "Stage 4 output shape: torch.Size([1, 256, 6, 29])\n"
     ]
    },
    {
     "data": {
      "image/png": "[encoded data removed]",
      "text/plain": [
       "<Figure size 600x400 with 2 Axes>"
      ]
     },
     "metadata": {},
     "output_type": "display_data"
    }
   ],
   "source": [
    "for idx, feat in enumerate(features):\n",
    "    print(f\"Stage {idx} output shape: {feat.shape}\")\n",
    "    show_max_activation(feat, f\"Stage {idx} Max Activation Heatmap\")\n"
   ]
  },
  {
   "cell_type": "code",
   "execution_count": null,
   "id": "6011c300",
   "metadata": {},
   "outputs": [],
   "source": [
    "class Decoder(nn.Module):\n",
    "    def __init__(self, vocab_size, d_model=256, nhead=4, num_layers=4, max_len=256, dropout=0.1):\n",
    "        super().__init__()\n",
    "        self.token_embedding = nn.Embedding(vocab_size, d_model)\n",
    "        self.pos_embedding = nn.Parameter(torch.zeros(1, max_len * 2, d_model))\n",
    "\n",
    "        decoder_layer = nn.TransformerDecoderLayer(\n",
    "            d_model=d_model,\n",
    "            nhead=nhead,\n",
    "            dim_feedforward=d_model * 4,\n",
    "            dropout=dropout,\n",
    "            batch_first=True\n",
    "        )\n",
    "        self.transformer_decoder = nn.TransformerDecoder(decoder_layer, num_layers=num_layers)\n",
    "        self.output_layer = nn.Linear(d_model, vocab_size)\n",
    "\n",
    "        nn.init.normal_(self.pos_embedding, std=0.02)\n",
    "\n",
    "    def forward(self, tgt_input, memory, tgt_mask=None, memory_mask=None, tgt_key_padding_mask=None):\n",
    "        tgt_emb = self.token_embedding(tgt_input) + self.pos_embedding[:, :tgt_input.size(1), :]\n",
    "\n",
    "        memory = memory.reshape(memory.size(0), -1, memory.size(-1))\n",
    "\n",
    "        output = self.transformer_decoder(\n",
    "            tgt=tgt_emb,\n",
    "            memory=memory,\n",
    "            tgt_mask=tgt_mask,\n",
    "            tgt_key_padding_mask=tgt_key_padding_mask\n",
    "        )\n",
    "        return self.output_layer(output)"
   ]
  },
  {
   "cell_type": "code",
   "execution_count": 19,
   "id": "06e9237c",
   "metadata": {},
   "outputs": [],
   "source": [
    "def generate_square_subsequent_mask(sz: int) -> torch.Tensor:\n",
    "    mask = (torch.triu(torch.ones(sz, sz)) == 1).transpose(0, 1)\n",
    "    mask = mask.float().masked_fill(mask == 0, float('-inf')).masked_fill(mask == 1, float(0.0))\n",
    "    return mask"
   ]
  },
  {
   "cell_type": "code",
   "execution_count": null,
   "id": "07954615",
   "metadata": {},
   "outputs": [],
   "source": [
    "class Im2LatexModel(nn.Module):\n",
    "    def __init__(self, vocab_size, d_model=256, max_seq_len=256):\n",
    "        super().__init__()\n",
    "        self.encoder = Encoder(d_model=d_model)\n",
    "        self.decoder = Decoder(vocab_size=vocab_size, d_model=d_model, max_len=max_seq_len)\n",
    "        self.max_seq_len = max_seq_len\n",
    "\n",
    "    def forward(self, images, tgt_input, tgt_mask=None):\n",
    "        enc_output = self.encoder(images)\n",
    "        logits = self.decoder(tgt_input, enc_output, tgt_mask=tgt_mask)\n",
    "        return logits"
   ]
  },
  {
   "cell_type": "code",
   "execution_count": null,
   "id": "1e18ab2d",
   "metadata": {},
   "outputs": [
    {
     "name": "stdout",
     "output_type": "stream",
     "text": [
      "Decoder output: torch.Size([32, 223, 113])\n"
     ]
    }
   ],
   "source": [
    "images, labels, _ = next(iter(train_loader))\n",
    "images = images.cuda()\n",
    "labels = labels.cuda()\n",
    "\n",
    "tgt_input = labels[:, :-1]\n",
    "tgt_output = labels[:, 1:]\n",
    "\n",
    "model = Im2LatexModel(vocab_size=len(token2idx), d_model=256, max_seq_len=max_seq_length).cuda()\n",
    "tgt_mask = generate_square_subsequent_mask(tgt_input.size(1)).to(images.device)\n",
    "\n",
    "logits = model(images, tgt_input, tgt_mask)\n",
    "\n",
    "print(\"Decoder output:\", logits.shape)"
   ]
  },
  {
   "cell_type": "code",
   "execution_count": null,
   "id": "8a5e6229",
   "metadata": {},
   "outputs": [],
   "source": [
    "def test_decoder_integrity(model, images, labels, token2idx, idx2token):\n",
    "    print(\"=\" * 50)\n",
    "    print(\"Running Decoder Integrity Tests\")\n",
    "    print(\"=\" * 50)\n",
    "\n",
    "    device = next(model.parameters()).device\n",
    "    images, labels = images.to(device), labels.to(device)\n",
    "    tgt_input = labels[:, :-1]\n",
    "    tgt_output = labels[:, 1:]\n",
    "    tgt_mask = generate_square_subsequent_mask(tgt_input.size(1)).to(device)\n",
    "\n",
    "    logits = model(images, tgt_input, tgt_mask)\n",
    "\n",
    "    print(\"\\n[1] Logits distribution:\")\n",
    "    print(\"   mean:\", logits.mean().item())\n",
    "    print(\"   max :\", logits.max().item())\n",
    "    print(\"   min :\", logits.min().item())\n",
    "\n",
    "    t = min(10, logits.size(1) - 1)\n",
    "    sample_logits = logits[0, t]\n",
    "    probs = torch.softmax(sample_logits, dim=-1)\n",
    "    topk_probs, topk_idx = torch.topk(probs, k=5)\n",
    "\n",
    "    print(\"\\n[2] Top-5 tokens at timestep\", t)\n",
    "    for i in range(5):\n",
    "        print(f\"   {idx2token[topk_idx[i].item()]}: {topk_probs[i].item():.4f}\")\n",
    "\n",
    "    print(\"\\n[3] First-step decoding test\")\n",
    "    start = torch.full((1, 1), token2idx['<s>'], dtype=torch.long).to(device)\n",
    "    enc_out = model.encoder(images[0:1])\n",
    "    logits_start = model.decoder(start, enc_out)\n",
    "    pred = torch.argmax(logits_start, dim=-1)[0, 0].item()\n",
    "    print(f\"   Predicted first token: {idx2token[pred]}\")\n",
    "\n",
    "    print(\"\\n[4] Gradient flow check\")\n",
    "    logits_flat = logits.view(-1, logits.size(-1))\n",
    "    labels_flat = tgt_output.contiguous().view(-1)\n",
    "    loss_fn = nn.CrossEntropyLoss(ignore_index=token2idx['<pad>'])\n",
    "    loss = loss_fn(logits_flat, labels_flat)\n",
    "    loss.backward()\n",
    "\n",
    "    for name, param in model.named_parameters():\n",
    "        if param.grad is not None:\n",
    "            print(f\"   {name:40s} | grad norm = {param.grad.norm():.4f}\")\n",
    "\n",
    "    print(\"\\nDecoder passed all integrity checks (forward & backward).\\n\")"
   ]
  },
  {
   "cell_type": "code",
   "execution_count": 23,
   "id": "6da8c306",
   "metadata": {},
   "outputs": [
    {
     "name": "stdout",
     "output_type": "stream",
     "text": [
      "==================================================\n",
      "Running Decoder Integrity Tests\n",
      "==================================================\n",
      "\n",
      "[1] Logits distribution:\n",
      "   mean: 0.043494485318660736\n",
      "   max : 2.3924720287323\n",
      "   min : -2.290829658508301\n",
      "\n",
      "[2] Top-5 tokens at timestep 10\n",
      "   e: 0.0294\n",
      "   /: 0.0276\n",
      "    : 0.0214\n",
      "   s: 0.0205\n",
      "   \\Delta: 0.0203\n",
      "\n",
      "[3] First-step decoding test\n",
      "   Predicted first token: \\rightarrow\n",
      "\n",
      "[4] Gradient flow check\n",
      "   encoder.backbone.0.weight                | grad norm = 0.0750\n",
      "   encoder.backbone.1.weight                | grad norm = 0.0061\n",
      "   encoder.backbone.1.bias                  | grad norm = 0.0015\n",
      "   encoder.backbone.4.0.conv1.weight        | grad norm = 0.0131\n",
      "   encoder.backbone.4.0.bn1.weight          | grad norm = 0.0030\n",
      "   encoder.backbone.4.0.bn1.bias            | grad norm = 0.0030\n",
      "   encoder.backbone.4.0.conv2.weight        | grad norm = 0.0093\n",
      "   encoder.backbone.4.0.bn2.weight          | grad norm = 0.0045\n",
      "   encoder.backbone.4.0.bn2.bias            | grad norm = 0.0012\n",
      "   encoder.backbone.4.1.conv1.weight        | grad norm = 0.0099\n",
      "   encoder.backbone.4.1.bn1.weight          | grad norm = 0.0024\n",
      "   encoder.backbone.4.1.bn1.bias            | grad norm = 0.0027\n",
      "   encoder.backbone.4.1.conv2.weight        | grad norm = 0.0084\n",
      "   encoder.backbone.4.1.bn2.weight          | grad norm = 0.0028\n",
      "   encoder.backbone.4.1.bn2.bias            | grad norm = 0.0010\n",
      "   encoder.backbone.5.0.conv1.weight        | grad norm = 0.0087\n",
      "   encoder.backbone.5.0.bn1.weight          | grad norm = 0.0025\n",
      "   encoder.backbone.5.0.bn1.bias            | grad norm = 0.0027\n",
      "   encoder.backbone.5.0.conv2.weight        | grad norm = 0.0112\n",
      "   encoder.backbone.5.0.bn2.weight          | grad norm = 0.0092\n",
      "   encoder.backbone.5.0.bn2.bias            | grad norm = 0.0137\n",
      "   encoder.backbone.5.0.downsample.0.weight | grad norm = 0.0067\n",
      "   encoder.backbone.5.0.downsample.1.weight | grad norm = 0.0065\n",
      "   encoder.backbone.5.0.downsample.1.bias   | grad norm = 0.0137\n",
      "   encoder.backbone.5.1.conv1.weight        | grad norm = 0.0087\n",
      "   encoder.backbone.5.1.bn1.weight          | grad norm = 0.0026\n",
      "   encoder.backbone.5.1.bn1.bias            | grad norm = 0.0021\n",
      "   encoder.backbone.5.1.conv2.weight        | grad norm = 0.0102\n",
      "   encoder.backbone.5.1.bn2.weight          | grad norm = 0.0095\n",
      "   encoder.backbone.5.1.bn2.bias            | grad norm = 0.0184\n",
      "   encoder.project.weight                   | grad norm = 0.1209\n",
      "   encoder.project.bias                     | grad norm = 0.0579\n",
      "   encoder.row_encoder.weight_ih_l0         | grad norm = 0.5244\n",
      "   encoder.row_encoder.weight_hh_l0         | grad norm = 0.1214\n",
      "   encoder.row_encoder.bias_ih_l0           | grad norm = 0.0537\n",
      "   encoder.row_encoder.bias_hh_l0           | grad norm = 0.0537\n",
      "   encoder.row_encoder.weight_ih_l0_reverse | grad norm = 0.4711\n",
      "   encoder.row_encoder.weight_hh_l0_reverse | grad norm = 0.0979\n",
      "   encoder.row_encoder.bias_ih_l0_reverse   | grad norm = 0.0482\n",
      "   encoder.row_encoder.bias_hh_l0_reverse   | grad norm = 0.0482\n",
      "   decoder.pos_embedding                    | grad norm = 0.0578\n",
      "   decoder.token_embedding.weight           | grad norm = 0.0705\n",
      "   decoder.transformer_decoder.layers.0.self_attn.in_proj_weight | grad norm = 0.4686\n",
      "   decoder.transformer_decoder.layers.0.self_attn.in_proj_bias | grad norm = 0.0835\n",
      "   decoder.transformer_decoder.layers.0.self_attn.out_proj.weight | grad norm = 0.5729\n",
      "   decoder.transformer_decoder.layers.0.self_attn.out_proj.bias | grad norm = 0.1516\n",
      "   decoder.transformer_decoder.layers.0.multihead_attn.in_proj_weight | grad norm = 0.2867\n",
      "   decoder.transformer_decoder.layers.0.multihead_attn.in_proj_bias | grad norm = 0.0929\n",
      "   decoder.transformer_decoder.layers.0.multihead_attn.out_proj.weight | grad norm = 0.3033\n",
      "   decoder.transformer_decoder.layers.0.multihead_attn.out_proj.bias | grad norm = 0.1568\n",
      "   decoder.transformer_decoder.layers.0.linear1.weight | grad norm = 0.3593\n",
      "   decoder.transformer_decoder.layers.0.linear1.bias | grad norm = 0.0454\n",
      "   decoder.transformer_decoder.layers.0.linear2.weight | grad norm = 1.2776\n",
      "   decoder.transformer_decoder.layers.0.linear2.bias | grad norm = 0.1467\n",
      "   decoder.transformer_decoder.layers.0.norm1.weight | grad norm = 0.0664\n",
      "   decoder.transformer_decoder.layers.0.norm1.bias | grad norm = 0.1562\n",
      "   decoder.transformer_decoder.layers.0.norm2.weight | grad norm = 0.0665\n",
      "   decoder.transformer_decoder.layers.0.norm2.bias | grad norm = 0.1565\n",
      "   decoder.transformer_decoder.layers.0.norm3.weight | grad norm = 0.0625\n",
      "   decoder.transformer_decoder.layers.0.norm3.bias | grad norm = 0.1512\n",
      "   decoder.transformer_decoder.layers.1.self_attn.in_proj_weight | grad norm = 0.3956\n",
      "   decoder.transformer_decoder.layers.1.self_attn.in_proj_bias | grad norm = 0.0655\n",
      "   decoder.transformer_decoder.layers.1.self_attn.out_proj.weight | grad norm = 0.5060\n",
      "   decoder.transformer_decoder.layers.1.self_attn.out_proj.bias | grad norm = 0.1180\n",
      "   decoder.transformer_decoder.layers.1.multihead_attn.in_proj_weight | grad norm = 0.2239\n",
      "   decoder.transformer_decoder.layers.1.multihead_attn.in_proj_bias | grad norm = 0.0725\n",
      "   decoder.transformer_decoder.layers.1.multihead_attn.out_proj.weight | grad norm = 0.2418\n",
      "   decoder.transformer_decoder.layers.1.multihead_attn.out_proj.bias | grad norm = 0.1249\n",
      "   decoder.transformer_decoder.layers.1.linear1.weight | grad norm = 0.3239\n",
      "   decoder.transformer_decoder.layers.1.linear1.bias | grad norm = 0.0374\n",
      "   decoder.transformer_decoder.layers.1.linear2.weight | grad norm = 1.0596\n",
      "   decoder.transformer_decoder.layers.1.linear2.bias | grad norm = 0.1186\n",
      "   decoder.transformer_decoder.layers.1.norm1.weight | grad norm = 0.0620\n",
      "   decoder.transformer_decoder.layers.1.norm1.bias | grad norm = 0.1254\n",
      "   decoder.transformer_decoder.layers.1.norm2.weight | grad norm = 0.0636\n",
      "   decoder.transformer_decoder.layers.1.norm2.bias | grad norm = 0.1263\n",
      "   decoder.transformer_decoder.layers.1.norm3.weight | grad norm = 0.0647\n",
      "   decoder.transformer_decoder.layers.1.norm3.bias | grad norm = 0.1276\n",
      "   decoder.transformer_decoder.layers.2.self_attn.in_proj_weight | grad norm = 0.4319\n",
      "   decoder.transformer_decoder.layers.2.self_attn.in_proj_bias | grad norm = 0.0590\n",
      "   decoder.transformer_decoder.layers.2.self_attn.out_proj.weight | grad norm = 0.5512\n",
      "   decoder.transformer_decoder.layers.2.self_attn.out_proj.bias | grad norm = 0.1021\n",
      "   decoder.transformer_decoder.layers.2.multihead_attn.in_proj_weight | grad norm = 0.1967\n",
      "   decoder.transformer_decoder.layers.2.multihead_attn.in_proj_bias | grad norm = 0.0637\n",
      "   decoder.transformer_decoder.layers.2.multihead_attn.out_proj.weight | grad norm = 0.2156\n",
      "   decoder.transformer_decoder.layers.2.multihead_attn.out_proj.bias | grad norm = 0.1114\n",
      "   decoder.transformer_decoder.layers.2.linear1.weight | grad norm = 0.3352\n",
      "   decoder.transformer_decoder.layers.2.linear1.bias | grad norm = 0.0342\n",
      "   decoder.transformer_decoder.layers.2.linear2.weight | grad norm = 0.9947\n",
      "   decoder.transformer_decoder.layers.2.linear2.bias | grad norm = 0.1070\n",
      "   decoder.transformer_decoder.layers.2.norm1.weight | grad norm = 0.0659\n",
      "   decoder.transformer_decoder.layers.2.norm1.bias | grad norm = 0.1114\n",
      "   decoder.transformer_decoder.layers.2.norm2.weight | grad norm = 0.0686\n",
      "   decoder.transformer_decoder.layers.2.norm2.bias | grad norm = 0.1128\n",
      "   decoder.transformer_decoder.layers.2.norm3.weight | grad norm = 0.0719\n",
      "   decoder.transformer_decoder.layers.2.norm3.bias | grad norm = 0.1180\n",
      "   decoder.transformer_decoder.layers.3.self_attn.in_proj_weight | grad norm = 0.5497\n",
      "   decoder.transformer_decoder.layers.3.self_attn.in_proj_bias | grad norm = 0.0627\n",
      "   decoder.transformer_decoder.layers.3.self_attn.out_proj.weight | grad norm = 0.7035\n",
      "   decoder.transformer_decoder.layers.3.self_attn.out_proj.bias | grad norm = 0.1062\n",
      "   decoder.transformer_decoder.layers.3.multihead_attn.in_proj_weight | grad norm = 0.2082\n",
      "   decoder.transformer_decoder.layers.3.multihead_attn.in_proj_bias | grad norm = 0.0674\n",
      "   decoder.transformer_decoder.layers.3.multihead_attn.out_proj.weight | grad norm = 0.2319\n",
      "   decoder.transformer_decoder.layers.3.multihead_attn.out_proj.bias | grad norm = 0.1199\n",
      "   decoder.transformer_decoder.layers.3.linear1.weight | grad norm = 0.4141\n",
      "   decoder.transformer_decoder.layers.3.linear1.bias | grad norm = 0.0382\n",
      "   decoder.transformer_decoder.layers.3.linear2.weight | grad norm = 1.1498\n",
      "   decoder.transformer_decoder.layers.3.linear2.bias | grad norm = 0.1190\n",
      "   decoder.transformer_decoder.layers.3.norm1.weight | grad norm = 0.0801\n",
      "   decoder.transformer_decoder.layers.3.norm1.bias | grad norm = 0.1191\n",
      "   decoder.transformer_decoder.layers.3.norm2.weight | grad norm = 0.0835\n",
      "   decoder.transformer_decoder.layers.3.norm2.bias | grad norm = 0.1210\n",
      "   decoder.transformer_decoder.layers.3.norm3.weight | grad norm = 0.0951\n",
      "   decoder.transformer_decoder.layers.3.norm3.bias | grad norm = 0.1345\n",
      "   decoder.output_layer.weight              | grad norm = 2.3787\n",
      "   decoder.output_layer.bias                | grad norm = 0.2305\n",
      "\n",
      "Decoder passed all integrity checks (forward & backward).\n",
      "\n"
     ]
    }
   ],
   "source": [
    "images, labels, _ = next(iter(train_loader))\n",
    "test_decoder_integrity(model, images, labels, token2idx, idx2token)"
   ]
  },
  {
   "cell_type": "code",
   "execution_count": 24,
   "id": "e8930824",
   "metadata": {},
   "outputs": [],
   "source": [
    "def create_loss_function(token2idx):\n",
    "    ignore_index = token2idx['<pad>']\n",
    "    return nn.CrossEntropyLoss(ignore_index=ignore_index)"
   ]
  },
  {
   "cell_type": "code",
   "execution_count": 25,
   "id": "6bfdb2f6",
   "metadata": {},
   "outputs": [],
   "source": [
    "def train_one_epoch(model, dataloader, optimizer, loss_fn, device):\n",
    "    model.train()\n",
    "    total_loss = 0\n",
    "\n",
    "    for images, labels, _ in tqdm(dataloader, desc=\"Training\"):\n",
    "        images = images.to(device)\n",
    "        labels = labels.to(device)\n",
    "\n",
    "        tgt_input = labels[:, :-1]\n",
    "        tgt_output = labels[:, 1:]\n",
    "\n",
    "        tgt_mask = generate_square_subsequent_mask(tgt_input.size(1)).to(device)\n",
    "\n",
    "        optimizer.zero_grad()\n",
    "        logits = model(images, tgt_input, tgt_mask)\n",
    "\n",
    "        logits = logits.view(-1, logits.size(-1))\n",
    "        tgt_output = tgt_output.contiguous().view(-1)\n",
    "\n",
    "        loss = loss_fn(logits, tgt_output)\n",
    "        loss.backward()\n",
    "        optimizer.step()\n",
    "\n",
    "        total_loss += loss.item()\n",
    "\n",
    "    return total_loss / len(dataloader)"
   ]
  },
  {
   "cell_type": "code",
   "execution_count": 26,
   "id": "83d548e8",
   "metadata": {},
   "outputs": [],
   "source": [
    "@torch.no_grad()\n",
    "def evaluate(model, dataloader, loss_fn, device):\n",
    "    model.eval()\n",
    "    total_loss = 0\n",
    "\n",
    "    for images, labels, _ in tqdm(dataloader, desc=\"Evaluating\"):\n",
    "        images = images.to(device)\n",
    "        labels = labels.to(device)\n",
    "\n",
    "        tgt_input = labels[:, :-1]\n",
    "        tgt_output = labels[:, 1:]\n",
    "\n",
    "        tgt_mask = generate_square_subsequent_mask(tgt_input.size(1)).to(device)\n",
    "\n",
    "        logits = model(images, tgt_input, tgt_mask)\n",
    "        logits = logits.view(-1, logits.size(-1))\n",
    "        tgt_output = tgt_output.contiguous().view(-1)\n",
    "\n",
    "        loss = loss_fn(logits, tgt_output)\n",
    "        total_loss += loss.item()\n",
    "\n",
    "    return total_loss / len(dataloader)"
   ]
  },
  {
   "cell_type": "code",
   "execution_count": null,
   "id": "cfe5b008",
   "metadata": {},
   "outputs": [],
   "source": [
    "def fit(model, train_loader, val_loader, token2idx, epochs=10, lr=1e-4, device=\"cuda\"):\n",
    "    optimizer = torch.optim.Adam(model.parameters(), lr=lr)\n",
    "    loss_fn = create_loss_function(token2idx)\n",
    "    best_val_loss = float('inf')\n",
    "    save_path = \"best_model.pt\"\n",
    "\n",
    "    writer = SummaryWriter(log_dir=\"runs/im2latex\")\n",
    "\n",
    "    train_losses = []\n",
    "    val_losses = []\n",
    "\n",
    "    print(\"\\nMeasuring Initial Loss...\")\n",
    "    model.eval()\n",
    "    with torch.no_grad():\n",
    "        batch = next(iter(val_loader))\n",
    "        images, labels, _ = batch\n",
    "        images, labels = images.to(device), labels.to(device)\n",
    "\n",
    "        tgt_input = labels[:, :-1]\n",
    "        tgt_output = labels[:, 1:]\n",
    "        tgt_mask = generate_square_subsequent_mask(tgt_input.size(1)).to(device)\n",
    "\n",
    "        logits = model(images, tgt_input, tgt_mask)\n",
    "        loss = loss_fn(logits.reshape(-1, logits.size(-1)), tgt_output.reshape(-1))\n",
    "        print(f\"Initial Loss (on val batch): {loss.item():.4f}\")\n",
    "\n",
    "    for epoch in range(1, epochs + 1):\n",
    "        print(f\"\\nEpoch {epoch}/{epochs}\")\n",
    "\n",
    "        train_loss = train_one_epoch(model, train_loader, optimizer, loss_fn, device)\n",
    "        val_loss = evaluate(model, val_loader, loss_fn, device)\n",
    "\n",
    "        train_losses.append(train_loss)\n",
    "        val_losses.append(val_loss)\n",
    "\n",
    "        writer.add_scalar(\"Loss/train\", train_loss, epoch)\n",
    "        writer.add_scalar(\"Loss/val\", val_loss, epoch)\n",
    "\n",
    "        print(f\"Train Loss: {train_loss:.4f} | Val Loss: {val_loss:.4f}\")\n",
    "\n",
    "        if val_loss < best_val_loss:\n",
    "            best_val_loss = val_loss\n",
    "            torch.save(model.state_dict(), save_path)\n",
    "            print(f\"Saved best model to {save_path}\")\n",
    "\n",
    "    writer.close()\n",
    "\n",
    "    plt.figure(figsize=(8, 4))\n",
    "    plt.plot(train_losses, label='Train Loss')\n",
    "    plt.plot(val_losses, label='Val Loss')\n",
    "    plt.xlabel(\"Epoch\")\n",
    "    plt.ylabel(\"Loss\")\n",
    "    plt.title(\"Training Curve\")\n",
    "    plt.legend()\n",
    "    plt.grid(True)\n",
    "    plt.tight_layout()\n",
    "    plt.savefig(\"loss_curve.png\")\n",
    "    plt.show()\n",
    "    print(\"Saved loss curve to loss_curve.png\")"
   ]
  },
  {
   "cell_type": "code",
   "execution_count": 28,
   "id": "760b3473",
   "metadata": {},
   "outputs": [
    {
     "name": "stdout",
     "output_type": "stream",
     "text": [
      "\n",
      "Measuring Initial Loss...\n",
      "Initial Loss (on val batch): 5.0049\n",
      "\n",
      "Epoch 1/50\n"
     ]
    },
    {
     "data": {
      "application/vnd.jupyter.widget-view+json": {
       "model_id": "c797356205b048098ef035cc881456e6",
       "version_major": 2,
       "version_minor": 0
      },
      "text/plain": [
       "Training:   0%|          | 0/267 [00:00<?, ?it/s]"
      ]
     },
     "metadata": {},
     "output_type": "display_data"
    },
    {
     "data": {
      "application/vnd.jupyter.widget-view+json": {
       "model_id": "95b0dacedff2444c86c2f9764666635a",
       "version_major": 2,
       "version_minor": 0
      },
      "text/plain": [
       "Evaluating:   0%|          | 0/115 [00:00<?, ?it/s]"
      ]
     },
     "metadata": {},
     "output_type": "display_data"
    },
    {
     "name": "stdout",
     "output_type": "stream",
     "text": [
      "Train Loss: 2.4583 | Val Loss: 2.0747\n",
      "Saved best model to best_model.pt\n",
      "\n",
      "Epoch 2/50\n"
     ]
    },
    {
     "data": {
      "application/vnd.jupyter.widget-view+json": {
       "model_id": "7a5c430cd1df4d3bb9bbe6cbb5326a98",
       "version_major": 2,
       "version_minor": 0
      },
      "text/plain": [
       "Training:   0%|          | 0/267 [00:00<?, ?it/s]"
      ]
     },
     "metadata": {},
     "output_type": "display_data"
    },
    {
     "data": {
      "application/vnd.jupyter.widget-view+json": {
       "model_id": "4a99f589901e4f5bb7db6367f65c0a96",
       "version_major": 2,
       "version_minor": 0
      },
      "text/plain": [
       "Evaluating:   0%|          | 0/115 [00:00<?, ?it/s]"
      ]
     },
     "metadata": {},
     "output_type": "display_data"
    },
    {
     "name": "stdout",
     "output_type": "stream",
     "text": [
      "Train Loss: 1.9015 | Val Loss: 1.8353\n",
      "Saved best model to best_model.pt\n",
      "\n",
      "Epoch 3/50\n"
     ]
    },
    {
     "data": {
      "application/vnd.jupyter.widget-view+json": {
       "model_id": "be092d993aec47cfb3f23e07adeba717",
       "version_major": 2,
       "version_minor": 0
      },
      "text/plain": [
       "Training:   0%|          | 0/267 [00:00<?, ?it/s]"
      ]
     },
     "metadata": {},
     "output_type": "display_data"
    },
    {
     "data": {
      "application/vnd.jupyter.widget-view+json": {
       "model_id": "77f4d7b460bb4bcb91ba5f090c73c8b2",
       "version_major": 2,
       "version_minor": 0
      },
      "text/plain": [
       "Evaluating:   0%|          | 0/115 [00:00<?, ?it/s]"
      ]
     },
     "metadata": {},
     "output_type": "display_data"
    },
    {
     "name": "stdout",
     "output_type": "stream",
     "text": [
      "Train Loss: 1.7014 | Val Loss: 1.6475\n",
      "Saved best model to best_model.pt\n",
      "\n",
      "Epoch 4/50\n"
     ]
    },
    {
     "data": {
      "application/vnd.jupyter.widget-view+json": {
       "model_id": "cc47eece48144d7ea02ba20534562630",
       "version_major": 2,
       "version_minor": 0
      },
      "text/plain": [
       "Training:   0%|          | 0/267 [00:00<?, ?it/s]"
      ]
     },
     "metadata": {},
     "output_type": "display_data"
    },
    {
     "data": {
      "application/vnd.jupyter.widget-view+json": {
       "model_id": "3aff666d736341bea25137e09f3df95c",
       "version_major": 2,
       "version_minor": 0
      },
      "text/plain": [
       "Evaluating:   0%|          | 0/115 [00:00<?, ?it/s]"
      ]
     },
     "metadata": {},
     "output_type": "display_data"
    },
    {
     "name": "stdout",
     "output_type": "stream",
     "text": [
      "Train Loss: 1.5258 | Val Loss: 1.4333\n",
      "Saved best model to best_model.pt\n",
      "\n",
      "Epoch 5/50\n"
     ]
    },
    {
     "data": {
      "application/vnd.jupyter.widget-view+json": {
       "model_id": "89fb25ec288547a49b4fde14c0fe43e4",
       "version_major": 2,
       "version_minor": 0
      },
      "text/plain": [
       "Training:   0%|          | 0/267 [00:00<?, ?it/s]"
      ]
     },
     "metadata": {},
     "output_type": "display_data"
    },
    {
     "data": {
      "application/vnd.jupyter.widget-view+json": {
       "model_id": "8a7a1de09be34e1b872011833de5de4d",
       "version_major": 2,
       "version_minor": 0
      },
      "text/plain": [
       "Evaluating:   0%|          | 0/115 [00:00<?, ?it/s]"
      ]
     },
     "metadata": {},
     "output_type": "display_data"
    },
    {
     "name": "stdout",
     "output_type": "stream",
     "text": [
      "Train Loss: 1.3564 | Val Loss: 1.2708\n",
      "Saved best model to best_model.pt\n",
      "\n",
      "Epoch 6/50\n"
     ]
    },
    {
     "data": {
      "application/vnd.jupyter.widget-view+json": {
       "model_id": "b4542980a12a4e5b92f45c0f5410603a",
       "version_major": 2,
       "version_minor": 0
      },
      "text/plain": [
       "Training:   0%|          | 0/267 [00:00<?, ?it/s]"
      ]
     },
     "metadata": {},
     "output_type": "display_data"
    },
    {
     "data": {
      "application/vnd.jupyter.widget-view+json": {
       "model_id": "1819620744084390b98f555ec89bd75f",
       "version_major": 2,
       "version_minor": 0
      },
      "text/plain": [
       "Evaluating:   0%|          | 0/115 [00:00<?, ?it/s]"
      ]
     },
     "metadata": {},
     "output_type": "display_data"
    },
    {
     "name": "stdout",
     "output_type": "stream",
     "text": [
      "Train Loss: 1.1923 | Val Loss: 1.1380\n",
      "Saved best model to best_model.pt\n",
      "\n",
      "Epoch 7/50\n"
     ]
    },
    {
     "data": {
      "application/vnd.jupyter.widget-view+json": {
       "model_id": "5c634b72246a44128c2b79683ff72467",
       "version_major": 2,
       "version_minor": 0
      },
      "text/plain": [
       "Training:   0%|          | 0/267 [00:00<?, ?it/s]"
      ]
     },
     "metadata": {},
     "output_type": "display_data"
    },
    {
     "data": {
      "application/vnd.jupyter.widget-view+json": {
       "model_id": "980699cc2a4e4451a0f93d978ee0263e",
       "version_major": 2,
       "version_minor": 0
      },
      "text/plain": [
       "Evaluating:   0%|          | 0/115 [00:00<?, ?it/s]"
      ]
     },
     "metadata": {},
     "output_type": "display_data"
    },
    {
     "name": "stdout",
     "output_type": "stream",
     "text": [
      "Train Loss: 1.0420 | Val Loss: 0.9652\n",
      "Saved best model to best_model.pt\n",
      "\n",
      "Epoch 8/50\n"
     ]
    },
    {
     "data": {
      "application/vnd.jupyter.widget-view+json": {
       "model_id": "20f53bf525104a53b87f14622ddaa0c8",
       "version_major": 2,
       "version_minor": 0
      },
      "text/plain": [
       "Training:   0%|          | 0/267 [00:00<?, ?it/s]"
      ]
     },
     "metadata": {},
     "output_type": "display_data"
    },
    {
     "data": {
      "application/vnd.jupyter.widget-view+json": {
       "model_id": "978f5bcaa5e1411b9e86650161b3ef5b",
       "version_major": 2,
       "version_minor": 0
      },
      "text/plain": [
       "Evaluating:   0%|          | 0/115 [00:00<?, ?it/s]"
      ]
     },
     "metadata": {},
     "output_type": "display_data"
    },
    {
     "name": "stdout",
     "output_type": "stream",
     "text": [
      "Train Loss: 0.9016 | Val Loss: 0.8344\n",
      "Saved best model to best_model.pt\n",
      "\n",
      "Epoch 9/50\n"
     ]
    },
    {
     "data": {
      "application/vnd.jupyter.widget-view+json": {
       "model_id": "9ad64a66fe1c480b8c88118a7315538b",
       "version_major": 2,
       "version_minor": 0
      },
      "text/plain": [
       "Training:   0%|          | 0/267 [00:00<?, ?it/s]"
      ]
     },
     "metadata": {},
     "output_type": "display_data"
    },
    {
     "data": {
      "application/vnd.jupyter.widget-view+json": {
       "model_id": "69749a1e407f4aa9b1619e913a05b497",
       "version_major": 2,
       "version_minor": 0
      },
      "text/plain": [
       "Evaluating:   0%|          | 0/115 [00:00<?, ?it/s]"
      ]
     },
     "metadata": {},
     "output_type": "display_data"
    },
    {
     "name": "stdout",
     "output_type": "stream",
     "text": [
      "Train Loss: 0.7844 | Val Loss: 0.7723\n",
      "Saved best model to best_model.pt\n",
      "\n",
      "Epoch 10/50\n"
     ]
    },
    {
     "data": {
      "application/vnd.jupyter.widget-view+json": {
       "model_id": "442873d731a14302ba756b99b1c9d9fe",
       "version_major": 2,
       "version_minor": 0
      },
      "text/plain": [
       "Training:   0%|          | 0/267 [00:00<?, ?it/s]"
      ]
     },
     "metadata": {},
     "output_type": "display_data"
    },
    {
     "data": {
      "application/vnd.jupyter.widget-view+json": {
       "model_id": "61fc989272b64940a5416dc0d8834219",
       "version_major": 2,
       "version_minor": 0
      },
      "text/plain": [
       "Evaluating:   0%|          | 0/115 [00:00<?, ?it/s]"
      ]
     },
     "metadata": {},
     "output_type": "display_data"
    },
    {
     "name": "stdout",
     "output_type": "stream",
     "text": [
      "Train Loss: 0.6850 | Val Loss: 0.6827\n",
      "Saved best model to best_model.pt\n",
      "\n",
      "Epoch 11/50\n"
     ]
    },
    {
     "data": {
      "application/vnd.jupyter.widget-view+json": {
       "model_id": "d7c5495d140348b6bc1772fd09ab328a",
       "version_major": 2,
       "version_minor": 0
      },
      "text/plain": [
       "Training:   0%|          | 0/267 [00:00<?, ?it/s]"
      ]
     },
     "metadata": {},
     "output_type": "display_data"
    },
    {
     "data": {
      "application/vnd.jupyter.widget-view+json": {
       "model_id": "df857d5299534170bb9cbd1671c98b54",
       "version_major": 2,
       "version_minor": 0
      },
      "text/plain": [
       "Evaluating:   0%|          | 0/115 [00:00<?, ?it/s]"
      ]
     },
     "metadata": {},
     "output_type": "display_data"
    },
    {
     "name": "stdout",
     "output_type": "stream",
     "text": [
      "Train Loss: 0.5970 | Val Loss: 0.6077\n",
      "Saved best model to best_model.pt\n",
      "\n",
      "Epoch 12/50\n"
     ]
    },
    {
     "data": {
      "application/vnd.jupyter.widget-view+json": {
       "model_id": "4cb602b7916043408511c96d3f3a657e",
       "version_major": 2,
       "version_minor": 0
      },
      "text/plain": [
       "Training:   0%|          | 0/267 [00:00<?, ?it/s]"
      ]
     },
     "metadata": {},
     "output_type": "display_data"
    },
    {
     "data": {
      "application/vnd.jupyter.widget-view+json": {
       "model_id": "85e4ce88d7244927963d55249f0aa134",
       "version_major": 2,
       "version_minor": 0
      },
      "text/plain": [
       "Evaluating:   0%|          | 0/115 [00:00<?, ?it/s]"
      ]
     },
     "metadata": {},
     "output_type": "display_data"
    },
    {
     "name": "stdout",
     "output_type": "stream",
     "text": [
      "Train Loss: 0.5249 | Val Loss: 0.5986\n",
      "Saved best model to best_model.pt\n",
      "\n",
      "Epoch 13/50\n"
     ]
    },
    {
     "data": {
      "application/vnd.jupyter.widget-view+json": {
       "model_id": "cb797ff1c79344e7b1c0a0bb50c663e3",
       "version_major": 2,
       "version_minor": 0
      },
      "text/plain": [
       "Training:   0%|          | 0/267 [00:00<?, ?it/s]"
      ]
     },
     "metadata": {},
     "output_type": "display_data"
    },
    {
     "data": {
      "application/vnd.jupyter.widget-view+json": {
       "model_id": "83c234068ad14fa1a6c6b48100889d33",
       "version_major": 2,
       "version_minor": 0
      },
      "text/plain": [
       "Evaluating:   0%|          | 0/115 [00:00<?, ?it/s]"
      ]
     },
     "metadata": {},
     "output_type": "display_data"
    },
    {
     "name": "stdout",
     "output_type": "stream",
     "text": [
      "Train Loss: 0.4623 | Val Loss: 0.5557\n",
      "Saved best model to best_model.pt\n",
      "\n",
      "Epoch 14/50\n"
     ]
    },
    {
     "data": {
      "application/vnd.jupyter.widget-view+json": {
       "model_id": "ee362c3acc9c4c54a18d94272c973feb",
       "version_major": 2,
       "version_minor": 0
      },
      "text/plain": [
       "Training:   0%|          | 0/267 [00:00<?, ?it/s]"
      ]
     },
     "metadata": {},
     "output_type": "display_data"
    },
    {
     "data": {
      "application/vnd.jupyter.widget-view+json": {
       "model_id": "cbd5360ba3e94566b327fedff7e09b25",
       "version_major": 2,
       "version_minor": 0
      },
      "text/plain": [
       "Evaluating:   0%|          | 0/115 [00:00<?, ?it/s]"
      ]
     },
     "metadata": {},
     "output_type": "display_data"
    },
    {
     "name": "stdout",
     "output_type": "stream",
     "text": [
      "Train Loss: 0.4158 | Val Loss: 0.5197\n",
      "Saved best model to best_model.pt\n",
      "\n",
      "Epoch 15/50\n"
     ]
    },
    {
     "data": {
      "application/vnd.jupyter.widget-view+json": {
       "model_id": "3f0e5ea57e98404fa3d31a2244ea9d1c",
       "version_major": 2,
       "version_minor": 0
      },
      "text/plain": [
       "Training:   0%|          | 0/267 [00:00<?, ?it/s]"
      ]
     },
     "metadata": {},
     "output_type": "display_data"
    },
    {
     "data": {
      "application/vnd.jupyter.widget-view+json": {
       "model_id": "3d8f95cf747b4ccbb9ffa8b35da03c33",
       "version_major": 2,
       "version_minor": 0
      },
      "text/plain": [
       "Evaluating:   0%|          | 0/115 [00:00<?, ?it/s]"
      ]
     },
     "metadata": {},
     "output_type": "display_data"
    },
    {
     "name": "stdout",
     "output_type": "stream",
     "text": [
      "Train Loss: 0.3820 | Val Loss: 0.5274\n",
      "\n",
      "Epoch 16/50\n"
     ]
    },
    {
     "data": {
      "application/vnd.jupyter.widget-view+json": {
       "model_id": "2cba858e9552451782d3384954fbc85e",
       "version_major": 2,
       "version_minor": 0
      },
      "text/plain": [
       "Training:   0%|          | 0/267 [00:00<?, ?it/s]"
      ]
     },
     "metadata": {},
     "output_type": "display_data"
    },
    {
     "data": {
      "application/vnd.jupyter.widget-view+json": {
       "model_id": "87508753464c43e88933992669c5a96b",
       "version_major": 2,
       "version_minor": 0
      },
      "text/plain": [
       "Evaluating:   0%|          | 0/115 [00:00<?, ?it/s]"
      ]
     },
     "metadata": {},
     "output_type": "display_data"
    },
    {
     "name": "stdout",
     "output_type": "stream",
     "text": [
      "Train Loss: 0.3442 | Val Loss: 0.4337\n",
      "Saved best model to best_model.pt\n",
      "\n",
      "Epoch 17/50\n"
     ]
    },
    {
     "data": {
      "application/vnd.jupyter.widget-view+json": {
       "model_id": "6df25c8df5c24c18bef278ff49bd4d1d",
       "version_major": 2,
       "version_minor": 0
      },
      "text/plain": [
       "Training:   0%|          | 0/267 [00:00<?, ?it/s]"
      ]
     },
     "metadata": {},
     "output_type": "display_data"
    },
    {
     "data": {
      "application/vnd.jupyter.widget-view+json": {
       "model_id": "671ab9d9b010481e97223ab10f22f684",
       "version_major": 2,
       "version_minor": 0
      },
      "text/plain": [
       "Evaluating:   0%|          | 0/115 [00:00<?, ?it/s]"
      ]
     },
     "metadata": {},
     "output_type": "display_data"
    },
    {
     "name": "stdout",
     "output_type": "stream",
     "text": [
      "Train Loss: 0.3024 | Val Loss: 0.4120\n",
      "Saved best model to best_model.pt\n",
      "\n",
      "Epoch 18/50\n"
     ]
    },
    {
     "data": {
      "application/vnd.jupyter.widget-view+json": {
       "model_id": "2ed31afc6b014bb48d9196f1bef7598c",
       "version_major": 2,
       "version_minor": 0
      },
      "text/plain": [
       "Training:   0%|          | 0/267 [00:00<?, ?it/s]"
      ]
     },
     "metadata": {},
     "output_type": "display_data"
    },
    {
     "data": {
      "application/vnd.jupyter.widget-view+json": {
       "model_id": "3f7e790a49e244e6a25f4aad41b57f76",
       "version_major": 2,
       "version_minor": 0
      },
      "text/plain": [
       "Evaluating:   0%|          | 0/115 [00:00<?, ?it/s]"
      ]
     },
     "metadata": {},
     "output_type": "display_data"
    },
    {
     "name": "stdout",
     "output_type": "stream",
     "text": [
      "Train Loss: 0.2735 | Val Loss: 0.4289\n",
      "\n",
      "Epoch 19/50\n"
     ]
    },
    {
     "data": {
      "application/vnd.jupyter.widget-view+json": {
       "model_id": "aabf94649fff496c8493549ea65320ab",
       "version_major": 2,
       "version_minor": 0
      },
      "text/plain": [
       "Training:   0%|          | 0/267 [00:00<?, ?it/s]"
      ]
     },
     "metadata": {},
     "output_type": "display_data"
    },
    {
     "data": {
      "application/vnd.jupyter.widget-view+json": {
       "model_id": "0a5f4b6ee3584735a7da0be98862a7a7",
       "version_major": 2,
       "version_minor": 0
      },
      "text/plain": [
       "Evaluating:   0%|          | 0/115 [00:00<?, ?it/s]"
      ]
     },
     "metadata": {},
     "output_type": "display_data"
    },
    {
     "name": "stdout",
     "output_type": "stream",
     "text": [
      "Train Loss: 0.2620 | Val Loss: 0.3864\n",
      "Saved best model to best_model.pt\n",
      "\n",
      "Epoch 20/50\n"
     ]
    },
    {
     "data": {
      "application/vnd.jupyter.widget-view+json": {
       "model_id": "42968fd273ed43d69ff09dd507387932",
       "version_major": 2,
       "version_minor": 0
      },
      "text/plain": [
       "Training:   0%|          | 0/267 [00:00<?, ?it/s]"
      ]
     },
     "metadata": {},
     "output_type": "display_data"
    },
    {
     "data": {
      "application/vnd.jupyter.widget-view+json": {
       "model_id": "19fe637c8cc74e0494f1c5b7d4f2bf6d",
       "version_major": 2,
       "version_minor": 0
      },
      "text/plain": [
       "Evaluating:   0%|          | 0/115 [00:00<?, ?it/s]"
      ]
     },
     "metadata": {},
     "output_type": "display_data"
    },
    {
     "name": "stdout",
     "output_type": "stream",
     "text": [
      "Train Loss: 0.2248 | Val Loss: 0.3933\n",
      "\n",
      "Epoch 21/50\n"
     ]
    },
    {
     "data": {
      "application/vnd.jupyter.widget-view+json": {
       "model_id": "27e32d17bcc34f248ac8b42c5ebd0987",
       "version_major": 2,
       "version_minor": 0
      },
      "text/plain": [
       "Training:   0%|          | 0/267 [00:00<?, ?it/s]"
      ]
     },
     "metadata": {},
     "output_type": "display_data"
    },
    {
     "data": {
      "application/vnd.jupyter.widget-view+json": {
       "model_id": "c0c1e2926a7c4b649159415e42fb6280",
       "version_major": 2,
       "version_minor": 0
      },
      "text/plain": [
       "Evaluating:   0%|          | 0/115 [00:00<?, ?it/s]"
      ]
     },
     "metadata": {},
     "output_type": "display_data"
    },
    {
     "name": "stdout",
     "output_type": "stream",
     "text": [
      "Train Loss: 0.2053 | Val Loss: 0.3773\n",
      "Saved best model to best_model.pt\n",
      "\n",
      "Epoch 22/50\n"
     ]
    },
    {
     "data": {
      "application/vnd.jupyter.widget-view+json": {
       "model_id": "9f742cbbcd204c2990789c9c63442f21",
       "version_major": 2,
       "version_minor": 0
      },
      "text/plain": [
       "Training:   0%|          | 0/267 [00:00<?, ?it/s]"
      ]
     },
     "metadata": {},
     "output_type": "display_data"
    },
    {
     "data": {
      "application/vnd.jupyter.widget-view+json": {
       "model_id": "b4d2c290b5d74a809dd291e470a2f211",
       "version_major": 2,
       "version_minor": 0
      },
      "text/plain": [
       "Evaluating:   0%|          | 0/115 [00:00<?, ?it/s]"
      ]
     },
     "metadata": {},
     "output_type": "display_data"
    },
    {
     "name": "stdout",
     "output_type": "stream",
     "text": [
      "Train Loss: 0.1905 | Val Loss: 0.3677\n",
      "Saved best model to best_model.pt\n",
      "\n",
      "Epoch 23/50\n"
     ]
    },
    {
     "data": {
      "application/vnd.jupyter.widget-view+json": {
       "model_id": "ef0065407d724f609e360226dad7ce96",
       "version_major": 2,
       "version_minor": 0
      },
      "text/plain": [
       "Training:   0%|          | 0/267 [00:00<?, ?it/s]"
      ]
     },
     "metadata": {},
     "output_type": "display_data"
    },
    {
     "data": {
      "application/vnd.jupyter.widget-view+json": {
       "model_id": "48de3f29a31645518e98ab17aa2b734c",
       "version_major": 2,
       "version_minor": 0
      },
      "text/plain": [
       "Evaluating:   0%|          | 0/115 [00:00<?, ?it/s]"
      ]
     },
     "metadata": {},
     "output_type": "display_data"
    },
    {
     "name": "stdout",
     "output_type": "stream",
     "text": [
      "Train Loss: 0.1832 | Val Loss: 0.3789\n",
      "\n",
      "Epoch 24/50\n"
     ]
    },
    {
     "data": {
      "application/vnd.jupyter.widget-view+json": {
       "model_id": "46d3bd8b4d794e9990f80b56893c8597",
       "version_major": 2,
       "version_minor": 0
      },
      "text/plain": [
       "Training:   0%|          | 0/267 [00:00<?, ?it/s]"
      ]
     },
     "metadata": {},
     "output_type": "display_data"
    },
    {
     "data": {
      "application/vnd.jupyter.widget-view+json": {
       "model_id": "265e9b9a008e478487b570acd155fbea",
       "version_major": 2,
       "version_minor": 0
      },
      "text/plain": [
       "Evaluating:   0%|          | 0/115 [00:00<?, ?it/s]"
      ]
     },
     "metadata": {},
     "output_type": "display_data"
    },
    {
     "name": "stdout",
     "output_type": "stream",
     "text": [
      "Train Loss: 0.1688 | Val Loss: 0.3904\n",
      "\n",
      "Epoch 25/50\n"
     ]
    },
    {
     "data": {
      "application/vnd.jupyter.widget-view+json": {
       "model_id": "dcf87c38a9f2468e9674a05457b15ca7",
       "version_major": 2,
       "version_minor": 0
      },
      "text/plain": [
       "Training:   0%|          | 0/267 [00:00<?, ?it/s]"
      ]
     },
     "metadata": {},
     "output_type": "display_data"
    },
    {
     "data": {
      "application/vnd.jupyter.widget-view+json": {
       "model_id": "63b2fe1187e546e3893d751aff093865",
       "version_major": 2,
       "version_minor": 0
      },
      "text/plain": [
       "Evaluating:   0%|          | 0/115 [00:00<?, ?it/s]"
      ]
     },
     "metadata": {},
     "output_type": "display_data"
    },
    {
     "name": "stdout",
     "output_type": "stream",
     "text": [
      "Train Loss: 0.1552 | Val Loss: 0.3628\n",
      "Saved best model to best_model.pt\n",
      "\n",
      "Epoch 26/50\n"
     ]
    },
    {
     "data": {
      "application/vnd.jupyter.widget-view+json": {
       "model_id": "df8d5a58eb7b4395a808b3df3f1845f1",
       "version_major": 2,
       "version_minor": 0
      },
      "text/plain": [
       "Training:   0%|          | 0/267 [00:00<?, ?it/s]"
      ]
     },
     "metadata": {},
     "output_type": "display_data"
    },
    {
     "data": {
      "application/vnd.jupyter.widget-view+json": {
       "model_id": "d07149c4945e4debac7b1fb1ba86df54",
       "version_major": 2,
       "version_minor": 0
      },
      "text/plain": [
       "Evaluating:   0%|          | 0/115 [00:00<?, ?it/s]"
      ]
     },
     "metadata": {},
     "output_type": "display_data"
    },
    {
     "name": "stdout",
     "output_type": "stream",
     "text": [
      "Train Loss: 0.1407 | Val Loss: 0.3515\n",
      "Saved best model to best_model.pt\n",
      "\n",
      "Epoch 27/50\n"
     ]
    },
    {
     "data": {
      "application/vnd.jupyter.widget-view+json": {
       "model_id": "0e9ff628e6be4a6baaa5e75f91c83d8c",
       "version_major": 2,
       "version_minor": 0
      },
      "text/plain": [
       "Training:   0%|          | 0/267 [00:00<?, ?it/s]"
      ]
     },
     "metadata": {},
     "output_type": "display_data"
    },
    {
     "data": {
      "application/vnd.jupyter.widget-view+json": {
       "model_id": "dab5e9bdf36b461d8d368cc54b74b035",
       "version_major": 2,
       "version_minor": 0
      },
      "text/plain": [
       "Evaluating:   0%|          | 0/115 [00:00<?, ?it/s]"
      ]
     },
     "metadata": {},
     "output_type": "display_data"
    },
    {
     "name": "stdout",
     "output_type": "stream",
     "text": [
      "Train Loss: 0.1314 | Val Loss: 0.3600\n",
      "\n",
      "Epoch 28/50\n"
     ]
    },
    {
     "data": {
      "application/vnd.jupyter.widget-view+json": {
       "model_id": "a50918f4f5f746a1a510495d655c521f",
       "version_major": 2,
       "version_minor": 0
      },
      "text/plain": [
       "Training:   0%|          | 0/267 [00:00<?, ?it/s]"
      ]
     },
     "metadata": {},
     "output_type": "display_data"
    },
    {
     "data": {
      "application/vnd.jupyter.widget-view+json": {
       "model_id": "ed053a14d4624d50bbbe3679961c6efe",
       "version_major": 2,
       "version_minor": 0
      },
      "text/plain": [
       "Evaluating:   0%|          | 0/115 [00:00<?, ?it/s]"
      ]
     },
     "metadata": {},
     "output_type": "display_data"
    },
    {
     "name": "stdout",
     "output_type": "stream",
     "text": [
      "Train Loss: 0.1377 | Val Loss: 0.3746\n",
      "\n",
      "Epoch 29/50\n"
     ]
    },
    {
     "data": {
      "application/vnd.jupyter.widget-view+json": {
       "model_id": "1ee901701fa84629a5ddaa240e92639d",
       "version_major": 2,
       "version_minor": 0
      },
      "text/plain": [
       "Training:   0%|          | 0/267 [00:00<?, ?it/s]"
      ]
     },
     "metadata": {},
     "output_type": "display_data"
    },
    {
     "data": {
      "application/vnd.jupyter.widget-view+json": {
       "model_id": "a2a7ccd4f5f444958b996ccc7fe75647",
       "version_major": 2,
       "version_minor": 0
      },
      "text/plain": [
       "Evaluating:   0%|          | 0/115 [00:00<?, ?it/s]"
      ]
     },
     "metadata": {},
     "output_type": "display_data"
    },
    {
     "name": "stdout",
     "output_type": "stream",
     "text": [
      "Train Loss: 0.1181 | Val Loss: 0.3825\n",
      "\n",
      "Epoch 30/50\n"
     ]
    },
    {
     "data": {
      "application/vnd.jupyter.widget-view+json": {
       "model_id": "c43024320f514100b6f2d5b7c670b26c",
       "version_major": 2,
       "version_minor": 0
      },
      "text/plain": [
       "Training:   0%|          | 0/267 [00:00<?, ?it/s]"
      ]
     },
     "metadata": {},
     "output_type": "display_data"
    },
    {
     "data": {
      "application/vnd.jupyter.widget-view+json": {
       "model_id": "2026f412293648ec880ba9c7ec44e132",
       "version_major": 2,
       "version_minor": 0
      },
      "text/plain": [
       "Evaluating:   0%|          | 0/115 [00:00<?, ?it/s]"
      ]
     },
     "metadata": {},
     "output_type": "display_data"
    },
    {
     "name": "stdout",
     "output_type": "stream",
     "text": [
      "Train Loss: 0.1151 | Val Loss: 0.3509\n",
      "Saved best model to best_model.pt\n",
      "\n",
      "Epoch 31/50\n"
     ]
    },
    {
     "data": {
      "application/vnd.jupyter.widget-view+json": {
       "model_id": "f97a1b08709745d6ae9ff2f65f6cc716",
       "version_major": 2,
       "version_minor": 0
      },
      "text/plain": [
       "Training:   0%|          | 0/267 [00:00<?, ?it/s]"
      ]
     },
     "metadata": {},
     "output_type": "display_data"
    },
    {
     "data": {
      "application/vnd.jupyter.widget-view+json": {
       "model_id": "fcc876b8e53f457fa76df141053175bc",
       "version_major": 2,
       "version_minor": 0
      },
      "text/plain": [
       "Evaluating:   0%|          | 0/115 [00:00<?, ?it/s]"
      ]
     },
     "metadata": {},
     "output_type": "display_data"
    },
    {
     "name": "stdout",
     "output_type": "stream",
     "text": [
      "Train Loss: 0.1018 | Val Loss: 0.3669\n",
      "\n",
      "Epoch 32/50\n"
     ]
    },
    {
     "data": {
      "application/vnd.jupyter.widget-view+json": {
       "model_id": "760ae089e9bf468ab6c6479763ca7e00",
       "version_major": 2,
       "version_minor": 0
      },
      "text/plain": [
       "Training:   0%|          | 0/267 [00:00<?, ?it/s]"
      ]
     },
     "metadata": {},
     "output_type": "display_data"
    },
    {
     "data": {
      "application/vnd.jupyter.widget-view+json": {
       "model_id": "152afe903a7a450f9097dc9ce28013eb",
       "version_major": 2,
       "version_minor": 0
      },
      "text/plain": [
       "Evaluating:   0%|          | 0/115 [00:00<?, ?it/s]"
      ]
     },
     "metadata": {},
     "output_type": "display_data"
    },
    {
     "name": "stdout",
     "output_type": "stream",
     "text": [
      "Train Loss: 0.0965 | Val Loss: 0.3473\n",
      "Saved best model to best_model.pt\n",
      "\n",
      "Epoch 33/50\n"
     ]
    },
    {
     "data": {
      "application/vnd.jupyter.widget-view+json": {
       "model_id": "06b5e261765a4ac9b6ecdec094ef0dfd",
       "version_major": 2,
       "version_minor": 0
      },
      "text/plain": [
       "Training:   0%|          | 0/267 [00:00<?, ?it/s]"
      ]
     },
     "metadata": {},
     "output_type": "display_data"
    },
    {
     "data": {
      "application/vnd.jupyter.widget-view+json": {
       "model_id": "765236cdb9164e2b9e4594268ce3d7da",
       "version_major": 2,
       "version_minor": 0
      },
      "text/plain": [
       "Evaluating:   0%|          | 0/115 [00:00<?, ?it/s]"
      ]
     },
     "metadata": {},
     "output_type": "display_data"
    },
    {
     "name": "stdout",
     "output_type": "stream",
     "text": [
      "Train Loss: 0.0870 | Val Loss: 0.3450\n",
      "Saved best model to best_model.pt\n",
      "\n",
      "Epoch 34/50\n"
     ]
    },
    {
     "data": {
      "application/vnd.jupyter.widget-view+json": {
       "model_id": "a45a702f5cdb42c0b0b82d83a5ab2eaf",
       "version_major": 2,
       "version_minor": 0
      },
      "text/plain": [
       "Training:   0%|          | 0/267 [00:00<?, ?it/s]"
      ]
     },
     "metadata": {},
     "output_type": "display_data"
    },
    {
     "data": {
      "application/vnd.jupyter.widget-view+json": {
       "model_id": "316f5eb54a544a12b190e5ec7d9db085",
       "version_major": 2,
       "version_minor": 0
      },
      "text/plain": [
       "Evaluating:   0%|          | 0/115 [00:00<?, ?it/s]"
      ]
     },
     "metadata": {},
     "output_type": "display_data"
    },
    {
     "name": "stdout",
     "output_type": "stream",
     "text": [
      "Train Loss: 0.0896 | Val Loss: 0.4287\n",
      "\n",
      "Epoch 35/50\n"
     ]
    },
    {
     "data": {
      "application/vnd.jupyter.widget-view+json": {
       "model_id": "b87c73a5c9d84244b609bd8c2a05ff07",
       "version_major": 2,
       "version_minor": 0
      },
      "text/plain": [
       "Training:   0%|          | 0/267 [00:00<?, ?it/s]"
      ]
     },
     "metadata": {},
     "output_type": "display_data"
    },
    {
     "data": {
      "application/vnd.jupyter.widget-view+json": {
       "model_id": "8a4552033c084419b9c448a689bc6f3c",
       "version_major": 2,
       "version_minor": 0
      },
      "text/plain": [
       "Evaluating:   0%|          | 0/115 [00:00<?, ?it/s]"
      ]
     },
     "metadata": {},
     "output_type": "display_data"
    },
    {
     "name": "stdout",
     "output_type": "stream",
     "text": [
      "Train Loss: 0.0897 | Val Loss: 0.3750\n",
      "\n",
      "Epoch 36/50\n"
     ]
    },
    {
     "data": {
      "application/vnd.jupyter.widget-view+json": {
       "model_id": "53f10da13d0f461abdc63f148919c27e",
       "version_major": 2,
       "version_minor": 0
      },
      "text/plain": [
       "Training:   0%|          | 0/267 [00:00<?, ?it/s]"
      ]
     },
     "metadata": {},
     "output_type": "display_data"
    },
    {
     "data": {
      "application/vnd.jupyter.widget-view+json": {
       "model_id": "29fe7681b99f421c8c1d81d585bad3d6",
       "version_major": 2,
       "version_minor": 0
      },
      "text/plain": [
       "Evaluating:   0%|          | 0/115 [00:00<?, ?it/s]"
      ]
     },
     "metadata": {},
     "output_type": "display_data"
    },
    {
     "name": "stdout",
     "output_type": "stream",
     "text": [
      "Train Loss: 0.0739 | Val Loss: 0.3516\n",
      "\n",
      "Epoch 37/50\n"
     ]
    },
    {
     "data": {
      "application/vnd.jupyter.widget-view+json": {
       "model_id": "70098aa5e7714b728e20104337c0ae9c",
       "version_major": 2,
       "version_minor": 0
      },
      "text/plain": [
       "Training:   0%|          | 0/267 [00:00<?, ?it/s]"
      ]
     },
     "metadata": {},
     "output_type": "display_data"
    },
    {
     "data": {
      "application/vnd.jupyter.widget-view+json": {
       "model_id": "00438a1d2d104c14b9f5f7cff308d746",
       "version_major": 2,
       "version_minor": 0
      },
      "text/plain": [
       "Evaluating:   0%|          | 0/115 [00:00<?, ?it/s]"
      ]
     },
     "metadata": {},
     "output_type": "display_data"
    },
    {
     "name": "stdout",
     "output_type": "stream",
     "text": [
      "Train Loss: 0.0781 | Val Loss: 0.3501\n",
      "\n",
      "Epoch 38/50\n"
     ]
    },
    {
     "data": {
      "application/vnd.jupyter.widget-view+json": {
       "model_id": "3dc13fc84bfd43f094445efcfa6a5b78",
       "version_major": 2,
       "version_minor": 0
      },
      "text/plain": [
       "Training:   0%|          | 0/267 [00:00<?, ?it/s]"
      ]
     },
     "metadata": {},
     "output_type": "display_data"
    },
    {
     "data": {
      "application/vnd.jupyter.widget-view+json": {
       "model_id": "ee2d0b1acfd74cd1adcb88aaf20f7e24",
       "version_major": 2,
       "version_minor": 0
      },
      "text/plain": [
       "Evaluating:   0%|          | 0/115 [00:00<?, ?it/s]"
      ]
     },
     "metadata": {},
     "output_type": "display_data"
    },
    {
     "name": "stdout",
     "output_type": "stream",
     "text": [
      "Train Loss: 0.0771 | Val Loss: 0.3671\n",
      "\n",
      "Epoch 39/50\n"
     ]
    },
    {
     "data": {
      "application/vnd.jupyter.widget-view+json": {
       "model_id": "6f9d8d7c67984351b07b580c2b013572",
       "version_major": 2,
       "version_minor": 0
      },
      "text/plain": [
       "Training:   0%|          | 0/267 [00:00<?, ?it/s]"
      ]
     },
     "metadata": {},
     "output_type": "display_data"
    },
    {
     "data": {
      "application/vnd.jupyter.widget-view+json": {
       "model_id": "a42d31686d9b47ffa96e192f2ab7be91",
       "version_major": 2,
       "version_minor": 0
      },
      "text/plain": [
       "Evaluating:   0%|          | 0/115 [00:00<?, ?it/s]"
      ]
     },
     "metadata": {},
     "output_type": "display_data"
    },
    {
     "name": "stdout",
     "output_type": "stream",
     "text": [
      "Train Loss: 0.0660 | Val Loss: 0.3652\n",
      "\n",
      "Epoch 40/50\n"
     ]
    },
    {
     "data": {
      "application/vnd.jupyter.widget-view+json": {
       "model_id": "d1444112581f4c248edf84bfb1c346d9",
       "version_major": 2,
       "version_minor": 0
      },
      "text/plain": [
       "Training:   0%|          | 0/267 [00:00<?, ?it/s]"
      ]
     },
     "metadata": {},
     "output_type": "display_data"
    },
    {
     "data": {
      "application/vnd.jupyter.widget-view+json": {
       "model_id": "cae41f7e14334969a3c583e588bae449",
       "version_major": 2,
       "version_minor": 0
      },
      "text/plain": [
       "Evaluating:   0%|          | 0/115 [00:00<?, ?it/s]"
      ]
     },
     "metadata": {},
     "output_type": "display_data"
    },
    {
     "name": "stdout",
     "output_type": "stream",
     "text": [
      "Train Loss: 0.0668 | Val Loss: 0.3483\n",
      "\n",
      "Epoch 41/50\n"
     ]
    },
    {
     "data": {
      "application/vnd.jupyter.widget-view+json": {
       "model_id": "38547c8f2d754eb695d033162d8bb1be",
       "version_major": 2,
       "version_minor": 0
      },
      "text/plain": [
       "Training:   0%|          | 0/267 [00:00<?, ?it/s]"
      ]
     },
     "metadata": {},
     "output_type": "display_data"
    },
    {
     "data": {
      "application/vnd.jupyter.widget-view+json": {
       "model_id": "e5958db88df542dea6aecf4d5c0b4280",
       "version_major": 2,
       "version_minor": 0
      },
      "text/plain": [
       "Evaluating:   0%|          | 0/115 [00:00<?, ?it/s]"
      ]
     },
     "metadata": {},
     "output_type": "display_data"
    },
    {
     "name": "stdout",
     "output_type": "stream",
     "text": [
      "Train Loss: 0.0657 | Val Loss: 0.3846\n",
      "\n",
      "Epoch 42/50\n"
     ]
    },
    {
     "data": {
      "application/vnd.jupyter.widget-view+json": {
       "model_id": "86cdae9eff69427bbf756a44c32b6097",
       "version_major": 2,
       "version_minor": 0
      },
      "text/plain": [
       "Training:   0%|          | 0/267 [00:00<?, ?it/s]"
      ]
     },
     "metadata": {},
     "output_type": "display_data"
    },
    {
     "data": {
      "application/vnd.jupyter.widget-view+json": {
       "model_id": "faec7a3621d04f0eb3083857b0613312",
       "version_major": 2,
       "version_minor": 0
      },
      "text/plain": [
       "Evaluating:   0%|          | 0/115 [00:00<?, ?it/s]"
      ]
     },
     "metadata": {},
     "output_type": "display_data"
    },
    {
     "name": "stdout",
     "output_type": "stream",
     "text": [
      "Train Loss: 0.0588 | Val Loss: 0.3610\n",
      "\n",
      "Epoch 43/50\n"
     ]
    },
    {
     "data": {
      "application/vnd.jupyter.widget-view+json": {
       "model_id": "760235ea441e4a329aa7f743868f6877",
       "version_major": 2,
       "version_minor": 0
      },
      "text/plain": [
       "Training:   0%|          | 0/267 [00:00<?, ?it/s]"
      ]
     },
     "metadata": {},
     "output_type": "display_data"
    },
    {
     "data": {
      "application/vnd.jupyter.widget-view+json": {
       "model_id": "e4314c04e6114ebb89f12fa9112c0073",
       "version_major": 2,
       "version_minor": 0
      },
      "text/plain": [
       "Evaluating:   0%|          | 0/115 [00:00<?, ?it/s]"
      ]
     },
     "metadata": {},
     "output_type": "display_data"
    },
    {
     "name": "stdout",
     "output_type": "stream",
     "text": [
      "Train Loss: 0.0601 | Val Loss: 0.3495\n",
      "\n",
      "Epoch 44/50\n"
     ]
    },
    {
     "data": {
      "application/vnd.jupyter.widget-view+json": {
       "model_id": "ed473d95ca194f9ca63b840818224649",
       "version_major": 2,
       "version_minor": 0
      },
      "text/plain": [
       "Training:   0%|          | 0/267 [00:00<?, ?it/s]"
      ]
     },
     "metadata": {},
     "output_type": "display_data"
    },
    {
     "data": {
      "application/vnd.jupyter.widget-view+json": {
       "model_id": "d47533e0e7544bc3b66277aadfa2fb0e",
       "version_major": 2,
       "version_minor": 0
      },
      "text/plain": [
       "Evaluating:   0%|          | 0/115 [00:00<?, ?it/s]"
      ]
     },
     "metadata": {},
     "output_type": "display_data"
    },
    {
     "name": "stdout",
     "output_type": "stream",
     "text": [
      "Train Loss: 0.0642 | Val Loss: 0.4145\n",
      "\n",
      "Epoch 45/50\n"
     ]
    },
    {
     "data": {
      "application/vnd.jupyter.widget-view+json": {
       "model_id": "89a0419bf196490993c11cbc3485a4dd",
       "version_major": 2,
       "version_minor": 0
      },
      "text/plain": [
       "Training:   0%|          | 0/267 [00:00<?, ?it/s]"
      ]
     },
     "metadata": {},
     "output_type": "display_data"
    },
    {
     "data": {
      "application/vnd.jupyter.widget-view+json": {
       "model_id": "f0d853eac00b45919e4bdfc2e87f53c3",
       "version_major": 2,
       "version_minor": 0
      },
      "text/plain": [
       "Evaluating:   0%|          | 0/115 [00:00<?, ?it/s]"
      ]
     },
     "metadata": {},
     "output_type": "display_data"
    },
    {
     "name": "stdout",
     "output_type": "stream",
     "text": [
      "Train Loss: 0.0624 | Val Loss: 0.3668\n",
      "\n",
      "Epoch 46/50\n"
     ]
    },
    {
     "data": {
      "application/vnd.jupyter.widget-view+json": {
       "model_id": "6c0d26f02fa3498f87d216f1df5e325b",
       "version_major": 2,
       "version_minor": 0
      },
      "text/plain": [
       "Training:   0%|          | 0/267 [00:00<?, ?it/s]"
      ]
     },
     "metadata": {},
     "output_type": "display_data"
    },
    {
     "data": {
      "application/vnd.jupyter.widget-view+json": {
       "model_id": "2cfaab30f8e34ff5b229a2a8f04532c3",
       "version_major": 2,
       "version_minor": 0
      },
      "text/plain": [
       "Evaluating:   0%|          | 0/115 [00:00<?, ?it/s]"
      ]
     },
     "metadata": {},
     "output_type": "display_data"
    },
    {
     "name": "stdout",
     "output_type": "stream",
     "text": [
      "Train Loss: 0.0507 | Val Loss: 0.3577\n",
      "\n",
      "Epoch 47/50\n"
     ]
    },
    {
     "data": {
      "application/vnd.jupyter.widget-view+json": {
       "model_id": "ab55a5569e1749c8bb6a1469d85d253c",
       "version_major": 2,
       "version_minor": 0
      },
      "text/plain": [
       "Training:   0%|          | 0/267 [00:00<?, ?it/s]"
      ]
     },
     "metadata": {},
     "output_type": "display_data"
    },
    {
     "data": {
      "application/vnd.jupyter.widget-view+json": {
       "model_id": "f8693f566d7b4a819ac0abb7158898ce",
       "version_major": 2,
       "version_minor": 0
      },
      "text/plain": [
       "Evaluating:   0%|          | 0/115 [00:00<?, ?it/s]"
      ]
     },
     "metadata": {},
     "output_type": "display_data"
    },
    {
     "name": "stdout",
     "output_type": "stream",
     "text": [
      "Train Loss: 0.0448 | Val Loss: 0.3556\n",
      "\n",
      "Epoch 48/50\n"
     ]
    },
    {
     "data": {
      "application/vnd.jupyter.widget-view+json": {
       "model_id": "65f49bdabc9e4327baa8f066b5154809",
       "version_major": 2,
       "version_minor": 0
      },
      "text/plain": [
       "Training:   0%|          | 0/267 [00:00<?, ?it/s]"
      ]
     },
     "metadata": {},
     "output_type": "display_data"
    },
    {
     "data": {
      "application/vnd.jupyter.widget-view+json": {
       "model_id": "6ccba09d68f7436b9d336b2fcccff04f",
       "version_major": 2,
       "version_minor": 0
      },
      "text/plain": [
       "Evaluating:   0%|          | 0/115 [00:00<?, ?it/s]"
      ]
     },
     "metadata": {},
     "output_type": "display_data"
    },
    {
     "name": "stdout",
     "output_type": "stream",
     "text": [
      "Train Loss: 0.0499 | Val Loss: 0.3872\n",
      "\n",
      "Epoch 49/50\n"
     ]
    },
    {
     "data": {
      "application/vnd.jupyter.widget-view+json": {
       "model_id": "20894bb923be4e5f89cc0c4a846c95de",
       "version_major": 2,
       "version_minor": 0
      },
      "text/plain": [
       "Training:   0%|          | 0/267 [00:00<?, ?it/s]"
      ]
     },
     "metadata": {},
     "output_type": "display_data"
    },
    {
     "data": {
      "application/vnd.jupyter.widget-view+json": {
       "model_id": "9afe062faaff461b85c49c4c6c12ba24",
       "version_major": 2,
       "version_minor": 0
      },
      "text/plain": [
       "Evaluating:   0%|          | 0/115 [00:00<?, ?it/s]"
      ]
     },
     "metadata": {},
     "output_type": "display_data"
    },
    {
     "name": "stdout",
     "output_type": "stream",
     "text": [
      "Train Loss: 0.0537 | Val Loss: 0.3538\n",
      "\n",
      "Epoch 50/50\n"
     ]
    },
    {
     "data": {
      "application/vnd.jupyter.widget-view+json": {
       "model_id": "61970085568c44109ed919812e36f1db",
       "version_major": 2,
       "version_minor": 0
      },
      "text/plain": [
       "Training:   0%|          | 0/267 [00:00<?, ?it/s]"
      ]
     },
     "metadata": {},
     "output_type": "display_data"
    },
    {
     "data": {
      "application/vnd.jupyter.widget-view+json": {
       "model_id": "b6ab4ddb12ed4e2b988cec3430e8d00f",
       "version_major": 2,
       "version_minor": 0
      },
      "text/plain": [
       "Evaluating:   0%|          | 0/115 [00:00<?, ?it/s]"
      ]
     },
     "metadata": {},
     "output_type": "display_data"
    },
    {
     "name": "stdout",
     "output_type": "stream",
     "text": [
      "Train Loss: 0.0418 | Val Loss: 0.3565\n"
     ]
    },
    {
     "data": {
      "image/png": "[encoded data removed]",
      "text/plain": [
       "<Figure size 800x400 with 1 Axes>"
      ]
     },
     "metadata": {},
     "output_type": "display_data"
    },
    {
     "name": "stdout",
     "output_type": "stream",
     "text": [
      "Saved loss curve to loss_curve.png\n"
     ]
    }
   ],
   "source": [
    "model = Im2LatexModel(\n",
    "    vocab_size=len(token2idx),\n",
    "    d_model=256,\n",
    "    max_seq_len=max_seq_length\n",
    ").to(\"cuda\")\n",
    "\n",
    "fit(\n",
    "    model=model,\n",
    "    train_loader=train_loader,\n",
    "    val_loader=val_loader,\n",
    "    token2idx=token2idx,\n",
    "    epochs=50,\n",
    "    lr=1e-4,\n",
    "    device=\"cuda\"\n",
    ")"
   ]
  },
  {
   "cell_type": "code",
   "execution_count": null,
   "id": "c4ab4f9e",
   "metadata": {},
   "outputs": [],
   "source": [
    "def beam_search_decode(model, image, token2idx, idx2token, beam_width=3, max_len=256):\n",
    "    model.eval()\n",
    "    device = next(model.parameters()).device\n",
    "    image = image.unsqueeze(0).to(device)\n",
    "    \n",
    "    with torch.no_grad():\n",
    "        memory = model.encoder(image)\n",
    "        memory = memory.expand(beam_width, *memory.shape[1:])  # [beam, H, W, D]\n",
    "\n",
    "        sequences = [[token2idx['<s>']]]\n",
    "        scores = torch.zeros(beam_width, device=device)\n",
    "        completed = []\n",
    "\n",
    "        for step in range(max_len):\n",
    "            all_candidates = []\n",
    "            for i, seq in enumerate(sequences):\n",
    "                if len(seq) > 1 and seq[-1] == token2idx['</s>']:\n",
    "                    completed.append((seq, scores[i].item()))\n",
    "                    continue\n",
    "\n",
    "                tgt_input = torch.tensor(seq, dtype=torch.long, device=device).unsqueeze(0)\n",
    "                tgt_mask = generate_square_subsequent_mask(tgt_input.size(1)).to(device)\n",
    "                output = model.decoder(tgt_input, memory[i:i+1], tgt_mask)\n",
    "                probs = torch.log_softmax(output[0, -1], dim=-1)\n",
    "\n",
    "                topk_probs, topk_idx = torch.topk(probs, beam_width)\n",
    "                for j in range(beam_width):\n",
    "                    candidate = seq + [topk_idx[j].item()]\n",
    "                    score = scores[i] + topk_probs[j]\n",
    "                    all_candidates.append((candidate, score))\n",
    "\n",
    "            all_candidates = sorted(all_candidates, key=lambda x: x[1], reverse=True)[:beam_width]\n",
    "            sequences = [cand[0] for cand in all_candidates]\n",
    "            scores = torch.tensor([cand[1] for cand in all_candidates], device=device)\n",
    "\n",
    "        completed += list(zip(sequences, scores.tolist()))\n",
    "        completed = sorted(completed, key=lambda x: x[1], reverse=True)\n",
    "\n",
    "        best_seq = completed[0][0]\n",
    "        return [idx2token[idx] for idx in best_seq[1:-1] if idx in idx2token]\n"
   ]
  },
  {
   "cell_type": "code",
   "execution_count": 30,
   "id": "80043422",
   "metadata": {},
   "outputs": [],
   "source": [
    "def evaluate_model_with_beam(model, dataset, token2idx, idx2token, num_samples=10, beam_width=3, max_len=256, visualize=True):\n",
    "    model.eval()\n",
    "    correct = 0\n",
    "    total = 0\n",
    "\n",
    "    def tokens_to_str(tokens):\n",
    "        return ''.join(t for t in tokens if t not in ['<s>', '</s>', '<pad>'])\n",
    "\n",
    "    for i in range(num_samples):\n",
    "        image, label = dataset[i]\n",
    "        pred_tokens = beam_search_decode(model, image, token2idx, idx2token, beam_width, max_len)\n",
    "        true_tokens = [idx2token[idx.item()] for idx in label if idx.item() != token2idx['<pad>']]\n",
    "\n",
    "        pred_str = tokens_to_str(pred_tokens)\n",
    "        true_str = tokens_to_str(true_tokens)\n",
    "\n",
    "        match = pred_str == true_str\n",
    "        correct += match\n",
    "        total += 1\n",
    "\n",
    "        print(f\"\\nSample {i + 1}\")\n",
    "        print(\"GT   :\", true_str)\n",
    "        print(\"Pred :\", pred_str)\n",
    "        print(\"Match\" if match else \"Mismatch\")\n",
    "\n",
    "        if visualize:\n",
    "            fig, axes = plt.subplots(1, 2, figsize=(12, 3))\n",
    "            axes[0].imshow(image.permute(1, 2, 0).squeeze(), cmap='gray')\n",
    "            axes[0].set_title(\"Input Image\")\n",
    "            axes[0].axis(\"off\")\n",
    "\n",
    "            axes[1].text(0.5, 0.7, f\"GT: ${true_str}$\", ha='center', fontsize=12)\n",
    "            axes[1].text(0.5, 0.3, f\"Pred: ${pred_str}$\", ha='center', fontsize=12)\n",
    "            axes[1].axis(\"off\")\n",
    "            plt.show()\n",
    "\n",
    "    acc = correct / total\n",
    "    print(f\"\\nBeam Search Accuracy (exact match): {acc * 100:.2f}%\")\n",
    "    return acc"
   ]
  },
  {
   "cell_type": "code",
   "execution_count": 31,
   "id": "ddeb896e",
   "metadata": {},
   "outputs": [
    {
     "name": "stdout",
     "output_type": "stream",
     "text": [
      "\n",
      "Sample 1\n",
      "GT   : 167\\pm 137+159\n",
      "Pred : 167\\pm 13777+159\n",
      "Mismatch\n"
     ]
    },
    {
     "data": {
      "image/png": "[encoded data removed]",
      "text/plain": [
       "<Figure size 1200x300 with 2 Axes>"
      ]
     },
     "metadata": {},
     "output_type": "display_data"
    },
    {
     "name": "stdout",
     "output_type": "stream",
     "text": [
      "\n",
      "Sample 2\n",
      "GT   : y=y_{b}-y_{a}\n",
      "Pred : y=y_{s}-y_{a}\n",
      "Mismatch\n"
     ]
    },
    {
     "data": {
      "image/png": "[encoded data removed]",
      "text/plain": [
       "<Figure size 1200x300 with 2 Axes>"
      ]
     },
     "metadata": {},
     "output_type": "display_data"
    },
    {
     "name": "stdout",
     "output_type": "stream",
     "text": [
      "\n",
      "Sample 3\n",
      "GT   : \\int x^{n}dx=\\frac {x^{n+1}}{n+1}+C\n",
      "Pred : \\int x^{n}dx=\\frac {x^{n+1}}{n+1}+C\n",
      "Match\n"
     ]
    },
    {
     "data": {
      "image/png": "[encoded data removed]",
      "text/plain": [
       "<Figure size 1200x300 with 2 Axes>"
      ]
     },
     "metadata": {},
     "output_type": "display_data"
    },
    {
     "name": "stdout",
     "output_type": "stream",
     "text": [
      "\n",
      "Sample 4\n",
      "GT   : B=\\int _{0}^{x}d^{n}x\\int _{x_{k}}^{x_{k+1}}dy\\int _{x_{l}}^{x_{l+1}}dzf(y,z)\n",
      "Pred : b=\\int _{0}^{x}d\\int _{a}^{\\pi }dx\\int _{a}^{\\pi y}dyf(y)}^{2}dyf(y)\n",
      "Mismatch\n"
     ]
    },
    {
     "ename": "ValueError",
     "evalue": "\nPred: $b=\\int _{0}^{x}d\\int _{a}^{\\pi }dx\\int _{a}^{\\pi y}dyf(y)}^{2}dyf(y)$\n      ^\nParseException: Expected end of text, found '$'  (at char 6), (line:1, col:7)",
     "output_type": "error",
     "traceback": [
      "\u001b[1;31m---------------------------------------------------------------------------\u001b[0m",
      "\u001b[1;31mValueError\u001b[0m                                Traceback (most recent call last)",
      "File \u001b[1;32mc:\\Users\\13658\\Desktop\\LaTex_Code_Generator\\.venv\\lib\\site-packages\\IPython\\core\\formatters.py:340\u001b[0m, in \u001b[0;36mBaseFormatter.__call__\u001b[1;34m(self, obj)\u001b[0m\n\u001b[0;32m    338\u001b[0m     \u001b[38;5;28;01mpass\u001b[39;00m\n\u001b[0;32m    339\u001b[0m \u001b[38;5;28;01melse\u001b[39;00m:\n\u001b[1;32m--> 340\u001b[0m     \u001b[38;5;28;01mreturn\u001b[39;00m \u001b[43mprinter\u001b[49m\u001b[43m(\u001b[49m\u001b[43mobj\u001b[49m\u001b[43m)\u001b[49m\n\u001b[0;32m    341\u001b[0m \u001b[38;5;66;03m# Finally look for special method names\u001b[39;00m\n\u001b[0;32m    342\u001b[0m method \u001b[38;5;241m=\u001b[39m get_real_method(obj, \u001b[38;5;28mself\u001b[39m\u001b[38;5;241m.\u001b[39mprint_method)\n",
      "File \u001b[1;32mc:\\Users\\13658\\Desktop\\LaTex_Code_Generator\\.venv\\lib\\site-packages\\IPython\\core\\pylabtools.py:152\u001b[0m, in \u001b[0;36mprint_figure\u001b[1;34m(fig, fmt, bbox_inches, base64, **kwargs)\u001b[0m\n\u001b[0;32m    149\u001b[0m     \u001b[38;5;28;01mfrom\u001b[39;00m\u001b[38;5;250m \u001b[39m\u001b[38;5;21;01mmatplotlib\u001b[39;00m\u001b[38;5;21;01m.\u001b[39;00m\u001b[38;5;21;01mbackend_bases\u001b[39;00m\u001b[38;5;250m \u001b[39m\u001b[38;5;28;01mimport\u001b[39;00m FigureCanvasBase\n\u001b[0;32m    150\u001b[0m     FigureCanvasBase(fig)\n\u001b[1;32m--> 152\u001b[0m fig\u001b[38;5;241m.\u001b[39mcanvas\u001b[38;5;241m.\u001b[39mprint_figure(bytes_io, \u001b[38;5;241m*\u001b[39m\u001b[38;5;241m*\u001b[39mkw)\n\u001b[0;32m    153\u001b[0m data \u001b[38;5;241m=\u001b[39m bytes_io\u001b[38;5;241m.\u001b[39mgetvalue()\n\u001b[0;32m    154\u001b[0m \u001b[38;5;28;01mif\u001b[39;00m fmt \u001b[38;5;241m==\u001b[39m \u001b[38;5;124m'\u001b[39m\u001b[38;5;124msvg\u001b[39m\u001b[38;5;124m'\u001b[39m:\n",
      "File \u001b[1;32mc:\\Users\\13658\\Desktop\\LaTex_Code_Generator\\.venv\\lib\\site-packages\\matplotlib\\backend_bases.py:2175\u001b[0m, in \u001b[0;36mFigureCanvasBase.print_figure\u001b[1;34m(self, filename, dpi, facecolor, edgecolor, orientation, format, bbox_inches, pad_inches, bbox_extra_artists, backend, **kwargs)\u001b[0m\n\u001b[0;32m   2172\u001b[0m     \u001b[38;5;66;03m# we do this instead of `self.figure.draw_without_rendering`\u001b[39;00m\n\u001b[0;32m   2173\u001b[0m     \u001b[38;5;66;03m# so that we can inject the orientation\u001b[39;00m\n\u001b[0;32m   2174\u001b[0m     \u001b[38;5;28;01mwith\u001b[39;00m \u001b[38;5;28mgetattr\u001b[39m(renderer, \u001b[38;5;124m\"\u001b[39m\u001b[38;5;124m_draw_disabled\u001b[39m\u001b[38;5;124m\"\u001b[39m, nullcontext)():\n\u001b[1;32m-> 2175\u001b[0m         \u001b[38;5;28;43mself\u001b[39;49m\u001b[38;5;241;43m.\u001b[39;49m\u001b[43mfigure\u001b[49m\u001b[38;5;241;43m.\u001b[39;49m\u001b[43mdraw\u001b[49m\u001b[43m(\u001b[49m\u001b[43mrenderer\u001b[49m\u001b[43m)\u001b[49m\n\u001b[0;32m   2176\u001b[0m \u001b[38;5;28;01mif\u001b[39;00m bbox_inches:\n\u001b[0;32m   2177\u001b[0m     \u001b[38;5;28;01mif\u001b[39;00m bbox_inches \u001b[38;5;241m==\u001b[39m \u001b[38;5;124m\"\u001b[39m\u001b[38;5;124mtight\u001b[39m\u001b[38;5;124m\"\u001b[39m:\n",
      "File \u001b[1;32mc:\\Users\\13658\\Desktop\\LaTex_Code_Generator\\.venv\\lib\\site-packages\\matplotlib\\artist.py:95\u001b[0m, in \u001b[0;36m_finalize_rasterization.<locals>.draw_wrapper\u001b[1;34m(artist, renderer, *args, **kwargs)\u001b[0m\n\u001b[0;32m     93\u001b[0m \u001b[38;5;129m@wraps\u001b[39m(draw)\n\u001b[0;32m     94\u001b[0m \u001b[38;5;28;01mdef\u001b[39;00m\u001b[38;5;250m \u001b[39m\u001b[38;5;21mdraw_wrapper\u001b[39m(artist, renderer, \u001b[38;5;241m*\u001b[39margs, \u001b[38;5;241m*\u001b[39m\u001b[38;5;241m*\u001b[39mkwargs):\n\u001b[1;32m---> 95\u001b[0m     result \u001b[38;5;241m=\u001b[39m draw(artist, renderer, \u001b[38;5;241m*\u001b[39margs, \u001b[38;5;241m*\u001b[39m\u001b[38;5;241m*\u001b[39mkwargs)\n\u001b[0;32m     96\u001b[0m     \u001b[38;5;28;01mif\u001b[39;00m renderer\u001b[38;5;241m.\u001b[39m_rasterizing:\n\u001b[0;32m     97\u001b[0m         renderer\u001b[38;5;241m.\u001b[39mstop_rasterizing()\n",
      "File \u001b[1;32mc:\\Users\\13658\\Desktop\\LaTex_Code_Generator\\.venv\\lib\\site-packages\\matplotlib\\artist.py:72\u001b[0m, in \u001b[0;36mallow_rasterization.<locals>.draw_wrapper\u001b[1;34m(artist, renderer)\u001b[0m\n\u001b[0;32m     69\u001b[0m     \u001b[38;5;28;01mif\u001b[39;00m artist\u001b[38;5;241m.\u001b[39mget_agg_filter() \u001b[38;5;129;01mis\u001b[39;00m \u001b[38;5;129;01mnot\u001b[39;00m \u001b[38;5;28;01mNone\u001b[39;00m:\n\u001b[0;32m     70\u001b[0m         renderer\u001b[38;5;241m.\u001b[39mstart_filter()\n\u001b[1;32m---> 72\u001b[0m     \u001b[38;5;28;01mreturn\u001b[39;00m \u001b[43mdraw\u001b[49m\u001b[43m(\u001b[49m\u001b[43martist\u001b[49m\u001b[43m,\u001b[49m\u001b[43m \u001b[49m\u001b[43mrenderer\u001b[49m\u001b[43m)\u001b[49m\n\u001b[0;32m     73\u001b[0m \u001b[38;5;28;01mfinally\u001b[39;00m:\n\u001b[0;32m     74\u001b[0m     \u001b[38;5;28;01mif\u001b[39;00m artist\u001b[38;5;241m.\u001b[39mget_agg_filter() \u001b[38;5;129;01mis\u001b[39;00m \u001b[38;5;129;01mnot\u001b[39;00m \u001b[38;5;28;01mNone\u001b[39;00m:\n",
      "File \u001b[1;32mc:\\Users\\13658\\Desktop\\LaTex_Code_Generator\\.venv\\lib\\site-packages\\matplotlib\\figure.py:3162\u001b[0m, in \u001b[0;36mFigure.draw\u001b[1;34m(self, renderer)\u001b[0m\n\u001b[0;32m   3159\u001b[0m             \u001b[38;5;66;03m# ValueError can occur when resizing a window.\u001b[39;00m\n\u001b[0;32m   3161\u001b[0m     \u001b[38;5;28mself\u001b[39m\u001b[38;5;241m.\u001b[39mpatch\u001b[38;5;241m.\u001b[39mdraw(renderer)\n\u001b[1;32m-> 3162\u001b[0m     \u001b[43mmimage\u001b[49m\u001b[38;5;241;43m.\u001b[39;49m\u001b[43m_draw_list_compositing_images\u001b[49m\u001b[43m(\u001b[49m\n\u001b[0;32m   3163\u001b[0m \u001b[43m        \u001b[49m\u001b[43mrenderer\u001b[49m\u001b[43m,\u001b[49m\u001b[43m \u001b[49m\u001b[38;5;28;43mself\u001b[39;49m\u001b[43m,\u001b[49m\u001b[43m \u001b[49m\u001b[43martists\u001b[49m\u001b[43m,\u001b[49m\u001b[43m \u001b[49m\u001b[38;5;28;43mself\u001b[39;49m\u001b[38;5;241;43m.\u001b[39;49m\u001b[43msuppressComposite\u001b[49m\u001b[43m)\u001b[49m\n\u001b[0;32m   3165\u001b[0m     renderer\u001b[38;5;241m.\u001b[39mclose_group(\u001b[38;5;124m'\u001b[39m\u001b[38;5;124mfigure\u001b[39m\u001b[38;5;124m'\u001b[39m)\n\u001b[0;32m   3166\u001b[0m \u001b[38;5;28;01mfinally\u001b[39;00m:\n",
      "File \u001b[1;32mc:\\Users\\13658\\Desktop\\LaTex_Code_Generator\\.venv\\lib\\site-packages\\matplotlib\\image.py:132\u001b[0m, in \u001b[0;36m_draw_list_compositing_images\u001b[1;34m(renderer, parent, artists, suppress_composite)\u001b[0m\n\u001b[0;32m    130\u001b[0m \u001b[38;5;28;01mif\u001b[39;00m not_composite \u001b[38;5;129;01mor\u001b[39;00m \u001b[38;5;129;01mnot\u001b[39;00m has_images:\n\u001b[0;32m    131\u001b[0m     \u001b[38;5;28;01mfor\u001b[39;00m a \u001b[38;5;129;01min\u001b[39;00m artists:\n\u001b[1;32m--> 132\u001b[0m         \u001b[43ma\u001b[49m\u001b[38;5;241;43m.\u001b[39;49m\u001b[43mdraw\u001b[49m\u001b[43m(\u001b[49m\u001b[43mrenderer\u001b[49m\u001b[43m)\u001b[49m\n\u001b[0;32m    133\u001b[0m \u001b[38;5;28;01melse\u001b[39;00m:\n\u001b[0;32m    134\u001b[0m     \u001b[38;5;66;03m# Composite any adjacent images together\u001b[39;00m\n\u001b[0;32m    135\u001b[0m     image_group \u001b[38;5;241m=\u001b[39m []\n",
      "File \u001b[1;32mc:\\Users\\13658\\Desktop\\LaTex_Code_Generator\\.venv\\lib\\site-packages\\matplotlib\\artist.py:72\u001b[0m, in \u001b[0;36mallow_rasterization.<locals>.draw_wrapper\u001b[1;34m(artist, renderer)\u001b[0m\n\u001b[0;32m     69\u001b[0m     \u001b[38;5;28;01mif\u001b[39;00m artist\u001b[38;5;241m.\u001b[39mget_agg_filter() \u001b[38;5;129;01mis\u001b[39;00m \u001b[38;5;129;01mnot\u001b[39;00m \u001b[38;5;28;01mNone\u001b[39;00m:\n\u001b[0;32m     70\u001b[0m         renderer\u001b[38;5;241m.\u001b[39mstart_filter()\n\u001b[1;32m---> 72\u001b[0m     \u001b[38;5;28;01mreturn\u001b[39;00m \u001b[43mdraw\u001b[49m\u001b[43m(\u001b[49m\u001b[43martist\u001b[49m\u001b[43m,\u001b[49m\u001b[43m \u001b[49m\u001b[43mrenderer\u001b[49m\u001b[43m)\u001b[49m\n\u001b[0;32m     73\u001b[0m \u001b[38;5;28;01mfinally\u001b[39;00m:\n\u001b[0;32m     74\u001b[0m     \u001b[38;5;28;01mif\u001b[39;00m artist\u001b[38;5;241m.\u001b[39mget_agg_filter() \u001b[38;5;129;01mis\u001b[39;00m \u001b[38;5;129;01mnot\u001b[39;00m \u001b[38;5;28;01mNone\u001b[39;00m:\n",
      "File \u001b[1;32mc:\\Users\\13658\\Desktop\\LaTex_Code_Generator\\.venv\\lib\\site-packages\\matplotlib\\axes\\_base.py:3137\u001b[0m, in \u001b[0;36m_AxesBase.draw\u001b[1;34m(self, renderer)\u001b[0m\n\u001b[0;32m   3134\u001b[0m \u001b[38;5;28;01mif\u001b[39;00m artists_rasterized:\n\u001b[0;32m   3135\u001b[0m     _draw_rasterized(\u001b[38;5;28mself\u001b[39m\u001b[38;5;241m.\u001b[39mfigure, artists_rasterized, renderer)\n\u001b[1;32m-> 3137\u001b[0m \u001b[43mmimage\u001b[49m\u001b[38;5;241;43m.\u001b[39;49m\u001b[43m_draw_list_compositing_images\u001b[49m\u001b[43m(\u001b[49m\n\u001b[0;32m   3138\u001b[0m \u001b[43m    \u001b[49m\u001b[43mrenderer\u001b[49m\u001b[43m,\u001b[49m\u001b[43m \u001b[49m\u001b[38;5;28;43mself\u001b[39;49m\u001b[43m,\u001b[49m\u001b[43m \u001b[49m\u001b[43martists\u001b[49m\u001b[43m,\u001b[49m\u001b[43m \u001b[49m\u001b[38;5;28;43mself\u001b[39;49m\u001b[38;5;241;43m.\u001b[39;49m\u001b[43mfigure\u001b[49m\u001b[38;5;241;43m.\u001b[39;49m\u001b[43msuppressComposite\u001b[49m\u001b[43m)\u001b[49m\n\u001b[0;32m   3140\u001b[0m renderer\u001b[38;5;241m.\u001b[39mclose_group(\u001b[38;5;124m'\u001b[39m\u001b[38;5;124maxes\u001b[39m\u001b[38;5;124m'\u001b[39m)\n\u001b[0;32m   3141\u001b[0m \u001b[38;5;28mself\u001b[39m\u001b[38;5;241m.\u001b[39mstale \u001b[38;5;241m=\u001b[39m \u001b[38;5;28;01mFalse\u001b[39;00m\n",
      "File \u001b[1;32mc:\\Users\\13658\\Desktop\\LaTex_Code_Generator\\.venv\\lib\\site-packages\\matplotlib\\image.py:132\u001b[0m, in \u001b[0;36m_draw_list_compositing_images\u001b[1;34m(renderer, parent, artists, suppress_composite)\u001b[0m\n\u001b[0;32m    130\u001b[0m \u001b[38;5;28;01mif\u001b[39;00m not_composite \u001b[38;5;129;01mor\u001b[39;00m \u001b[38;5;129;01mnot\u001b[39;00m has_images:\n\u001b[0;32m    131\u001b[0m     \u001b[38;5;28;01mfor\u001b[39;00m a \u001b[38;5;129;01min\u001b[39;00m artists:\n\u001b[1;32m--> 132\u001b[0m         \u001b[43ma\u001b[49m\u001b[38;5;241;43m.\u001b[39;49m\u001b[43mdraw\u001b[49m\u001b[43m(\u001b[49m\u001b[43mrenderer\u001b[49m\u001b[43m)\u001b[49m\n\u001b[0;32m    133\u001b[0m \u001b[38;5;28;01melse\u001b[39;00m:\n\u001b[0;32m    134\u001b[0m     \u001b[38;5;66;03m# Composite any adjacent images together\u001b[39;00m\n\u001b[0;32m    135\u001b[0m     image_group \u001b[38;5;241m=\u001b[39m []\n",
      "File \u001b[1;32mc:\\Users\\13658\\Desktop\\LaTex_Code_Generator\\.venv\\lib\\site-packages\\matplotlib\\artist.py:72\u001b[0m, in \u001b[0;36mallow_rasterization.<locals>.draw_wrapper\u001b[1;34m(artist, renderer)\u001b[0m\n\u001b[0;32m     69\u001b[0m     \u001b[38;5;28;01mif\u001b[39;00m artist\u001b[38;5;241m.\u001b[39mget_agg_filter() \u001b[38;5;129;01mis\u001b[39;00m \u001b[38;5;129;01mnot\u001b[39;00m \u001b[38;5;28;01mNone\u001b[39;00m:\n\u001b[0;32m     70\u001b[0m         renderer\u001b[38;5;241m.\u001b[39mstart_filter()\n\u001b[1;32m---> 72\u001b[0m     \u001b[38;5;28;01mreturn\u001b[39;00m \u001b[43mdraw\u001b[49m\u001b[43m(\u001b[49m\u001b[43martist\u001b[49m\u001b[43m,\u001b[49m\u001b[43m \u001b[49m\u001b[43mrenderer\u001b[49m\u001b[43m)\u001b[49m\n\u001b[0;32m     73\u001b[0m \u001b[38;5;28;01mfinally\u001b[39;00m:\n\u001b[0;32m     74\u001b[0m     \u001b[38;5;28;01mif\u001b[39;00m artist\u001b[38;5;241m.\u001b[39mget_agg_filter() \u001b[38;5;129;01mis\u001b[39;00m \u001b[38;5;129;01mnot\u001b[39;00m \u001b[38;5;28;01mNone\u001b[39;00m:\n",
      "File \u001b[1;32mc:\\Users\\13658\\Desktop\\LaTex_Code_Generator\\.venv\\lib\\site-packages\\matplotlib\\text.py:751\u001b[0m, in \u001b[0;36mText.draw\u001b[1;34m(self, renderer)\u001b[0m\n\u001b[0;32m    748\u001b[0m renderer\u001b[38;5;241m.\u001b[39mopen_group(\u001b[38;5;124m'\u001b[39m\u001b[38;5;124mtext\u001b[39m\u001b[38;5;124m'\u001b[39m, \u001b[38;5;28mself\u001b[39m\u001b[38;5;241m.\u001b[39mget_gid())\n\u001b[0;32m    750\u001b[0m \u001b[38;5;28;01mwith\u001b[39;00m \u001b[38;5;28mself\u001b[39m\u001b[38;5;241m.\u001b[39m_cm_set(text\u001b[38;5;241m=\u001b[39m\u001b[38;5;28mself\u001b[39m\u001b[38;5;241m.\u001b[39m_get_wrapped_text()):\n\u001b[1;32m--> 751\u001b[0m     bbox, info, descent \u001b[38;5;241m=\u001b[39m \u001b[38;5;28;43mself\u001b[39;49m\u001b[38;5;241;43m.\u001b[39;49m\u001b[43m_get_layout\u001b[49m\u001b[43m(\u001b[49m\u001b[43mrenderer\u001b[49m\u001b[43m)\u001b[49m\n\u001b[0;32m    752\u001b[0m     trans \u001b[38;5;241m=\u001b[39m \u001b[38;5;28mself\u001b[39m\u001b[38;5;241m.\u001b[39mget_transform()\n\u001b[0;32m    754\u001b[0m     \u001b[38;5;66;03m# don't use self.get_position here, which refers to text\u001b[39;00m\n\u001b[0;32m    755\u001b[0m     \u001b[38;5;66;03m# position in Text:\u001b[39;00m\n",
      "File \u001b[1;32mc:\\Users\\13658\\Desktop\\LaTex_Code_Generator\\.venv\\lib\\site-packages\\matplotlib\\text.py:381\u001b[0m, in \u001b[0;36mText._get_layout\u001b[1;34m(self, renderer)\u001b[0m\n\u001b[0;32m    379\u001b[0m clean_line, ismath \u001b[38;5;241m=\u001b[39m \u001b[38;5;28mself\u001b[39m\u001b[38;5;241m.\u001b[39m_preprocess_math(line)\n\u001b[0;32m    380\u001b[0m \u001b[38;5;28;01mif\u001b[39;00m clean_line:\n\u001b[1;32m--> 381\u001b[0m     w, h, d \u001b[38;5;241m=\u001b[39m \u001b[43m_get_text_metrics_with_cache\u001b[49m\u001b[43m(\u001b[49m\n\u001b[0;32m    382\u001b[0m \u001b[43m        \u001b[49m\u001b[43mrenderer\u001b[49m\u001b[43m,\u001b[49m\u001b[43m \u001b[49m\u001b[43mclean_line\u001b[49m\u001b[43m,\u001b[49m\u001b[43m \u001b[49m\u001b[38;5;28;43mself\u001b[39;49m\u001b[38;5;241;43m.\u001b[39;49m\u001b[43m_fontproperties\u001b[49m\u001b[43m,\u001b[49m\n\u001b[0;32m    383\u001b[0m \u001b[43m        \u001b[49m\u001b[43mismath\u001b[49m\u001b[38;5;241;43m=\u001b[39;49m\u001b[43mismath\u001b[49m\u001b[43m,\u001b[49m\u001b[43m \u001b[49m\u001b[43mdpi\u001b[49m\u001b[38;5;241;43m=\u001b[39;49m\u001b[38;5;28;43mself\u001b[39;49m\u001b[38;5;241;43m.\u001b[39;49m\u001b[43mfigure\u001b[49m\u001b[38;5;241;43m.\u001b[39;49m\u001b[43mdpi\u001b[49m\u001b[43m)\u001b[49m\n\u001b[0;32m    384\u001b[0m \u001b[38;5;28;01melse\u001b[39;00m:\n\u001b[0;32m    385\u001b[0m     w \u001b[38;5;241m=\u001b[39m h \u001b[38;5;241m=\u001b[39m d \u001b[38;5;241m=\u001b[39m \u001b[38;5;241m0\u001b[39m\n",
      "File \u001b[1;32mc:\\Users\\13658\\Desktop\\LaTex_Code_Generator\\.venv\\lib\\site-packages\\matplotlib\\text.py:69\u001b[0m, in \u001b[0;36m_get_text_metrics_with_cache\u001b[1;34m(renderer, text, fontprop, ismath, dpi)\u001b[0m\n\u001b[0;32m     66\u001b[0m \u001b[38;5;250m\u001b[39m\u001b[38;5;124;03m\"\"\"Call ``renderer.get_text_width_height_descent``, caching the results.\"\"\"\u001b[39;00m\n\u001b[0;32m     67\u001b[0m \u001b[38;5;66;03m# Cached based on a copy of fontprop so that later in-place mutations of\u001b[39;00m\n\u001b[0;32m     68\u001b[0m \u001b[38;5;66;03m# the passed-in argument do not mess up the cache.\u001b[39;00m\n\u001b[1;32m---> 69\u001b[0m \u001b[38;5;28;01mreturn\u001b[39;00m \u001b[43m_get_text_metrics_with_cache_impl\u001b[49m\u001b[43m(\u001b[49m\n\u001b[0;32m     70\u001b[0m \u001b[43m    \u001b[49m\u001b[43mweakref\u001b[49m\u001b[38;5;241;43m.\u001b[39;49m\u001b[43mref\u001b[49m\u001b[43m(\u001b[49m\u001b[43mrenderer\u001b[49m\u001b[43m)\u001b[49m\u001b[43m,\u001b[49m\u001b[43m \u001b[49m\u001b[43mtext\u001b[49m\u001b[43m,\u001b[49m\u001b[43m \u001b[49m\u001b[43mfontprop\u001b[49m\u001b[38;5;241;43m.\u001b[39;49m\u001b[43mcopy\u001b[49m\u001b[43m(\u001b[49m\u001b[43m)\u001b[49m\u001b[43m,\u001b[49m\u001b[43m \u001b[49m\u001b[43mismath\u001b[49m\u001b[43m,\u001b[49m\u001b[43m \u001b[49m\u001b[43mdpi\u001b[49m\u001b[43m)\u001b[49m\n",
      "File \u001b[1;32mc:\\Users\\13658\\Desktop\\LaTex_Code_Generator\\.venv\\lib\\site-packages\\matplotlib\\text.py:77\u001b[0m, in \u001b[0;36m_get_text_metrics_with_cache_impl\u001b[1;34m(renderer_ref, text, fontprop, ismath, dpi)\u001b[0m\n\u001b[0;32m     73\u001b[0m \u001b[38;5;129m@functools\u001b[39m\u001b[38;5;241m.\u001b[39mlru_cache(\u001b[38;5;241m4096\u001b[39m)\n\u001b[0;32m     74\u001b[0m \u001b[38;5;28;01mdef\u001b[39;00m\u001b[38;5;250m \u001b[39m\u001b[38;5;21m_get_text_metrics_with_cache_impl\u001b[39m(\n\u001b[0;32m     75\u001b[0m         renderer_ref, text, fontprop, ismath, dpi):\n\u001b[0;32m     76\u001b[0m     \u001b[38;5;66;03m# dpi is unused, but participates in cache invalidation (via the renderer).\u001b[39;00m\n\u001b[1;32m---> 77\u001b[0m     \u001b[38;5;28;01mreturn\u001b[39;00m \u001b[43mrenderer_ref\u001b[49m\u001b[43m(\u001b[49m\u001b[43m)\u001b[49m\u001b[38;5;241;43m.\u001b[39;49m\u001b[43mget_text_width_height_descent\u001b[49m\u001b[43m(\u001b[49m\u001b[43mtext\u001b[49m\u001b[43m,\u001b[49m\u001b[43m \u001b[49m\u001b[43mfontprop\u001b[49m\u001b[43m,\u001b[49m\u001b[43m \u001b[49m\u001b[43mismath\u001b[49m\u001b[43m)\u001b[49m\n",
      "File \u001b[1;32mc:\\Users\\13658\\Desktop\\LaTex_Code_Generator\\.venv\\lib\\site-packages\\matplotlib\\backends\\backend_agg.py:216\u001b[0m, in \u001b[0;36mRendererAgg.get_text_width_height_descent\u001b[1;34m(self, s, prop, ismath)\u001b[0m\n\u001b[0;32m    212\u001b[0m     \u001b[38;5;28;01mreturn\u001b[39;00m \u001b[38;5;28msuper\u001b[39m()\u001b[38;5;241m.\u001b[39mget_text_width_height_descent(s, prop, ismath)\n\u001b[0;32m    214\u001b[0m \u001b[38;5;28;01mif\u001b[39;00m ismath:\n\u001b[0;32m    215\u001b[0m     ox, oy, width, height, descent, font_image \u001b[38;5;241m=\u001b[39m \\\n\u001b[1;32m--> 216\u001b[0m         \u001b[38;5;28;43mself\u001b[39;49m\u001b[38;5;241;43m.\u001b[39;49m\u001b[43mmathtext_parser\u001b[49m\u001b[38;5;241;43m.\u001b[39;49m\u001b[43mparse\u001b[49m\u001b[43m(\u001b[49m\u001b[43ms\u001b[49m\u001b[43m,\u001b[49m\u001b[43m \u001b[49m\u001b[38;5;28;43mself\u001b[39;49m\u001b[38;5;241;43m.\u001b[39;49m\u001b[43mdpi\u001b[49m\u001b[43m,\u001b[49m\u001b[43m \u001b[49m\u001b[43mprop\u001b[49m\u001b[43m)\u001b[49m\n\u001b[0;32m    217\u001b[0m     \u001b[38;5;28;01mreturn\u001b[39;00m width, height, descent\n\u001b[0;32m    219\u001b[0m font \u001b[38;5;241m=\u001b[39m \u001b[38;5;28mself\u001b[39m\u001b[38;5;241m.\u001b[39m_prepare_font(prop)\n",
      "File \u001b[1;32mc:\\Users\\13658\\Desktop\\LaTex_Code_Generator\\.venv\\lib\\site-packages\\matplotlib\\mathtext.py:79\u001b[0m, in \u001b[0;36mMathTextParser.parse\u001b[1;34m(self, s, dpi, prop, antialiased)\u001b[0m\n\u001b[0;32m     77\u001b[0m prop \u001b[38;5;241m=\u001b[39m prop\u001b[38;5;241m.\u001b[39mcopy() \u001b[38;5;28;01mif\u001b[39;00m prop \u001b[38;5;129;01mis\u001b[39;00m \u001b[38;5;129;01mnot\u001b[39;00m \u001b[38;5;28;01mNone\u001b[39;00m \u001b[38;5;28;01melse\u001b[39;00m \u001b[38;5;28;01mNone\u001b[39;00m\n\u001b[0;32m     78\u001b[0m antialiased \u001b[38;5;241m=\u001b[39m mpl\u001b[38;5;241m.\u001b[39m_val_or_rc(antialiased, \u001b[38;5;124m'\u001b[39m\u001b[38;5;124mtext.antialiased\u001b[39m\u001b[38;5;124m'\u001b[39m)\n\u001b[1;32m---> 79\u001b[0m \u001b[38;5;28;01mreturn\u001b[39;00m \u001b[38;5;28;43mself\u001b[39;49m\u001b[38;5;241;43m.\u001b[39;49m\u001b[43m_parse_cached\u001b[49m\u001b[43m(\u001b[49m\u001b[43ms\u001b[49m\u001b[43m,\u001b[49m\u001b[43m \u001b[49m\u001b[43mdpi\u001b[49m\u001b[43m,\u001b[49m\u001b[43m \u001b[49m\u001b[43mprop\u001b[49m\u001b[43m,\u001b[49m\u001b[43m \u001b[49m\u001b[43mantialiased\u001b[49m\u001b[43m)\u001b[49m\n",
      "File \u001b[1;32mc:\\Users\\13658\\Desktop\\LaTex_Code_Generator\\.venv\\lib\\site-packages\\matplotlib\\mathtext.py:100\u001b[0m, in \u001b[0;36mMathTextParser._parse_cached\u001b[1;34m(self, s, dpi, prop, antialiased)\u001b[0m\n\u001b[0;32m     97\u001b[0m \u001b[38;5;28;01mif\u001b[39;00m \u001b[38;5;28mself\u001b[39m\u001b[38;5;241m.\u001b[39m_parser \u001b[38;5;129;01mis\u001b[39;00m \u001b[38;5;28;01mNone\u001b[39;00m:  \u001b[38;5;66;03m# Cache the parser globally.\u001b[39;00m\n\u001b[0;32m     98\u001b[0m     \u001b[38;5;28mself\u001b[39m\u001b[38;5;241m.\u001b[39m\u001b[38;5;18m__class__\u001b[39m\u001b[38;5;241m.\u001b[39m_parser \u001b[38;5;241m=\u001b[39m _mathtext\u001b[38;5;241m.\u001b[39mParser()\n\u001b[1;32m--> 100\u001b[0m box \u001b[38;5;241m=\u001b[39m \u001b[38;5;28;43mself\u001b[39;49m\u001b[38;5;241;43m.\u001b[39;49m\u001b[43m_parser\u001b[49m\u001b[38;5;241;43m.\u001b[39;49m\u001b[43mparse\u001b[49m\u001b[43m(\u001b[49m\u001b[43ms\u001b[49m\u001b[43m,\u001b[49m\u001b[43m \u001b[49m\u001b[43mfontset\u001b[49m\u001b[43m,\u001b[49m\u001b[43m \u001b[49m\u001b[43mfontsize\u001b[49m\u001b[43m,\u001b[49m\u001b[43m \u001b[49m\u001b[43mdpi\u001b[49m\u001b[43m)\u001b[49m\n\u001b[0;32m    101\u001b[0m output \u001b[38;5;241m=\u001b[39m _mathtext\u001b[38;5;241m.\u001b[39mship(box)\n\u001b[0;32m    102\u001b[0m \u001b[38;5;28;01mif\u001b[39;00m \u001b[38;5;28mself\u001b[39m\u001b[38;5;241m.\u001b[39m_output_type \u001b[38;5;241m==\u001b[39m \u001b[38;5;124m\"\u001b[39m\u001b[38;5;124mvector\u001b[39m\u001b[38;5;124m\"\u001b[39m:\n",
      "File \u001b[1;32mc:\\Users\\13658\\Desktop\\LaTex_Code_Generator\\.venv\\lib\\site-packages\\matplotlib\\_mathtext.py:2173\u001b[0m, in \u001b[0;36mParser.parse\u001b[1;34m(self, s, fonts_object, fontsize, dpi)\u001b[0m\n\u001b[0;32m   2170\u001b[0m     result \u001b[38;5;241m=\u001b[39m \u001b[38;5;28mself\u001b[39m\u001b[38;5;241m.\u001b[39m_expression\u001b[38;5;241m.\u001b[39mparseString(s)\n\u001b[0;32m   2171\u001b[0m \u001b[38;5;28;01mexcept\u001b[39;00m ParseBaseException \u001b[38;5;28;01mas\u001b[39;00m err:\n\u001b[0;32m   2172\u001b[0m     \u001b[38;5;66;03m# explain becomes a plain method on pyparsing 3 (err.explain(0)).\u001b[39;00m\n\u001b[1;32m-> 2173\u001b[0m     \u001b[38;5;28;01mraise\u001b[39;00m \u001b[38;5;167;01mValueError\u001b[39;00m(\u001b[38;5;124m\"\u001b[39m\u001b[38;5;130;01m\\n\u001b[39;00m\u001b[38;5;124m\"\u001b[39m \u001b[38;5;241m+\u001b[39m ParseException\u001b[38;5;241m.\u001b[39mexplain(err, \u001b[38;5;241m0\u001b[39m)) \u001b[38;5;28;01mfrom\u001b[39;00m\u001b[38;5;250m \u001b[39m\u001b[38;5;28;01mNone\u001b[39;00m\n\u001b[0;32m   2174\u001b[0m \u001b[38;5;28mself\u001b[39m\u001b[38;5;241m.\u001b[39m_state_stack \u001b[38;5;241m=\u001b[39m []\n\u001b[0;32m   2175\u001b[0m \u001b[38;5;28mself\u001b[39m\u001b[38;5;241m.\u001b[39m_in_subscript_or_superscript \u001b[38;5;241m=\u001b[39m \u001b[38;5;28;01mFalse\u001b[39;00m\n",
      "\u001b[1;31mValueError\u001b[0m: \nPred: $b=\\int _{0}^{x}d\\int _{a}^{\\pi }dx\\int _{a}^{\\pi y}dyf(y)}^{2}dyf(y)$\n      ^\nParseException: Expected end of text, found '$'  (at char 6), (line:1, col:7)"
     ]
    },
    {
     "data": {
      "text/plain": [
       "<Figure size 1200x300 with 2 Axes>"
      ]
     },
     "metadata": {},
     "output_type": "display_data"
    },
    {
     "name": "stdout",
     "output_type": "stream",
     "text": [
      "\n",
      "Sample 5\n",
      "GT   : (0.8)\n",
      "Pred : (0.8)\n",
      "Match\n"
     ]
    },
    {
     "data": {
      "image/png": "[encoded data removed]",
      "text/plain": [
       "<Figure size 1200x300 with 2 Axes>"
      ]
     },
     "metadata": {},
     "output_type": "display_data"
    },
    {
     "name": "stdout",
     "output_type": "stream",
     "text": [
      "\n",
      "Sample 6\n",
      "GT   : \\frac {b^{2}c^{2}-4b^{3}d-4ac^{3}+18abcd-27a^{2}d^{2}}{a^{4}}\n",
      "Pred : \\frac {b^{2}c^{2}-4b^{3}d-4ac^{3}+18abcd-27a^{2}d^{2}}{a^{4}}\n",
      "Match\n"
     ]
    },
    {
     "data": {
      "image/png": "[encoded data removed]",
      "text/plain": [
       "<Figure size 1200x300 with 2 Axes>"
      ]
     },
     "metadata": {},
     "output_type": "display_data"
    },
    {
     "name": "stdout",
     "output_type": "stream",
     "text": [
      "\n",
      "Sample 7\n",
      "GT   : acx^{c-1}\n",
      "Pred : acx^{c-1}\n",
      "Match\n"
     ]
    },
    {
     "data": {
      "image/png": "[encoded data removed]",
      "text/plain": [
       "<Figure size 1200x300 with 2 Axes>"
      ]
     },
     "metadata": {},
     "output_type": "display_data"
    },
    {
     "name": "stdout",
     "output_type": "stream",
     "text": [
      "\n",
      "Sample 8\n",
      "GT   : \\frac {dx}{dt}=f(x)\n",
      "Pred : \\frac {dx}{dt}=f(x)\n",
      "Match\n"
     ]
    },
    {
     "data": {
      "image/png": "[encoded data removed]",
      "text/plain": [
       "<Figure size 1200x300 with 2 Axes>"
      ]
     },
     "metadata": {},
     "output_type": "display_data"
    },
    {
     "name": "stdout",
     "output_type": "stream",
     "text": [
      "\n",
      "Sample 9\n",
      "GT   : (x_{2},y_{2},z_{2},t_{2})\n",
      "Pred : (x_{2},y_{2},z_{2},r_{2})\n",
      "Mismatch\n"
     ]
    },
    {
     "data": {
      "image/png": "[encoded data removed]",
      "text/plain": [
       "<Figure size 1200x300 with 2 Axes>"
      ]
     },
     "metadata": {},
     "output_type": "display_data"
    },
    {
     "name": "stdout",
     "output_type": "stream",
     "text": [
      "\n",
      "Sample 10\n",
      "GT   : F<z_{d}\n",
      "Pred : F<z_{d}\n",
      "Match\n"
     ]
    },
    {
     "data": {
      "image/png": "[encoded data removed]",
      "text/plain": [
       "<Figure size 1200x300 with 2 Axes>"
      ]
     },
     "metadata": {},
     "output_type": "display_data"
    },
    {
     "name": "stdout",
     "output_type": "stream",
     "text": [
      "\n",
      "Beam Search Accuracy (exact match): 60.00%\n"
     ]
    },
    {
     "data": {
      "text/plain": [
       "0.6"
      ]
     },
     "execution_count": 31,
     "metadata": {},
     "output_type": "execute_result"
    }
   ],
   "source": [
    "evaluate_model_with_beam(\n",
    "    model=model,\n",
    "    dataset=val_dataset,\n",
    "    token2idx=token2idx,\n",
    "    idx2token=idx2token,\n",
    "    num_samples=10,\n",
    "    beam_width=3,\n",
    "    visualize=True\n",
    ")"
   ]
  },
  {
   "cell_type": "code",
   "execution_count": null,
   "id": "7b6d64c4",
   "metadata": {},
   "outputs": [],
   "source": [
    "def evaluate_token_level_accuracy(model, dataset, token2idx, idx2token, num_samples=50, beam_width=3, max_len=256):\n",
    "    model.eval()\n",
    "    total_tokens = 0\n",
    "    correct_tokens = 0\n",
    "\n",
    "    def strip_tokens(tokens):\n",
    "        return [t for t in tokens if t not in ['<pad>', '<s>', '</s>']]\n",
    "\n",
    "    for i in range(num_samples):\n",
    "        image, label = dataset[i]\n",
    "        pred_tokens = beam_search_decode(model, image, token2idx, idx2token, beam_width, max_len)\n",
    "        true_tokens = [idx2token[idx.item()] for idx in label]\n",
    "\n",
    "        pred = strip_tokens(pred_tokens)\n",
    "        true = strip_tokens(true_tokens)\n",
    "\n",
    "        for p, t in zip(pred, true):\n",
    "            total_tokens += 1\n",
    "            if p == t:\n",
    "                correct_tokens += 1\n",
    "\n",
    "        total_tokens += abs(len(pred) - len(true))\n",
    "\n",
    "    accuracy = correct_tokens / total_tokens if total_tokens > 0 else 0.0\n",
    "    print(f\"Token-level accuracy: {accuracy * 100:.2f}%\")\n",
    "    return accuracy\n"
   ]
  },
  {
   "cell_type": "code",
   "execution_count": null,
   "id": "c21696c6",
   "metadata": {},
   "outputs": [
    {
     "name": "stdout",
     "output_type": "stream",
     "text": [
      "🔢 Token-level accuracy: 82.81%\n"
     ]
    },
    {
     "data": {
      "text/plain": [
       "0.8280632411067194"
      ]
     },
     "execution_count": 34,
     "metadata": {},
     "output_type": "execute_result"
    }
   ],
   "source": [
    "evaluate_token_level_accuracy(\n",
    "    model=model,\n",
    "    dataset=val_dataset,\n",
    "    token2idx=token2idx,\n",
    "    idx2token=idx2token,\n",
    "    num_samples=50,\n",
    "    beam_width=3\n",
    ")"
   ]
  },
  {
   "cell_type": "code",
   "execution_count": null,
   "id": "47a8c050",
   "metadata": {},
   "outputs": [
    {
     "name": "stdout",
     "output_type": "stream",
     "text": [
      "🔧 Normalized Edit Distance (NED): 90.19%\n"
     ]
    },
    {
     "data": {
      "text/plain": [
       "0.9019308617467164"
      ]
     },
     "execution_count": 37,
     "metadata": {},
     "output_type": "execute_result"
    }
   ],
   "source": [
    "def evaluate_edit_distance(model, dataset, token2idx, idx2token, num_samples=50, beam_width=3, max_len=256):\n",
    "    model.eval()\n",
    "    total_ned = 0.0\n",
    "\n",
    "    def strip_tokens(tokens):\n",
    "        return [t for t in tokens if t not in ['<pad>', '<s>', '</s>']]\n",
    "\n",
    "    for i in range(num_samples):\n",
    "        image, label = dataset[i]\n",
    "        pred_tokens = beam_search_decode(model, image, token2idx, idx2token, beam_width, max_len)\n",
    "        true_tokens = [idx2token[idx.item()] for idx in label]\n",
    "\n",
    "        pred = strip_tokens(pred_tokens)\n",
    "        true = strip_tokens(true_tokens)\n",
    "\n",
    "        pred_str = ' '.join(pred)\n",
    "        true_str = ' '.join(true)\n",
    "\n",
    "        if len(true_str) == 0:\n",
    "            continue\n",
    "\n",
    "        lev_dist = Levenshtein.distance(pred_str, true_str)\n",
    "        max_len_str = max(len(pred_str), len(true_str))\n",
    "        ned = 1 - lev_dist / max_len_str\n",
    "        total_ned += ned\n",
    "\n",
    "    avg_ned = total_ned / num_samples\n",
    "    print(f\"Normalized Edit Distance (NED): {avg_ned * 100:.2f}%\")\n",
    "    return avg_ned\n",
    "\n",
    "evaluate_edit_distance(\n",
    "    model=model,\n",
    "    dataset=val_dataset,\n",
    "    token2idx=token2idx,\n",
    "    idx2token=idx2token,\n",
    "    num_samples=50,\n",
    "    beam_width=3\n",
    ")"
   ]
  },
  {
   "cell_type": "code",
   "execution_count": null,
   "id": "fd3fe03a",
   "metadata": {},
   "outputs": [
    {
     "name": "stdout",
     "output_type": "stream",
     "text": [
      "Saved prediction results to: latex_predictions.csv\n"
     ]
    }
   ],
   "source": [
    "def export_predictions_to_csv(model, dataset, token2idx, idx2token,\n",
    "                               beam_width=3, max_len=256,\n",
    "                               num_samples=100, output_file=\"prediction_results.csv\"):\n",
    "    model.eval()\n",
    "    results = []\n",
    "\n",
    "    def strip_tokens(tokens):\n",
    "        return [t for t in tokens if t not in ['<pad>', '<s>', '</s>']]\n",
    "\n",
    "    for i in range(num_samples):\n",
    "        image, label = dataset[i]\n",
    "        pred_tokens = beam_search_decode(model, image, token2idx, idx2token, beam_width, max_len)\n",
    "        true_tokens = [idx2token[idx.item()] for idx in label]\n",
    "\n",
    "        pred = strip_tokens(pred_tokens)\n",
    "        true = strip_tokens(true_tokens)\n",
    "\n",
    "        sentence_match = pred == true\n",
    "        match_count = sum(p == t for p, t in zip(pred, true))\n",
    "        token_accuracy = match_count / max(len(true), len(pred)) if true else 0.0\n",
    "\n",
    "        pred_str = ' '.join(pred)\n",
    "        true_str = ' '.join(true)\n",
    "\n",
    "        if len(true_str) == 0:\n",
    "            ned = 0.0\n",
    "        else:\n",
    "            lev = Levenshtein.distance(pred_str, true_str)\n",
    "            ned = 1 - lev / max(len(pred_str), len(true_str))\n",
    "\n",
    "        results.append({\n",
    "            \"index\": i,\n",
    "            \"true_latex\": true_str,\n",
    "            \"pred_latex\": pred_str,\n",
    "            \"sentence_match\": sentence_match,\n",
    "            \"token_accuracy\": round(token_accuracy * 100, 2),\n",
    "            \"edit_distance\": round(ned * 100, 2)\n",
    "        })\n",
    "\n",
    "    df = pd.DataFrame(results)\n",
    "    df.to_csv(output_file, index=False)\n",
    "    print(f\"Saved prediction results to: {output_file}\")\n",
    "    return df\n",
    "\n",
    "df_results = export_predictions_to_csv(\n",
    "    model=model,\n",
    "    dataset=val_dataset,\n",
    "    token2idx=token2idx,\n",
    "    idx2token=idx2token,\n",
    "    beam_width=3,\n",
    "    num_samples=50,\n",
    "    output_file=\"latex_predictions.csv\"\n",
    ")"
   ]
  },
  {
   "cell_type": "code",
   "execution_count": null,
   "id": "c5aef2c5",
   "metadata": {},
   "outputs": [],
   "source": [
    "def render_prediction_comparison(image_tensor, true_latex, pred_latex):\n",
    "    plt.figure(figsize=(12, 4))\n",
    "    gs = gridspec.GridSpec(1, 3, width_ratios=[1, 1, 1])\n",
    "\n",
    "    ax0 = plt.subplot(gs[0])\n",
    "    ax0.imshow(image_tensor.permute(1, 2, 0).squeeze(), cmap='gray')\n",
    "    ax0.set_title(\"Input Image\")\n",
    "    ax0.axis(\"off\")\n",
    "\n",
    "    ax1 = plt.subplot(gs[1])\n",
    "    ax1.text(0.5, 0.5, f\"${true_latex}$\", fontsize=18, ha='center', va='center')\n",
    "    ax1.set_title(\"Ground Truth\")\n",
    "    ax1.axis(\"off\")\n",
    "\n",
    "    ax2 = plt.subplot(gs[2])\n",
    "    ax2.text(0.5, 0.5, f\"${pred_latex}$\", fontsize=18, ha='center', va='center')\n",
    "    ax2.set_title(\"Prediction\")\n",
    "    ax2.axis(\"off\")\n",
    "\n",
    "    plt.tight_layout()\n",
    "    plt.show()"
   ]
  },
  {
   "cell_type": "code",
   "execution_count": null,
   "id": "ba6889bf",
   "metadata": {},
   "outputs": [
    {
     "data": {
      "image/png": "[encoded data removed]",
      "text/plain": [
       "<Figure size 1200x400 with 3 Axes>"
      ]
     },
     "metadata": {},
     "output_type": "display_data"
    }
   ],
   "source": [
    "index = 7\n",
    "image, label = val_dataset[index]\n",
    "\n",
    "pred_tokens = beam_search_decode(model, image, token2idx, idx2token, beam_width=3)\n",
    "true_tokens = [idx2token[idx.item()] for idx in label]\n",
    "\n",
    "def clean(toks): return ''.join(t for t in toks if t not in ['<s>', '</s>', '<pad>'])\n",
    "true_str = clean(true_tokens)\n",
    "pred_str = clean(pred_tokens)\n",
    "\n",
    "render_prediction_comparison(image, true_str, pred_str)\n"
   ]
  },
  {
   "cell_type": "code",
   "execution_count": null,
   "id": "280cee5c",
   "metadata": {},
   "outputs": [],
   "source": [
    "def build_confusion_matrix(model, dataset, token2idx, idx2token, num_samples=200, beam_width=3, max_len=256, top_k_tokens=30):\n",
    "    model.eval()\n",
    "    true_labels = []\n",
    "    pred_labels = []\n",
    "\n",
    "    def strip(tokens):\n",
    "        return [t for t in tokens if t not in ['<pad>', '<s>', '</s>']]\n",
    "\n",
    "    for i in range(num_samples):\n",
    "        image, label = dataset[i]\n",
    "        pred_tokens = beam_search_decode(model, image, token2idx, idx2token, beam_width, max_len)\n",
    "        true_tokens = [idx2token[idx.item()] for idx in label]\n",
    "\n",
    "        pred = strip(pred_tokens)\n",
    "        true = strip(true_tokens)\n",
    "\n",
    "        min_len = min(len(pred), len(true))\n",
    "        true_labels.extend(true[:min_len])\n",
    "        pred_labels.extend(pred[:min_len])\n",
    "\n",
    "    all_tokens = Counter(true_labels + pred_labels)\n",
    "    most_common = [tok for tok, _ in all_tokens.most_common(top_k_tokens)]\n",
    "    most_common_set = set(most_common)\n",
    "\n",
    "    def map_tok(tok):\n",
    "        return tok if tok in most_common_set else 'other'\n",
    "\n",
    "    mapped_true = [map_tok(tok) for tok in true_labels]\n",
    "    mapped_pred = [map_tok(tok) for tok in pred_labels]\n",
    "\n",
    "    labels_sorted = sorted(set(mapped_true + mapped_pred))\n",
    "    cm = confusion_matrix(mapped_true, mapped_pred, labels=labels_sorted)\n",
    "\n",
    "    plt.figure(figsize=(12, 10))\n",
    "    sns.heatmap(cm, annot=True, fmt=\"d\", xticklabels=labels_sorted, yticklabels=labels_sorted, cmap=\"Blues\")\n",
    "    plt.xlabel(\"Predicted\")\n",
    "    plt.ylabel(\"Ground Truth\")\n",
    "    plt.title(\"Confusion Matrix (Top-K Tokens)\")\n",
    "    plt.tight_layout()\n",
    "    plt.show()\n",
    "\n",
    "    return cm, labels_sorted"
   ]
  },
  {
   "cell_type": "code",
   "execution_count": 50,
   "id": "4388c883",
   "metadata": {},
   "outputs": [
    {
     "data": {
      "image/png": "[encoded data removed]",
      "text/plain": [
       "<Figure size 1200x1000 with 2 Axes>"
      ]
     },
     "metadata": {},
     "output_type": "display_data"
    },
    {
     "data": {
      "text/plain": [
       "(array([[265,   3,   2,   0,   2,   0,   2,   0,   0,   0,   0,   2,   0,\n",
       "           1,   0,   0,   2,   5,   3,   1,   1,   0,   0,   1,  11,   7,\n",
       "           0,   0,   4,   0,   4],\n",
       "        [  1,  78,   3,   0,   2,   1,   1,   2,   0,   0,   0,   0,   1,\n",
       "           0,   0,   0,   0,   0,   0,   0,   1,   2,   1,   0,   1,   1,\n",
       "           1,   0,   1,   0,   0],\n",
       "        [  1,   0,  61,   1,   0,   1,   1,   6,   2,   1,   0,   0,   0,\n",
       "           0,   0,   0,   3,   1,   1,   0,   1,   0,   0,   2,   1,   0,\n",
       "           0,   0,   4,   0,   3],\n",
       "        [  0,   0,   2, 130,   0,   1,   1,   0,   0,   0,   0,   0,   0,\n",
       "           0,   0,   0,   1,   1,   0,   0,   1,   0,   0,   0,   4,   0,\n",
       "           1,   0,   4,   0,   4],\n",
       "        [  0,   1,   1,   1,  60,   0,   4,   0,   0,   1,   0,   0,   0,\n",
       "           0,   0,   0,   2,   0,   4,   1,   1,   0,   0,   0,   3,   1,\n",
       "           1,   0,   1,   0,   4],\n",
       "        [  1,   0,   0,   2,   0,  24,   0,   0,   0,   1,   0,   0,   0,\n",
       "           0,   0,   0,   0,   1,   1,   1,   0,   0,   0,   0,   4,   0,\n",
       "           0,   0,   3,   0,   3],\n",
       "        [  5,   0,   1,   6,   1,   1, 108,   2,   1,   2,   0,   0,   3,\n",
       "           1,   0,   0,   2,   4,   0,   0,   0,   0,   3,   1,   5,   1,\n",
       "           0,   0,   8,   0,   4],\n",
       "        [  2,   2,   0,   1,   2,   0,   2, 112,   0,   1,   0,   0,   3,\n",
       "           0,   0,   0,   4,   0,   1,   1,   1,   0,   0,   0,   5,   2,\n",
       "           0,   0,   7,   0,   1],\n",
       "        [  1,   0,   0,   1,   1,   0,   2,   1,  35,   0,   0,   0,   0,\n",
       "           0,   0,   0,   1,   0,   0,   0,   1,   0,   0,   0,   1,   0,\n",
       "           0,   0,   0,   0,   0],\n",
       "        [  0,   0,   0,   0,   0,   0,   1,   1,   0,  23,   0,   0,   0,\n",
       "           0,   0,   0,   1,   0,   0,   0,   0,   0,   0,   0,   1,   0,\n",
       "           0,   0,   2,   0,   0],\n",
       "        [  0,   0,   0,   0,   1,   1,   3,   0,   0,   1,  15,   0,   0,\n",
       "           0,   0,   0,   0,   0,   0,   0,   0,   0,   0,   0,   0,   0,\n",
       "           0,   0,   0,   0,   3],\n",
       "        [  0,   0,   0,   0,   0,   0,   0,   0,   1,   0,   0,  16,   0,\n",
       "           0,   0,   0,   0,   0,   0,   0,   0,   0,   0,   0,   0,   0,\n",
       "           0,   0,   0,   0,   0],\n",
       "        [  2,   0,   1,   0,   0,   0,   1,   1,   2,   0,   1,   0,  73,\n",
       "           0,   0,   0,   0,   0,   0,   0,   1,   0,   0,   0,   2,   0,\n",
       "           0,   0,   2,   0,   6],\n",
       "        [  0,   0,   0,   0,   0,   0,   0,   0,   0,   0,   0,   0,   0,\n",
       "          75,   0,   0,   0,   0,   0,   0,   0,   0,   0,   0,   1,   0,\n",
       "           0,   0,   2,   0,   1],\n",
       "        [  1,   0,   0,   0,   0,   0,   0,   0,   0,   0,   0,   0,   0,\n",
       "           0,  16,   0,   0,   0,   0,   0,   0,   2,   0,   0,   1,   0,\n",
       "           0,   0,   0,   0,   1],\n",
       "        [  0,   0,   0,   0,   0,   0,   0,   0,   0,   0,   0,   0,   0,\n",
       "           0,   0,  50,   0,   0,   0,   0,   0,   0,   0,   0,   0,   0,\n",
       "           0,   0,   0,   0,   0],\n",
       "        [  3,   0,   2,   1,   0,   2,   0,   4,   1,   0,   0,   0,   0,\n",
       "           0,   1,   0, 110,   1,   0,   0,   0,   0,   0,   0,  10,   1,\n",
       "           2,   0,   8,   0,  14],\n",
       "        [  0,   1,   2,   1,   0,   1,   3,   1,   0,   0,   0,   0,   0,\n",
       "           0,   0,   0,   1,  94,   2,   1,   0,   0,   0,   4,   2,   2,\n",
       "           2,   0,   7,   0,   4],\n",
       "        [  1,   0,   0,   1,   0,   0,   0,   3,   0,   0,   0,   0,   0,\n",
       "           0,   0,   0,   0,   1,  52,   0,   0,   0,   0,   0,   0,   1,\n",
       "           1,   0,   3,   1,   1],\n",
       "        [  0,   0,   1,   0,   1,   0,   1,   1,   1,   0,   0,   0,   0,\n",
       "           0,   0,   0,   2,   0,   1,  35,   0,   0,   0,   0,   4,   0,\n",
       "           0,   0,   1,   0,   2],\n",
       "        [  1,   0,   1,   1,   0,   0,   1,   0,   0,   0,   0,   0,   0,\n",
       "           0,   0,   0,   0,   0,   0,   0,  28,   0,   0,   0,   4,   1,\n",
       "           0,   0,   1,   0,   2],\n",
       "        [  1,   1,   1,   0,   0,   0,   0,   0,   0,   0,   0,   0,   0,\n",
       "           0,   0,   0,   0,   0,   0,   0,   0,  15,   0,   0,   1,   0,\n",
       "           0,   1,   0,   0,   0],\n",
       "        [  0,   0,   0,   0,   0,   0,   1,   0,   0,   0,   0,   0,   0,\n",
       "           0,   0,   0,   0,   0,   0,   0,   0,   0,  18,   0,   1,   1,\n",
       "           0,   0,   1,   0,   0],\n",
       "        [  1,   0,   0,   0,   0,   0,   2,   0,   0,   0,   0,   0,   0,\n",
       "           0,   0,   0,   2,   1,   0,   0,   0,   0,   0,  45,   6,   0,\n",
       "           0,   0,   3,   0,   2],\n",
       "        [  9,   4,   5,   3,   1,   6,  10,   7,   3,   1,   0,   2,   4,\n",
       "           0,   2,   0,   5,   8,   5,   5,   0,   1,   1,   1, 365,   9,\n",
       "           3,   1,   5,   0,  17],\n",
       "        [  1,   4,   2,   0,   1,   0,   1,   2,   0,   0,   0,   0,   0,\n",
       "           0,   0,   0,   5,   1,   3,   0,   2,   1,   0,   0,   4,  78,\n",
       "           1,   0,   1,   0,   2],\n",
       "        [  0,   2,   0,   0,   0,   0,   1,   1,   1,   0,   0,   0,   2,\n",
       "           0,   0,   0,   0,   0,   0,   0,   0,   0,   0,   0,   4,   1,\n",
       "          46,   0,   0,   0,   1],\n",
       "        [  0,   0,   0,   0,   0,   0,   0,   2,   0,   0,   0,   0,   0,\n",
       "           0,   0,   0,   0,   0,   0,   0,   0,   0,   0,   0,   0,   0,\n",
       "           0,  30,   0,   0,   0],\n",
       "        [  4,   1,   2,   8,   3,   2,   2,   1,   0,   1,   2,   0,   4,\n",
       "           0,   0,   0,  13,   5,   3,   3,   1,   2,   1,   0,   6,   0,\n",
       "           3,   0, 406,   0,  21],\n",
       "        [  0,   0,   1,   0,   0,   0,   0,   0,   0,   0,   0,   0,   0,\n",
       "           0,   0,   0,   0,   0,   1,   1,   0,   0,   0,   0,   0,   0,\n",
       "           0,   0,   1,  19,   0],\n",
       "        [  7,   0,   0,   2,   2,   2,   2,   7,   1,   1,   0,   0,   2,\n",
       "           1,   2,   0,   9,   3,   3,   0,   4,   1,   1,   5,  11,   0,\n",
       "           1,   0,  19,   1, 386]]),\n",
       " [' ',\n",
       "  '(',\n",
       "  ')',\n",
       "  '+',\n",
       "  '-',\n",
       "  '0',\n",
       "  '1',\n",
       "  '2',\n",
       "  '3',\n",
       "  '4',\n",
       "  '6',\n",
       "  '8',\n",
       "  '=',\n",
       "  '\\\\frac',\n",
       "  '\\\\int',\n",
       "  '\\\\sqrt',\n",
       "  '^',\n",
       "  '_',\n",
       "  'a',\n",
       "  'b',\n",
       "  'd',\n",
       "  'f',\n",
       "  'i',\n",
       "  'n',\n",
       "  'other',\n",
       "  'x',\n",
       "  'y',\n",
       "  'z',\n",
       "  '{',\n",
       "  '|',\n",
       "  '}'])"
      ]
     },
     "execution_count": 50,
     "metadata": {},
     "output_type": "execute_result"
    }
   ],
   "source": [
    "build_confusion_matrix(\n",
    "    model=model,\n",
    "    dataset=val_dataset,\n",
    "    token2idx=token2idx,\n",
    "    idx2token=idx2token,\n",
    "    num_samples=200,\n",
    "    beam_width=3,\n",
    "    top_k_tokens=30\n",
    ")"
   ]
  }
 ],
 "metadata": {
  "kernelspec": {
   "display_name": ".venv",
   "language": "python",
   "name": "python3"
  },
  "language_info": {
   "codemirror_mode": {
    "name": "ipython",
    "version": 3
   },
   "file_extension": ".py",
   "mimetype": "text/x-python",
   "name": "python",
   "nbconvert_exporter": "python",
   "pygments_lexer": "ipython3",
   "version": "3.9.13"
  }
 },
 "nbformat": 4,
 "nbformat_minor": 5
}
