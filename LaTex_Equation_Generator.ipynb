{
 "cells": [
  {
   "cell_type": "code",
   "execution_count": 1,
   "id": "dc5c004b",
   "metadata": {},
   "outputs": [],
   "source": [
    "# Import necessary libraries\n",
    "import os\n",
    "import math\n",
    "import re\n",
    "import pickle\n",
    "import random\n",
    "import Levenshtein\n",
    "import torch\n",
    "import seaborn as sns\n",
    "import torch.nn as nn\n",
    "import numpy as np\n",
    "import pandas as pd\n",
    "import matplotlib.pyplot as plt\n",
    "import torchvision.transforms as T\n",
    "from torch.utils.data import Dataset, DataLoader\n",
    "from torchvision.models import resnet34\n",
    "from sklearn.model_selection import train_test_split\n",
    "from collections import Counter\n",
    "from torch.utils.tensorboard import SummaryWriter\n",
    "from matplotlib import gridspec\n",
    "from tqdm.notebook import tqdm\n",
    "from PIL import Image, ImageOps\n",
    "from sklearn.metrics import confusion_matrix"
   ]
  },
  {
   "cell_type": "code",
   "execution_count": 2,
   "id": "0a465e4a",
   "metadata": {},
   "outputs": [],
   "source": [
    "# Read the data directory and file paths\n",
    "data_dir = r\"C:\\Users\\13658\\Desktop\\LaTex_Code_Generator\"\n",
    "handwritten_equations = os.path.join(data_dir, \"Handwritten_equations\")\n",
    "json_dict = os.path.join(data_dir, \"char_dict.json\")\n",
    "csv_file = os.path.join(data_dir, \"caption_data.csv\")"
   ]
  },
  {
   "cell_type": "code",
   "execution_count": 3,
   "id": "5e51cbd2",
   "metadata": {},
   "outputs": [],
   "source": [
    "# Clean and merge spaces in LaTeX code intelligently\n",
    "def smart_clean_latex(code):\n",
    "    preserved = re.findall(r'(\\\\[a-zA-Z]+)\\s+', code)\n",
    "    for cmd in preserved:\n",
    "        code = code.replace(cmd + ' ', f'{cmd}<<<SPACE>>>')\n",
    "    code = code.replace(' ', '')\n",
    "    code = code.replace('<<<SPACE>>>', ' ')\n",
    "    return code\n",
    "\n",
    "# Load the CSV file and process LaTeX codes\n",
    "csv_data = pd.read_csv(csv_file)\n",
    "latex_codes_raw = csv_data['Column2'].values.tolist()\n",
    "latex_codes = [smart_clean_latex(str(code)) for code in latex_codes_raw]\n",
    "image_names = csv_data['Column1'].values.tolist()"
   ]
  },
  {
   "cell_type": "code",
   "execution_count": 4,
   "id": "bbaa51fc",
   "metadata": {},
   "outputs": [
    {
     "name": "stdout",
     "output_type": "stream",
     "text": [
      "Dic Length: 136\n",
      "Maximum Sequence: 224\n"
     ]
    }
   ],
   "source": [
    "# Extract all LaTeX command tokens from the cleaned LaTeX codes\n",
    "command_tokens = set()\n",
    "for code in latex_codes:\n",
    "    i = 0\n",
    "    while i < len(code):\n",
    "        if code[i] == '\\\\':\n",
    "            j = i + 1\n",
    "            while j < len(code) and code[j].isalpha():\n",
    "                j += 1\n",
    "            command_tokens.add(code[i:j])\n",
    "            i = j\n",
    "        else:\n",
    "            i += 1\n",
    "\n",
    "# Tokenize LaTeX code into a mix of full commands and individual characters\n",
    "def mixed_tokenize_latex(code, command_set):\n",
    "    tokens = []\n",
    "    i = 0\n",
    "    while i < len(code):\n",
    "        if code[i] == '\\\\':\n",
    "            j = i + 1\n",
    "            while j < len(code) and code[j].isalpha():\n",
    "                j += 1\n",
    "            cmd = code[i:j]\n",
    "            if cmd in command_set:\n",
    "                tokens.append(cmd)\n",
    "                i = j\n",
    "                continue\n",
    "        tokens.append(code[i])\n",
    "        i += 1\n",
    "    return tokens\n",
    "\n",
    "# Count token frequencies across all LaTeX codes\n",
    "token_counter = Counter()\n",
    "for code in latex_codes:\n",
    "    tokens = mixed_tokenize_latex(code, command_tokens)\n",
    "    token_counter.update(tokens)\n",
    "\n",
    "# Define special tokens and build token-index dictionaries\n",
    "special_tokens = ['<pad>', '<s>', '</s>']\n",
    "token_list = special_tokens + sorted(token_counter.keys())\n",
    "\n",
    "token2idx = {token: idx for idx, token in enumerate(token_list)}\n",
    "idx2token = {idx: token for token, idx in token2idx.items()}\n",
    "vocab_size = len(token2idx)\n",
    "\n",
    "# Encode LaTeX code into a sequence of token indices\n",
    "def encode_label_mixed(code, token2idx, command_set, max_len):\n",
    "    tokens = ['<s>'] + mixed_tokenize_latex(code, command_set)[:max_len - 2] + ['</s>']\n",
    "    label = np.zeros(max_len, dtype=np.int32)\n",
    "    for t, token in enumerate(tokens):\n",
    "        label[t] = token2idx.get(token, 0)\n",
    "    return label\n",
    "\n",
    "max_seq_length = max(len(mixed_tokenize_latex(code, command_tokens)) for code in latex_codes) + 2\n",
    "print(f\"Dic Length: {vocab_size}\")\n",
    "print(f\"Maximum Sequence: {max_seq_length}\")"
   ]
  },
  {
   "cell_type": "code",
   "execution_count": 5,
   "id": "d9a2a296",
   "metadata": {},
   "outputs": [],
   "source": [
    "train_transform = T.Compose([\n",
    "    T.ToPILImage(),\n",
    "    T.RandomRotation(degrees=2),\n",
    "    T.ColorJitter(brightness=0.2, contrast=0.2),\n",
    "    T.ToTensor(),\n",
    "])\n",
    "\n",
    "def apply_augmentation(image_tensor):\n",
    "    return train_transform(image_tensor)"
   ]
  },
  {
   "cell_type": "code",
   "execution_count": 6,
   "id": "e1cf3dbd",
   "metadata": {},
   "outputs": [],
   "source": [
    "# Preprocess a single image: grayscale, resize with padding, normalize, and expand to 3 channels\n",
    "def preprocess_image(image_path, target_size=(512, 128)):\n",
    "    img = Image.open(image_path).convert('L')\n",
    "    img.thumbnail(target_size, Image.Resampling.LANCZOS)\n",
    "\n",
    "    delta_w = target_size[0] - img.size[0]\n",
    "    delta_h = target_size[1] - img.size[1]\n",
    "    padding = (delta_w // 2, delta_h // 2, delta_w - delta_w // 2, delta_h - delta_h // 2)\n",
    "    img = ImageOps.expand(img, padding, fill=255)\n",
    "\n",
    "    img_array = np.array(img, dtype=np.float32) / 255.0\n",
    "    img_array = np.expand_dims(img_array, axis=0)\n",
    "    img_array = np.repeat(img_array, 3, axis=0)\n",
    "    return torch.from_numpy(img_array).float()\n",
    "\n",
    "# Define a custom dataset for LaTeX images and labels\n",
    "class LatexDataset(Dataset):\n",
    "    def __init__(self, image_dir, image_names, latex_codes, max_len, augment=False):\n",
    "        self.image_dir = image_dir\n",
    "        self.image_names = image_names\n",
    "        self.latex_codes = latex_codes\n",
    "        self.max_len = max_len\n",
    "        self.augment = augment\n",
    "\n",
    "    def __len__(self):\n",
    "        return len(self.image_names)\n",
    "\n",
    "    def __getitem__(self, idx):\n",
    "        img_path = os.path.join(self.image_dir, f\"{self.image_names[idx]}.bmp\")\n",
    "        img = preprocess_image(img_path)\n",
    "\n",
    "        if self.augment:\n",
    "            img = apply_augmentation(img)\n",
    "\n",
    "        label = encode_label_mixed(self.latex_codes[idx], token2idx, command_tokens, self.max_len)\n",
    "        label_tensor = torch.tensor(label, dtype=torch.long)\n",
    "        return img, label_tensor\n",
    "\n",
    "# Define a custom collate function to batch images and pad label sequences\n",
    "def collate_fn(batch):\n",
    "    images, labels = zip(*batch)\n",
    "    images = torch.stack(images)\n",
    "    labels = torch.nn.utils.rnn.pad_sequence(labels, batch_first=True, padding_value=0)\n",
    "    return images, labels, [len(l) for l in labels]\n",
    "\n",
    "# Split the dataset into training, validation, and test sets (70% / 15% / 15%)\n",
    "train_imgs, tep_imgs, train_codes, tep_codes = train_test_split(\n",
    "    image_names, latex_codes, test_size=0.3, random_state=42)\n",
    "\n",
    "val_imgs, test_imgs, val_codes, test_codes = train_test_split(\n",
    "    tep_imgs, tep_codes, test_size=0.5, random_state=41)\n",
    "\n",
    "# Splited dataset statistics\n",
    "train_dataset = LatexDataset(handwritten_equations, train_imgs, train_codes, max_seq_length, augment=True)\n",
    "val_dataset = LatexDataset(handwritten_equations, val_imgs, val_codes, max_seq_length, augment=False)\n",
    "test_dataset = LatexDataset(handwritten_equations, test_imgs, test_codes, max_seq_length, augment=False)\n",
    "\n",
    "# Data loaders for training, validation, and testing\n",
    "train_loader = DataLoader(train_dataset, batch_size=32, shuffle=True, collate_fn=collate_fn)\n",
    "val_loader = DataLoader(val_dataset, batch_size=32, shuffle=False, collate_fn=collate_fn)\n",
    "test_loader = DataLoader(test_dataset, batch_size=32, shuffle=False, collate_fn=collate_fn)"
   ]
  },
  {
   "cell_type": "code",
   "execution_count": 7,
   "id": "52fec02e",
   "metadata": {},
   "outputs": [
    {
     "data": {
      "image/png": "[encoded data removed]",
      "text/plain": [
       "<Figure size 800x400 with 1 Axes>"
      ]
     },
     "metadata": {},
     "output_type": "display_data"
    }
   ],
   "source": [
    "# Create directory for saving token dictionaries\n",
    "dict_dir = os.path.join(data_dir, \"token_dicts\")\n",
    "os.makedirs(dict_dir, exist_ok=True)\n",
    "\n",
    "# Save token2idx and idx2token mappings as pickle files\n",
    "with open(os.path.join(dict_dir, \"token2idx.pkl\"), \"wb\") as f:\n",
    "    pickle.dump(token2idx, f)\n",
    "\n",
    "with open(os.path.join(dict_dir, \"idx2token.pkl\"), \"wb\") as f:\n",
    "    pickle.dump(idx2token, f)\n",
    "\n",
    "# Plot the histogram of LaTeX sequence lengths\n",
    "seq_lens = [len(mixed_tokenize_latex(code, command_tokens)) for code in latex_codes]\n",
    "plt.figure(figsize=(8, 4))\n",
    "plt.hist(seq_lens, bins=40, color='skyblue', edgecolor='black')\n",
    "plt.axvline(max_seq_length - 2, color='red', linestyle='--', label='max_seq_length (without <s>, </s>)')\n",
    "plt.title(\"LaTeX Sequence Length Distribution\")\n",
    "plt.xlabel(\"Token Count\")\n",
    "plt.ylabel(\"Sample Count\")\n",
    "plt.legend()\n",
    "plt.grid(True)\n",
    "plt.tight_layout()\n",
    "plt.show()"
   ]
  },
  {
   "cell_type": "code",
   "execution_count": 8,
   "id": "e94ebac3",
   "metadata": {},
   "outputs": [
    {
     "name": "stdout",
     "output_type": "stream",
     "text": [
      "Figure shape: torch.Size([3, 128, 512])\n",
      "Label shape: torch.Size([224])\n"
     ]
    },
    {
     "data": {
      "image/png": "[encoded data removed]",
      "text/plain": [
       "<Figure size 640x480 with 1 Axes>"
      ]
     },
     "metadata": {},
     "output_type": "display_data"
    }
   ],
   "source": [
    "# Visualize a random preprosessed image and its corresponding LaTeX code\n",
    "idx = random.randint(0, len(train_dataset) - 1)\n",
    "img_tensor, label_tensor = train_dataset[idx]\n",
    "\n",
    "print(f\"Figure shape: {img_tensor.shape}\")\n",
    "print(f\"Label shape: {label_tensor.shape}\")\n",
    "\n",
    "plt.imshow(img_tensor.permute(1, 2, 0).numpy(), cmap='gray')\n",
    "plt.title(\"Preprocessed Image\")\n",
    "plt.axis(\"off\")\n",
    "plt.show()"
   ]
  },
  {
   "cell_type": "code",
   "execution_count": 9,
   "id": "70fc9a1f",
   "metadata": {},
   "outputs": [
    {
     "name": "stdout",
     "output_type": "stream",
     "text": [
      "\n",
      "Sample 1\n",
      "Token Length: 25\n",
      "Restore the LaTeX expression:\n",
      "x ^ { 3 } + b x ^ { 4 } , x ^ { 4 } - b x ^ { 3 }\n",
      "\n",
      "Sample 2\n",
      "Token Length: 14\n",
      "Restore the LaTeX expression:\n",
      "{ \\mathrm   { ~ h ~ } + { v i } }\n",
      "\n",
      "Sample 3\n",
      "Token Length: 5\n",
      "Restore the LaTeX expression:\n",
      "2 + 2 = 4\n",
      "\n",
      "Sample 4\n",
      "Token Length: 29\n",
      "Restore the LaTeX expression:\n",
      "\\forall   a , \\forall   b , \\forall   c , ( a , b , c ) = ( ( a , b ) , c )\n",
      "\n",
      "Sample 5\n",
      "Token Length: 11\n",
      "Restore the LaTeX expression:\n",
      "\\left ( \\mathrm   { ~ b ~ } \\right )\n"
     ]
    }
   ],
   "source": [
    "# Decode and display the LaTeX expression for the selected image\n",
    "sample_indices = random.sample(range(len(train_dataset)), 5)\n",
    "\n",
    "for i, idx in enumerate(sample_indices, 1):\n",
    "    img_tensor, label_tensor = train_dataset[idx]\n",
    "    \n",
    "    tokens = [idx2token[idx.item()] for idx in label_tensor \n",
    "              if idx.item() not in (token2idx['<pad>'], token2idx['<s>'], token2idx['</s>'])]\n",
    "    decoded_latex = ' '.join(tokens)\n",
    "\n",
    "    print(f\"\\nSample {i}\")\n",
    "    print(\"Token Length:\", len(tokens))\n",
    "    print(\"Restore the LaTeX expression:\")\n",
    "    print(decoded_latex)"
   ]
  },
  {
   "cell_type": "code",
   "execution_count": 10,
   "id": "65dadb30",
   "metadata": {},
   "outputs": [
    {
     "name": "stdout",
     "output_type": "stream",
     "text": [
      "Original Lable:\n",
      "\\sqrt [ n ] { 1 } = \\cos \\frac { 2 k \\pi } { n } + i \\sin \\frac { 2 k \\pi } { n }\n",
      "\n",
      "Washed:\n",
      "\\sqrt [n]{1}=\\cos \\frac {2k\\pi }{n}+i\\sin \\frac {2k\\pi }{n}\n",
      "\n",
      "Encoded:\n",
      "[  1  96   3  46 119 103 132  15 134  26  57   3  63   3 132  16 116  89\n",
      "   3 134 132 119 134   9 114  95   3  63   3 132  16 116  89   3 134 132\n",
      " 119 134   2   0   0   0   0   0   0   0   0   0   0   0   0   0   0   0\n",
      "   0   0   0   0   0   0   0   0   0   0   0   0   0   0   0   0   0   0\n",
      "   0   0   0   0   0   0   0   0   0   0   0   0   0   0   0   0   0   0\n",
      "   0   0   0   0   0   0   0   0   0   0   0   0   0   0   0   0   0   0\n",
      "   0   0   0   0   0   0   0   0   0   0   0   0   0   0   0   0   0   0\n",
      "   0   0   0   0   0   0   0   0   0   0   0   0   0   0   0   0   0   0\n",
      "   0   0   0   0   0   0   0   0   0   0   0   0   0   0   0   0   0   0\n",
      "   0   0   0   0   0   0   0   0   0   0   0   0   0   0   0   0   0   0\n",
      "   0   0   0   0   0   0   0   0   0   0   0   0   0   0   0   0   0   0\n",
      "   0   0   0   0   0   0   0   0   0   0   0   0   0   0   0   0   0   0\n",
      "   0   0   0   0   0   0   0   0]\n",
      "\n",
      "Decoded:\n",
      "\\sqrt [n]{1}=\\cos \\frac {2k\\pi }{n}+i\\sin \\frac {2k\\pi }{n}\n"
     ]
    }
   ],
   "source": [
    "# Decode and display a random LaTeX code from the dataset\n",
    "sample_idx = random.randint(0, len(latex_codes_raw) - 1)\n",
    "raw = latex_codes_raw[sample_idx]\n",
    "cleaned = smart_clean_latex(raw)\n",
    "encoded = encode_label_mixed(cleaned, token2idx, command_tokens, max_seq_length)\n",
    "\n",
    "tokens = [idx2token[i] for i in encoded if i not in (token2idx['<pad>'], token2idx['<s>'], token2idx['</s>'])]\n",
    "decoded = ''.join(tokens)\n",
    "\n",
    "print(\"Original Lable:\")\n",
    "print(raw)\n",
    "print(\"\\nWashed:\")\n",
    "print(cleaned)\n",
    "print(\"\\nEncoded:\")\n",
    "print(encoded)\n",
    "print(\"\\nDecoded:\")\n",
    "print(decoded)"
   ]
  },
  {
   "cell_type": "code",
   "execution_count": 11,
   "id": "ac077749",
   "metadata": {},
   "outputs": [
    {
     "name": "stdout",
     "output_type": "stream",
     "text": [
      "Batch figure shape: torch.Size([32, 3, 128, 512])\n",
      "Batch label shape: torch.Size([32, 224])\n",
      "Label Length (first 5): [224, 224, 224, 224, 224]\n"
     ]
    }
   ],
   "source": [
    "# Print the shapes and label lengths for inspection\n",
    "batch = next(iter(train_loader))\n",
    "imgs, labels, lengths = batch\n",
    "\n",
    "print(f\"Batch figure shape: {imgs.shape}\")\n",
    "print(f\"Batch label shape: {labels.shape}\")\n",
    "print(f\"Label Length (first 5): {lengths[:5]}\")"
   ]
  },
  {
   "cell_type": "code",
   "execution_count": 12,
   "id": "caaead69",
   "metadata": {},
   "outputs": [],
   "source": [
    "# Define 2D positional encoding for CNN feature maps\n",
    "class PositionalEncoding2D(nn.Module):\n",
    "    def __init__(self, d_model, height, width):\n",
    "        super().__init__()\n",
    "        if d_model % 4 != 0:\n",
    "            raise ValueError(\"d_model must be divisible by 4\")\n",
    "\n",
    "        self.d_model = d_model\n",
    "        self.height = height\n",
    "        self.width = width\n",
    "        \n",
    "        pe = torch.zeros(d_model, height, width) # Initialize a zero tensor for positional encoding\n",
    "\n",
    "        d_model_half = d_model // 2\n",
    "        div_term = torch.exp(torch.arange(0., d_model_half, 2) * -(math.log(10000.0) / d_model_half))\n",
    "\n",
    "        pos_w = torch.arange(0., width).unsqueeze(1)\n",
    "        pos_h = torch.arange(0., height).unsqueeze(1)\n",
    "\n",
    "        # Horizontal coding (width direction)\n",
    "        pe[0:d_model_half:2, :, :] = torch.sin(pos_w * div_term).T.unsqueeze(1).repeat(1, height, 1)\n",
    "        pe[1:d_model_half:2, :, :] = torch.cos(pos_w * div_term).T.unsqueeze(1).repeat(1, height, 1)\n",
    "\n",
    "        # Vertical encoding (height direction)\n",
    "        pe[d_model_half::2, :, :] = torch.sin(pos_h * div_term).T.unsqueeze(2).repeat(1, 1, width)\n",
    "        pe[d_model_half+1::2, :, :] = torch.cos(pos_h * div_term).T.unsqueeze(2).repeat(1, 1, width)\n",
    "\n",
    "        self.register_buffer('pe', pe.unsqueeze(0))\n",
    "\n",
    "    def forward(self, x):\n",
    "        return x + self.pe[:, :, :x.size(2), :x.size(3)]"
   ]
  },
  {
   "cell_type": "code",
   "execution_count": 13,
   "id": "67e2db96",
   "metadata": {},
   "outputs": [],
   "source": [
    "# Define the Encoder class using ResNet34 as the backbone\n",
    "class Encoder(nn.Module):\n",
    "    def __init__(self, d_model=384):\n",
    "        super().__init__()\n",
    "        base_cnn = resnet34(pretrained=True)\n",
    "        self.backbone = nn.Sequential(*list(base_cnn.children())[:6])\n",
    "\n",
    "        self.project = nn.Conv2d(128, d_model, kernel_size=1)\n",
    "        self.row_encoder = nn.LSTM(input_size=d_model,\n",
    "                                   hidden_size=d_model // 2,\n",
    "                                   batch_first=True,\n",
    "                                   bidirectional=True)\n",
    "\n",
    "        self.pe = None\n",
    "\n",
    "    def forward(self, x):\n",
    "        feat = self.backbone(x)\n",
    "        feat = self.project(feat)\n",
    "        B, C, H, W = feat.shape\n",
    "\n",
    "        if self.pe is None:\n",
    "            self.pe = PositionalEncoding2D(C, H, W).to(x.device)\n",
    "        feat = self.pe(feat)\n",
    "\n",
    "        # Run Row-wise LSTM\n",
    "        feat = feat.permute(0, 2, 3, 1).contiguous()\n",
    "        feat = feat.view(B * H, W, C)\n",
    "        feat, _ = self.row_encoder(feat)\n",
    "        feat = feat.view(B, H, W, C)\n",
    "\n",
    "        return feat"
   ]
  },
  {
   "cell_type": "code",
   "execution_count": 14,
   "id": "aee69737",
   "metadata": {},
   "outputs": [
    {
     "name": "stderr",
     "output_type": "stream",
     "text": [
      "c:\\Users\\13658\\Desktop\\LaTex_Code_Generator\\.venv\\lib\\site-packages\\torchvision\\models\\_utils.py:208: UserWarning: The parameter 'pretrained' is deprecated since 0.13 and may be removed in the future, please use 'weights' instead.\n",
      "  warnings.warn(\n",
      "c:\\Users\\13658\\Desktop\\LaTex_Code_Generator\\.venv\\lib\\site-packages\\torchvision\\models\\_utils.py:223: UserWarning: Arguments other than a weight enum or `None` for 'weights' are deprecated since 0.13 and may be removed in the future. The current behavior is equivalent to passing `weights=ResNet34_Weights.IMAGENET1K_V1`. You can also use `weights=ResNet34_Weights.DEFAULT` to get the most up-to-date weights.\n",
      "  warnings.warn(msg)\n"
     ]
    },
    {
     "name": "stdout",
     "output_type": "stream",
     "text": [
      "Encoder Output: torch.Size([32, 16, 64, 256])\n"
     ]
    }
   ],
   "source": [
    "# Run train loader to get a batch of images\n",
    "images, _, _ = next(iter(train_loader))\n",
    "images = images.cuda()\n",
    "\n",
    "# Encoder initialization\n",
    "encoder = Encoder(d_model=256).cuda()\n",
    "\n",
    "# Forward Pass\n",
    "features = encoder(images)\n",
    "\n",
    "print(\"Encoder Output:\", features.shape)"
   ]
  },
  {
   "cell_type": "code",
   "execution_count": 15,
   "id": "db0b7467",
   "metadata": {},
   "outputs": [],
   "source": [
    "# Show the images on different layers of the encoder\n",
    "class VisualCNN(nn.Module):\n",
    "    def __init__(self):\n",
    "        super().__init__()\n",
    "        base = resnet34(pretrained=True)\n",
    "        self.stages = nn.ModuleList([\n",
    "            nn.Sequential(base.conv1, base.bn1, base.relu),  # stage 0\n",
    "            base.maxpool,                                    # stage 1\n",
    "            base.layer1,                                     # stage 2\n",
    "            base.layer2,                                     # stage 3\n",
    "            base.layer3                                      # stage 4\n",
    "        ])\n",
    "\n",
    "    def forward(self, x):\n",
    "        outputs = []\n",
    "        for stage in self.stages:\n",
    "            x = stage(x)\n",
    "            outputs.append(x)\n",
    "        return outputs"
   ]
  },
  {
   "cell_type": "code",
   "execution_count": 16,
   "id": "72cbe15f",
   "metadata": {},
   "outputs": [],
   "source": [
    "# Visualize the feature maps from the CNN\n",
    "def show_feature_map(tensor, title, max_channels=4):\n",
    "    n = min(max_channels, tensor.shape[1])  # Show first n channels\n",
    "    fig, axes = plt.subplots(1, n, figsize=(3 * n, 3))\n",
    "    for i in range(n):\n",
    "        axes[i].imshow(tensor[0, i].detach().cpu(), cmap='gray')\n",
    "        axes[i].set_title(f\"{title} | Channel {i}\")\n",
    "        axes[i].axis(\"off\")\n",
    "    plt.tight_layout()\n",
    "    plt.show()"
   ]
  },
  {
   "cell_type": "code",
   "execution_count": 17,
   "id": "25a1db6c",
   "metadata": {},
   "outputs": [
    {
     "name": "stdout",
     "output_type": "stream",
     "text": [
      "Stage 0 output shape: torch.Size([1, 64, 64, 256])\n"
     ]
    },
    {
     "data": {
      "image/png": "[encoded data removed]",
      "text/plain": [
       "<Figure size 1200x300 with 4 Axes>"
      ]
     },
     "metadata": {},
     "output_type": "display_data"
    },
    {
     "name": "stdout",
     "output_type": "stream",
     "text": [
      "Stage 1 output shape: torch.Size([1, 64, 32, 128])\n"
     ]
    },
    {
     "data": {
      "image/png": "[encoded data removed]",
      "text/plain": [
       "<Figure size 1200x300 with 4 Axes>"
      ]
     },
     "metadata": {},
     "output_type": "display_data"
    },
    {
     "name": "stdout",
     "output_type": "stream",
     "text": [
      "Stage 2 output shape: torch.Size([1, 64, 32, 128])\n"
     ]
    },
    {
     "data": {
      "image/png": "[encoded data removed]",
      "text/plain": [
       "<Figure size 1200x300 with 4 Axes>"
      ]
     },
     "metadata": {},
     "output_type": "display_data"
    },
    {
     "name": "stdout",
     "output_type": "stream",
     "text": [
      "Stage 3 output shape: torch.Size([1, 128, 16, 64])\n"
     ]
    },
    {
     "data": {
      "image/png": "[encoded data removed]",
      "text/plain": [
       "<Figure size 1200x300 with 4 Axes>"
      ]
     },
     "metadata": {},
     "output_type": "display_data"
    },
    {
     "name": "stdout",
     "output_type": "stream",
     "text": [
      "Stage 4 output shape: torch.Size([1, 256, 8, 32])\n"
     ]
    },
    {
     "data": {
      "image/png": "[encoded data removed]",
      "text/plain": [
       "<Figure size 1200x300 with 4 Axes>"
      ]
     },
     "metadata": {},
     "output_type": "display_data"
    }
   ],
   "source": [
    "# Get a batch of images from the train loader\n",
    "images, _, _ = next(iter(train_loader))\n",
    "sample_img = images[0:1].cuda()\n",
    "\n",
    "# Instantiate the VisualCNN and get feature maps\n",
    "viz_cnn = VisualCNN().cuda()\n",
    "features = viz_cnn(sample_img)\n",
    "\n",
    "# Show every stage's feature map\n",
    "for idx, feat in enumerate(features):\n",
    "    print(f\"Stage {idx} output shape: {feat.shape}\")\n",
    "    show_feature_map(feat, f\"Stage {idx}\")"
   ]
  },
  {
   "cell_type": "code",
   "execution_count": 18,
   "id": "3490e0de",
   "metadata": {},
   "outputs": [],
   "source": [
    "# Show the maximum activation of the feature map\n",
    "def show_max_activation(feature_map, title=\"Max Activation\"):\n",
    "    \n",
    "    max_activations = torch.max(feature_map[0], dim=0).values.detach().cpu()\n",
    "    \n",
    "    plt.figure(figsize=(6, 4))\n",
    "    plt.imshow(max_activations, cmap='hot')\n",
    "    plt.colorbar()\n",
    "    plt.title(title)\n",
    "    plt.axis('off')\n",
    "    plt.show()"
   ]
  },
  {
   "cell_type": "code",
   "execution_count": 19,
   "id": "96cde506",
   "metadata": {},
   "outputs": [
    {
     "name": "stdout",
     "output_type": "stream",
     "text": [
      "Stage 0 output shape: torch.Size([1, 64, 64, 256])\n"
     ]
    },
    {
     "data": {
      "image/png": "[encoded data removed]",
      "text/plain": [
       "<Figure size 600x400 with 2 Axes>"
      ]
     },
     "metadata": {},
     "output_type": "display_data"
    },
    {
     "name": "stdout",
     "output_type": "stream",
     "text": [
      "Stage 1 output shape: torch.Size([1, 64, 32, 128])\n"
     ]
    },
    {
     "data": {
      "image/png": "[encoded data removed]",
      "text/plain": [
       "<Figure size 600x400 with 2 Axes>"
      ]
     },
     "metadata": {},
     "output_type": "display_data"
    },
    {
     "name": "stdout",
     "output_type": "stream",
     "text": [
      "Stage 2 output shape: torch.Size([1, 64, 32, 128])\n"
     ]
    },
    {
     "data": {
      "image/png": "[encoded data removed]",
      "text/plain": [
       "<Figure size 600x400 with 2 Axes>"
      ]
     },
     "metadata": {},
     "output_type": "display_data"
    },
    {
     "name": "stdout",
     "output_type": "stream",
     "text": [
      "Stage 3 output shape: torch.Size([1, 128, 16, 64])\n"
     ]
    },
    {
     "data": {
      "image/png": "[encoded data removed]",
      "text/plain": [
       "<Figure size 600x400 with 2 Axes>"
      ]
     },
     "metadata": {},
     "output_type": "display_data"
    },
    {
     "name": "stdout",
     "output_type": "stream",
     "text": [
      "Stage 4 output shape: torch.Size([1, 256, 8, 32])\n"
     ]
    },
    {
     "data": {
      "image/png": "[encoded data removed]",
      "text/plain": [
       "<Figure size 600x400 with 2 Axes>"
      ]
     },
     "metadata": {},
     "output_type": "display_data"
    }
   ],
   "source": [
    "# Show the maximum activation of each stage's feature map\n",
    "for idx, feat in enumerate(features):\n",
    "    print(f\"Stage {idx} output shape: {feat.shape}\")\n",
    "    show_max_activation(feat, f\"Stage {idx} Max Activation Heatmap\")"
   ]
  },
  {
   "cell_type": "code",
   "execution_count": 20,
   "id": "6011c300",
   "metadata": {},
   "outputs": [],
   "source": [
    "# Define the Decoder class using Transformer Decoder layers\n",
    "class Decoder(nn.Module):\n",
    "    def __init__(self, vocab_size, d_model=384, nhead=8, num_layers=8, max_len=256, dropout=0.1):\n",
    "        super().__init__()\n",
    "\n",
    "        # Token embedding layer (maps token indices to vectors)\n",
    "        self.token_embedding = nn.Embedding(vocab_size, d_model)\n",
    "\n",
    "         # Learnable positional embeddings\n",
    "        self.pos_embedding = nn.Parameter(torch.zeros(1, max_len * 2, d_model))\n",
    "\n",
    "         # Learnable positional embeddings\n",
    "        decoder_layer = nn.TransformerDecoderLayer(\n",
    "            d_model=d_model,\n",
    "            nhead=nhead,\n",
    "            dim_feedforward=d_model * 4,\n",
    "            dropout=dropout,\n",
    "            batch_first=True\n",
    "        )\n",
    "        self.transformer_decoder = nn.TransformerDecoder(decoder_layer, num_layers=num_layers)\n",
    "        self.output_layer = nn.Linear(d_model, vocab_size)\n",
    "\n",
    "        nn.init.normal_(self.pos_embedding, std=0.02)\n",
    "\n",
    "    def forward(self, tgt_input, memory, tgt_mask=None, memory_mask=None, tgt_key_padding_mask=None):\n",
    "\n",
    "        tgt_emb = self.token_embedding(tgt_input) + self.pos_embedding[:, :tgt_input.size(1), :]\n",
    "\n",
    "        memory = memory.reshape(memory.size(0), -1, memory.size(-1))\n",
    "\n",
    "        output = self.transformer_decoder(\n",
    "            tgt=tgt_emb,\n",
    "            memory=memory,\n",
    "            tgt_mask=tgt_mask,\n",
    "            tgt_key_padding_mask=tgt_key_padding_mask\n",
    "        )\n",
    "        return self.output_layer(output)"
   ]
  },
  {
   "cell_type": "code",
   "execution_count": 21,
   "id": "06e9237c",
   "metadata": {},
   "outputs": [],
   "source": [
    "# Generate a square mask for sequence-to-sequence decoding\n",
    "# Masked positions are filled with -inf, non-masked with 0.0\n",
    "def generate_square_subsequent_mask(sz: int) -> torch.Tensor:\n",
    "    mask = (torch.triu(torch.ones(sz, sz)) == 1).transpose(0, 1)\n",
    "    mask = mask.float().masked_fill(mask == 0, float('-inf')).masked_fill(mask == 1, float(0.0))\n",
    "    return mask"
   ]
  },
  {
   "cell_type": "code",
   "execution_count": 22,
   "id": "07954615",
   "metadata": {},
   "outputs": [],
   "source": [
    "# Pack the Encoder and Decoder into a single model\n",
    "class Im2LatexModel(nn.Module):\n",
    "    def __init__(self, vocab_size, d_model=384, max_seq_len=256):\n",
    "        super().__init__()\n",
    "        self.encoder = Encoder(d_model=d_model)\n",
    "        self.decoder = Decoder(vocab_size=vocab_size, d_model=d_model, max_len=max_seq_len)\n",
    "        self.max_seq_len = max_seq_len\n",
    "\n",
    "    def forward(self, images, tgt_input, tgt_mask=None):\n",
    "        enc_output = self.encoder(images)  # [B, H, W, D]\n",
    "        logits = self.decoder(tgt_input, enc_output, tgt_mask=tgt_mask)\n",
    "        return logits  # [B, T, vocab_size]"
   ]
  },
  {
   "cell_type": "code",
   "execution_count": 23,
   "id": "1e18ab2d",
   "metadata": {},
   "outputs": [
    {
     "name": "stdout",
     "output_type": "stream",
     "text": [
      "Decoder output: torch.Size([32, 223, 136])\n"
     ]
    }
   ],
   "source": [
    "# Teset the model with a batch of images and labels\n",
    "images, labels, _ = next(iter(train_loader))\n",
    "images = images.cuda()\n",
    "labels = labels.cuda()\n",
    "\n",
    "# Create input by shifting\n",
    "tgt_input = labels[:, :-1]\n",
    "tgt_output = labels[:, 1:]\n",
    "\n",
    "model = Im2LatexModel(vocab_size=len(token2idx), d_model=256, max_seq_len=max_seq_length).cuda()\n",
    "tgt_mask = generate_square_subsequent_mask(tgt_input.size(1)).to(images.device)\n",
    "\n",
    "logits = model(images, tgt_input, tgt_mask)  # [B, T, vocab_size]\n",
    "\n",
    "print(\"Decoder output:\", logits.shape)"
   ]
  },
  {
   "cell_type": "code",
   "execution_count": 24,
   "id": "8a5e6229",
   "metadata": {},
   "outputs": [],
   "source": [
    "# Test the integrity of the decoder\n",
    "def test_decoder_integrity(model, images, labels, token2idx, idx2token):\n",
    "    print(\"=\" * 50)\n",
    "    print(\"Running Decoder Integrity Tests\")\n",
    "    print(\"=\" * 50)\n",
    "\n",
    "    device = next(model.parameters()).device\n",
    "    images, labels = images.to(device), labels.to(device)\n",
    "    tgt_input = labels[:, :-1]\n",
    "    tgt_output = labels[:, 1:]\n",
    "    tgt_mask = generate_square_subsequent_mask(tgt_input.size(1)).to(device)\n",
    "\n",
    "    # Forward\n",
    "    logits = model(images, tgt_input, tgt_mask)\n",
    "\n",
    "    # Test 1 - Logits stats\n",
    "    print(\"\\n[1] Logits distribution:\")\n",
    "    print(\"   mean:\", logits.mean().item())\n",
    "    print(\"   max :\", logits.max().item())\n",
    "    print(\"   min :\", logits.min().item())\n",
    "\n",
    "    # Test 2 - Sample Top-K token at t=10\n",
    "    t = min(10, logits.size(1) - 1)\n",
    "    sample_logits = logits[0, t]\n",
    "    probs = torch.softmax(sample_logits, dim=-1)\n",
    "    topk_probs, topk_idx = torch.topk(probs, k=5)\n",
    "\n",
    "    print(\"\\n[2] Top-5 tokens at timestep\", t)\n",
    "    for i in range(5):\n",
    "        print(f\"   {idx2token[topk_idx[i].item()]}: {topk_probs[i].item():.4f}\")\n",
    "\n",
    "    # Test 3 - First-step decoder only\n",
    "    print(\"\\n[3] First-step decoding test\")\n",
    "    start = torch.full((1, 1), token2idx['<s>'], dtype=torch.long).to(device)\n",
    "    enc_out = model.encoder(images[0:1])\n",
    "    logits_start = model.decoder(start, enc_out)\n",
    "    pred = torch.argmax(logits_start, dim=-1)[0, 0].item()\n",
    "    print(f\"   Predicted first token: {idx2token[pred]}\")\n",
    "\n",
    "    # Test 4 - Gradient check\n",
    "    print(\"\\n[4] Gradient flow check\")\n",
    "    logits_flat = logits.view(-1, logits.size(-1))\n",
    "    labels_flat = tgt_output.contiguous().view(-1)\n",
    "    loss_fn = nn.CrossEntropyLoss(ignore_index=token2idx['<pad>'])\n",
    "    loss = loss_fn(logits_flat, labels_flat)\n",
    "    loss.backward()\n",
    "\n",
    "    for name, param in model.named_parameters():\n",
    "        if param.grad is not None:\n",
    "            print(f\"   {name:40s} | grad norm = {param.grad.norm():.4f}\")\n",
    "\n",
    "    print(\"\\nDecoder passed all integrity checks (forward & backward).\\n\")"
   ]
  },
  {
   "cell_type": "code",
   "execution_count": 25,
   "id": "6da8c306",
   "metadata": {},
   "outputs": [
    {
     "name": "stdout",
     "output_type": "stream",
     "text": [
      "==================================================\n",
      "Running Decoder Integrity Tests\n",
      "==================================================\n",
      "\n",
      "[1] Logits distribution:\n",
      "   mean: -0.017658617347478867\n",
      "   max : 2.2888400554656982\n",
      "   min : -2.312849998474121\n",
      "\n",
      "[2] Top-5 tokens at timestep 10\n",
      "   \\ltl: 0.0283\n",
      "   5: 0.0262\n",
      "   G: 0.0179\n",
      "   _: 0.0169\n",
      "   8: 0.0152\n",
      "\n",
      "[3] First-step decoding test\n",
      "   Predicted first token: _\n",
      "\n",
      "[4] Gradient flow check\n",
      "   encoder.backbone.0.weight                | grad norm = 0.0505\n",
      "   encoder.backbone.1.weight                | grad norm = 0.0086\n",
      "   encoder.backbone.1.bias                  | grad norm = 0.0024\n",
      "   encoder.backbone.4.0.conv1.weight        | grad norm = 0.0200\n",
      "   encoder.backbone.4.0.bn1.weight          | grad norm = 0.0033\n",
      "   encoder.backbone.4.0.bn1.bias            | grad norm = 0.0041\n",
      "   encoder.backbone.4.0.conv2.weight        | grad norm = 0.0117\n",
      "   encoder.backbone.4.0.bn2.weight          | grad norm = 0.0077\n",
      "   encoder.backbone.4.0.bn2.bias            | grad norm = 0.0019\n",
      "   encoder.backbone.4.1.conv1.weight        | grad norm = 0.0164\n",
      "   encoder.backbone.4.1.bn1.weight          | grad norm = 0.0039\n",
      "   encoder.backbone.4.1.bn1.bias            | grad norm = 0.0038\n",
      "   encoder.backbone.4.1.conv2.weight        | grad norm = 0.0123\n",
      "   encoder.backbone.4.1.bn2.weight          | grad norm = 0.0060\n",
      "   encoder.backbone.4.1.bn2.bias            | grad norm = 0.0012\n",
      "   encoder.backbone.4.2.conv1.weight        | grad norm = 0.0110\n",
      "   encoder.backbone.4.2.bn1.weight          | grad norm = 0.0032\n",
      "   encoder.backbone.4.2.bn1.bias            | grad norm = 0.0046\n",
      "   encoder.backbone.4.2.conv2.weight        | grad norm = 0.0100\n",
      "   encoder.backbone.4.2.bn2.weight          | grad norm = 0.0030\n",
      "   encoder.backbone.4.2.bn2.bias            | grad norm = 0.0010\n",
      "   encoder.backbone.5.0.conv1.weight        | grad norm = 0.0121\n",
      "   encoder.backbone.5.0.bn1.weight          | grad norm = 0.0037\n",
      "   encoder.backbone.5.0.bn1.bias            | grad norm = 0.0034\n",
      "   encoder.backbone.5.0.conv2.weight        | grad norm = 0.0161\n",
      "   encoder.backbone.5.0.bn2.weight          | grad norm = 0.0127\n",
      "   encoder.backbone.5.0.bn2.bias            | grad norm = 0.0269\n",
      "   encoder.backbone.5.0.downsample.0.weight | grad norm = 0.0104\n",
      "   encoder.backbone.5.0.downsample.1.weight | grad norm = 0.0114\n",
      "   encoder.backbone.5.0.downsample.1.bias   | grad norm = 0.0269\n",
      "   encoder.backbone.5.1.conv1.weight        | grad norm = 0.0136\n",
      "   encoder.backbone.5.1.bn1.weight          | grad norm = 0.0038\n",
      "   encoder.backbone.5.1.bn1.bias            | grad norm = 0.0045\n",
      "   encoder.backbone.5.1.conv2.weight        | grad norm = 0.0139\n",
      "   encoder.backbone.5.1.bn2.weight          | grad norm = 0.0130\n",
      "   encoder.backbone.5.1.bn2.bias            | grad norm = 0.0298\n",
      "   encoder.backbone.5.2.conv1.weight        | grad norm = 0.0106\n",
      "   encoder.backbone.5.2.bn1.weight          | grad norm = 0.0038\n",
      "   encoder.backbone.5.2.bn1.bias            | grad norm = 0.0031\n",
      "   encoder.backbone.5.2.conv2.weight        | grad norm = 0.0129\n",
      "   encoder.backbone.5.2.bn2.weight          | grad norm = 0.0130\n",
      "   encoder.backbone.5.2.bn2.bias            | grad norm = 0.0324\n",
      "   encoder.backbone.5.3.conv1.weight        | grad norm = 0.0100\n",
      "   encoder.backbone.5.3.bn1.weight          | grad norm = 0.0035\n",
      "   encoder.backbone.5.3.bn1.bias            | grad norm = 0.0025\n",
      "   encoder.backbone.5.3.conv2.weight        | grad norm = 0.0112\n",
      "   encoder.backbone.5.3.bn2.weight          | grad norm = 0.0123\n",
      "   encoder.backbone.5.3.bn2.bias            | grad norm = 0.0414\n",
      "   encoder.project.weight                   | grad norm = 0.3048\n",
      "   encoder.project.bias                     | grad norm = 0.0946\n",
      "   encoder.row_encoder.weight_ih_l0         | grad norm = 0.9104\n",
      "   encoder.row_encoder.weight_hh_l0         | grad norm = 0.1976\n",
      "   encoder.row_encoder.bias_ih_l0           | grad norm = 0.0913\n",
      "   encoder.row_encoder.bias_hh_l0           | grad norm = 0.0913\n",
      "   encoder.row_encoder.weight_ih_l0_reverse | grad norm = 0.7029\n",
      "   encoder.row_encoder.weight_hh_l0_reverse | grad norm = 0.1375\n",
      "   encoder.row_encoder.bias_ih_l0_reverse   | grad norm = 0.0704\n",
      "   encoder.row_encoder.bias_hh_l0_reverse   | grad norm = 0.0704\n",
      "   decoder.pos_embedding                    | grad norm = 0.0585\n",
      "   decoder.token_embedding.weight           | grad norm = 0.0612\n",
      "   decoder.transformer_decoder.layers.0.self_attn.in_proj_weight | grad norm = 0.4921\n",
      "   decoder.transformer_decoder.layers.0.self_attn.in_proj_bias | grad norm = 0.0760\n",
      "   decoder.transformer_decoder.layers.0.self_attn.out_proj.weight | grad norm = 0.5919\n",
      "   decoder.transformer_decoder.layers.0.self_attn.out_proj.bias | grad norm = 0.1253\n",
      "   decoder.transformer_decoder.layers.0.multihead_attn.in_proj_weight | grad norm = 0.2237\n",
      "   decoder.transformer_decoder.layers.0.multihead_attn.in_proj_bias | grad norm = 0.0760\n",
      "   decoder.transformer_decoder.layers.0.multihead_attn.out_proj.weight | grad norm = 0.2895\n",
      "   decoder.transformer_decoder.layers.0.multihead_attn.out_proj.bias | grad norm = 0.1303\n",
      "   decoder.transformer_decoder.layers.0.linear1.weight | grad norm = 0.2951\n",
      "   decoder.transformer_decoder.layers.0.linear1.bias | grad norm = 0.0381\n",
      "   decoder.transformer_decoder.layers.0.linear2.weight | grad norm = 1.0200\n",
      "   decoder.transformer_decoder.layers.0.linear2.bias | grad norm = 0.1229\n",
      "   decoder.transformer_decoder.layers.0.norm1.weight | grad norm = 0.0493\n",
      "   decoder.transformer_decoder.layers.0.norm1.bias | grad norm = 0.1302\n",
      "   decoder.transformer_decoder.layers.0.norm2.weight | grad norm = 0.0521\n",
      "   decoder.transformer_decoder.layers.0.norm2.bias | grad norm = 0.1312\n",
      "   decoder.transformer_decoder.layers.0.norm3.weight | grad norm = 0.0541\n",
      "   decoder.transformer_decoder.layers.0.norm3.bias | grad norm = 0.1274\n",
      "   decoder.transformer_decoder.layers.1.self_attn.in_proj_weight | grad norm = 0.4123\n",
      "   decoder.transformer_decoder.layers.1.self_attn.in_proj_bias | grad norm = 0.0573\n",
      "   decoder.transformer_decoder.layers.1.self_attn.out_proj.weight | grad norm = 0.4897\n",
      "   decoder.transformer_decoder.layers.1.self_attn.out_proj.bias | grad norm = 0.0956\n",
      "   decoder.transformer_decoder.layers.1.multihead_attn.in_proj_weight | grad norm = 0.1782\n",
      "   decoder.transformer_decoder.layers.1.multihead_attn.in_proj_bias | grad norm = 0.0605\n",
      "   decoder.transformer_decoder.layers.1.multihead_attn.out_proj.weight | grad norm = 0.2307\n",
      "   decoder.transformer_decoder.layers.1.multihead_attn.out_proj.bias | grad norm = 0.1039\n",
      "   decoder.transformer_decoder.layers.1.linear1.weight | grad norm = 0.2629\n",
      "   decoder.transformer_decoder.layers.1.linear1.bias | grad norm = 0.0308\n",
      "   decoder.transformer_decoder.layers.1.linear2.weight | grad norm = 0.8511\n",
      "   decoder.transformer_decoder.layers.1.linear2.bias | grad norm = 0.0981\n",
      "   decoder.transformer_decoder.layers.1.norm1.weight | grad norm = 0.0488\n",
      "   decoder.transformer_decoder.layers.1.norm1.bias | grad norm = 0.1040\n",
      "   decoder.transformer_decoder.layers.1.norm2.weight | grad norm = 0.0522\n",
      "   decoder.transformer_decoder.layers.1.norm2.bias | grad norm = 0.1055\n",
      "   decoder.transformer_decoder.layers.1.norm3.weight | grad norm = 0.0560\n",
      "   decoder.transformer_decoder.layers.1.norm3.bias | grad norm = 0.1059\n",
      "   decoder.transformer_decoder.layers.2.self_attn.in_proj_weight | grad norm = 0.4036\n",
      "   decoder.transformer_decoder.layers.2.self_attn.in_proj_bias | grad norm = 0.0470\n",
      "   decoder.transformer_decoder.layers.2.self_attn.out_proj.weight | grad norm = 0.4854\n",
      "   decoder.transformer_decoder.layers.2.self_attn.out_proj.bias | grad norm = 0.0806\n",
      "   decoder.transformer_decoder.layers.2.multihead_attn.in_proj_weight | grad norm = 0.1545\n",
      "   decoder.transformer_decoder.layers.2.multihead_attn.in_proj_bias | grad norm = 0.0524\n",
      "   decoder.transformer_decoder.layers.2.multihead_attn.out_proj.weight | grad norm = 0.2012\n",
      "   decoder.transformer_decoder.layers.2.multihead_attn.out_proj.bias | grad norm = 0.0906\n",
      "   decoder.transformer_decoder.layers.2.linear1.weight | grad norm = 0.2713\n",
      "   decoder.transformer_decoder.layers.2.linear1.bias | grad norm = 0.0280\n",
      "   decoder.transformer_decoder.layers.2.linear2.weight | grad norm = 0.7982\n",
      "   decoder.transformer_decoder.layers.2.linear2.bias | grad norm = 0.0864\n",
      "   decoder.transformer_decoder.layers.2.norm1.weight | grad norm = 0.0521\n",
      "   decoder.transformer_decoder.layers.2.norm1.bias | grad norm = 0.0908\n",
      "   decoder.transformer_decoder.layers.2.norm2.weight | grad norm = 0.0553\n",
      "   decoder.transformer_decoder.layers.2.norm2.bias | grad norm = 0.0926\n",
      "   decoder.transformer_decoder.layers.2.norm3.weight | grad norm = 0.0586\n",
      "   decoder.transformer_decoder.layers.2.norm3.bias | grad norm = 0.0949\n",
      "   decoder.transformer_decoder.layers.3.self_attn.in_proj_weight | grad norm = 0.4101\n",
      "   decoder.transformer_decoder.layers.3.self_attn.in_proj_bias | grad norm = 0.0413\n",
      "   decoder.transformer_decoder.layers.3.self_attn.out_proj.weight | grad norm = 0.5034\n",
      "   decoder.transformer_decoder.layers.3.self_attn.out_proj.bias | grad norm = 0.0735\n",
      "   decoder.transformer_decoder.layers.3.multihead_attn.in_proj_weight | grad norm = 0.1445\n",
      "   decoder.transformer_decoder.layers.3.multihead_attn.in_proj_bias | grad norm = 0.0490\n",
      "   decoder.transformer_decoder.layers.3.multihead_attn.out_proj.weight | grad norm = 0.1883\n",
      "   decoder.transformer_decoder.layers.3.multihead_attn.out_proj.bias | grad norm = 0.0848\n",
      "   decoder.transformer_decoder.layers.3.linear1.weight | grad norm = 0.3000\n",
      "   decoder.transformer_decoder.layers.3.linear1.bias | grad norm = 0.0274\n",
      "   decoder.transformer_decoder.layers.3.linear2.weight | grad norm = 0.8019\n",
      "   decoder.transformer_decoder.layers.3.linear2.bias | grad norm = 0.0807\n",
      "   decoder.transformer_decoder.layers.3.norm1.weight | grad norm = 0.0562\n",
      "   decoder.transformer_decoder.layers.3.norm1.bias | grad norm = 0.0848\n",
      "   decoder.transformer_decoder.layers.3.norm2.weight | grad norm = 0.0593\n",
      "   decoder.transformer_decoder.layers.3.norm2.bias | grad norm = 0.0867\n",
      "   decoder.transformer_decoder.layers.3.norm3.weight | grad norm = 0.0620\n",
      "   decoder.transformer_decoder.layers.3.norm3.bias | grad norm = 0.0901\n",
      "   decoder.transformer_decoder.layers.4.self_attn.in_proj_weight | grad norm = 0.4381\n",
      "   decoder.transformer_decoder.layers.4.self_attn.in_proj_bias | grad norm = 0.0394\n",
      "   decoder.transformer_decoder.layers.4.self_attn.out_proj.weight | grad norm = 0.5473\n",
      "   decoder.transformer_decoder.layers.4.self_attn.out_proj.bias | grad norm = 0.0708\n",
      "   decoder.transformer_decoder.layers.4.multihead_attn.in_proj_weight | grad norm = 0.1437\n",
      "   decoder.transformer_decoder.layers.4.multihead_attn.in_proj_bias | grad norm = 0.0488\n",
      "   decoder.transformer_decoder.layers.4.multihead_attn.out_proj.weight | grad norm = 0.1885\n",
      "   decoder.transformer_decoder.layers.4.multihead_attn.out_proj.bias | grad norm = 0.0849\n",
      "   decoder.transformer_decoder.layers.4.linear1.weight | grad norm = 0.3436\n",
      "   decoder.transformer_decoder.layers.4.linear1.bias | grad norm = 0.0284\n",
      "   decoder.transformer_decoder.layers.4.linear2.weight | grad norm = 0.8476\n",
      "   decoder.transformer_decoder.layers.4.linear2.bias | grad norm = 0.0802\n",
      "   decoder.transformer_decoder.layers.4.norm1.weight | grad norm = 0.0623\n",
      "   decoder.transformer_decoder.layers.4.norm1.bias | grad norm = 0.0846\n",
      "   decoder.transformer_decoder.layers.4.norm2.weight | grad norm = 0.0653\n",
      "   decoder.transformer_decoder.layers.4.norm2.bias | grad norm = 0.0866\n",
      "   decoder.transformer_decoder.layers.4.norm3.weight | grad norm = 0.0680\n",
      "   decoder.transformer_decoder.layers.4.norm3.bias | grad norm = 0.0907\n",
      "   decoder.transformer_decoder.layers.5.self_attn.in_proj_weight | grad norm = 0.4844\n",
      "   decoder.transformer_decoder.layers.5.self_attn.in_proj_bias | grad norm = 0.0399\n",
      "   decoder.transformer_decoder.layers.5.self_attn.out_proj.weight | grad norm = 0.6134\n",
      "   decoder.transformer_decoder.layers.5.self_attn.out_proj.bias | grad norm = 0.0727\n",
      "   decoder.transformer_decoder.layers.5.multihead_attn.in_proj_weight | grad norm = 0.1516\n",
      "   decoder.transformer_decoder.layers.5.multihead_attn.in_proj_bias | grad norm = 0.0514\n",
      "   decoder.transformer_decoder.layers.5.multihead_attn.out_proj.weight | grad norm = 0.1987\n",
      "   decoder.transformer_decoder.layers.5.multihead_attn.out_proj.bias | grad norm = 0.0895\n",
      "   decoder.transformer_decoder.layers.5.linear1.weight | grad norm = 0.4092\n",
      "   decoder.transformer_decoder.layers.5.linear1.bias | grad norm = 0.0314\n",
      "   decoder.transformer_decoder.layers.5.linear2.weight | grad norm = 0.9471\n",
      "   decoder.transformer_decoder.layers.5.linear2.bias | grad norm = 0.0851\n",
      "   decoder.transformer_decoder.layers.5.norm1.weight | grad norm = 0.0705\n",
      "   decoder.transformer_decoder.layers.5.norm1.bias | grad norm = 0.0894\n",
      "   decoder.transformer_decoder.layers.5.norm2.weight | grad norm = 0.0737\n",
      "   decoder.transformer_decoder.layers.5.norm2.bias | grad norm = 0.0916\n",
      "   decoder.transformer_decoder.layers.5.norm3.weight | grad norm = 0.0771\n",
      "   decoder.transformer_decoder.layers.5.norm3.bias | grad norm = 0.0967\n",
      "   decoder.transformer_decoder.layers.6.self_attn.in_proj_weight | grad norm = 0.5794\n",
      "   decoder.transformer_decoder.layers.6.self_attn.in_proj_bias | grad norm = 0.0447\n",
      "   decoder.transformer_decoder.layers.6.self_attn.out_proj.weight | grad norm = 0.7119\n",
      "   decoder.transformer_decoder.layers.6.self_attn.out_proj.bias | grad norm = 0.0800\n",
      "   decoder.transformer_decoder.layers.6.multihead_attn.in_proj_weight | grad norm = 0.1713\n",
      "   decoder.transformer_decoder.layers.6.multihead_attn.in_proj_bias | grad norm = 0.0581\n",
      "   decoder.transformer_decoder.layers.6.multihead_attn.out_proj.weight | grad norm = 0.2234\n",
      "   decoder.transformer_decoder.layers.6.multihead_attn.out_proj.bias | grad norm = 0.1006\n",
      "   decoder.transformer_decoder.layers.6.linear1.weight | grad norm = 0.5086\n",
      "   decoder.transformer_decoder.layers.6.linear1.bias | grad norm = 0.0370\n",
      "   decoder.transformer_decoder.layers.6.linear2.weight | grad norm = 1.1230\n",
      "   decoder.transformer_decoder.layers.6.linear2.bias | grad norm = 0.0970\n",
      "   decoder.transformer_decoder.layers.6.norm1.weight | grad norm = 0.0822\n",
      "   decoder.transformer_decoder.layers.6.norm1.bias | grad norm = 0.1002\n",
      "   decoder.transformer_decoder.layers.6.norm2.weight | grad norm = 0.0855\n",
      "   decoder.transformer_decoder.layers.6.norm2.bias | grad norm = 0.1027\n",
      "   decoder.transformer_decoder.layers.6.norm3.weight | grad norm = 0.0923\n",
      "   decoder.transformer_decoder.layers.6.norm3.bias | grad norm = 0.1099\n",
      "   decoder.transformer_decoder.layers.7.self_attn.in_proj_weight | grad norm = 0.7725\n",
      "   decoder.transformer_decoder.layers.7.self_attn.in_proj_bias | grad norm = 0.0567\n",
      "   decoder.transformer_decoder.layers.7.self_attn.out_proj.weight | grad norm = 0.9128\n",
      "   decoder.transformer_decoder.layers.7.self_attn.out_proj.bias | grad norm = 0.0984\n",
      "   decoder.transformer_decoder.layers.7.multihead_attn.in_proj_weight | grad norm = 0.2141\n",
      "   decoder.transformer_decoder.layers.7.multihead_attn.in_proj_bias | grad norm = 0.0727\n",
      "   decoder.transformer_decoder.layers.7.multihead_attn.out_proj.weight | grad norm = 0.2765\n",
      "   decoder.transformer_decoder.layers.7.multihead_attn.out_proj.bias | grad norm = 0.1245\n",
      "   decoder.transformer_decoder.layers.7.linear1.weight | grad norm = 0.6836\n",
      "   decoder.transformer_decoder.layers.7.linear1.bias | grad norm = 0.0478\n",
      "   decoder.transformer_decoder.layers.7.linear2.weight | grad norm = 1.4834\n",
      "   decoder.transformer_decoder.layers.7.linear2.bias | grad norm = 0.1247\n",
      "   decoder.transformer_decoder.layers.7.norm1.weight | grad norm = 0.1064\n",
      "   decoder.transformer_decoder.layers.7.norm1.bias | grad norm = 0.1246\n",
      "   decoder.transformer_decoder.layers.7.norm2.weight | grad norm = 0.1102\n",
      "   decoder.transformer_decoder.layers.7.norm2.bias | grad norm = 0.1278\n",
      "   decoder.transformer_decoder.layers.7.norm3.weight | grad norm = 0.1348\n",
      "   decoder.transformer_decoder.layers.7.norm3.bias | grad norm = 0.1471\n",
      "   decoder.output_layer.weight              | grad norm = 3.4931\n",
      "   decoder.output_layer.bias                | grad norm = 0.2451\n",
      "\n",
      "Decoder passed all integrity checks (forward & backward).\n",
      "\n"
     ]
    }
   ],
   "source": [
    "# Test the decoder integrity with a batch of images and labels\n",
    "images, labels, _ = next(iter(train_loader))\n",
    "test_decoder_integrity(model, images, labels, token2idx, idx2token)"
   ]
  },
  {
   "cell_type": "code",
   "execution_count": 26,
   "id": "e8930824",
   "metadata": {},
   "outputs": [],
   "source": [
    "# Loss function for training (label smoothing)\n",
    "def create_loss_function(token2idx, smoothing=0.1):\n",
    "    ignore_index = token2idx['<pad>']\n",
    "    return nn.CrossEntropyLoss(ignore_index=ignore_index, label_smoothing=smoothing)"
   ]
  },
  {
   "cell_type": "code",
   "execution_count": 27,
   "id": "6bfdb2f6",
   "metadata": {},
   "outputs": [],
   "source": [
    "# Define the one-epoch training function\n",
    "def train_one_epoch(model, dataloader, optimizer, scheduler, loss_fn, device):\n",
    "    model.train()\n",
    "    total_loss = 0\n",
    "\n",
    "    for images, labels, _ in tqdm(dataloader, desc=\"Training\"):\n",
    "        # Use GPU if available\n",
    "        images = images.to(device)\n",
    "        labels = labels.to(device)\n",
    "\n",
    "        # Prepare target input (for prediction) and target output (for supervision)\n",
    "        tgt_input = labels[:, :-1]\n",
    "        tgt_output = labels[:, 1:]\n",
    "\n",
    "        tgt_mask = generate_square_subsequent_mask(tgt_input.size(1)).to(device)\n",
    "\n",
    "        optimizer.zero_grad()\n",
    "        logits = model(images, tgt_input, tgt_mask)\n",
    "\n",
    "        # Reshape logits and targets for loss computation\n",
    "        logits = logits.view(-1, logits.size(-1))\n",
    "        tgt_output = tgt_output.contiguous().view(-1)\n",
    "\n",
    "         # Compute loss and backpropagate\n",
    "        loss = loss_fn(logits, tgt_output)\n",
    "        loss.backward()\n",
    "        optimizer.step()\n",
    "        scheduler.step()\n",
    "\n",
    "        total_loss += loss.item()\n",
    "\n",
    "    return total_loss / len(dataloader)"
   ]
  },
  {
   "cell_type": "code",
   "execution_count": 28,
   "id": "83d548e8",
   "metadata": {},
   "outputs": [],
   "source": [
    "# Define the evaluation function (no gradient calculation)\n",
    "@torch.no_grad()\n",
    "def evaluate(model, dataloader, loss_fn, device):\n",
    "    model.eval()\n",
    "    total_loss = 0\n",
    "\n",
    "    for images, labels, _ in tqdm(dataloader, desc=\"Evaluating\"):\n",
    "        images = images.to(device)\n",
    "        labels = labels.to(device)\n",
    "\n",
    "        tgt_input = labels[:, :-1]\n",
    "        tgt_output = labels[:, 1:]\n",
    "\n",
    "        tgt_mask = generate_square_subsequent_mask(tgt_input.size(1)).to(device)\n",
    "\n",
    "        logits = model(images, tgt_input, tgt_mask)\n",
    "        logits = logits.view(-1, logits.size(-1))\n",
    "        tgt_output = tgt_output.contiguous().view(-1)\n",
    "\n",
    "        loss = loss_fn(logits, tgt_output)\n",
    "        total_loss += loss.item()\n",
    "\n",
    "    return total_loss / len(dataloader)"
   ]
  },
  {
   "cell_type": "code",
   "execution_count": 29,
   "id": "fea62373",
   "metadata": {},
   "outputs": [],
   "source": [
    "# Define a learning rate scheduler with linear warmup and cosine annealing\n",
    "def get_scheduler(optimizer, num_warmup_steps, num_training_steps):\n",
    "    def lr_lambda(current_step):\n",
    "        if current_step < num_warmup_steps:\n",
    "            return float(current_step) / float(max(1, num_warmup_steps))\n",
    "        return max(\n",
    "            0.0, \n",
    "            0.5 * (1.0 + math.cos(math.pi * (current_step - num_warmup_steps) / (num_training_steps - num_warmup_steps)))\n",
    "        )\n",
    "    \n",
    "    return torch.optim.lr_scheduler.LambdaLR(optimizer, lr_lambda)"
   ]
  },
  {
   "cell_type": "code",
   "execution_count": null,
   "id": "cfe5b008",
   "metadata": {},
   "outputs": [],
   "source": [
    "# Define the full training loop with validation and checkpoint saving\n",
    "def fit(model, train_loader, val_loader, token2idx, epochs=10, lr=1e-4, device=\"cuda\"):\n",
    "    # Setup optimizer, loss function, scheduler\n",
    "    optimizer = torch.optim.Adam(model.parameters(), lr=lr)\n",
    "    loss_fn = create_loss_function(token2idx, smoothing=0.1)\n",
    "\n",
    "    num_training_steps = epochs * len(train_loader)\n",
    "    num_warmup_steps = int(0.1 * num_training_steps)  # warmup 10% step\n",
    "    scheduler = get_scheduler(optimizer, num_warmup_steps, num_training_steps)\n",
    "\n",
    "    best_val_loss = float('inf')\n",
    "    save_path = \"best_model.pt\"\n",
    "\n",
    "    writer = SummaryWriter(log_dir=\"runs/im2latex\")\n",
    "\n",
    "    train_losses = []\n",
    "    val_losses = []\n",
    "\n",
    "    # Measure initial loss before training\n",
    "    print(\"\\nMeasuring Initial Loss...\")\n",
    "    model.eval()\n",
    "    with torch.no_grad():\n",
    "        batch = next(iter(val_loader))\n",
    "        images, labels, _ = batch\n",
    "        images, labels = images.to(device), labels.to(device)\n",
    "\n",
    "        tgt_input = labels[:, :-1]\n",
    "        tgt_output = labels[:, 1:]\n",
    "        tgt_mask = generate_square_subsequent_mask(tgt_input.size(1)).to(device)\n",
    "\n",
    "        logits = model(images, tgt_input, tgt_mask)\n",
    "        loss = loss_fn(logits.reshape(-1, logits.size(-1)), tgt_output.reshape(-1))\n",
    "        print(f\"Initial Loss (on val batch): {loss.item():.4f}\")\n",
    "\n",
    "     # Start training loop\n",
    "    for epoch in range(1, epochs + 1):\n",
    "        print(f\"\\nEpoch {epoch}/{epochs}\")\n",
    "\n",
    "        train_loss = train_one_epoch(model, train_loader, optimizer, scheduler, loss_fn, device)\n",
    "        val_loss = evaluate(model, val_loader, loss_fn, device)\n",
    "\n",
    "        train_losses.append(train_loss)\n",
    "        val_losses.append(val_loss)\n",
    "\n",
    "        writer.add_scalar(\"Loss/train\", train_loss, epoch)\n",
    "        writer.add_scalar(\"Loss/val\", val_loss, epoch)\n",
    "\n",
    "        print(f\"Train Loss: {train_loss:.4f} | Val Loss: {val_loss:.4f}\")\n",
    "\n",
    "        if val_loss < best_val_loss:\n",
    "            best_val_loss = val_loss\n",
    "            torch.save(model.state_dict(), save_path)\n",
    "            print(f\"Saved best model to {save_path}\")\n",
    "\n",
    "    writer.close()\n",
    "\n",
    "    # Plot loss curve\n",
    "    plt.figure(figsize=(8, 4))\n",
    "    plt.plot(train_losses, label='Train Loss')\n",
    "    plt.plot(val_losses, label='Val Loss')\n",
    "    plt.xlabel(\"Epoch\")\n",
    "    plt.ylabel(\"Loss\")\n",
    "    plt.title(\"Training Curve\")\n",
    "    plt.legend()\n",
    "    plt.grid(True)\n",
    "    plt.tight_layout()\n",
    "    plt.savefig(\"loss_curve.png\")\n",
    "    plt.show()\n",
    "    print(\"Saved loss curve to loss_curve.png\")"
   ]
  },
  {
   "cell_type": "code",
   "execution_count": 31,
   "id": "760b3473",
   "metadata": {},
   "outputs": [
    {
     "name": "stdout",
     "output_type": "stream",
     "text": [
      "\n",
      "Measuring Initial Loss...\n",
      "Initial Loss (on val batch): 5.2479\n",
      "\n",
      "Epoch 1/50\n"
     ]
    },
    {
     "data": {
      "application/vnd.jupyter.widget-view+json": {
       "model_id": "d5454e7ce89047738476764fe517e06c",
       "version_major": 2,
       "version_minor": 0
      },
      "text/plain": [
       "Training:   0%|          | 0/503 [00:00<?, ?it/s]"
      ]
     },
     "metadata": {},
     "output_type": "display_data"
    },
    {
     "data": {
      "application/vnd.jupyter.widget-view+json": {
       "model_id": "3e3b5a46ba384b1f8f2ec4c554feaa83",
       "version_major": 2,
       "version_minor": 0
      },
      "text/plain": [
       "Evaluating:   0%|          | 0/108 [00:00<?, ?it/s]"
      ]
     },
     "metadata": {},
     "output_type": "display_data"
    },
    {
     "name": "stdout",
     "output_type": "stream",
     "text": [
      "Train Loss: 3.5371 | Val Loss: 2.6799\n",
      "Saved best model to best_model.pt\n",
      "\n",
      "Epoch 2/50\n"
     ]
    },
    {
     "data": {
      "application/vnd.jupyter.widget-view+json": {
       "model_id": "a132b72d41894dbc96e61cdec42cf77f",
       "version_major": 2,
       "version_minor": 0
      },
      "text/plain": [
       "Training:   0%|          | 0/503 [00:00<?, ?it/s]"
      ]
     },
     "metadata": {},
     "output_type": "display_data"
    },
    {
     "data": {
      "application/vnd.jupyter.widget-view+json": {
       "model_id": "d72a32b96e924ca190cc48ba5a220b7e",
       "version_major": 2,
       "version_minor": 0
      },
      "text/plain": [
       "Evaluating:   0%|          | 0/108 [00:00<?, ?it/s]"
      ]
     },
     "metadata": {},
     "output_type": "display_data"
    },
    {
     "name": "stdout",
     "output_type": "stream",
     "text": [
      "Train Loss: 2.5040 | Val Loss: 2.3149\n",
      "Saved best model to best_model.pt\n",
      "\n",
      "Epoch 3/50\n"
     ]
    },
    {
     "data": {
      "application/vnd.jupyter.widget-view+json": {
       "model_id": "c65f019d045040c382ae2b6f91ce7364",
       "version_major": 2,
       "version_minor": 0
      },
      "text/plain": [
       "Training:   0%|          | 0/503 [00:00<?, ?it/s]"
      ]
     },
     "metadata": {},
     "output_type": "display_data"
    },
    {
     "data": {
      "application/vnd.jupyter.widget-view+json": {
       "model_id": "c2921cd7f69747c8ba7225ad6b123f86",
       "version_major": 2,
       "version_minor": 0
      },
      "text/plain": [
       "Evaluating:   0%|          | 0/108 [00:00<?, ?it/s]"
      ]
     },
     "metadata": {},
     "output_type": "display_data"
    },
    {
     "name": "stdout",
     "output_type": "stream",
     "text": [
      "Train Loss: 2.2069 | Val Loss: 2.0394\n",
      "Saved best model to best_model.pt\n",
      "\n",
      "Epoch 4/50\n"
     ]
    },
    {
     "data": {
      "application/vnd.jupyter.widget-view+json": {
       "model_id": "7bce7216da5345189fd49b504e8c3e60",
       "version_major": 2,
       "version_minor": 0
      },
      "text/plain": [
       "Training:   0%|          | 0/503 [00:00<?, ?it/s]"
      ]
     },
     "metadata": {},
     "output_type": "display_data"
    },
    {
     "data": {
      "application/vnd.jupyter.widget-view+json": {
       "model_id": "54c0a15051db487d9184597e3b7c58e8",
       "version_major": 2,
       "version_minor": 0
      },
      "text/plain": [
       "Evaluating:   0%|          | 0/108 [00:00<?, ?it/s]"
      ]
     },
     "metadata": {},
     "output_type": "display_data"
    },
    {
     "name": "stdout",
     "output_type": "stream",
     "text": [
      "Train Loss: 1.9401 | Val Loss: 1.7767\n",
      "Saved best model to best_model.pt\n",
      "\n",
      "Epoch 5/50\n"
     ]
    },
    {
     "data": {
      "application/vnd.jupyter.widget-view+json": {
       "model_id": "b242ee876a2f4aaf813e53cab9c3b5d0",
       "version_major": 2,
       "version_minor": 0
      },
      "text/plain": [
       "Training:   0%|          | 0/503 [00:00<?, ?it/s]"
      ]
     },
     "metadata": {},
     "output_type": "display_data"
    },
    {
     "data": {
      "application/vnd.jupyter.widget-view+json": {
       "model_id": "9ed99cf72a1e4deeb9e82d582c3b9629",
       "version_major": 2,
       "version_minor": 0
      },
      "text/plain": [
       "Evaluating:   0%|          | 0/108 [00:00<?, ?it/s]"
      ]
     },
     "metadata": {},
     "output_type": "display_data"
    },
    {
     "name": "stdout",
     "output_type": "stream",
     "text": [
      "Train Loss: 1.6456 | Val Loss: 1.4843\n",
      "Saved best model to best_model.pt\n",
      "\n",
      "Epoch 6/50\n"
     ]
    },
    {
     "data": {
      "application/vnd.jupyter.widget-view+json": {
       "model_id": "c4c67c2b7f2f49a9a692156b597f9455",
       "version_major": 2,
       "version_minor": 0
      },
      "text/plain": [
       "Training:   0%|          | 0/503 [00:00<?, ?it/s]"
      ]
     },
     "metadata": {},
     "output_type": "display_data"
    },
    {
     "data": {
      "application/vnd.jupyter.widget-view+json": {
       "model_id": "40ffa0fe45784e4a90a141b238114138",
       "version_major": 2,
       "version_minor": 0
      },
      "text/plain": [
       "Evaluating:   0%|          | 0/108 [00:00<?, ?it/s]"
      ]
     },
     "metadata": {},
     "output_type": "display_data"
    },
    {
     "name": "stdout",
     "output_type": "stream",
     "text": [
      "Train Loss: 1.3848 | Val Loss: 1.2733\n",
      "Saved best model to best_model.pt\n",
      "\n",
      "Epoch 7/50\n"
     ]
    },
    {
     "data": {
      "application/vnd.jupyter.widget-view+json": {
       "model_id": "cea4e430740e4a05a44d8f2b40e712d2",
       "version_major": 2,
       "version_minor": 0
      },
      "text/plain": [
       "Training:   0%|          | 0/503 [00:00<?, ?it/s]"
      ]
     },
     "metadata": {},
     "output_type": "display_data"
    },
    {
     "data": {
      "application/vnd.jupyter.widget-view+json": {
       "model_id": "1eda901423eb4a95b2e7337ade71792e",
       "version_major": 2,
       "version_minor": 0
      },
      "text/plain": [
       "Evaluating:   0%|          | 0/108 [00:00<?, ?it/s]"
      ]
     },
     "metadata": {},
     "output_type": "display_data"
    },
    {
     "name": "stdout",
     "output_type": "stream",
     "text": [
      "Train Loss: 1.2332 | Val Loss: 1.2006\n",
      "Saved best model to best_model.pt\n",
      "\n",
      "Epoch 8/50\n"
     ]
    },
    {
     "data": {
      "application/vnd.jupyter.widget-view+json": {
       "model_id": "0c99c61150e741189626d316f1fb1dbc",
       "version_major": 2,
       "version_minor": 0
      },
      "text/plain": [
       "Training:   0%|          | 0/503 [00:00<?, ?it/s]"
      ]
     },
     "metadata": {},
     "output_type": "display_data"
    },
    {
     "data": {
      "application/vnd.jupyter.widget-view+json": {
       "model_id": "1dd304423953467ea8dd5f371a5699e5",
       "version_major": 2,
       "version_minor": 0
      },
      "text/plain": [
       "Evaluating:   0%|          | 0/108 [00:00<?, ?it/s]"
      ]
     },
     "metadata": {},
     "output_type": "display_data"
    },
    {
     "name": "stdout",
     "output_type": "stream",
     "text": [
      "Train Loss: 1.1428 | Val Loss: 1.1160\n",
      "Saved best model to best_model.pt\n",
      "\n",
      "Epoch 9/50\n"
     ]
    },
    {
     "data": {
      "application/vnd.jupyter.widget-view+json": {
       "model_id": "4a4c8bce3dc14c1e922d2dab5634a1ff",
       "version_major": 2,
       "version_minor": 0
      },
      "text/plain": [
       "Training:   0%|          | 0/503 [00:00<?, ?it/s]"
      ]
     },
     "metadata": {},
     "output_type": "display_data"
    },
    {
     "data": {
      "application/vnd.jupyter.widget-view+json": {
       "model_id": "79d1b79e108b4168990c4ebd56686f84",
       "version_major": 2,
       "version_minor": 0
      },
      "text/plain": [
       "Evaluating:   0%|          | 0/108 [00:00<?, ?it/s]"
      ]
     },
     "metadata": {},
     "output_type": "display_data"
    },
    {
     "name": "stdout",
     "output_type": "stream",
     "text": [
      "Train Loss: 1.0846 | Val Loss: 1.0859\n",
      "Saved best model to best_model.pt\n",
      "\n",
      "Epoch 10/50\n"
     ]
    },
    {
     "data": {
      "application/vnd.jupyter.widget-view+json": {
       "model_id": "df88ee24448845fea1f0a2ee70e7762c",
       "version_major": 2,
       "version_minor": 0
      },
      "text/plain": [
       "Training:   0%|          | 0/503 [00:00<?, ?it/s]"
      ]
     },
     "metadata": {},
     "output_type": "display_data"
    },
    {
     "data": {
      "application/vnd.jupyter.widget-view+json": {
       "model_id": "f84afe33a45843d68a72e2a02e3b1845",
       "version_major": 2,
       "version_minor": 0
      },
      "text/plain": [
       "Evaluating:   0%|          | 0/108 [00:00<?, ?it/s]"
      ]
     },
     "metadata": {},
     "output_type": "display_data"
    },
    {
     "name": "stdout",
     "output_type": "stream",
     "text": [
      "Train Loss: 1.0425 | Val Loss: 1.0880\n",
      "\n",
      "Epoch 11/50\n"
     ]
    },
    {
     "data": {
      "application/vnd.jupyter.widget-view+json": {
       "model_id": "2a69edc292394ff3b526df7c420e2202",
       "version_major": 2,
       "version_minor": 0
      },
      "text/plain": [
       "Training:   0%|          | 0/503 [00:00<?, ?it/s]"
      ]
     },
     "metadata": {},
     "output_type": "display_data"
    },
    {
     "data": {
      "application/vnd.jupyter.widget-view+json": {
       "model_id": "04191f2376e64bd3a232cdc0b56175b9",
       "version_major": 2,
       "version_minor": 0
      },
      "text/plain": [
       "Evaluating:   0%|          | 0/108 [00:00<?, ?it/s]"
      ]
     },
     "metadata": {},
     "output_type": "display_data"
    },
    {
     "name": "stdout",
     "output_type": "stream",
     "text": [
      "Train Loss: 1.0075 | Val Loss: 1.0341\n",
      "Saved best model to best_model.pt\n",
      "\n",
      "Epoch 12/50\n"
     ]
    },
    {
     "data": {
      "application/vnd.jupyter.widget-view+json": {
       "model_id": "15ca5481c0d24d69b862472dadfb37fc",
       "version_major": 2,
       "version_minor": 0
      },
      "text/plain": [
       "Training:   0%|          | 0/503 [00:00<?, ?it/s]"
      ]
     },
     "metadata": {},
     "output_type": "display_data"
    },
    {
     "data": {
      "application/vnd.jupyter.widget-view+json": {
       "model_id": "fa06ae2a2ff54c80a2a0d5e387b463ae",
       "version_major": 2,
       "version_minor": 0
      },
      "text/plain": [
       "Evaluating:   0%|          | 0/108 [00:00<?, ?it/s]"
      ]
     },
     "metadata": {},
     "output_type": "display_data"
    },
    {
     "name": "stdout",
     "output_type": "stream",
     "text": [
      "Train Loss: 0.9845 | Val Loss: 1.0229\n",
      "Saved best model to best_model.pt\n",
      "\n",
      "Epoch 13/50\n"
     ]
    },
    {
     "data": {
      "application/vnd.jupyter.widget-view+json": {
       "model_id": "8519fea4e2ef47af895a84b3f88bb435",
       "version_major": 2,
       "version_minor": 0
      },
      "text/plain": [
       "Training:   0%|          | 0/503 [00:00<?, ?it/s]"
      ]
     },
     "metadata": {},
     "output_type": "display_data"
    },
    {
     "data": {
      "application/vnd.jupyter.widget-view+json": {
       "model_id": "a81292d5bc5445d7a595add83d28f901",
       "version_major": 2,
       "version_minor": 0
      },
      "text/plain": [
       "Evaluating:   0%|          | 0/108 [00:00<?, ?it/s]"
      ]
     },
     "metadata": {},
     "output_type": "display_data"
    },
    {
     "name": "stdout",
     "output_type": "stream",
     "text": [
      "Train Loss: 0.9645 | Val Loss: 1.0012\n",
      "Saved best model to best_model.pt\n",
      "\n",
      "Epoch 14/50\n"
     ]
    },
    {
     "data": {
      "application/vnd.jupyter.widget-view+json": {
       "model_id": "542e2ac0a20e4764b68545de151d1cb4",
       "version_major": 2,
       "version_minor": 0
      },
      "text/plain": [
       "Training:   0%|          | 0/503 [00:00<?, ?it/s]"
      ]
     },
     "metadata": {},
     "output_type": "display_data"
    },
    {
     "data": {
      "application/vnd.jupyter.widget-view+json": {
       "model_id": "770a043cf08541e59856605f7548a973",
       "version_major": 2,
       "version_minor": 0
      },
      "text/plain": [
       "Evaluating:   0%|          | 0/108 [00:00<?, ?it/s]"
      ]
     },
     "metadata": {},
     "output_type": "display_data"
    },
    {
     "name": "stdout",
     "output_type": "stream",
     "text": [
      "Train Loss: 0.9513 | Val Loss: 1.0102\n",
      "\n",
      "Epoch 15/50\n"
     ]
    },
    {
     "data": {
      "application/vnd.jupyter.widget-view+json": {
       "model_id": "ac096b99b3904f69af03062d818dfe0c",
       "version_major": 2,
       "version_minor": 0
      },
      "text/plain": [
       "Training:   0%|          | 0/503 [00:00<?, ?it/s]"
      ]
     },
     "metadata": {},
     "output_type": "display_data"
    },
    {
     "data": {
      "application/vnd.jupyter.widget-view+json": {
       "model_id": "6865c0c93cbd480e85c300892acf6c4e",
       "version_major": 2,
       "version_minor": 0
      },
      "text/plain": [
       "Evaluating:   0%|          | 0/108 [00:00<?, ?it/s]"
      ]
     },
     "metadata": {},
     "output_type": "display_data"
    },
    {
     "name": "stdout",
     "output_type": "stream",
     "text": [
      "Train Loss: 0.9352 | Val Loss: 0.9834\n",
      "Saved best model to best_model.pt\n",
      "\n",
      "Epoch 16/50\n"
     ]
    },
    {
     "data": {
      "application/vnd.jupyter.widget-view+json": {
       "model_id": "cc60115efe4c4069beed55fdd120cdca",
       "version_major": 2,
       "version_minor": 0
      },
      "text/plain": [
       "Training:   0%|          | 0/503 [00:00<?, ?it/s]"
      ]
     },
     "metadata": {},
     "output_type": "display_data"
    },
    {
     "data": {
      "application/vnd.jupyter.widget-view+json": {
       "model_id": "baa2040b97ce458d843defeb7f62a84b",
       "version_major": 2,
       "version_minor": 0
      },
      "text/plain": [
       "Evaluating:   0%|          | 0/108 [00:00<?, ?it/s]"
      ]
     },
     "metadata": {},
     "output_type": "display_data"
    },
    {
     "name": "stdout",
     "output_type": "stream",
     "text": [
      "Train Loss: 0.9246 | Val Loss: 0.9922\n",
      "\n",
      "Epoch 17/50\n"
     ]
    },
    {
     "data": {
      "application/vnd.jupyter.widget-view+json": {
       "model_id": "695139d30a144fd3b699132f1735551a",
       "version_major": 2,
       "version_minor": 0
      },
      "text/plain": [
       "Training:   0%|          | 0/503 [00:00<?, ?it/s]"
      ]
     },
     "metadata": {},
     "output_type": "display_data"
    },
    {
     "data": {
      "application/vnd.jupyter.widget-view+json": {
       "model_id": "22ad64b7c4684583b8a0f882535a3b86",
       "version_major": 2,
       "version_minor": 0
      },
      "text/plain": [
       "Evaluating:   0%|          | 0/108 [00:00<?, ?it/s]"
      ]
     },
     "metadata": {},
     "output_type": "display_data"
    },
    {
     "name": "stdout",
     "output_type": "stream",
     "text": [
      "Train Loss: 0.9109 | Val Loss: 0.9803\n",
      "Saved best model to best_model.pt\n",
      "\n",
      "Epoch 18/50\n"
     ]
    },
    {
     "data": {
      "application/vnd.jupyter.widget-view+json": {
       "model_id": "e1ea2b795b75453fa6d4e64748041252",
       "version_major": 2,
       "version_minor": 0
      },
      "text/plain": [
       "Training:   0%|          | 0/503 [00:00<?, ?it/s]"
      ]
     },
     "metadata": {},
     "output_type": "display_data"
    },
    {
     "data": {
      "application/vnd.jupyter.widget-view+json": {
       "model_id": "60d81266d34f4dc6bc4b6063d4a36cf5",
       "version_major": 2,
       "version_minor": 0
      },
      "text/plain": [
       "Evaluating:   0%|          | 0/108 [00:00<?, ?it/s]"
      ]
     },
     "metadata": {},
     "output_type": "display_data"
    },
    {
     "name": "stdout",
     "output_type": "stream",
     "text": [
      "Train Loss: 0.9006 | Val Loss: 0.9645\n",
      "Saved best model to best_model.pt\n",
      "\n",
      "Epoch 19/50\n"
     ]
    },
    {
     "data": {
      "application/vnd.jupyter.widget-view+json": {
       "model_id": "faa3fa428a2f4325aa8587cd160604ad",
       "version_major": 2,
       "version_minor": 0
      },
      "text/plain": [
       "Training:   0%|          | 0/503 [00:00<?, ?it/s]"
      ]
     },
     "metadata": {},
     "output_type": "display_data"
    },
    {
     "data": {
      "application/vnd.jupyter.widget-view+json": {
       "model_id": "738fd911de514904a0a0961e04e8f400",
       "version_major": 2,
       "version_minor": 0
      },
      "text/plain": [
       "Evaluating:   0%|          | 0/108 [00:00<?, ?it/s]"
      ]
     },
     "metadata": {},
     "output_type": "display_data"
    },
    {
     "name": "stdout",
     "output_type": "stream",
     "text": [
      "Train Loss: 0.8960 | Val Loss: 0.9657\n",
      "\n",
      "Epoch 20/50\n"
     ]
    },
    {
     "data": {
      "application/vnd.jupyter.widget-view+json": {
       "model_id": "3bf7e74c2e5e43d98fc5a1a3270d1a64",
       "version_major": 2,
       "version_minor": 0
      },
      "text/plain": [
       "Training:   0%|          | 0/503 [00:00<?, ?it/s]"
      ]
     },
     "metadata": {},
     "output_type": "display_data"
    },
    {
     "data": {
      "application/vnd.jupyter.widget-view+json": {
       "model_id": "e146198181994ed79fdf12c096408c07",
       "version_major": 2,
       "version_minor": 0
      },
      "text/plain": [
       "Evaluating:   0%|          | 0/108 [00:00<?, ?it/s]"
      ]
     },
     "metadata": {},
     "output_type": "display_data"
    },
    {
     "name": "stdout",
     "output_type": "stream",
     "text": [
      "Train Loss: 0.8877 | Val Loss: 0.9670\n",
      "\n",
      "Epoch 21/50\n"
     ]
    },
    {
     "data": {
      "application/vnd.jupyter.widget-view+json": {
       "model_id": "f122a2bef2374e20ab7cdce31bbdea5c",
       "version_major": 2,
       "version_minor": 0
      },
      "text/plain": [
       "Training:   0%|          | 0/503 [00:00<?, ?it/s]"
      ]
     },
     "metadata": {},
     "output_type": "display_data"
    },
    {
     "data": {
      "application/vnd.jupyter.widget-view+json": {
       "model_id": "2f7e5b00f7dc49d58835b401d763dd43",
       "version_major": 2,
       "version_minor": 0
      },
      "text/plain": [
       "Evaluating:   0%|          | 0/108 [00:00<?, ?it/s]"
      ]
     },
     "metadata": {},
     "output_type": "display_data"
    },
    {
     "name": "stdout",
     "output_type": "stream",
     "text": [
      "Train Loss: 0.8800 | Val Loss: 0.9781\n",
      "\n",
      "Epoch 22/50\n"
     ]
    },
    {
     "data": {
      "application/vnd.jupyter.widget-view+json": {
       "model_id": "b63d546b97da4c20bf78be213f0be613",
       "version_major": 2,
       "version_minor": 0
      },
      "text/plain": [
       "Training:   0%|          | 0/503 [00:00<?, ?it/s]"
      ]
     },
     "metadata": {},
     "output_type": "display_data"
    },
    {
     "data": {
      "application/vnd.jupyter.widget-view+json": {
       "model_id": "9c1e65b29b3b4653aeb8ea7485ee9611",
       "version_major": 2,
       "version_minor": 0
      },
      "text/plain": [
       "Evaluating:   0%|          | 0/108 [00:00<?, ?it/s]"
      ]
     },
     "metadata": {},
     "output_type": "display_data"
    },
    {
     "name": "stdout",
     "output_type": "stream",
     "text": [
      "Train Loss: 0.8757 | Val Loss: 0.9576\n",
      "Saved best model to best_model.pt\n",
      "\n",
      "Epoch 23/50\n"
     ]
    },
    {
     "data": {
      "application/vnd.jupyter.widget-view+json": {
       "model_id": "d9275606a363490092fda7fc98674cdb",
       "version_major": 2,
       "version_minor": 0
      },
      "text/plain": [
       "Training:   0%|          | 0/503 [00:00<?, ?it/s]"
      ]
     },
     "metadata": {},
     "output_type": "display_data"
    },
    {
     "data": {
      "application/vnd.jupyter.widget-view+json": {
       "model_id": "b2a24dbcf9e4452aa1fa64e1f7eadab9",
       "version_major": 2,
       "version_minor": 0
      },
      "text/plain": [
       "Evaluating:   0%|          | 0/108 [00:00<?, ?it/s]"
      ]
     },
     "metadata": {},
     "output_type": "display_data"
    },
    {
     "name": "stdout",
     "output_type": "stream",
     "text": [
      "Train Loss: 0.8702 | Val Loss: 0.9506\n",
      "Saved best model to best_model.pt\n",
      "\n",
      "Epoch 24/50\n"
     ]
    },
    {
     "data": {
      "application/vnd.jupyter.widget-view+json": {
       "model_id": "e998b8d981524fceac28424194a49c8c",
       "version_major": 2,
       "version_minor": 0
      },
      "text/plain": [
       "Training:   0%|          | 0/503 [00:00<?, ?it/s]"
      ]
     },
     "metadata": {},
     "output_type": "display_data"
    },
    {
     "data": {
      "application/vnd.jupyter.widget-view+json": {
       "model_id": "20acf4ef789a40bda8a0f0d0d472072c",
       "version_major": 2,
       "version_minor": 0
      },
      "text/plain": [
       "Evaluating:   0%|          | 0/108 [00:00<?, ?it/s]"
      ]
     },
     "metadata": {},
     "output_type": "display_data"
    },
    {
     "name": "stdout",
     "output_type": "stream",
     "text": [
      "Train Loss: 0.8653 | Val Loss: 0.9510\n",
      "\n",
      "Epoch 25/50\n"
     ]
    },
    {
     "data": {
      "application/vnd.jupyter.widget-view+json": {
       "model_id": "bdd7e462901542ff91c91677362342c0",
       "version_major": 2,
       "version_minor": 0
      },
      "text/plain": [
       "Training:   0%|          | 0/503 [00:00<?, ?it/s]"
      ]
     },
     "metadata": {},
     "output_type": "display_data"
    },
    {
     "data": {
      "application/vnd.jupyter.widget-view+json": {
       "model_id": "8d5f6b8531ef403eb8e2bd6b362eda31",
       "version_major": 2,
       "version_minor": 0
      },
      "text/plain": [
       "Evaluating:   0%|          | 0/108 [00:00<?, ?it/s]"
      ]
     },
     "metadata": {},
     "output_type": "display_data"
    },
    {
     "name": "stdout",
     "output_type": "stream",
     "text": [
      "Train Loss: 0.8610 | Val Loss: 0.9538\n",
      "\n",
      "Epoch 26/50\n"
     ]
    },
    {
     "data": {
      "application/vnd.jupyter.widget-view+json": {
       "model_id": "cb4528f80c094df1b30e776f499f48a6",
       "version_major": 2,
       "version_minor": 0
      },
      "text/plain": [
       "Training:   0%|          | 0/503 [00:00<?, ?it/s]"
      ]
     },
     "metadata": {},
     "output_type": "display_data"
    },
    {
     "data": {
      "application/vnd.jupyter.widget-view+json": {
       "model_id": "50504041de164148b00f9cceb06248ed",
       "version_major": 2,
       "version_minor": 0
      },
      "text/plain": [
       "Evaluating:   0%|          | 0/108 [00:00<?, ?it/s]"
      ]
     },
     "metadata": {},
     "output_type": "display_data"
    },
    {
     "name": "stdout",
     "output_type": "stream",
     "text": [
      "Train Loss: 0.8564 | Val Loss: 0.9447\n",
      "Saved best model to best_model.pt\n",
      "\n",
      "Epoch 27/50\n"
     ]
    },
    {
     "data": {
      "application/vnd.jupyter.widget-view+json": {
       "model_id": "6852e21034384daf851defc17cc3d598",
       "version_major": 2,
       "version_minor": 0
      },
      "text/plain": [
       "Training:   0%|          | 0/503 [00:00<?, ?it/s]"
      ]
     },
     "metadata": {},
     "output_type": "display_data"
    },
    {
     "data": {
      "application/vnd.jupyter.widget-view+json": {
       "model_id": "29d581adacb74004b29077db0b7d509c",
       "version_major": 2,
       "version_minor": 0
      },
      "text/plain": [
       "Evaluating:   0%|          | 0/108 [00:00<?, ?it/s]"
      ]
     },
     "metadata": {},
     "output_type": "display_data"
    },
    {
     "name": "stdout",
     "output_type": "stream",
     "text": [
      "Train Loss: 0.8531 | Val Loss: 0.9412\n",
      "Saved best model to best_model.pt\n",
      "\n",
      "Epoch 28/50\n"
     ]
    },
    {
     "data": {
      "application/vnd.jupyter.widget-view+json": {
       "model_id": "e87b7f3b77d8420ca390ac20d0e9c05e",
       "version_major": 2,
       "version_minor": 0
      },
      "text/plain": [
       "Training:   0%|          | 0/503 [00:00<?, ?it/s]"
      ]
     },
     "metadata": {},
     "output_type": "display_data"
    },
    {
     "data": {
      "application/vnd.jupyter.widget-view+json": {
       "model_id": "da0e71d3479442ca9e2c145a2d73d70f",
       "version_major": 2,
       "version_minor": 0
      },
      "text/plain": [
       "Evaluating:   0%|          | 0/108 [00:00<?, ?it/s]"
      ]
     },
     "metadata": {},
     "output_type": "display_data"
    },
    {
     "name": "stdout",
     "output_type": "stream",
     "text": [
      "Train Loss: 0.8505 | Val Loss: 0.9410\n",
      "Saved best model to best_model.pt\n",
      "\n",
      "Epoch 29/50\n"
     ]
    },
    {
     "data": {
      "application/vnd.jupyter.widget-view+json": {
       "model_id": "d0f506bc32b647768557e213c972e143",
       "version_major": 2,
       "version_minor": 0
      },
      "text/plain": [
       "Training:   0%|          | 0/503 [00:00<?, ?it/s]"
      ]
     },
     "metadata": {},
     "output_type": "display_data"
    },
    {
     "data": {
      "application/vnd.jupyter.widget-view+json": {
       "model_id": "4235b5f38a4349acbfd0de9ac66eab25",
       "version_major": 2,
       "version_minor": 0
      },
      "text/plain": [
       "Evaluating:   0%|          | 0/108 [00:00<?, ?it/s]"
      ]
     },
     "metadata": {},
     "output_type": "display_data"
    },
    {
     "name": "stdout",
     "output_type": "stream",
     "text": [
      "Train Loss: 0.8465 | Val Loss: 0.9398\n",
      "Saved best model to best_model.pt\n",
      "\n",
      "Epoch 30/50\n"
     ]
    },
    {
     "data": {
      "application/vnd.jupyter.widget-view+json": {
       "model_id": "6533db7a84d547f98c6c9266cdb66507",
       "version_major": 2,
       "version_minor": 0
      },
      "text/plain": [
       "Training:   0%|          | 0/503 [00:00<?, ?it/s]"
      ]
     },
     "metadata": {},
     "output_type": "display_data"
    },
    {
     "data": {
      "application/vnd.jupyter.widget-view+json": {
       "model_id": "c89247b8ad6b4135a9f750e208a66c7f",
       "version_major": 2,
       "version_minor": 0
      },
      "text/plain": [
       "Evaluating:   0%|          | 0/108 [00:00<?, ?it/s]"
      ]
     },
     "metadata": {},
     "output_type": "display_data"
    },
    {
     "name": "stdout",
     "output_type": "stream",
     "text": [
      "Train Loss: 0.8441 | Val Loss: 0.9372\n",
      "Saved best model to best_model.pt\n",
      "\n",
      "Epoch 31/50\n"
     ]
    },
    {
     "data": {
      "application/vnd.jupyter.widget-view+json": {
       "model_id": "be178c33237c47a7a27c2f6c273d0c0d",
       "version_major": 2,
       "version_minor": 0
      },
      "text/plain": [
       "Training:   0%|          | 0/503 [00:00<?, ?it/s]"
      ]
     },
     "metadata": {},
     "output_type": "display_data"
    },
    {
     "data": {
      "application/vnd.jupyter.widget-view+json": {
       "model_id": "fda218b262d542239ddf200d98d79f32",
       "version_major": 2,
       "version_minor": 0
      },
      "text/plain": [
       "Evaluating:   0%|          | 0/108 [00:00<?, ?it/s]"
      ]
     },
     "metadata": {},
     "output_type": "display_data"
    },
    {
     "name": "stdout",
     "output_type": "stream",
     "text": [
      "Train Loss: 0.8417 | Val Loss: 0.9428\n",
      "\n",
      "Epoch 32/50\n"
     ]
    },
    {
     "data": {
      "application/vnd.jupyter.widget-view+json": {
       "model_id": "7512eb65e37149378d1a10df6d2ebba2",
       "version_major": 2,
       "version_minor": 0
      },
      "text/plain": [
       "Training:   0%|          | 0/503 [00:00<?, ?it/s]"
      ]
     },
     "metadata": {},
     "output_type": "display_data"
    },
    {
     "data": {
      "application/vnd.jupyter.widget-view+json": {
       "model_id": "2ee5692ca8384bf1b823d8cd246861c4",
       "version_major": 2,
       "version_minor": 0
      },
      "text/plain": [
       "Evaluating:   0%|          | 0/108 [00:00<?, ?it/s]"
      ]
     },
     "metadata": {},
     "output_type": "display_data"
    },
    {
     "name": "stdout",
     "output_type": "stream",
     "text": [
      "Train Loss: 0.8400 | Val Loss: 0.9396\n",
      "\n",
      "Epoch 33/50\n"
     ]
    },
    {
     "data": {
      "application/vnd.jupyter.widget-view+json": {
       "model_id": "5e812e91dc724ff38b2d691724bac057",
       "version_major": 2,
       "version_minor": 0
      },
      "text/plain": [
       "Training:   0%|          | 0/503 [00:00<?, ?it/s]"
      ]
     },
     "metadata": {},
     "output_type": "display_data"
    },
    {
     "data": {
      "application/vnd.jupyter.widget-view+json": {
       "model_id": "4c6ecf9f43fb4df1bb2e0ccd983d777e",
       "version_major": 2,
       "version_minor": 0
      },
      "text/plain": [
       "Evaluating:   0%|          | 0/108 [00:00<?, ?it/s]"
      ]
     },
     "metadata": {},
     "output_type": "display_data"
    },
    {
     "name": "stdout",
     "output_type": "stream",
     "text": [
      "Train Loss: 0.8364 | Val Loss: 0.9388\n",
      "\n",
      "Epoch 34/50\n"
     ]
    },
    {
     "data": {
      "application/vnd.jupyter.widget-view+json": {
       "model_id": "2fdc05bc97304fd5ab3bcca68ad39970",
       "version_major": 2,
       "version_minor": 0
      },
      "text/plain": [
       "Training:   0%|          | 0/503 [00:00<?, ?it/s]"
      ]
     },
     "metadata": {},
     "output_type": "display_data"
    },
    {
     "data": {
      "application/vnd.jupyter.widget-view+json": {
       "model_id": "4bc89637b04f48fe8fefd5c0f79fa61b",
       "version_major": 2,
       "version_minor": 0
      },
      "text/plain": [
       "Evaluating:   0%|          | 0/108 [00:00<?, ?it/s]"
      ]
     },
     "metadata": {},
     "output_type": "display_data"
    },
    {
     "name": "stdout",
     "output_type": "stream",
     "text": [
      "Train Loss: 0.8349 | Val Loss: 0.9359\n",
      "Saved best model to best_model.pt\n",
      "\n",
      "Epoch 35/50\n"
     ]
    },
    {
     "data": {
      "application/vnd.jupyter.widget-view+json": {
       "model_id": "99aa26ddbe7f45829f8ad1c483def42c",
       "version_major": 2,
       "version_minor": 0
      },
      "text/plain": [
       "Training:   0%|          | 0/503 [00:00<?, ?it/s]"
      ]
     },
     "metadata": {},
     "output_type": "display_data"
    },
    {
     "data": {
      "application/vnd.jupyter.widget-view+json": {
       "model_id": "9e6d5601d3994c32a2421d217a6b4ec9",
       "version_major": 2,
       "version_minor": 0
      },
      "text/plain": [
       "Evaluating:   0%|          | 0/108 [00:00<?, ?it/s]"
      ]
     },
     "metadata": {},
     "output_type": "display_data"
    },
    {
     "name": "stdout",
     "output_type": "stream",
     "text": [
      "Train Loss: 0.8331 | Val Loss: 0.9331\n",
      "Saved best model to best_model.pt\n",
      "\n",
      "Epoch 36/50\n"
     ]
    },
    {
     "data": {
      "application/vnd.jupyter.widget-view+json": {
       "model_id": "f5edc3dd6f39477a8911d29e41ffe4d5",
       "version_major": 2,
       "version_minor": 0
      },
      "text/plain": [
       "Training:   0%|          | 0/503 [00:00<?, ?it/s]"
      ]
     },
     "metadata": {},
     "output_type": "display_data"
    },
    {
     "data": {
      "application/vnd.jupyter.widget-view+json": {
       "model_id": "6a002d1400a24fa589daaa661ffce90c",
       "version_major": 2,
       "version_minor": 0
      },
      "text/plain": [
       "Evaluating:   0%|          | 0/108 [00:00<?, ?it/s]"
      ]
     },
     "metadata": {},
     "output_type": "display_data"
    },
    {
     "name": "stdout",
     "output_type": "stream",
     "text": [
      "Train Loss: 0.8308 | Val Loss: 0.9343\n",
      "\n",
      "Epoch 37/50\n"
     ]
    },
    {
     "data": {
      "application/vnd.jupyter.widget-view+json": {
       "model_id": "694fd2248a26439f883a4a6beb14a894",
       "version_major": 2,
       "version_minor": 0
      },
      "text/plain": [
       "Training:   0%|          | 0/503 [00:00<?, ?it/s]"
      ]
     },
     "metadata": {},
     "output_type": "display_data"
    },
    {
     "data": {
      "application/vnd.jupyter.widget-view+json": {
       "model_id": "6d24487bc0714614a7d62d0e06f592c8",
       "version_major": 2,
       "version_minor": 0
      },
      "text/plain": [
       "Evaluating:   0%|          | 0/108 [00:00<?, ?it/s]"
      ]
     },
     "metadata": {},
     "output_type": "display_data"
    },
    {
     "name": "stdout",
     "output_type": "stream",
     "text": [
      "Train Loss: 0.8301 | Val Loss: 0.9332\n",
      "\n",
      "Epoch 38/50\n"
     ]
    },
    {
     "data": {
      "application/vnd.jupyter.widget-view+json": {
       "model_id": "b05140d4e4e049eba80f72b8033df15d",
       "version_major": 2,
       "version_minor": 0
      },
      "text/plain": [
       "Training:   0%|          | 0/503 [00:00<?, ?it/s]"
      ]
     },
     "metadata": {},
     "output_type": "display_data"
    },
    {
     "data": {
      "application/vnd.jupyter.widget-view+json": {
       "model_id": "c46e6b83507540e0a32638ce3c678cc5",
       "version_major": 2,
       "version_minor": 0
      },
      "text/plain": [
       "Evaluating:   0%|          | 0/108 [00:00<?, ?it/s]"
      ]
     },
     "metadata": {},
     "output_type": "display_data"
    },
    {
     "name": "stdout",
     "output_type": "stream",
     "text": [
      "Train Loss: 0.8289 | Val Loss: 0.9321\n",
      "Saved best model to best_model.pt\n",
      "\n",
      "Epoch 39/50\n"
     ]
    },
    {
     "data": {
      "application/vnd.jupyter.widget-view+json": {
       "model_id": "76434911298c438ea91e2dd3241bfca2",
       "version_major": 2,
       "version_minor": 0
      },
      "text/plain": [
       "Training:   0%|          | 0/503 [00:00<?, ?it/s]"
      ]
     },
     "metadata": {},
     "output_type": "display_data"
    },
    {
     "data": {
      "application/vnd.jupyter.widget-view+json": {
       "model_id": "12be21455c0349dc8c0163e38802022d",
       "version_major": 2,
       "version_minor": 0
      },
      "text/plain": [
       "Evaluating:   0%|          | 0/108 [00:00<?, ?it/s]"
      ]
     },
     "metadata": {},
     "output_type": "display_data"
    },
    {
     "name": "stdout",
     "output_type": "stream",
     "text": [
      "Train Loss: 0.8276 | Val Loss: 0.9296\n",
      "Saved best model to best_model.pt\n",
      "\n",
      "Epoch 40/50\n"
     ]
    },
    {
     "data": {
      "application/vnd.jupyter.widget-view+json": {
       "model_id": "566e29ebd7b543aebfdd30ed8bccff5c",
       "version_major": 2,
       "version_minor": 0
      },
      "text/plain": [
       "Training:   0%|          | 0/503 [00:00<?, ?it/s]"
      ]
     },
     "metadata": {},
     "output_type": "display_data"
    },
    {
     "data": {
      "application/vnd.jupyter.widget-view+json": {
       "model_id": "7ec1ae98ca2f452ab4301a1e6bd871ac",
       "version_major": 2,
       "version_minor": 0
      },
      "text/plain": [
       "Evaluating:   0%|          | 0/108 [00:00<?, ?it/s]"
      ]
     },
     "metadata": {},
     "output_type": "display_data"
    },
    {
     "name": "stdout",
     "output_type": "stream",
     "text": [
      "Train Loss: 0.8264 | Val Loss: 0.9304\n",
      "\n",
      "Epoch 41/50\n"
     ]
    },
    {
     "data": {
      "application/vnd.jupyter.widget-view+json": {
       "model_id": "2998ff82eb394f1f9e546563ea5e71ca",
       "version_major": 2,
       "version_minor": 0
      },
      "text/plain": [
       "Training:   0%|          | 0/503 [00:00<?, ?it/s]"
      ]
     },
     "metadata": {},
     "output_type": "display_data"
    },
    {
     "data": {
      "application/vnd.jupyter.widget-view+json": {
       "model_id": "0f6b9387997547e2baff9d9c1105d36e",
       "version_major": 2,
       "version_minor": 0
      },
      "text/plain": [
       "Evaluating:   0%|          | 0/108 [00:00<?, ?it/s]"
      ]
     },
     "metadata": {},
     "output_type": "display_data"
    },
    {
     "name": "stdout",
     "output_type": "stream",
     "text": [
      "Train Loss: 0.8255 | Val Loss: 0.9319\n",
      "\n",
      "Epoch 42/50\n"
     ]
    },
    {
     "data": {
      "application/vnd.jupyter.widget-view+json": {
       "model_id": "bcb96b90c1844e4ca10bbaaa634835cf",
       "version_major": 2,
       "version_minor": 0
      },
      "text/plain": [
       "Training:   0%|          | 0/503 [00:00<?, ?it/s]"
      ]
     },
     "metadata": {},
     "output_type": "display_data"
    },
    {
     "data": {
      "application/vnd.jupyter.widget-view+json": {
       "model_id": "f9101005173445b4ae5f0a609033e467",
       "version_major": 2,
       "version_minor": 0
      },
      "text/plain": [
       "Evaluating:   0%|          | 0/108 [00:00<?, ?it/s]"
      ]
     },
     "metadata": {},
     "output_type": "display_data"
    },
    {
     "name": "stdout",
     "output_type": "stream",
     "text": [
      "Train Loss: 0.8251 | Val Loss: 0.9313\n",
      "\n",
      "Epoch 43/50\n"
     ]
    },
    {
     "data": {
      "application/vnd.jupyter.widget-view+json": {
       "model_id": "b37c35b6ae01419083deb8ee2baf51b6",
       "version_major": 2,
       "version_minor": 0
      },
      "text/plain": [
       "Training:   0%|          | 0/503 [00:00<?, ?it/s]"
      ]
     },
     "metadata": {},
     "output_type": "display_data"
    },
    {
     "data": {
      "application/vnd.jupyter.widget-view+json": {
       "model_id": "3cef50ebb07c44a1aeb1f50482d8315c",
       "version_major": 2,
       "version_minor": 0
      },
      "text/plain": [
       "Evaluating:   0%|          | 0/108 [00:00<?, ?it/s]"
      ]
     },
     "metadata": {},
     "output_type": "display_data"
    },
    {
     "name": "stdout",
     "output_type": "stream",
     "text": [
      "Train Loss: 0.8246 | Val Loss: 0.9305\n",
      "\n",
      "Epoch 44/50\n"
     ]
    },
    {
     "data": {
      "application/vnd.jupyter.widget-view+json": {
       "model_id": "64b53f93a4bc431eb9e0581858fa9ab8",
       "version_major": 2,
       "version_minor": 0
      },
      "text/plain": [
       "Training:   0%|          | 0/503 [00:00<?, ?it/s]"
      ]
     },
     "metadata": {},
     "output_type": "display_data"
    },
    {
     "data": {
      "application/vnd.jupyter.widget-view+json": {
       "model_id": "eeaeea0e1fa04ff6971911c26b332221",
       "version_major": 2,
       "version_minor": 0
      },
      "text/plain": [
       "Evaluating:   0%|          | 0/108 [00:00<?, ?it/s]"
      ]
     },
     "metadata": {},
     "output_type": "display_data"
    },
    {
     "name": "stdout",
     "output_type": "stream",
     "text": [
      "Train Loss: 0.8236 | Val Loss: 0.9314\n",
      "\n",
      "Epoch 45/50\n"
     ]
    },
    {
     "data": {
      "application/vnd.jupyter.widget-view+json": {
       "model_id": "cc61ba4fe3084250a6b1d786137384ed",
       "version_major": 2,
       "version_minor": 0
      },
      "text/plain": [
       "Training:   0%|          | 0/503 [00:00<?, ?it/s]"
      ]
     },
     "metadata": {},
     "output_type": "display_data"
    },
    {
     "data": {
      "application/vnd.jupyter.widget-view+json": {
       "model_id": "ae5c55c133f5409ca76245c5401e4b06",
       "version_major": 2,
       "version_minor": 0
      },
      "text/plain": [
       "Evaluating:   0%|          | 0/108 [00:00<?, ?it/s]"
      ]
     },
     "metadata": {},
     "output_type": "display_data"
    },
    {
     "name": "stdout",
     "output_type": "stream",
     "text": [
      "Train Loss: 0.8235 | Val Loss: 0.9294\n",
      "Saved best model to best_model.pt\n",
      "\n",
      "Epoch 46/50\n"
     ]
    },
    {
     "data": {
      "application/vnd.jupyter.widget-view+json": {
       "model_id": "6f2dd24949fd42a7aa8d2c9e51470af2",
       "version_major": 2,
       "version_minor": 0
      },
      "text/plain": [
       "Training:   0%|          | 0/503 [00:00<?, ?it/s]"
      ]
     },
     "metadata": {},
     "output_type": "display_data"
    },
    {
     "data": {
      "application/vnd.jupyter.widget-view+json": {
       "model_id": "1263a3aae3574e91b92a5f2cd1ec63d4",
       "version_major": 2,
       "version_minor": 0
      },
      "text/plain": [
       "Evaluating:   0%|          | 0/108 [00:00<?, ?it/s]"
      ]
     },
     "metadata": {},
     "output_type": "display_data"
    },
    {
     "name": "stdout",
     "output_type": "stream",
     "text": [
      "Train Loss: 0.8232 | Val Loss: 0.9288\n",
      "Saved best model to best_model.pt\n",
      "\n",
      "Epoch 47/50\n"
     ]
    },
    {
     "data": {
      "application/vnd.jupyter.widget-view+json": {
       "model_id": "53a9bd0305574f5080cd5575acd59892",
       "version_major": 2,
       "version_minor": 0
      },
      "text/plain": [
       "Training:   0%|          | 0/503 [00:00<?, ?it/s]"
      ]
     },
     "metadata": {},
     "output_type": "display_data"
    },
    {
     "data": {
      "application/vnd.jupyter.widget-view+json": {
       "model_id": "74934e6fa66a4d86b533d94fe762a949",
       "version_major": 2,
       "version_minor": 0
      },
      "text/plain": [
       "Evaluating:   0%|          | 0/108 [00:00<?, ?it/s]"
      ]
     },
     "metadata": {},
     "output_type": "display_data"
    },
    {
     "name": "stdout",
     "output_type": "stream",
     "text": [
      "Train Loss: 0.8230 | Val Loss: 0.9291\n",
      "\n",
      "Epoch 48/50\n"
     ]
    },
    {
     "data": {
      "application/vnd.jupyter.widget-view+json": {
       "model_id": "5d21919f00c54f1c9f356f48d2a548a3",
       "version_major": 2,
       "version_minor": 0
      },
      "text/plain": [
       "Training:   0%|          | 0/503 [00:00<?, ?it/s]"
      ]
     },
     "metadata": {},
     "output_type": "display_data"
    },
    {
     "data": {
      "application/vnd.jupyter.widget-view+json": {
       "model_id": "88eb80438b5d43408168cfcc465dd368",
       "version_major": 2,
       "version_minor": 0
      },
      "text/plain": [
       "Evaluating:   0%|          | 0/108 [00:00<?, ?it/s]"
      ]
     },
     "metadata": {},
     "output_type": "display_data"
    },
    {
     "name": "stdout",
     "output_type": "stream",
     "text": [
      "Train Loss: 0.8227 | Val Loss: 0.9291\n",
      "\n",
      "Epoch 49/50\n"
     ]
    },
    {
     "data": {
      "application/vnd.jupyter.widget-view+json": {
       "model_id": "ba0e51e3c4bb48a3be7c9ff24b0a1fba",
       "version_major": 2,
       "version_minor": 0
      },
      "text/plain": [
       "Training:   0%|          | 0/503 [00:00<?, ?it/s]"
      ]
     },
     "metadata": {},
     "output_type": "display_data"
    },
    {
     "data": {
      "application/vnd.jupyter.widget-view+json": {
       "model_id": "0d943e3160f547da88b0174edbf55291",
       "version_major": 2,
       "version_minor": 0
      },
      "text/plain": [
       "Evaluating:   0%|          | 0/108 [00:00<?, ?it/s]"
      ]
     },
     "metadata": {},
     "output_type": "display_data"
    },
    {
     "name": "stdout",
     "output_type": "stream",
     "text": [
      "Train Loss: 0.8226 | Val Loss: 0.9289\n",
      "\n",
      "Epoch 50/50\n"
     ]
    },
    {
     "data": {
      "application/vnd.jupyter.widget-view+json": {
       "model_id": "5faa97124d3340bcb0a9618760ab6117",
       "version_major": 2,
       "version_minor": 0
      },
      "text/plain": [
       "Training:   0%|          | 0/503 [00:00<?, ?it/s]"
      ]
     },
     "metadata": {},
     "output_type": "display_data"
    },
    {
     "data": {
      "application/vnd.jupyter.widget-view+json": {
       "model_id": "d7ed68506fe047b4854c87d1ce8ded3c",
       "version_major": 2,
       "version_minor": 0
      },
      "text/plain": [
       "Evaluating:   0%|          | 0/108 [00:00<?, ?it/s]"
      ]
     },
     "metadata": {},
     "output_type": "display_data"
    },
    {
     "name": "stdout",
     "output_type": "stream",
     "text": [
      "Train Loss: 0.8226 | Val Loss: 0.9289\n"
     ]
    },
    {
     "data": {
      "image/png": "[encoded data removed]",
      "text/plain": [
       "<Figure size 800x400 with 1 Axes>"
      ]
     },
     "metadata": {},
     "output_type": "display_data"
    },
    {
     "name": "stdout",
     "output_type": "stream",
     "text": [
      "Saved loss curve to loss_curve.png\n"
     ]
    }
   ],
   "source": [
    "# Start training the model\n",
    "model = Im2LatexModel(\n",
    "    vocab_size=len(token2idx),\n",
    "    d_model=384,\n",
    "    max_seq_len=max_seq_length\n",
    ").to(\"cuda\")\n",
    "\n",
    "fit(\n",
    "    model=model,\n",
    "    train_loader=train_loader,\n",
    "    val_loader=val_loader,\n",
    "    token2idx=token2idx,\n",
    "    epochs=50,\n",
    "    lr=1e-4,\n",
    "    device=\"cuda\"\n",
    ")"
   ]
  },
  {
   "cell_type": "code",
   "execution_count": 32,
   "id": "c4ab4f9e",
   "metadata": {},
   "outputs": [],
   "source": [
    "def beam_search_decode(model, image, token2idx, idx2token, beam_width=3, max_len=256, device=\"cuda\", length_penalty_alpha=0.6):\n",
    "    model.eval()\n",
    "\n",
    "    if not image.is_cuda:\n",
    "        image = image.to(device)\n",
    "\n",
    "    with torch.no_grad():\n",
    "        memory = model.encoder(image.unsqueeze(0))\n",
    "        memory = memory.expand(beam_width, *memory.shape[1:])\n",
    "\n",
    "        sequences = [[token2idx['<s>']] for _ in range(beam_width)]\n",
    "        scores = torch.zeros(beam_width, device=device)\n",
    "        completed = []\n",
    "\n",
    "        for step in range(max_len):\n",
    "            all_candidates = []\n",
    "            for i, seq in enumerate(sequences):\n",
    "                if len(seq) > 1 and seq[-1] == token2idx['</s>']:\n",
    "                    length_penalty = (len(seq)) ** length_penalty_alpha\n",
    "                    completed.append((seq, scores[i].item() / length_penalty))\n",
    "                    continue\n",
    "\n",
    "                tgt_input = torch.tensor(seq, dtype=torch.long, device=device).unsqueeze(0)\n",
    "                tgt_mask = generate_square_subsequent_mask(tgt_input.size(1)).to(device)\n",
    "                output = model.decoder(tgt_input, memory[i:i+1], tgt_mask)\n",
    "                probs = torch.log_softmax(output[0, -1], dim=-1)\n",
    "\n",
    "                topk_probs, topk_idx = torch.topk(probs, beam_width)\n",
    "                for j in range(beam_width):\n",
    "                    candidate = seq + [topk_idx[j].item()]\n",
    "                    score = scores[i] + topk_probs[j]\n",
    "                    all_candidates.append((candidate, score))\n",
    "\n",
    "            all_candidates = sorted(all_candidates, key=lambda x: x[1], reverse=True)[:beam_width]\n",
    "            sequences = [cand[0] for cand in all_candidates]\n",
    "            scores = torch.tensor([cand[1] for cand in all_candidates], device=device)\n",
    "\n",
    "        for i, seq in enumerate(sequences):\n",
    "            length_penalty = (len(seq)) ** length_penalty_alpha\n",
    "            completed.append((seq, scores[i].item() / length_penalty))\n",
    "\n",
    "        completed = sorted(completed, key=lambda x: x[1], reverse=True)\n",
    "\n",
    "        best_seq = completed[0][0]\n",
    "        return [idx2token[idx] for idx in best_seq[1:-1] if idx in idx2token]"
   ]
  },
  {
   "cell_type": "code",
   "execution_count": 33,
   "id": "80043422",
   "metadata": {},
   "outputs": [],
   "source": [
    "@torch.no_grad()\n",
    "def evaluate_model_with_beam(model, dataset, token2idx, idx2token, num_samples, beam_width=3, max_len=256, visualize=True):\n",
    "    model.eval()\n",
    "    correct = 0\n",
    "    total = 0\n",
    "\n",
    "    device = next(model.parameters()).device\n",
    "\n",
    "    def tokens_to_str(tokens):\n",
    "        return ''.join(t for t in tokens if t not in ['<s>', '</s>', '<pad>'])\n",
    "\n",
    "    for i in range(num_samples):\n",
    "        image, label = dataset[i]\n",
    "        image = image.to(device)\n",
    "        \n",
    "        pred_tokens = beam_search_decode(model, image, token2idx, idx2token, beam_width, max_len, device=device, length_penalty_alpha=0.6)\n",
    "        true_tokens = [idx2token[idx.item()] for idx in label if idx.item() != token2idx['<pad>']]\n",
    "\n",
    "        pred_str = tokens_to_str(pred_tokens)\n",
    "        true_str = tokens_to_str(true_tokens)\n",
    "\n",
    "        match = pred_str == true_str\n",
    "        correct += int(match)\n",
    "        total += 1\n",
    "\n",
    "        if visualize:\n",
    "            fig, axes = plt.subplots(1, 2, figsize=(12, 3))\n",
    "            axes[0].imshow(image.permute(1, 2, 0).squeeze().cpu(), cmap='gray')\n",
    "            axes[0].set_title(\"Input Image\")\n",
    "            axes[0].axis(\"off\")\n",
    "\n",
    "            axes[1].text(0.5, 0.7, f\"GT: ${true_str}$\", ha='center', fontsize=12)\n",
    "            axes[1].text(0.5, 0.3, f\"Pred: ${pred_str}$\", ha='center', fontsize=12, color=('green' if match else 'red'))\n",
    "            axes[1].axis(\"off\")\n",
    "            plt.show()\n",
    "\n",
    "        if (i+1) % 100 == 0:\n",
    "            print(f\"Processed {i+1}/{num_samples} samples...\")\n",
    "\n",
    "    acc = correct / total\n",
    "    print(f\"\\nBeam Search Accuracy (exact match): {acc * 100:.2f}%\")\n",
    "    return acc"
   ]
  },
  {
   "cell_type": "code",
   "execution_count": 34,
   "id": "ddeb896e",
   "metadata": {},
   "outputs": [
    {
     "name": "stdout",
     "output_type": "stream",
     "text": [
      "Processed 100/3448 samples...\n",
      "Processed 200/3448 samples...\n",
      "Processed 300/3448 samples...\n",
      "Processed 400/3448 samples...\n",
      "Processed 500/3448 samples...\n",
      "Processed 600/3448 samples...\n",
      "Processed 700/3448 samples...\n",
      "Processed 800/3448 samples...\n",
      "Processed 900/3448 samples...\n",
      "Processed 1000/3448 samples...\n",
      "Processed 1100/3448 samples...\n",
      "Processed 1200/3448 samples...\n",
      "Processed 1300/3448 samples...\n",
      "Processed 1400/3448 samples...\n",
      "Processed 1500/3448 samples...\n",
      "Processed 1600/3448 samples...\n",
      "Processed 1700/3448 samples...\n",
      "Processed 1800/3448 samples...\n",
      "Processed 1900/3448 samples...\n",
      "Processed 2000/3448 samples...\n",
      "Processed 2100/3448 samples...\n",
      "Processed 2200/3448 samples...\n",
      "Processed 2300/3448 samples...\n",
      "Processed 2400/3448 samples...\n",
      "Processed 2500/3448 samples...\n",
      "Processed 2600/3448 samples...\n",
      "Processed 2700/3448 samples...\n",
      "Processed 2800/3448 samples...\n",
      "Processed 2900/3448 samples...\n",
      "Processed 3000/3448 samples...\n",
      "Processed 3100/3448 samples...\n",
      "Processed 3200/3448 samples...\n",
      "Processed 3300/3448 samples...\n",
      "Processed 3400/3448 samples...\n",
      "\n",
      "Beam Search Accuracy (exact match): 71.98%\n"
     ]
    },
    {
     "data": {
      "text/plain": [
       "0.7198375870069605"
      ]
     },
     "execution_count": 34,
     "metadata": {},
     "output_type": "execute_result"
    }
   ],
   "source": [
    "evaluate_model_with_beam(\n",
    "    model=model,\n",
    "    dataset=test_dataset,\n",
    "    token2idx=token2idx,\n",
    "    idx2token=idx2token,\n",
    "    num_samples=len(test_dataset),\n",
    "    beam_width=3,\n",
    "    visualize=False\n",
    ")"
   ]
  },
  {
   "cell_type": "code",
   "execution_count": 35,
   "id": "7b6d64c4",
   "metadata": {},
   "outputs": [],
   "source": [
    "def evaluate_token_level_accuracy(model, dataset, token2idx, idx2token, num_samples=50, beam_width=3, max_len=256):\n",
    "    model.eval()\n",
    "    total_tokens = 0\n",
    "    correct_tokens = 0\n",
    "\n",
    "    device = next(model.parameters()).device\n",
    "    print(f\"Evaluating on device: {device}\")\n",
    "\n",
    "    def strip_tokens(tokens):\n",
    "        return [t for t in tokens if t not in ['<pad>', '<s>', '</s>']]\n",
    "\n",
    "    for i in range(num_samples):\n",
    "        image, label = dataset[i]\n",
    "        image = image.to(device)\n",
    "\n",
    "        pred_tokens = beam_search_decode(model, image, token2idx, idx2token, beam_width, max_len, device=device, length_penalty_alpha=0.6)\n",
    "        true_tokens = [idx2token[idx.item()] for idx in label]\n",
    "\n",
    "        pred = strip_tokens(pred_tokens)\n",
    "        true = strip_tokens(true_tokens)\n",
    "\n",
    "        for p, t in zip(pred, true):\n",
    "            total_tokens += 1\n",
    "            if p == t:\n",
    "                correct_tokens += 1\n",
    "\n",
    "        total_tokens += abs(len(pred) - len(true))\n",
    "\n",
    "        if (i+1) % 100 == 0:\n",
    "            print(f\"Processed {i+1}/{num_samples} samples...\")\n",
    "\n",
    "    accuracy = correct_tokens / total_tokens if total_tokens > 0 else 0.0\n",
    "    print(f\"Token-level accuracy: {accuracy * 100:.2f}%\")\n",
    "    return accuracy"
   ]
  },
  {
   "cell_type": "code",
   "execution_count": 36,
   "id": "c21696c6",
   "metadata": {},
   "outputs": [
    {
     "name": "stdout",
     "output_type": "stream",
     "text": [
      "Evaluating on device: cuda:0\n",
      "Processed 100/3448 samples...\n",
      "Processed 200/3448 samples...\n",
      "Processed 300/3448 samples...\n",
      "Processed 400/3448 samples...\n",
      "Processed 500/3448 samples...\n",
      "Processed 600/3448 samples...\n",
      "Processed 700/3448 samples...\n",
      "Processed 800/3448 samples...\n",
      "Processed 900/3448 samples...\n",
      "Processed 1000/3448 samples...\n",
      "Processed 1100/3448 samples...\n",
      "Processed 1200/3448 samples...\n",
      "Processed 1300/3448 samples...\n",
      "Processed 1400/3448 samples...\n",
      "Processed 1500/3448 samples...\n",
      "Processed 1600/3448 samples...\n",
      "Processed 1700/3448 samples...\n",
      "Processed 1800/3448 samples...\n",
      "Processed 1900/3448 samples...\n",
      "Processed 2000/3448 samples...\n",
      "Processed 2100/3448 samples...\n",
      "Processed 2200/3448 samples...\n",
      "Processed 2300/3448 samples...\n",
      "Processed 2400/3448 samples...\n",
      "Processed 2500/3448 samples...\n",
      "Processed 2600/3448 samples...\n",
      "Processed 2700/3448 samples...\n",
      "Processed 2800/3448 samples...\n",
      "Processed 2900/3448 samples...\n",
      "Processed 3000/3448 samples...\n",
      "Processed 3100/3448 samples...\n",
      "Processed 3200/3448 samples...\n",
      "Processed 3300/3448 samples...\n",
      "Processed 3400/3448 samples...\n",
      "Token-level accuracy: 81.44%\n"
     ]
    }
   ],
   "source": [
    "accuracy = evaluate_token_level_accuracy(\n",
    "    model=model,\n",
    "    dataset=test_dataset,\n",
    "    token2idx=token2idx,\n",
    "    idx2token=idx2token,\n",
    "    num_samples=len(test_dataset),\n",
    "    beam_width=3\n",
    ")"
   ]
  },
  {
   "cell_type": "code",
   "execution_count": 37,
   "id": "47a8c050",
   "metadata": {},
   "outputs": [],
   "source": [
    "@torch.no_grad()\n",
    "def evaluate_edit_distance(model, dataset, token2idx, idx2token, num_samples=50, beam_width=3, max_len=256):\n",
    "    model.eval()\n",
    "    total_ned = 0.0\n",
    "    count = 0\n",
    "\n",
    "    device = next(model.parameters()).device\n",
    "\n",
    "    def strip_tokens(tokens):\n",
    "        return [t for t in tokens if t not in ['<pad>', '<s>', '</s>']]\n",
    "\n",
    "    for i in range(num_samples):\n",
    "        image, label = dataset[i]\n",
    "        image = image.to(device)\n",
    "\n",
    "        pred_tokens = beam_search_decode(model, image, token2idx, idx2token, beam_width, max_len, device=device, length_penalty_alpha=0.6)\n",
    "        true_tokens = [idx2token[idx.item()] for idx in label]\n",
    "\n",
    "        pred = strip_tokens(pred_tokens)\n",
    "        true = strip_tokens(true_tokens)\n",
    "\n",
    "        pred_str = ' '.join(pred)\n",
    "        true_str = ' '.join(true)\n",
    "\n",
    "        if len(true_str.strip()) == 0:\n",
    "            continue\n",
    "\n",
    "        lev_dist = Levenshtein.distance(pred_str, true_str)\n",
    "        max_len_str = max(len(pred_str), len(true_str))\n",
    "        ned = 1 - lev_dist / max_len_str\n",
    "        total_ned += ned\n",
    "        count += 1\n",
    "\n",
    "        if (i+1) % 100 == 0:\n",
    "            print(f\"Processed {i+1}/{num_samples} samples...\")\n",
    "\n",
    "    avg_ned = total_ned / count if count > 0 else 0.0\n",
    "    print(f\"Normalized Edit Distance (NED): {avg_ned * 100:.2f}%\")\n",
    "    return avg_ned"
   ]
  },
  {
   "cell_type": "code",
   "execution_count": 38,
   "id": "7589448f",
   "metadata": {},
   "outputs": [
    {
     "name": "stdout",
     "output_type": "stream",
     "text": [
      "Processed 100/3448 samples...\n",
      "Processed 200/3448 samples...\n",
      "Processed 300/3448 samples...\n",
      "Processed 400/3448 samples...\n",
      "Processed 500/3448 samples...\n",
      "Processed 600/3448 samples...\n",
      "Processed 700/3448 samples...\n",
      "Processed 800/3448 samples...\n",
      "Processed 900/3448 samples...\n",
      "Processed 1000/3448 samples...\n",
      "Processed 1100/3448 samples...\n",
      "Processed 1200/3448 samples...\n",
      "Processed 1300/3448 samples...\n",
      "Processed 1400/3448 samples...\n",
      "Processed 1500/3448 samples...\n",
      "Processed 1600/3448 samples...\n",
      "Processed 1700/3448 samples...\n",
      "Processed 1800/3448 samples...\n",
      "Processed 1900/3448 samples...\n",
      "Processed 2000/3448 samples...\n",
      "Processed 2100/3448 samples...\n",
      "Processed 2200/3448 samples...\n",
      "Processed 2300/3448 samples...\n",
      "Processed 2400/3448 samples...\n",
      "Processed 2500/3448 samples...\n",
      "Processed 2600/3448 samples...\n",
      "Processed 2700/3448 samples...\n",
      "Processed 2800/3448 samples...\n",
      "Processed 2900/3448 samples...\n",
      "Processed 3000/3448 samples...\n",
      "Processed 3100/3448 samples...\n",
      "Processed 3200/3448 samples...\n",
      "Processed 3300/3448 samples...\n",
      "Processed 3400/3448 samples...\n",
      "Normalized Edit Distance (NED): 91.86%\n"
     ]
    },
    {
     "data": {
      "text/plain": [
       "0.9186099199609508"
      ]
     },
     "execution_count": 38,
     "metadata": {},
     "output_type": "execute_result"
    }
   ],
   "source": [
    "evaluate_edit_distance(\n",
    "    model=model,\n",
    "    dataset=test_dataset,\n",
    "    token2idx=token2idx,\n",
    "    idx2token=idx2token,\n",
    "    num_samples=len(test_dataset),\n",
    "    beam_width=3\n",
    ")"
   ]
  },
  {
   "cell_type": "code",
   "execution_count": 39,
   "id": "fd3fe03a",
   "metadata": {},
   "outputs": [],
   "source": [
    "@torch.no_grad()\n",
    "def export_predictions_to_csv(model, dataset, token2idx, idx2token, beam_width=3, max_len=256, num_samples=100, output_file=\"prediction_results.csv\"):\n",
    "    model.eval()\n",
    "    results = []\n",
    "\n",
    "    device = next(model.parameters()).device\n",
    "\n",
    "    def strip_tokens(tokens):\n",
    "        return [t for t in tokens if t not in ['<pad>', '<s>', '</s>']]\n",
    "\n",
    "    for i in range(num_samples):\n",
    "        image, label = dataset[i]\n",
    "        image = image.to(device)\n",
    "\n",
    "        pred_tokens = beam_search_decode(model, image, token2idx, idx2token, beam_width, max_len, device=device)\n",
    "        true_tokens = [idx2token[idx.item()] for idx in label]\n",
    "\n",
    "        pred = strip_tokens(pred_tokens)\n",
    "        true = strip_tokens(true_tokens)\n",
    "\n",
    "        pred_str = ' '.join(pred)\n",
    "        true_str = ' '.join(true)\n",
    "\n",
    "        sentence_match = pred == true\n",
    "\n",
    "        if len(true) > 0:\n",
    "            match_count = sum(p == t for p, t in zip(pred, true))\n",
    "            token_accuracy = match_count / len(true)\n",
    "        else:\n",
    "            token_accuracy = 0.0\n",
    "\n",
    "        if len(true_str.strip()) > 0:\n",
    "            lev = Levenshtein.distance(pred_str, true_str)\n",
    "            ned = 1 - lev / max(len(pred_str), len(true_str))\n",
    "        else:\n",
    "            ned = 0.0\n",
    "\n",
    "        results.append({\n",
    "            \"index\": i,\n",
    "            \"true_latex\": true_str,\n",
    "            \"pred_latex\": pred_str,\n",
    "            \"sentence_match\": sentence_match,\n",
    "            \"token_accuracy(%)\": round(token_accuracy * 100, 2),\n",
    "            \"normalized_edit_distance(%)\": round(ned * 100, 2)\n",
    "        })\n",
    "\n",
    "        if (i+1) % 100 == 0:\n",
    "            print(f\"Processed {i+1}/{num_samples} samples...\")\n",
    "\n",
    "    df = pd.DataFrame(results)\n",
    "    df.to_csv(output_file, index=False)\n",
    "    print(f\"Saved prediction results to: {output_file}\")\n",
    "    return df"
   ]
  },
  {
   "cell_type": "code",
   "execution_count": 40,
   "id": "2d25204a",
   "metadata": {},
   "outputs": [
    {
     "name": "stdout",
     "output_type": "stream",
     "text": [
      "Processed 100/3448 samples...\n",
      "Processed 200/3448 samples...\n",
      "Processed 300/3448 samples...\n",
      "Processed 400/3448 samples...\n",
      "Processed 500/3448 samples...\n",
      "Processed 600/3448 samples...\n",
      "Processed 700/3448 samples...\n",
      "Processed 800/3448 samples...\n",
      "Processed 900/3448 samples...\n",
      "Processed 1000/3448 samples...\n",
      "Processed 1100/3448 samples...\n",
      "Processed 1200/3448 samples...\n",
      "Processed 1300/3448 samples...\n",
      "Processed 1400/3448 samples...\n",
      "Processed 1500/3448 samples...\n",
      "Processed 1600/3448 samples...\n",
      "Processed 1700/3448 samples...\n",
      "Processed 1800/3448 samples...\n",
      "Processed 1900/3448 samples...\n",
      "Processed 2000/3448 samples...\n",
      "Processed 2100/3448 samples...\n",
      "Processed 2200/3448 samples...\n",
      "Processed 2300/3448 samples...\n",
      "Processed 2400/3448 samples...\n",
      "Processed 2500/3448 samples...\n",
      "Processed 2600/3448 samples...\n",
      "Processed 2700/3448 samples...\n",
      "Processed 2800/3448 samples...\n",
      "Processed 2900/3448 samples...\n",
      "Processed 3000/3448 samples...\n",
      "Processed 3100/3448 samples...\n",
      "Processed 3200/3448 samples...\n",
      "Processed 3300/3448 samples...\n",
      "Processed 3400/3448 samples...\n",
      "Saved prediction results to: latex_predictions.csv\n"
     ]
    }
   ],
   "source": [
    "df_results = export_predictions_to_csv(\n",
    "    model=model,\n",
    "    dataset=test_dataset,\n",
    "    token2idx=token2idx,\n",
    "    idx2token=idx2token,\n",
    "    beam_width=3,\n",
    "    num_samples=len(test_dataset),\n",
    "    output_file=\"latex_predictions.csv\"\n",
    ")"
   ]
  },
  {
   "cell_type": "code",
   "execution_count": 41,
   "id": "c5aef2c5",
   "metadata": {},
   "outputs": [],
   "source": [
    "def render_prediction_comparison(image_tensor, true_latex, pred_latex):\n",
    "    plt.figure(figsize=(12, 4))\n",
    "    gs = gridspec.GridSpec(1, 3, width_ratios=[1, 1, 1])\n",
    "\n",
    "    # images\n",
    "    ax0 = plt.subplot(gs[0])\n",
    "    ax0.imshow(image_tensor.permute(1, 2, 0).squeeze(), cmap='gray')\n",
    "    ax0.set_title(\"Input Image\")\n",
    "    ax0.axis(\"off\")\n",
    "\n",
    "    # GT LaTeX\n",
    "    ax1 = plt.subplot(gs[1])\n",
    "    ax1.text(0.5, 0.5, f\"${true_latex}$\", fontsize=18, ha='center', va='center')\n",
    "    ax1.set_title(\"Ground Truth\")\n",
    "    ax1.axis(\"off\")\n",
    "\n",
    "    # Prediction LaTeX\n",
    "    ax2 = plt.subplot(gs[2])\n",
    "    ax2.text(0.5, 0.5, f\"${pred_latex}$\", fontsize=18, ha='center', va='center')\n",
    "    ax2.set_title(\"Prediction\")\n",
    "    ax2.axis(\"off\")\n",
    "\n",
    "    plt.tight_layout()\n",
    "    plt.show()"
   ]
  },
  {
   "cell_type": "code",
   "execution_count": 42,
   "id": "ba6889bf",
   "metadata": {},
   "outputs": [
    {
     "data": {
      "image/png": "[encoded data removed]",
      "text/plain": [
       "<Figure size 1200x400 with 3 Axes>"
      ]
     },
     "metadata": {},
     "output_type": "display_data"
    }
   ],
   "source": [
    "index = random.randint(0, len(test_dataset) - 1)\n",
    "image, label = test_dataset[index]\n",
    "\n",
    "pred_tokens = beam_search_decode(model, image, token2idx, idx2token, beam_width=3, device=\"cuda\", length_penalty_alpha=0.6)\n",
    "true_tokens = [idx2token[idx.item()] for idx in label]\n",
    "\n",
    "def clean(toks): return ''.join(t for t in toks if t not in ['<s>', '</s>', '<pad>'])\n",
    "true_str = clean(true_tokens)\n",
    "pred_str = clean(pred_tokens)\n",
    "\n",
    "render_prediction_comparison(image, true_str, pred_str)"
   ]
  },
  {
   "cell_type": "code",
   "execution_count": null,
   "id": "280cee5c",
   "metadata": {},
   "outputs": [],
   "source": [
    "@torch.no_grad()\n",
    "def build_confusion_matrix_gpu(model, dataset, token2idx, idx2token,\n",
    "                                num_samples=200, beam_width=3, max_len=256, top_k_tokens=30):\n",
    "    model.eval()\n",
    "    true_labels = []\n",
    "    pred_labels = []\n",
    "\n",
    "    device = next(model.parameters()).device\n",
    "\n",
    "    def strip(tokens):\n",
    "        return [t for t in tokens if t not in ['<pad>', '<s>', '</s>']]\n",
    "\n",
    "    for i in range(num_samples):\n",
    "        image, label = dataset[i]\n",
    "        image = image.to(device)\n",
    "\n",
    "        pred_tokens = beam_search_decode(model, image, token2idx, idx2token, beam_width, max_len, device=device, length_penalty_alpha=0.6)\n",
    "        true_tokens = [idx2token[idx.item()] for idx in label]\n",
    "\n",
    "        pred = strip(pred_tokens)\n",
    "        true = strip(true_tokens)\n",
    "\n",
    "        min_len = min(len(pred), len(true))\n",
    "        true_labels.extend(true[:min_len])\n",
    "        pred_labels.extend(pred[:min_len])\n",
    "\n",
    "        if (i+1) % 100 == 0:\n",
    "            print(f\"Processed {i+1}/{num_samples} samples...\")\n",
    "\n",
    "    all_tokens = Counter(true_labels + pred_labels)\n",
    "    most_common = [tok for tok, _ in all_tokens.most_common(top_k_tokens)]\n",
    "    most_common_set = set(most_common)\n",
    "\n",
    "    def map_tok(tok):\n",
    "        return tok if tok in most_common_set else 'other'\n",
    "\n",
    "    mapped_true = [map_tok(tok) for tok in true_labels]\n",
    "    mapped_pred = [map_tok(tok) for tok in pred_labels]\n",
    "\n",
    "    labels_sorted = sorted(set(mapped_true + mapped_pred))\n",
    "\n",
    "    cm = confusion_matrix(mapped_true, mapped_pred, labels=labels_sorted)\n",
    "\n",
    "    plt.figure(figsize=(12, 10))\n",
    "    sns.heatmap(cm, annot=True, fmt=\"d\", cmap=\"Blues\",\n",
    "                xticklabels=labels_sorted, yticklabels=labels_sorted)\n",
    "    plt.xlabel(\"Predicted Token\")\n",
    "    plt.ylabel(\"Ground Truth Token\")\n",
    "    plt.title(f\"Confusion Matrix (Top {top_k_tokens} Tokens + 'other')\")\n",
    "    plt.tight_layout()\n",
    "    plt.show()\n",
    "\n",
    "    return cm, labels_sorted, true_labels, pred_labels"
   ]
  },
  {
   "cell_type": "code",
   "execution_count": 44,
   "id": "4388c883",
   "metadata": {},
   "outputs": [],
   "source": [
    "def analyze_top_confusions(true_labels, pred_labels, top_k=10):\n",
    "    assert len(true_labels) == len(pred_labels)\n",
    "\n",
    "    confusions = Counter()\n",
    "\n",
    "    for t, p in zip(true_labels, pred_labels):\n",
    "        if t != p:\n",
    "            confusions[(t, p)] += 1\n",
    "\n",
    "    most_common_confusions = confusions.most_common(top_k)\n",
    "\n",
    "    print(f\"\\nTop-{top_k} Most Common Confusions:\")\n",
    "    for (true_tok, pred_tok), count in most_common_confusions:\n",
    "        print(f\"  '{true_tok}' → '{pred_tok}' : {count} times\")\n",
    "\n",
    "    return most_common_confusions\n"
   ]
  },
  {
   "cell_type": "code",
   "execution_count": null,
   "id": "65041084",
   "metadata": {},
   "outputs": [],
   "source": [
    "cm, labels_sorted, true_labels, pred_labels = build_confusion_matrix_gpu(\n",
    "    model=model,\n",
    "    dataset=test_dataset,\n",
    "    token2idx=token2idx,\n",
    "    idx2token=idx2token,\n",
    "    num_samples=len(test_dataset),\n",
    "    beam_width=3,\n",
    "    max_len=256,\n",
    "    top_k_tokens=30\n",
    ")\n",
    "\n",
    "top_confusions = analyze_top_confusions(true_labels, pred_labels, top_k=15)"
   ]
  },
  {
   "cell_type": "code",
   "execution_count": 46,
   "id": "ac573797",
   "metadata": {},
   "outputs": [],
   "source": [
    "import nltk\n",
    "from nltk.translate.bleu_score import sentence_bleu, SmoothingFunction\n",
    "\n",
    "@torch.no_grad()\n",
    "def evaluate_bleu_score(model, dataset, token2idx, idx2token,\n",
    "                        num_samples=100, beam_width=3, max_len=256):\n",
    "    model.eval()\n",
    "    device = next(model.parameters()).device\n",
    "\n",
    "    bleu_scores = []\n",
    "\n",
    "    smoothing_fn = SmoothingFunction().method4\n",
    "\n",
    "    def strip_tokens(tokens):\n",
    "        return [t for t in tokens if t not in ['<pad>', '<s>', '</s>']]\n",
    "\n",
    "    for i in range(num_samples):\n",
    "        image, label = dataset[i]\n",
    "        image = image.to(device)\n",
    "\n",
    "        pred_tokens = beam_search_decode(model, image, token2idx, idx2token,\n",
    "                                         beam_width=beam_width, max_len=max_len,\n",
    "                                         device=device, length_penalty_alpha=0.6)\n",
    "        true_tokens = [idx2token[idx.item()] for idx in label]\n",
    "\n",
    "        pred = strip_tokens(pred_tokens)\n",
    "        true = strip_tokens(true_tokens)\n",
    "\n",
    "        if len(true) == 0:\n",
    "            continue\n",
    "\n",
    "        bleu = sentence_bleu(\n",
    "            [true], pred,\n",
    "            weights=(0.25, 0.25, 0.25, 0.25),\n",
    "            smoothing_function=smoothing_fn\n",
    "        )\n",
    "        bleu_scores.append(bleu)\n",
    "\n",
    "        if (i + 1) % 100 == 0:\n",
    "            print(f\"Processed {i+1}/{num_samples} samples...\")\n",
    "\n",
    "    avg_bleu = np.mean(bleu_scores) if bleu_scores else 0.0\n",
    "    print(f\"\\nAverage BLEU Score: {avg_bleu * 100:.2f}%\")\n",
    "    return avg_bleu"
   ]
  },
  {
   "cell_type": "code",
   "execution_count": 47,
   "id": "8c9cc763",
   "metadata": {},
   "outputs": [
    {
     "name": "stdout",
     "output_type": "stream",
     "text": [
      "Processed 100/3448 samples...\n",
      "Processed 200/3448 samples...\n",
      "Processed 300/3448 samples...\n",
      "Processed 400/3448 samples...\n",
      "Processed 500/3448 samples...\n",
      "Processed 600/3448 samples...\n",
      "Processed 700/3448 samples...\n",
      "Processed 800/3448 samples...\n",
      "Processed 900/3448 samples...\n",
      "Processed 1000/3448 samples...\n",
      "Processed 1100/3448 samples...\n",
      "Processed 1200/3448 samples...\n",
      "Processed 1300/3448 samples...\n",
      "Processed 1400/3448 samples...\n",
      "Processed 1500/3448 samples...\n",
      "Processed 1600/3448 samples...\n",
      "Processed 1700/3448 samples...\n",
      "Processed 1800/3448 samples...\n",
      "Processed 1900/3448 samples...\n",
      "Processed 2000/3448 samples...\n",
      "Processed 2100/3448 samples...\n",
      "Processed 2200/3448 samples...\n",
      "Processed 2300/3448 samples...\n",
      "Processed 2400/3448 samples...\n",
      "Processed 2500/3448 samples...\n",
      "Processed 2600/3448 samples...\n",
      "Processed 2700/3448 samples...\n",
      "Processed 2800/3448 samples...\n",
      "Processed 2900/3448 samples...\n",
      "Processed 3000/3448 samples...\n",
      "Processed 3100/3448 samples...\n",
      "Processed 3200/3448 samples...\n",
      "Processed 3300/3448 samples...\n",
      "Processed 3400/3448 samples...\n",
      "\n",
      "Average BLEU Score: 84.75%\n"
     ]
    }
   ],
   "source": [
    "bleu_score = evaluate_bleu_score(\n",
    "    model=model,\n",
    "    dataset=test_dataset,\n",
    "    token2idx=token2idx,\n",
    "    idx2token=idx2token,\n",
    "    num_samples=len(test_dataset),\n",
    "    beam_width=3,\n",
    "    max_len=256\n",
    ")"
   ]
  }
 ],
 "metadata": {
  "kernelspec": {
   "display_name": ".venv",
   "language": "python",
   "name": "python3"
  },
  "language_info": {
   "codemirror_mode": {
    "name": "ipython",
    "version": 3
   },
   "file_extension": ".py",
   "mimetype": "text/x-python",
   "name": "python",
   "nbconvert_exporter": "python",
   "pygments_lexer": "ipython3",
   "version": "3.9.13"
  }
 },
 "nbformat": 4,
 "nbformat_minor": 5
}
