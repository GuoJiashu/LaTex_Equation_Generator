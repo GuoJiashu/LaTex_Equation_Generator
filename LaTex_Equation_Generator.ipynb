{
 "cells": [
  {
   "cell_type": "code",
   "execution_count": 1,
   "id": "dc5c004b",
   "metadata": {},
   "outputs": [],
   "source": [
    "import os\n",
    "import math\n",
    "import numpy as np\n",
    "import pandas as pd\n",
    "import matplotlib.pyplot as plt\n",
    "from tqdm.notebook import tqdm\n",
    "from PIL import Image, ImageOps\n",
    "import re\n",
    "import pickle\n",
    "import random\n",
    "import Levenshtein\n",
    "import seaborn as sns\n",
    "from sklearn.metrics import confusion_matrix\n",
    "\n",
    "import torch\n",
    "import torch.nn as nn\n",
    "from torch.utils.data import Dataset, DataLoader\n",
    "from torchvision.models import resnet18\n",
    "from sklearn.model_selection import train_test_split\n",
    "from collections import Counter\n",
    "from torch.utils.tensorboard import SummaryWriter\n",
    "from matplotlib import gridspec"
   ]
  },
  {
   "cell_type": "code",
   "execution_count": 2,
   "id": "0a465e4a",
   "metadata": {},
   "outputs": [],
   "source": [
    "data_dir = r\"C:\\Users\\13658\\Desktop\\LaTex_Code_Generator\"\n",
    "handwritten_equations = os.path.join(data_dir, \"Handwritten_equations\")\n",
    "json_dict = os.path.join(data_dir, \"char_dict.json\")\n",
    "csv_file = os.path.join(data_dir, \"caption_data.csv\")"
   ]
  },
  {
   "cell_type": "code",
   "execution_count": 3,
   "id": "5e51cbd2",
   "metadata": {},
   "outputs": [],
   "source": [
    "def smart_clean_latex(code):\n",
    "    preserved = re.findall(r'(\\\\[a-zA-Z]+)\\s+', code)\n",
    "    for cmd in preserved:\n",
    "        code = code.replace(cmd + ' ', f'{cmd}<<<SPACE>>>')\n",
    "    code = code.replace(' ', '')\n",
    "    code = code.replace('<<<SPACE>>>', ' ')\n",
    "    return code\n",
    "\n",
    "csv_data = pd.read_csv(csv_file)\n",
    "latex_codes_raw = csv_data['Column2'].values.tolist()\n",
    "latex_codes = [smart_clean_latex(str(code)) for code in latex_codes_raw]\n",
    "image_names = csv_data['Column1'].values.tolist()"
   ]
  },
  {
   "cell_type": "code",
   "execution_count": 4,
   "id": "bbaa51fc",
   "metadata": {},
   "outputs": [
    {
     "name": "stdout",
     "output_type": "stream",
     "text": [
      "Dic Length: 136\n",
      "Maximum Sequence: 224\n"
     ]
    }
   ],
   "source": [
    "command_tokens = set()\n",
    "for code in latex_codes:\n",
    "    i = 0\n",
    "    while i < len(code):\n",
    "        if code[i] == '\\\\':\n",
    "            j = i + 1\n",
    "            while j < len(code) and code[j].isalpha():\n",
    "                j += 1\n",
    "            command_tokens.add(code[i:j])\n",
    "            i = j\n",
    "        else:\n",
    "            i += 1\n",
    "\n",
    "def mixed_tokenize_latex(code, command_set):\n",
    "    tokens = []\n",
    "    i = 0\n",
    "    while i < len(code):\n",
    "        if code[i] == '\\\\':\n",
    "            j = i + 1\n",
    "            while j < len(code) and code[j].isalpha():\n",
    "                j += 1\n",
    "            cmd = code[i:j]\n",
    "            if cmd in command_set:\n",
    "                tokens.append(cmd)\n",
    "                i = j\n",
    "                continue\n",
    "        tokens.append(code[i])\n",
    "        i += 1\n",
    "    return tokens\n",
    "\n",
    "token_counter = Counter()\n",
    "for code in latex_codes:\n",
    "    tokens = mixed_tokenize_latex(code, command_tokens)\n",
    "    token_counter.update(tokens)\n",
    "\n",
    "special_tokens = ['<pad>', '<s>', '</s>']\n",
    "token_list = special_tokens + sorted(token_counter.keys())\n",
    "\n",
    "token2idx = {token: idx for idx, token in enumerate(token_list)}\n",
    "idx2token = {idx: token for token, idx in token2idx.items()}\n",
    "vocab_size = len(token2idx)\n",
    "\n",
    "def encode_label_mixed(code, token2idx, command_set, max_len):\n",
    "    tokens = ['<s>'] + mixed_tokenize_latex(code, command_set)[:max_len - 2] + ['</s>']\n",
    "    label = np.zeros(max_len, dtype=np.int32)\n",
    "    for t, token in enumerate(tokens):\n",
    "        label[t] = token2idx.get(token, 0)\n",
    "    return label\n",
    "\n",
    "max_seq_length = max(len(mixed_tokenize_latex(code, command_tokens)) for code in latex_codes) + 2\n",
    "print(f\"Dic Length: {vocab_size}\")\n",
    "print(f\"Maximum Sequence: {max_seq_length}\")"
   ]
  },
  {
   "cell_type": "code",
   "execution_count": 5,
   "id": "e1cf3dbd",
   "metadata": {},
   "outputs": [],
   "source": [
    "def preprocess_image(image_path, target_size=(464, 85)):\n",
    "    img = Image.open(image_path).convert('L')\n",
    "    img.thumbnail(target_size, Image.Resampling.LANCZOS)\n",
    "\n",
    "    delta_w = target_size[0] - img.size[0]\n",
    "    delta_h = target_size[1] - img.size[1]\n",
    "    padding = (delta_w // 2, delta_h // 2, delta_w - delta_w // 2, delta_h - delta_h // 2)\n",
    "    img = ImageOps.expand(img, padding, fill=255)\n",
    "\n",
    "    img_array = np.array(img, dtype=np.float32) / 255.0\n",
    "    img_array = np.expand_dims(img_array, axis=0)\n",
    "    img_array = np.repeat(img_array, 3, axis=0)\n",
    "    return torch.from_numpy(img_array).float()\n",
    "\n",
    "\n",
    "\n",
    "class LatexDataset(Dataset):\n",
    "    def __init__(self, image_dir, image_names, latex_codes, max_len):\n",
    "        self.image_dir = image_dir\n",
    "        self.image_names = image_names\n",
    "        self.latex_codes = latex_codes\n",
    "        self.max_len = max_len\n",
    "\n",
    "    def __len__(self):\n",
    "        return len(self.image_names)\n",
    "\n",
    "    def __getitem__(self, idx):\n",
    "        img_path = os.path.join(self.image_dir, f\"{self.image_names[idx]}.bmp\")\n",
    "        img = preprocess_image(img_path)\n",
    "        label = encode_label_mixed(self.latex_codes[idx], token2idx, command_tokens, self.max_len)\n",
    "        label_tensor = torch.tensor(label, dtype=torch.long)\n",
    "        return img, label_tensor\n",
    "\n",
    "\n",
    "def collate_fn(batch):\n",
    "    images, labels = zip(*batch)\n",
    "    images = torch.stack(images)\n",
    "    labels = torch.nn.utils.rnn.pad_sequence(labels, batch_first=True, padding_value=0)\n",
    "    return images, labels, [len(l) for l in labels]\n",
    "\n",
    "train_imgs, tep_imgs, train_codes, tep_codes = train_test_split(\n",
    "    image_names, latex_codes, test_size=0.3, random_state=42)\n",
    "\n",
    "val_imgs, test_imgs, val_codes, test_codes = train_test_split(\n",
    "    tep_imgs, tep_codes, test_size=0.5, random_state=41)\n",
    "\n",
    "train_dataset = LatexDataset(handwritten_equations, train_imgs, train_codes, max_seq_length)\n",
    "val_dataset = LatexDataset(handwritten_equations, val_imgs, val_codes, max_seq_length)\n",
    "test_dataset = LatexDataset(handwritten_equations, test_imgs, test_codes, max_seq_length)\n",
    "\n",
    "train_loader = DataLoader(train_dataset, batch_size=32, shuffle=True, collate_fn=collate_fn)\n",
    "val_loader = DataLoader(val_dataset, batch_size=32, shuffle=False, collate_fn=collate_fn)\n",
    "test_loader = DataLoader(test_dataset, batch_size=32, shuffle=False, collate_fn=collate_fn)"
   ]
  },
  {
   "cell_type": "code",
   "execution_count": 6,
   "id": "52fec02e",
   "metadata": {},
   "outputs": [
    {
     "name": "stdout",
     "output_type": "stream",
     "text": [
      "token2idx/idx2token stored in C:\\Users\\13658\\Desktop\\LaTex_Code_Generator\\token_dicts\n"
     ]
    },
    {
     "data": {
      "image/png": "[encoded data removed]",
      "text/plain": [
       "<Figure size 800x400 with 1 Axes>"
      ]
     },
     "metadata": {},
     "output_type": "display_data"
    }
   ],
   "source": [
    "dict_dir = os.path.join(data_dir, \"token_dicts\")\n",
    "os.makedirs(dict_dir, exist_ok=True)\n",
    "\n",
    "with open(os.path.join(dict_dir, \"token2idx.pkl\"), \"wb\") as f:\n",
    "    pickle.dump(token2idx, f)\n",
    "\n",
    "with open(os.path.join(dict_dir, \"idx2token.pkl\"), \"wb\") as f:\n",
    "    pickle.dump(idx2token, f)\n",
    "\n",
    "print(f\"token2idx/idx2token stored in {dict_dir}\")\n",
    "\n",
    "seq_lens = [len(mixed_tokenize_latex(code, command_tokens)) for code in latex_codes]\n",
    "plt.figure(figsize=(8, 4))\n",
    "plt.hist(seq_lens, bins=40, color='skyblue', edgecolor='black')\n",
    "plt.axvline(max_seq_length - 2, color='red', linestyle='--', label='max_seq_length (without <s>, </s>)')\n",
    "plt.title(\"LaTeX Sequence Length Distribution\")\n",
    "plt.xlabel(\"Token Count\")\n",
    "plt.ylabel(\"Sample Count\")\n",
    "plt.legend()\n",
    "plt.grid(True)\n",
    "plt.tight_layout()\n",
    "plt.show()"
   ]
  },
  {
   "cell_type": "code",
   "execution_count": 7,
   "id": "e94ebac3",
   "metadata": {},
   "outputs": [
    {
     "name": "stdout",
     "output_type": "stream",
     "text": [
      "Figure shape: torch.Size([3, 85, 464])\n",
      "Label shape: torch.Size([224])\n"
     ]
    },
    {
     "data": {
      "image/png": "[encoded data removed]",
      "text/plain": [
       "<Figure size 640x480 with 1 Axes>"
      ]
     },
     "metadata": {},
     "output_type": "display_data"
    }
   ],
   "source": [
    "idx = random.randint(0, len(train_dataset) - 1)\n",
    "img_tensor, label_tensor = train_dataset[idx]\n",
    "\n",
    "print(f\"Figure shape: {img_tensor.shape}\")\n",
    "print(f\"Label shape: {label_tensor.shape}\")\n",
    "\n",
    "plt.imshow(img_tensor.permute(1, 2, 0).numpy(), cmap='gray')\n",
    "plt.title(\"Preprocessed Image\")\n",
    "plt.axis(\"off\")\n",
    "plt.show()"
   ]
  },
  {
   "cell_type": "code",
   "execution_count": 8,
   "id": "70fc9a1f",
   "metadata": {},
   "outputs": [
    {
     "name": "stdout",
     "output_type": "stream",
     "text": [
      "\n",
      "Sample 1\n",
      "Token Length: 28\n",
      "Restore the LaTeX expression:\n",
      "2 [ ( \\frac   { 1 } { 2 } , 0 ) + ( 0 , \\frac   { 1 } { 2 } ) ]\n",
      "\n",
      "Sample 2\n",
      "Token Length: 9\n",
      "Restore the LaTeX expression:\n",
      "y \\rightarrow   \\sqrt   { n } y\n",
      "\n",
      "Sample 3\n",
      "Token Length: 51\n",
      "Restore the LaTeX expression:\n",
      "\\frac   { 1 } { \\frac   { 1 } { 2 } \\Big   ( \\frac   { 1 } { a } + \\frac   { 1 } { b } \\Big   ) } = \\frac   { 2 a b } { a + b }\n",
      "\n",
      "Sample 4\n",
      "Token Length: 8\n",
      "Restore the LaTeX expression:\n",
      "\\frac   { a } { 4 }\n",
      "\n",
      "Sample 5\n",
      "Token Length: 12\n",
      "Restore the LaTeX expression:\n",
      "\\frac   { 1 } { r ^ { d } }\n"
     ]
    }
   ],
   "source": [
    "sample_indices = random.sample(range(len(train_dataset)), 5)\n",
    "\n",
    "for i, idx in enumerate(sample_indices, 1):\n",
    "    img_tensor, label_tensor = train_dataset[idx]\n",
    "    \n",
    "    tokens = [idx2token[idx.item()] for idx in label_tensor \n",
    "              if idx.item() not in (token2idx['<pad>'], token2idx['<s>'], token2idx['</s>'])]\n",
    "    decoded_latex = ' '.join(tokens)\n",
    "\n",
    "    print(f\"\\nSample {i}\")\n",
    "    print(\"Token Length:\", len(tokens))\n",
    "    print(\"Restore the LaTeX expression:\")\n",
    "    print(decoded_latex)"
   ]
  },
  {
   "cell_type": "code",
   "execution_count": 9,
   "id": "65dadb30",
   "metadata": {},
   "outputs": [
    {
     "name": "stdout",
     "output_type": "stream",
     "text": [
      "Original Lable:\n",
      "x ^ { k } - 1 = 0\n",
      "\n",
      "Washed:\n",
      "x^{k}-1=0\n",
      "\n",
      "Encoded:\n",
      "[  1 129 104 132 116 134  11  15  26  14   2   0   0   0   0   0   0   0\n",
      "   0   0   0   0   0   0   0   0   0   0   0   0   0   0   0   0   0   0\n",
      "   0   0   0   0   0   0   0   0   0   0   0   0   0   0   0   0   0   0\n",
      "   0   0   0   0   0   0   0   0   0   0   0   0   0   0   0   0   0   0\n",
      "   0   0   0   0   0   0   0   0   0   0   0   0   0   0   0   0   0   0\n",
      "   0   0   0   0   0   0   0   0   0   0   0   0   0   0   0   0   0   0\n",
      "   0   0   0   0   0   0   0   0   0   0   0   0   0   0   0   0   0   0\n",
      "   0   0   0   0   0   0   0   0   0   0   0   0   0   0   0   0   0   0\n",
      "   0   0   0   0   0   0   0   0   0   0   0   0   0   0   0   0   0   0\n",
      "   0   0   0   0   0   0   0   0   0   0   0   0   0   0   0   0   0   0\n",
      "   0   0   0   0   0   0   0   0   0   0   0   0   0   0   0   0   0   0\n",
      "   0   0   0   0   0   0   0   0   0   0   0   0   0   0   0   0   0   0\n",
      "   0   0   0   0   0   0   0   0]\n",
      "\n",
      "Decoded:\n",
      "x^{k}-1=0\n"
     ]
    }
   ],
   "source": [
    "sample_idx = random.randint(0, len(latex_codes_raw) - 1)\n",
    "raw = latex_codes_raw[sample_idx]\n",
    "cleaned = smart_clean_latex(raw)\n",
    "encoded = encode_label_mixed(cleaned, token2idx, command_tokens, max_seq_length)\n",
    "\n",
    "tokens = [idx2token[i] for i in encoded if i not in (token2idx['<pad>'], token2idx['<s>'], token2idx['</s>'])]\n",
    "decoded = ''.join(tokens)\n",
    "\n",
    "print(\"Original Lable:\")\n",
    "print(raw)\n",
    "print(\"\\nWashed:\")\n",
    "print(cleaned)\n",
    "print(\"\\nEncoded:\")\n",
    "print(encoded)\n",
    "print(\"\\nDecoded:\")\n",
    "print(decoded)"
   ]
  },
  {
   "cell_type": "code",
   "execution_count": 10,
   "id": "ac077749",
   "metadata": {},
   "outputs": [
    {
     "name": "stdout",
     "output_type": "stream",
     "text": [
      "Batch figure shape: torch.Size([32, 3, 85, 464])\n",
      "Batch label shape: torch.Size([32, 224])\n",
      "Label Length (first 5): [224, 224, 224, 224, 224]\n"
     ]
    }
   ],
   "source": [
    "batch = next(iter(train_loader))\n",
    "imgs, labels, lengths = batch\n",
    "\n",
    "print(f\"Batch figure shape: {imgs.shape}\")\n",
    "print(f\"Batch label shape: {labels.shape}\")\n",
    "print(f\"Label Length (first 5): {lengths[:5]}\")"
   ]
  },
  {
   "cell_type": "code",
   "execution_count": 11,
   "id": "caaead69",
   "metadata": {},
   "outputs": [],
   "source": [
    "class PositionalEncoding2D(nn.Module):\n",
    "    def __init__(self, d_model, height, width):\n",
    "        super().__init__()\n",
    "        if d_model % 4 != 0:\n",
    "            raise ValueError(\"d_model must be divisible by 4\")\n",
    "\n",
    "        self.d_model = d_model\n",
    "        self.height = height\n",
    "        self.width = width\n",
    "\n",
    "        pe = torch.zeros(d_model, height, width)\n",
    "\n",
    "        d_model_half = d_model // 2\n",
    "        div_term = torch.exp(torch.arange(0., d_model_half, 2) * -(math.log(10000.0) / d_model_half))\n",
    "\n",
    "        pos_w = torch.arange(0., width).unsqueeze(1)  # [W, 1]\n",
    "        pos_h = torch.arange(0., height).unsqueeze(1)  # [H, 1]\n",
    "\n",
    "        # 横向编码（宽度方向）\n",
    "        pe[0:d_model_half:2, :, :] = torch.sin(pos_w * div_term).T.unsqueeze(1).repeat(1, height, 1)\n",
    "        pe[1:d_model_half:2, :, :] = torch.cos(pos_w * div_term).T.unsqueeze(1).repeat(1, height, 1)\n",
    "\n",
    "        # 纵向编码（高度方向）\n",
    "        pe[d_model_half::2, :, :] = torch.sin(pos_h * div_term).T.unsqueeze(2).repeat(1, 1, width)\n",
    "        pe[d_model_half+1::2, :, :] = torch.cos(pos_h * div_term).T.unsqueeze(2).repeat(1, 1, width)\n",
    "\n",
    "        self.register_buffer('pe', pe.unsqueeze(0))  # shape: [1, d_model, H, W]\n",
    "\n",
    "    def forward(self, x):\n",
    "        return x + self.pe[:, :, :x.size(2), :x.size(3)]\n",
    "\n",
    "\n",
    "\n",
    "class Encoder(nn.Module):\n",
    "    def __init__(self, d_model=256):\n",
    "        super().__init__()\n",
    "        # Use ResNet18 up to layer3 (output: [B, 128, H, W])\n",
    "        base_cnn = resnet18(pretrained=True)\n",
    "        self.backbone = nn.Sequential(*list(base_cnn.children())[:6])  # conv1 + bn1 + relu + maxpool + layer1, layer2\n",
    "\n",
    "        self.project = nn.Conv2d(128, d_model, kernel_size=1)  # map channels to d_model\n",
    "        self.row_encoder = nn.LSTM(input_size=d_model,\n",
    "                                   hidden_size=d_model // 2,\n",
    "                                   batch_first=True,\n",
    "                                   bidirectional=True)\n",
    "\n",
    "        self.pe = None  # lazy initialization for Positional Encoding\n",
    "\n",
    "    def forward(self, x):\n",
    "        feat = self.backbone(x)           # [B, 128, H, W]\n",
    "        feat = self.project(feat)         # [B, d_model, H, W]\n",
    "        B, C, H, W = feat.shape\n",
    "\n",
    "        if self.pe is None:\n",
    "            self.pe = PositionalEncoding2D(C, H, W).to(x.device)\n",
    "        feat = self.pe(feat)\n",
    "\n",
    "        # Run Row-wise LSTM\n",
    "        feat = feat.permute(0, 2, 3, 1).contiguous()  # [B, H, W, C]\n",
    "        feat = feat.view(B * H, W, C)                 # [B*H, W, C]\n",
    "        feat, _ = self.row_encoder(feat)\n",
    "        feat = feat.view(B, H, W, C)\n",
    "\n",
    "        return feat  # [B, H, W, D]"
   ]
  },
  {
   "cell_type": "code",
   "execution_count": 12,
   "id": "aee69737",
   "metadata": {},
   "outputs": [
    {
     "name": "stderr",
     "output_type": "stream",
     "text": [
      "c:\\Users\\13658\\Desktop\\LaTex_Code_Generator\\.venv\\lib\\site-packages\\torchvision\\models\\_utils.py:208: UserWarning: The parameter 'pretrained' is deprecated since 0.13 and may be removed in the future, please use 'weights' instead.\n",
      "  warnings.warn(\n",
      "c:\\Users\\13658\\Desktop\\LaTex_Code_Generator\\.venv\\lib\\site-packages\\torchvision\\models\\_utils.py:223: UserWarning: Arguments other than a weight enum or `None` for 'weights' are deprecated since 0.13 and may be removed in the future. The current behavior is equivalent to passing `weights=ResNet18_Weights.IMAGENET1K_V1`. You can also use `weights=ResNet18_Weights.DEFAULT` to get the most up-to-date weights.\n",
      "  warnings.warn(msg)\n"
     ]
    },
    {
     "name": "stdout",
     "output_type": "stream",
     "text": [
      "Encoder Output: torch.Size([32, 11, 58, 256])\n"
     ]
    }
   ],
   "source": [
    "# 跑你的 train_loader 获取图像\n",
    "images, _, _ = next(iter(train_loader))\n",
    "images = images.cuda()\n",
    "\n",
    "# Encoder 实例\n",
    "encoder = Encoder(d_model=256).cuda()\n",
    "\n",
    "# Forward Pass\n",
    "features = encoder(images)\n",
    "\n",
    "print(\"Encoder Output:\", features.shape)  # 预计 [B, H, W, D]"
   ]
  },
  {
   "cell_type": "code",
   "execution_count": 13,
   "id": "db0b7467",
   "metadata": {},
   "outputs": [],
   "source": [
    "class VisualCNN(nn.Module):\n",
    "    def __init__(self):\n",
    "        super().__init__()\n",
    "        base = resnet18(pretrained=True)\n",
    "        self.stages = nn.ModuleList([\n",
    "            nn.Sequential(base.conv1, base.bn1, base.relu),  # stage 0\n",
    "            base.maxpool,                                    # stage 1\n",
    "            base.layer1,                                     # stage 2\n",
    "            base.layer2,                                     # stage 3\n",
    "            base.layer3                                      # stage 4\n",
    "        ])\n",
    "\n",
    "    def forward(self, x):\n",
    "        outputs = []\n",
    "        for stage in self.stages:\n",
    "            x = stage(x)\n",
    "            outputs.append(x)\n",
    "        return outputs"
   ]
  },
  {
   "cell_type": "code",
   "execution_count": 14,
   "id": "72cbe15f",
   "metadata": {},
   "outputs": [],
   "source": [
    "def show_feature_map(tensor, title, max_channels=4):\n",
    "    n = min(max_channels, tensor.shape[1])  # 显示前几个通道\n",
    "    fig, axes = plt.subplots(1, n, figsize=(3 * n, 3))\n",
    "    for i in range(n):\n",
    "        axes[i].imshow(tensor[0, i].detach().cpu(), cmap='gray')\n",
    "        axes[i].set_title(f\"{title} | Channel {i}\")\n",
    "        axes[i].axis(\"off\")\n",
    "    plt.tight_layout()\n",
    "    plt.show()"
   ]
  },
  {
   "cell_type": "code",
   "execution_count": 15,
   "id": "25a1db6c",
   "metadata": {},
   "outputs": [
    {
     "name": "stdout",
     "output_type": "stream",
     "text": [
      "Stage 0 output shape: torch.Size([1, 64, 43, 232])\n"
     ]
    },
    {
     "data": {
      "image/png": "[encoded data removed]",
      "text/plain": [
       "<Figure size 1200x300 with 4 Axes>"
      ]
     },
     "metadata": {},
     "output_type": "display_data"
    },
    {
     "name": "stdout",
     "output_type": "stream",
     "text": [
      "Stage 1 output shape: torch.Size([1, 64, 22, 116])\n"
     ]
    },
    {
     "data": {
      "image/png": "[encoded data removed]",
      "text/plain": [
       "<Figure size 1200x300 with 4 Axes>"
      ]
     },
     "metadata": {},
     "output_type": "display_data"
    },
    {
     "name": "stdout",
     "output_type": "stream",
     "text": [
      "Stage 2 output shape: torch.Size([1, 64, 22, 116])\n"
     ]
    },
    {
     "data": {
      "image/png": "[encoded data removed]",
      "text/plain": [
       "<Figure size 1200x300 with 4 Axes>"
      ]
     },
     "metadata": {},
     "output_type": "display_data"
    },
    {
     "name": "stdout",
     "output_type": "stream",
     "text": [
      "Stage 3 output shape: torch.Size([1, 128, 11, 58])\n"
     ]
    },
    {
     "data": {
      "image/png": "[encoded data removed]",
      "text/plain": [
       "<Figure size 1200x300 with 4 Axes>"
      ]
     },
     "metadata": {},
     "output_type": "display_data"
    },
    {
     "name": "stdout",
     "output_type": "stream",
     "text": [
      "Stage 4 output shape: torch.Size([1, 256, 6, 29])\n"
     ]
    },
    {
     "data": {
      "image/png": "[encoded data removed]",
      "text/plain": [
       "<Figure size 1200x300 with 4 Axes>"
      ]
     },
     "metadata": {},
     "output_type": "display_data"
    }
   ],
   "source": [
    "# 取一张图像样本\n",
    "images, _, _ = next(iter(train_loader))\n",
    "sample_img = images[0:1].cuda()  # shape: [1, C, H, W]\n",
    "\n",
    "# 初始化可视化 CNN\n",
    "viz_cnn = VisualCNN().cuda()\n",
    "features = viz_cnn(sample_img)\n",
    "\n",
    "# 可视化每一层输出\n",
    "for idx, feat in enumerate(features):\n",
    "    print(f\"Stage {idx} output shape: {feat.shape}\")\n",
    "    show_feature_map(feat, f\"Stage {idx}\")\n"
   ]
  },
  {
   "cell_type": "code",
   "execution_count": 16,
   "id": "3490e0de",
   "metadata": {},
   "outputs": [],
   "source": [
    "def show_max_activation(feature_map, title=\"Max Activation\"):\n",
    "    \n",
    "    max_activations = torch.max(feature_map[0], dim=0).values.detach().cpu()\n",
    "    \n",
    "    plt.figure(figsize=(6, 4))\n",
    "    plt.imshow(max_activations, cmap='hot')\n",
    "    plt.colorbar()\n",
    "    plt.title(title)\n",
    "    plt.axis('off')\n",
    "    plt.show()\n"
   ]
  },
  {
   "cell_type": "code",
   "execution_count": 17,
   "id": "96cde506",
   "metadata": {},
   "outputs": [
    {
     "name": "stdout",
     "output_type": "stream",
     "text": [
      "Stage 0 output shape: torch.Size([1, 64, 43, 232])\n"
     ]
    },
    {
     "data": {
      "image/png": "[encoded data removed]",
      "text/plain": [
       "<Figure size 600x400 with 2 Axes>"
      ]
     },
     "metadata": {},
     "output_type": "display_data"
    },
    {
     "name": "stdout",
     "output_type": "stream",
     "text": [
      "Stage 1 output shape: torch.Size([1, 64, 22, 116])\n"
     ]
    },
    {
     "data": {
      "image/png": "[encoded data removed]",
      "text/plain": [
       "<Figure size 600x400 with 2 Axes>"
      ]
     },
     "metadata": {},
     "output_type": "display_data"
    },
    {
     "name": "stdout",
     "output_type": "stream",
     "text": [
      "Stage 2 output shape: torch.Size([1, 64, 22, 116])\n"
     ]
    },
    {
     "data": {
      "image/png": "[encoded data removed]",
      "text/plain": [
       "<Figure size 600x400 with 2 Axes>"
      ]
     },
     "metadata": {},
     "output_type": "display_data"
    },
    {
     "name": "stdout",
     "output_type": "stream",
     "text": [
      "Stage 3 output shape: torch.Size([1, 128, 11, 58])\n"
     ]
    },
    {
     "data": {
      "image/png": "[encoded data removed]",
      "text/plain": [
       "<Figure size 600x400 with 2 Axes>"
      ]
     },
     "metadata": {},
     "output_type": "display_data"
    },
    {
     "name": "stdout",
     "output_type": "stream",
     "text": [
      "Stage 4 output shape: torch.Size([1, 256, 6, 29])\n"
     ]
    },
    {
     "data": {
      "image/png": "[encoded data removed]",
      "text/plain": [
       "<Figure size 600x400 with 2 Axes>"
      ]
     },
     "metadata": {},
     "output_type": "display_data"
    }
   ],
   "source": [
    "for idx, feat in enumerate(features):\n",
    "    print(f\"Stage {idx} output shape: {feat.shape}\")\n",
    "    show_max_activation(feat, f\"Stage {idx} Max Activation Heatmap\")\n"
   ]
  },
  {
   "cell_type": "code",
   "execution_count": 18,
   "id": "6011c300",
   "metadata": {},
   "outputs": [],
   "source": [
    "class Decoder(nn.Module):\n",
    "    def __init__(self, vocab_size, d_model=256, nhead=4, num_layers=4, max_len=256, dropout=0.1):\n",
    "        super().__init__()\n",
    "        self.token_embedding = nn.Embedding(vocab_size, d_model)\n",
    "        self.pos_embedding = nn.Parameter(torch.zeros(1, max_len * 2, d_model))\n",
    "\n",
    "        decoder_layer = nn.TransformerDecoderLayer(\n",
    "            d_model=d_model,\n",
    "            nhead=nhead,\n",
    "            dim_feedforward=d_model * 4,\n",
    "            dropout=dropout,\n",
    "            batch_first=True\n",
    "        )\n",
    "        self.transformer_decoder = nn.TransformerDecoder(decoder_layer, num_layers=num_layers)\n",
    "        self.output_layer = nn.Linear(d_model, vocab_size)\n",
    "\n",
    "        nn.init.normal_(self.pos_embedding, std=0.02)\n",
    "\n",
    "    def forward(self, tgt_input, memory, tgt_mask=None, memory_mask=None, tgt_key_padding_mask=None):\n",
    "        # tgt_input: [B, T]\n",
    "        tgt_emb = self.token_embedding(tgt_input) + self.pos_embedding[:, :tgt_input.size(1), :]  # [B, T, D]\n",
    "\n",
    "        # memory: [B, H, W, D] -> [B, HW, D]\n",
    "        memory = memory.reshape(memory.size(0), -1, memory.size(-1))\n",
    "\n",
    "\n",
    "        # Decoder output\n",
    "        output = self.transformer_decoder(\n",
    "            tgt=tgt_emb,\n",
    "            memory=memory,\n",
    "            tgt_mask=tgt_mask,\n",
    "            tgt_key_padding_mask=tgt_key_padding_mask\n",
    "        )\n",
    "        return self.output_layer(output)  # [B, T, vocab_size]"
   ]
  },
  {
   "cell_type": "code",
   "execution_count": 19,
   "id": "06e9237c",
   "metadata": {},
   "outputs": [],
   "source": [
    "def generate_square_subsequent_mask(sz: int) -> torch.Tensor:\n",
    "    mask = (torch.triu(torch.ones(sz, sz)) == 1).transpose(0, 1)\n",
    "    mask = mask.float().masked_fill(mask == 0, float('-inf')).masked_fill(mask == 1, float(0.0))\n",
    "    return mask"
   ]
  },
  {
   "cell_type": "code",
   "execution_count": 20,
   "id": "07954615",
   "metadata": {},
   "outputs": [],
   "source": [
    "class Im2LatexModel(nn.Module):\n",
    "    def __init__(self, vocab_size, d_model=256, max_seq_len=256):\n",
    "        super().__init__()\n",
    "        self.encoder = Encoder(d_model=d_model)\n",
    "        self.decoder = Decoder(vocab_size=vocab_size, d_model=d_model, max_len=max_seq_len)\n",
    "        self.max_seq_len = max_seq_len\n",
    "\n",
    "    def forward(self, images, tgt_input, tgt_mask=None):\n",
    "        enc_output = self.encoder(images)  # [B, H, W, D]\n",
    "        logits = self.decoder(tgt_input, enc_output, tgt_mask=tgt_mask)\n",
    "        return logits  # [B, T, vocab_size]"
   ]
  },
  {
   "cell_type": "code",
   "execution_count": 21,
   "id": "1e18ab2d",
   "metadata": {},
   "outputs": [
    {
     "name": "stdout",
     "output_type": "stream",
     "text": [
      "Decoder output: torch.Size([32, 223, 136])\n"
     ]
    }
   ],
   "source": [
    "# 假设你有 batch\n",
    "images, labels, _ = next(iter(train_loader))\n",
    "images = images.cuda()\n",
    "labels = labels.cuda()\n",
    "\n",
    "# Create input by shifting\n",
    "tgt_input = labels[:, :-1]\n",
    "tgt_output = labels[:, 1:]\n",
    "\n",
    "model = Im2LatexModel(vocab_size=len(token2idx), d_model=256, max_seq_len=max_seq_length).cuda()\n",
    "tgt_mask = generate_square_subsequent_mask(tgt_input.size(1)).to(images.device)\n",
    "\n",
    "logits = model(images, tgt_input, tgt_mask)  # [B, T, vocab_size]\n",
    "\n",
    "print(\"Decoder output:\", logits.shape)"
   ]
  },
  {
   "cell_type": "code",
   "execution_count": 22,
   "id": "8a5e6229",
   "metadata": {},
   "outputs": [],
   "source": [
    "def test_decoder_integrity(model, images, labels, token2idx, idx2token):\n",
    "    print(\"=\" * 50)\n",
    "    print(\"Running Decoder Integrity Tests\")\n",
    "    print(\"=\" * 50)\n",
    "\n",
    "    device = next(model.parameters()).device\n",
    "    images, labels = images.to(device), labels.to(device)\n",
    "    tgt_input = labels[:, :-1]\n",
    "    tgt_output = labels[:, 1:]\n",
    "    tgt_mask = generate_square_subsequent_mask(tgt_input.size(1)).to(device)\n",
    "\n",
    "    # Forward\n",
    "    logits = model(images, tgt_input, tgt_mask)  # [B, T, vocab_size]\n",
    "\n",
    "    # Test 1 - Logits stats\n",
    "    print(\"\\n[1] Logits distribution:\")\n",
    "    print(\"   mean:\", logits.mean().item())\n",
    "    print(\"   max :\", logits.max().item())\n",
    "    print(\"   min :\", logits.min().item())\n",
    "\n",
    "    # Test 2 - Sample Top-K token at t=10\n",
    "    t = min(10, logits.size(1) - 1)\n",
    "    sample_logits = logits[0, t]\n",
    "    probs = torch.softmax(sample_logits, dim=-1)\n",
    "    topk_probs, topk_idx = torch.topk(probs, k=5)\n",
    "\n",
    "    print(\"\\n[2] Top-5 tokens at timestep\", t)\n",
    "    for i in range(5):\n",
    "        print(f\"   {idx2token[topk_idx[i].item()]}: {topk_probs[i].item():.4f}\")\n",
    "\n",
    "    # Test 3 - First-step decoder only\n",
    "    print(\"\\n[3] First-step decoding test\")\n",
    "    start = torch.full((1, 1), token2idx['<s>'], dtype=torch.long).to(device)\n",
    "    enc_out = model.encoder(images[0:1])\n",
    "    logits_start = model.decoder(start, enc_out)\n",
    "    pred = torch.argmax(logits_start, dim=-1)[0, 0].item()\n",
    "    print(f\"   Predicted first token: {idx2token[pred]}\")\n",
    "\n",
    "    # Test 4 - Gradient check\n",
    "    print(\"\\n[4] Gradient flow check\")\n",
    "    logits_flat = logits.view(-1, logits.size(-1))\n",
    "    labels_flat = tgt_output.contiguous().view(-1)\n",
    "    loss_fn = nn.CrossEntropyLoss(ignore_index=token2idx['<pad>'])\n",
    "    loss = loss_fn(logits_flat, labels_flat)\n",
    "    loss.backward()\n",
    "\n",
    "    for name, param in model.named_parameters():\n",
    "        if param.grad is not None:\n",
    "            print(f\"   {name:40s} | grad norm = {param.grad.norm():.4f}\")\n",
    "\n",
    "    print(\"\\nDecoder passed all integrity checks (forward & backward).\\n\")"
   ]
  },
  {
   "cell_type": "code",
   "execution_count": 23,
   "id": "6da8c306",
   "metadata": {},
   "outputs": [
    {
     "name": "stdout",
     "output_type": "stream",
     "text": [
      "==================================================\n",
      "Running Decoder Integrity Tests\n",
      "==================================================\n",
      "\n",
      "[1] Logits distribution:\n",
      "   mean: 0.007152223959565163\n",
      "   max : 2.276676654815674\n",
      "   min : -2.6284525394439697\n",
      "\n",
      "[2] Top-5 tokens at timestep 10\n",
      "   \\: 0.0369\n",
      "   \\sigma: 0.0200\n",
      "   x: 0.0188\n",
      "   \\cos: 0.0187\n",
      "   \\prime: 0.0187\n",
      "\n",
      "[3] First-step decoding test\n",
      "   Predicted first token: C\n",
      "\n",
      "[4] Gradient flow check\n",
      "   encoder.backbone.0.weight                | grad norm = 0.2391\n",
      "   encoder.backbone.1.weight                | grad norm = 0.0068\n",
      "   encoder.backbone.1.bias                  | grad norm = 0.0015\n",
      "   encoder.backbone.4.0.conv1.weight        | grad norm = 0.0197\n",
      "   encoder.backbone.4.0.bn1.weight          | grad norm = 0.0039\n",
      "   encoder.backbone.4.0.bn1.bias            | grad norm = 0.0031\n",
      "   encoder.backbone.4.0.conv2.weight        | grad norm = 0.0120\n",
      "   encoder.backbone.4.0.bn2.weight          | grad norm = 0.0035\n",
      "   encoder.backbone.4.0.bn2.bias            | grad norm = 0.0014\n",
      "   encoder.backbone.4.1.conv1.weight        | grad norm = 0.0111\n",
      "   encoder.backbone.4.1.bn1.weight          | grad norm = 0.0026\n",
      "   encoder.backbone.4.1.bn1.bias            | grad norm = 0.0028\n",
      "   encoder.backbone.4.1.conv2.weight        | grad norm = 0.0102\n",
      "   encoder.backbone.4.1.bn2.weight          | grad norm = 0.0019\n",
      "   encoder.backbone.4.1.bn2.bias            | grad norm = 0.0010\n",
      "   encoder.backbone.5.0.conv1.weight        | grad norm = 0.0098\n",
      "   encoder.backbone.5.0.bn1.weight          | grad norm = 0.0025\n",
      "   encoder.backbone.5.0.bn1.bias            | grad norm = 0.0024\n",
      "   encoder.backbone.5.0.conv2.weight        | grad norm = 0.0126\n",
      "   encoder.backbone.5.0.bn2.weight          | grad norm = 0.0115\n",
      "   encoder.backbone.5.0.bn2.bias            | grad norm = 0.0182\n",
      "   encoder.backbone.5.0.downsample.0.weight | grad norm = 0.0080\n",
      "   encoder.backbone.5.0.downsample.1.weight | grad norm = 0.0099\n",
      "   encoder.backbone.5.0.downsample.1.bias   | grad norm = 0.0182\n",
      "   encoder.backbone.5.1.conv1.weight        | grad norm = 0.0097\n",
      "   encoder.backbone.5.1.bn1.weight          | grad norm = 0.0023\n",
      "   encoder.backbone.5.1.bn1.bias            | grad norm = 0.0020\n",
      "   encoder.backbone.5.1.conv2.weight        | grad norm = 0.0112\n",
      "   encoder.backbone.5.1.bn2.weight          | grad norm = 0.0118\n",
      "   encoder.backbone.5.1.bn2.bias            | grad norm = 0.0231\n",
      "   encoder.project.weight                   | grad norm = 0.1471\n",
      "   encoder.project.bias                     | grad norm = 0.0695\n",
      "   encoder.row_encoder.weight_ih_l0         | grad norm = 0.6026\n",
      "   encoder.row_encoder.weight_hh_l0         | grad norm = 0.1409\n",
      "   encoder.row_encoder.bias_ih_l0           | grad norm = 0.0615\n",
      "   encoder.row_encoder.bias_hh_l0           | grad norm = 0.0615\n",
      "   encoder.row_encoder.weight_ih_l0_reverse | grad norm = 0.5960\n",
      "   encoder.row_encoder.weight_hh_l0_reverse | grad norm = 0.1206\n",
      "   encoder.row_encoder.bias_ih_l0_reverse   | grad norm = 0.0609\n",
      "   encoder.row_encoder.bias_hh_l0_reverse   | grad norm = 0.0609\n",
      "   decoder.pos_embedding                    | grad norm = 0.0539\n",
      "   decoder.token_embedding.weight           | grad norm = 0.0644\n",
      "   decoder.transformer_decoder.layers.0.self_attn.in_proj_weight | grad norm = 0.4533\n",
      "   decoder.transformer_decoder.layers.0.self_attn.in_proj_bias | grad norm = 0.0861\n",
      "   decoder.transformer_decoder.layers.0.self_attn.out_proj.weight | grad norm = 0.5324\n",
      "   decoder.transformer_decoder.layers.0.self_attn.out_proj.bias | grad norm = 0.1448\n",
      "   decoder.transformer_decoder.layers.0.multihead_attn.in_proj_weight | grad norm = 0.2803\n",
      "   decoder.transformer_decoder.layers.0.multihead_attn.in_proj_bias | grad norm = 0.0910\n",
      "   decoder.transformer_decoder.layers.0.multihead_attn.out_proj.weight | grad norm = 0.3153\n",
      "   decoder.transformer_decoder.layers.0.multihead_attn.out_proj.bias | grad norm = 0.1468\n",
      "   decoder.transformer_decoder.layers.0.linear1.weight | grad norm = 0.3274\n",
      "   decoder.transformer_decoder.layers.0.linear1.bias | grad norm = 0.0427\n",
      "   decoder.transformer_decoder.layers.0.linear2.weight | grad norm = 1.1916\n",
      "   decoder.transformer_decoder.layers.0.linear2.bias | grad norm = 0.1383\n",
      "   decoder.transformer_decoder.layers.0.norm1.weight | grad norm = 0.0595\n",
      "   decoder.transformer_decoder.layers.0.norm1.bias | grad norm = 0.1474\n",
      "   decoder.transformer_decoder.layers.0.norm2.weight | grad norm = 0.0618\n",
      "   decoder.transformer_decoder.layers.0.norm2.bias | grad norm = 0.1482\n",
      "   decoder.transformer_decoder.layers.0.norm3.weight | grad norm = 0.0596\n",
      "   decoder.transformer_decoder.layers.0.norm3.bias | grad norm = 0.1437\n",
      "   decoder.transformer_decoder.layers.1.self_attn.in_proj_weight | grad norm = 0.4004\n",
      "   decoder.transformer_decoder.layers.1.self_attn.in_proj_bias | grad norm = 0.0677\n",
      "   decoder.transformer_decoder.layers.1.self_attn.out_proj.weight | grad norm = 0.4833\n",
      "   decoder.transformer_decoder.layers.1.self_attn.out_proj.bias | grad norm = 0.1130\n",
      "   decoder.transformer_decoder.layers.1.multihead_attn.in_proj_weight | grad norm = 0.2288\n",
      "   decoder.transformer_decoder.layers.1.multihead_attn.in_proj_bias | grad norm = 0.0742\n",
      "   decoder.transformer_decoder.layers.1.multihead_attn.out_proj.weight | grad norm = 0.2546\n",
      "   decoder.transformer_decoder.layers.1.multihead_attn.out_proj.bias | grad norm = 0.1186\n",
      "   decoder.transformer_decoder.layers.1.linear1.weight | grad norm = 0.3042\n",
      "   decoder.transformer_decoder.layers.1.linear1.bias | grad norm = 0.0349\n",
      "   decoder.transformer_decoder.layers.1.linear2.weight | grad norm = 1.0176\n",
      "   decoder.transformer_decoder.layers.1.linear2.bias | grad norm = 0.1125\n",
      "   decoder.transformer_decoder.layers.1.norm1.weight | grad norm = 0.0544\n",
      "   decoder.transformer_decoder.layers.1.norm1.bias | grad norm = 0.1185\n",
      "   decoder.transformer_decoder.layers.1.norm2.weight | grad norm = 0.0579\n",
      "   decoder.transformer_decoder.layers.1.norm2.bias | grad norm = 0.1200\n",
      "   decoder.transformer_decoder.layers.1.norm3.weight | grad norm = 0.0607\n",
      "   decoder.transformer_decoder.layers.1.norm3.bias | grad norm = 0.1224\n",
      "   decoder.transformer_decoder.layers.2.self_attn.in_proj_weight | grad norm = 0.4455\n",
      "   decoder.transformer_decoder.layers.2.self_attn.in_proj_bias | grad norm = 0.0601\n",
      "   decoder.transformer_decoder.layers.2.self_attn.out_proj.weight | grad norm = 0.5417\n",
      "   decoder.transformer_decoder.layers.2.self_attn.out_proj.bias | grad norm = 0.0988\n",
      "   decoder.transformer_decoder.layers.2.multihead_attn.in_proj_weight | grad norm = 0.2057\n",
      "   decoder.transformer_decoder.layers.2.multihead_attn.in_proj_bias | grad norm = 0.0668\n",
      "   decoder.transformer_decoder.layers.2.multihead_attn.out_proj.weight | grad norm = 0.2315\n",
      "   decoder.transformer_decoder.layers.2.multihead_attn.out_proj.bias | grad norm = 0.1078\n",
      "   decoder.transformer_decoder.layers.2.linear1.weight | grad norm = 0.3395\n",
      "   decoder.transformer_decoder.layers.2.linear1.bias | grad norm = 0.0339\n",
      "   decoder.transformer_decoder.layers.2.linear2.weight | grad norm = 1.0015\n",
      "   decoder.transformer_decoder.layers.2.linear2.bias | grad norm = 0.1041\n",
      "   decoder.transformer_decoder.layers.2.norm1.weight | grad norm = 0.0571\n",
      "   decoder.transformer_decoder.layers.2.norm1.bias | grad norm = 0.1078\n",
      "   decoder.transformer_decoder.layers.2.norm2.weight | grad norm = 0.0605\n",
      "   decoder.transformer_decoder.layers.2.norm2.bias | grad norm = 0.1097\n",
      "   decoder.transformer_decoder.layers.2.norm3.weight | grad norm = 0.0666\n",
      "   decoder.transformer_decoder.layers.2.norm3.bias | grad norm = 0.1167\n",
      "   decoder.transformer_decoder.layers.3.self_attn.in_proj_weight | grad norm = 0.5806\n",
      "   decoder.transformer_decoder.layers.3.self_attn.in_proj_bias | grad norm = 0.0643\n",
      "   decoder.transformer_decoder.layers.3.self_attn.out_proj.weight | grad norm = 0.7032\n",
      "   decoder.transformer_decoder.layers.3.self_attn.out_proj.bias | grad norm = 0.1052\n",
      "   decoder.transformer_decoder.layers.3.multihead_attn.in_proj_weight | grad norm = 0.2149\n",
      "   decoder.transformer_decoder.layers.3.multihead_attn.in_proj_bias | grad norm = 0.0697\n",
      "   decoder.transformer_decoder.layers.3.multihead_attn.out_proj.weight | grad norm = 0.2516\n",
      "   decoder.transformer_decoder.layers.3.multihead_attn.out_proj.bias | grad norm = 0.1172\n",
      "   decoder.transformer_decoder.layers.3.linear1.weight | grad norm = 0.4463\n",
      "   decoder.transformer_decoder.layers.3.linear1.bias | grad norm = 0.0398\n",
      "   decoder.transformer_decoder.layers.3.linear2.weight | grad norm = 1.1903\n",
      "   decoder.transformer_decoder.layers.3.linear2.bias | grad norm = 0.1176\n",
      "   decoder.transformer_decoder.layers.3.norm1.weight | grad norm = 0.0700\n",
      "   decoder.transformer_decoder.layers.3.norm1.bias | grad norm = 0.1171\n",
      "   decoder.transformer_decoder.layers.3.norm2.weight | grad norm = 0.0731\n",
      "   decoder.transformer_decoder.layers.3.norm2.bias | grad norm = 0.1195\n",
      "   decoder.transformer_decoder.layers.3.norm3.weight | grad norm = 0.0908\n",
      "   decoder.transformer_decoder.layers.3.norm3.bias | grad norm = 0.1346\n",
      "   decoder.output_layer.weight              | grad norm = 2.5066\n",
      "   decoder.output_layer.bias                | grad norm = 0.2225\n",
      "\n",
      "Decoder passed all integrity checks (forward & backward).\n",
      "\n"
     ]
    }
   ],
   "source": [
    "images, labels, _ = next(iter(train_loader))\n",
    "test_decoder_integrity(model, images, labels, token2idx, idx2token)"
   ]
  },
  {
   "cell_type": "code",
   "execution_count": 24,
   "id": "e8930824",
   "metadata": {},
   "outputs": [],
   "source": [
    "def create_loss_function(token2idx):\n",
    "    ignore_index = token2idx['<pad>']\n",
    "    return nn.CrossEntropyLoss(ignore_index=ignore_index)"
   ]
  },
  {
   "cell_type": "code",
   "execution_count": 25,
   "id": "6bfdb2f6",
   "metadata": {},
   "outputs": [],
   "source": [
    "def train_one_epoch(model, dataloader, optimizer, loss_fn, device):\n",
    "    model.train()\n",
    "    total_loss = 0\n",
    "\n",
    "    for images, labels, _ in tqdm(dataloader, desc=\"Training\"):\n",
    "        images = images.to(device)\n",
    "        labels = labels.to(device)\n",
    "\n",
    "        tgt_input = labels[:, :-1]\n",
    "        tgt_output = labels[:, 1:]\n",
    "\n",
    "        tgt_mask = generate_square_subsequent_mask(tgt_input.size(1)).to(device)\n",
    "\n",
    "        optimizer.zero_grad()\n",
    "        logits = model(images, tgt_input, tgt_mask)\n",
    "\n",
    "        logits = logits.view(-1, logits.size(-1))\n",
    "        tgt_output = tgt_output.contiguous().view(-1)\n",
    "\n",
    "        loss = loss_fn(logits, tgt_output)\n",
    "        loss.backward()\n",
    "        optimizer.step()\n",
    "\n",
    "        total_loss += loss.item()\n",
    "\n",
    "    return total_loss / len(dataloader)"
   ]
  },
  {
   "cell_type": "code",
   "execution_count": 26,
   "id": "83d548e8",
   "metadata": {},
   "outputs": [],
   "source": [
    "@torch.no_grad()\n",
    "def evaluate(model, dataloader, loss_fn, device):\n",
    "    model.eval()\n",
    "    total_loss = 0\n",
    "\n",
    "    for images, labels, _ in tqdm(dataloader, desc=\"Evaluating\"):\n",
    "        images = images.to(device)\n",
    "        labels = labels.to(device)\n",
    "\n",
    "        tgt_input = labels[:, :-1]\n",
    "        tgt_output = labels[:, 1:]\n",
    "\n",
    "        tgt_mask = generate_square_subsequent_mask(tgt_input.size(1)).to(device)\n",
    "\n",
    "        logits = model(images, tgt_input, tgt_mask)\n",
    "        logits = logits.view(-1, logits.size(-1))\n",
    "        tgt_output = tgt_output.contiguous().view(-1)\n",
    "\n",
    "        loss = loss_fn(logits, tgt_output)\n",
    "        total_loss += loss.item()\n",
    "\n",
    "    return total_loss / len(dataloader)"
   ]
  },
  {
   "cell_type": "code",
   "execution_count": 27,
   "id": "cfe5b008",
   "metadata": {},
   "outputs": [],
   "source": [
    "def fit(model, train_loader, val_loader, token2idx, epochs=10, lr=1e-4, device=\"cuda\"):\n",
    "    optimizer = torch.optim.Adam(model.parameters(), lr=lr)\n",
    "    loss_fn = create_loss_function(token2idx)\n",
    "    best_val_loss = float('inf')\n",
    "    save_path = \"best_model.pt\"\n",
    "\n",
    "    writer = SummaryWriter(log_dir=\"runs/im2latex\")\n",
    "\n",
    "    train_losses = []\n",
    "    val_losses = []\n",
    "\n",
    "    print(\"\\nMeasuring Initial Loss...\")\n",
    "    model.eval()\n",
    "    with torch.no_grad():\n",
    "        batch = next(iter(val_loader))\n",
    "        images, labels, _ = batch\n",
    "        images, labels = images.to(device), labels.to(device)\n",
    "\n",
    "        tgt_input = labels[:, :-1]\n",
    "        tgt_output = labels[:, 1:]\n",
    "        tgt_mask = generate_square_subsequent_mask(tgt_input.size(1)).to(device)\n",
    "\n",
    "        logits = model(images, tgt_input, tgt_mask)\n",
    "        loss = loss_fn(logits.reshape(-1, logits.size(-1)), tgt_output.reshape(-1))\n",
    "        print(f\"Initial Loss (on val batch): {loss.item():.4f}\")\n",
    "\n",
    "    for epoch in range(1, epochs + 1):\n",
    "        print(f\"\\nEpoch {epoch}/{epochs}\")\n",
    "\n",
    "        train_loss = train_one_epoch(model, train_loader, optimizer, loss_fn, device)\n",
    "        val_loss = evaluate(model, val_loader, loss_fn, device)\n",
    "\n",
    "        train_losses.append(train_loss)\n",
    "        val_losses.append(val_loss)\n",
    "\n",
    "        writer.add_scalar(\"Loss/train\", train_loss, epoch)\n",
    "        writer.add_scalar(\"Loss/val\", val_loss, epoch)\n",
    "\n",
    "        print(f\"Train Loss: {train_loss:.4f} | Val Loss: {val_loss:.4f}\")\n",
    "\n",
    "        if val_loss < best_val_loss:\n",
    "            best_val_loss = val_loss\n",
    "            torch.save(model.state_dict(), save_path)\n",
    "            print(f\"Saved best model to {save_path}\")\n",
    "\n",
    "    writer.close()\n",
    "\n",
    "    # Plot loss curve\n",
    "    plt.figure(figsize=(8, 4))\n",
    "    plt.plot(train_losses, label='Train Loss')\n",
    "    plt.plot(val_losses, label='Val Loss')\n",
    "    plt.xlabel(\"Epoch\")\n",
    "    plt.ylabel(\"Loss\")\n",
    "    plt.title(\"Training Curve\")\n",
    "    plt.legend()\n",
    "    plt.grid(True)\n",
    "    plt.tight_layout()\n",
    "    plt.savefig(\"loss_curve.png\")\n",
    "    plt.show()\n",
    "    print(\"Saved loss curve to loss_curve.png\")"
   ]
  },
  {
   "cell_type": "code",
   "execution_count": 28,
   "id": "760b3473",
   "metadata": {},
   "outputs": [
    {
     "name": "stdout",
     "output_type": "stream",
     "text": [
      "\n",
      "Measuring Initial Loss...\n",
      "Initial Loss (on val batch): 5.0219\n",
      "\n",
      "Epoch 1/50\n"
     ]
    },
    {
     "data": {
      "application/vnd.jupyter.widget-view+json": {
       "model_id": "362b81d864844771b2dd66a7bb3a3d3a",
       "version_major": 2,
       "version_minor": 0
      },
      "text/plain": [
       "Training:   0%|          | 0/503 [00:00<?, ?it/s]"
      ]
     },
     "metadata": {},
     "output_type": "display_data"
    },
    {
     "data": {
      "application/vnd.jupyter.widget-view+json": {
       "model_id": "3ba4668cfa344acda1fca5312b018222",
       "version_major": 2,
       "version_minor": 0
      },
      "text/plain": [
       "Evaluating:   0%|          | 0/108 [00:00<?, ?it/s]"
      ]
     },
     "metadata": {},
     "output_type": "display_data"
    },
    {
     "name": "stdout",
     "output_type": "stream",
     "text": [
      "Train Loss: 2.2488 | Val Loss: 1.8137\n",
      "Saved best model to best_model.pt\n",
      "\n",
      "Epoch 2/50\n"
     ]
    },
    {
     "data": {
      "application/vnd.jupyter.widget-view+json": {
       "model_id": "81ef0970bf4440beb4b28f766042cddc",
       "version_major": 2,
       "version_minor": 0
      },
      "text/plain": [
       "Training:   0%|          | 0/503 [00:00<?, ?it/s]"
      ]
     },
     "metadata": {},
     "output_type": "display_data"
    },
    {
     "data": {
      "application/vnd.jupyter.widget-view+json": {
       "model_id": "cc4ee4694a3f402b84d77fcb5402d834",
       "version_major": 2,
       "version_minor": 0
      },
      "text/plain": [
       "Evaluating:   0%|          | 0/108 [00:00<?, ?it/s]"
      ]
     },
     "metadata": {},
     "output_type": "display_data"
    },
    {
     "name": "stdout",
     "output_type": "stream",
     "text": [
      "Train Loss: 1.6725 | Val Loss: 1.4750\n",
      "Saved best model to best_model.pt\n",
      "\n",
      "Epoch 3/50\n"
     ]
    },
    {
     "data": {
      "application/vnd.jupyter.widget-view+json": {
       "model_id": "70257d02c1bf4ce69272516abfb4ee12",
       "version_major": 2,
       "version_minor": 0
      },
      "text/plain": [
       "Training:   0%|          | 0/503 [00:00<?, ?it/s]"
      ]
     },
     "metadata": {},
     "output_type": "display_data"
    },
    {
     "data": {
      "application/vnd.jupyter.widget-view+json": {
       "model_id": "1b06f77764a848dcb96afdea0216b6c4",
       "version_major": 2,
       "version_minor": 0
      },
      "text/plain": [
       "Evaluating:   0%|          | 0/108 [00:00<?, ?it/s]"
      ]
     },
     "metadata": {},
     "output_type": "display_data"
    },
    {
     "name": "stdout",
     "output_type": "stream",
     "text": [
      "Train Loss: 1.3798 | Val Loss: 1.2001\n",
      "Saved best model to best_model.pt\n",
      "\n",
      "Epoch 4/50\n"
     ]
    },
    {
     "data": {
      "application/vnd.jupyter.widget-view+json": {
       "model_id": "720f4d6dec30473fbab86c87822ee5d7",
       "version_major": 2,
       "version_minor": 0
      },
      "text/plain": [
       "Training:   0%|          | 0/503 [00:00<?, ?it/s]"
      ]
     },
     "metadata": {},
     "output_type": "display_data"
    },
    {
     "data": {
      "application/vnd.jupyter.widget-view+json": {
       "model_id": "ee8f19e7b5fa4b93afd32d4206c75f57",
       "version_major": 2,
       "version_minor": 0
      },
      "text/plain": [
       "Evaluating:   0%|          | 0/108 [00:00<?, ?it/s]"
      ]
     },
     "metadata": {},
     "output_type": "display_data"
    },
    {
     "name": "stdout",
     "output_type": "stream",
     "text": [
      "Train Loss: 1.1158 | Val Loss: 0.9818\n",
      "Saved best model to best_model.pt\n",
      "\n",
      "Epoch 5/50\n"
     ]
    },
    {
     "data": {
      "application/vnd.jupyter.widget-view+json": {
       "model_id": "ba5eadd1fa5f4455bae2d28bba50758e",
       "version_major": 2,
       "version_minor": 0
      },
      "text/plain": [
       "Training:   0%|          | 0/503 [00:00<?, ?it/s]"
      ]
     },
     "metadata": {},
     "output_type": "display_data"
    },
    {
     "data": {
      "application/vnd.jupyter.widget-view+json": {
       "model_id": "1a5f5ebb4d054fc4a360e46bcd482845",
       "version_major": 2,
       "version_minor": 0
      },
      "text/plain": [
       "Evaluating:   0%|          | 0/108 [00:00<?, ?it/s]"
      ]
     },
     "metadata": {},
     "output_type": "display_data"
    },
    {
     "name": "stdout",
     "output_type": "stream",
     "text": [
      "Train Loss: 0.8852 | Val Loss: 0.7546\n",
      "Saved best model to best_model.pt\n",
      "\n",
      "Epoch 6/50\n"
     ]
    },
    {
     "data": {
      "application/vnd.jupyter.widget-view+json": {
       "model_id": "fcb561e187a7448e856c7f2e2ac8d64e",
       "version_major": 2,
       "version_minor": 0
      },
      "text/plain": [
       "Training:   0%|          | 0/503 [00:00<?, ?it/s]"
      ]
     },
     "metadata": {},
     "output_type": "display_data"
    },
    {
     "data": {
      "application/vnd.jupyter.widget-view+json": {
       "model_id": "21d24284defb493bb4077a6d973a2121",
       "version_major": 2,
       "version_minor": 0
      },
      "text/plain": [
       "Evaluating:   0%|          | 0/108 [00:00<?, ?it/s]"
      ]
     },
     "metadata": {},
     "output_type": "display_data"
    },
    {
     "name": "stdout",
     "output_type": "stream",
     "text": [
      "Train Loss: 0.7123 | Val Loss: 0.6419\n",
      "Saved best model to best_model.pt\n",
      "\n",
      "Epoch 7/50\n"
     ]
    },
    {
     "data": {
      "application/vnd.jupyter.widget-view+json": {
       "model_id": "80ede64e5c894d16abdb92bee478a8e4",
       "version_major": 2,
       "version_minor": 0
      },
      "text/plain": [
       "Training:   0%|          | 0/503 [00:00<?, ?it/s]"
      ]
     },
     "metadata": {},
     "output_type": "display_data"
    },
    {
     "data": {
      "application/vnd.jupyter.widget-view+json": {
       "model_id": "ac834f0ba7304f9c82a6db03d12464d5",
       "version_major": 2,
       "version_minor": 0
      },
      "text/plain": [
       "Evaluating:   0%|          | 0/108 [00:00<?, ?it/s]"
      ]
     },
     "metadata": {},
     "output_type": "display_data"
    },
    {
     "name": "stdout",
     "output_type": "stream",
     "text": [
      "Train Loss: 0.5878 | Val Loss: 0.5391\n",
      "Saved best model to best_model.pt\n",
      "\n",
      "Epoch 8/50\n"
     ]
    },
    {
     "data": {
      "application/vnd.jupyter.widget-view+json": {
       "model_id": "00ab9384eac0400c9a276aeedc671d4a",
       "version_major": 2,
       "version_minor": 0
      },
      "text/plain": [
       "Training:   0%|          | 0/503 [00:00<?, ?it/s]"
      ]
     },
     "metadata": {},
     "output_type": "display_data"
    },
    {
     "data": {
      "application/vnd.jupyter.widget-view+json": {
       "model_id": "5c218d61fb084d20870c0b930437eaeb",
       "version_major": 2,
       "version_minor": 0
      },
      "text/plain": [
       "Evaluating:   0%|          | 0/108 [00:00<?, ?it/s]"
      ]
     },
     "metadata": {},
     "output_type": "display_data"
    },
    {
     "name": "stdout",
     "output_type": "stream",
     "text": [
      "Train Loss: 0.5013 | Val Loss: 0.4607\n",
      "Saved best model to best_model.pt\n",
      "\n",
      "Epoch 9/50\n"
     ]
    },
    {
     "data": {
      "application/vnd.jupyter.widget-view+json": {
       "model_id": "0ed682c9748e4683b7bf8adbb9410855",
       "version_major": 2,
       "version_minor": 0
      },
      "text/plain": [
       "Training:   0%|          | 0/503 [00:00<?, ?it/s]"
      ]
     },
     "metadata": {},
     "output_type": "display_data"
    },
    {
     "data": {
      "application/vnd.jupyter.widget-view+json": {
       "model_id": "dfc7761f31de417bbe418ba40c3fcd24",
       "version_major": 2,
       "version_minor": 0
      },
      "text/plain": [
       "Evaluating:   0%|          | 0/108 [00:00<?, ?it/s]"
      ]
     },
     "metadata": {},
     "output_type": "display_data"
    },
    {
     "name": "stdout",
     "output_type": "stream",
     "text": [
      "Train Loss: 0.4338 | Val Loss: 0.4154\n",
      "Saved best model to best_model.pt\n",
      "\n",
      "Epoch 10/50\n"
     ]
    },
    {
     "data": {
      "application/vnd.jupyter.widget-view+json": {
       "model_id": "6834b6af250a413fb1e622840fd7e1e3",
       "version_major": 2,
       "version_minor": 0
      },
      "text/plain": [
       "Training:   0%|          | 0/503 [00:00<?, ?it/s]"
      ]
     },
     "metadata": {},
     "output_type": "display_data"
    },
    {
     "data": {
      "application/vnd.jupyter.widget-view+json": {
       "model_id": "e07747b077a04238b65c285f66511096",
       "version_major": 2,
       "version_minor": 0
      },
      "text/plain": [
       "Evaluating:   0%|          | 0/108 [00:00<?, ?it/s]"
      ]
     },
     "metadata": {},
     "output_type": "display_data"
    },
    {
     "name": "stdout",
     "output_type": "stream",
     "text": [
      "Train Loss: 0.3738 | Val Loss: 0.3832\n",
      "Saved best model to best_model.pt\n",
      "\n",
      "Epoch 11/50\n"
     ]
    },
    {
     "data": {
      "application/vnd.jupyter.widget-view+json": {
       "model_id": "2d0b3ea339a843618e6d28a78946ca66",
       "version_major": 2,
       "version_minor": 0
      },
      "text/plain": [
       "Training:   0%|          | 0/503 [00:00<?, ?it/s]"
      ]
     },
     "metadata": {},
     "output_type": "display_data"
    },
    {
     "data": {
      "application/vnd.jupyter.widget-view+json": {
       "model_id": "6bc63289e5e3461192227f55c7aa8abe",
       "version_major": 2,
       "version_minor": 0
      },
      "text/plain": [
       "Evaluating:   0%|          | 0/108 [00:00<?, ?it/s]"
      ]
     },
     "metadata": {},
     "output_type": "display_data"
    },
    {
     "name": "stdout",
     "output_type": "stream",
     "text": [
      "Train Loss: 0.3341 | Val Loss: 0.3582\n",
      "Saved best model to best_model.pt\n",
      "\n",
      "Epoch 12/50\n"
     ]
    },
    {
     "data": {
      "application/vnd.jupyter.widget-view+json": {
       "model_id": "a8a9a57a1e2c43bfbf4b60ff288ac80c",
       "version_major": 2,
       "version_minor": 0
      },
      "text/plain": [
       "Training:   0%|          | 0/503 [00:00<?, ?it/s]"
      ]
     },
     "metadata": {},
     "output_type": "display_data"
    },
    {
     "data": {
      "application/vnd.jupyter.widget-view+json": {
       "model_id": "8c5629786da145bc83d656f158dd207a",
       "version_major": 2,
       "version_minor": 0
      },
      "text/plain": [
       "Evaluating:   0%|          | 0/108 [00:00<?, ?it/s]"
      ]
     },
     "metadata": {},
     "output_type": "display_data"
    },
    {
     "name": "stdout",
     "output_type": "stream",
     "text": [
      "Train Loss: 0.2946 | Val Loss: 0.3215\n",
      "Saved best model to best_model.pt\n",
      "\n",
      "Epoch 13/50\n"
     ]
    },
    {
     "data": {
      "application/vnd.jupyter.widget-view+json": {
       "model_id": "1858c833a85f47188fda496bc44cd5c5",
       "version_major": 2,
       "version_minor": 0
      },
      "text/plain": [
       "Training:   0%|          | 0/503 [00:00<?, ?it/s]"
      ]
     },
     "metadata": {},
     "output_type": "display_data"
    },
    {
     "data": {
      "application/vnd.jupyter.widget-view+json": {
       "model_id": "de8532f63d354591bc865512b1400bd1",
       "version_major": 2,
       "version_minor": 0
      },
      "text/plain": [
       "Evaluating:   0%|          | 0/108 [00:00<?, ?it/s]"
      ]
     },
     "metadata": {},
     "output_type": "display_data"
    },
    {
     "name": "stdout",
     "output_type": "stream",
     "text": [
      "Train Loss: 0.2696 | Val Loss: 0.3036\n",
      "Saved best model to best_model.pt\n",
      "\n",
      "Epoch 14/50\n"
     ]
    },
    {
     "data": {
      "application/vnd.jupyter.widget-view+json": {
       "model_id": "585c9cbc8da549dcbfa74a02b06db7f8",
       "version_major": 2,
       "version_minor": 0
      },
      "text/plain": [
       "Training:   0%|          | 0/503 [00:00<?, ?it/s]"
      ]
     },
     "metadata": {},
     "output_type": "display_data"
    },
    {
     "data": {
      "application/vnd.jupyter.widget-view+json": {
       "model_id": "74bc50785a3746d889e535ab8a3f398e",
       "version_major": 2,
       "version_minor": 0
      },
      "text/plain": [
       "Evaluating:   0%|          | 0/108 [00:00<?, ?it/s]"
      ]
     },
     "metadata": {},
     "output_type": "display_data"
    },
    {
     "name": "stdout",
     "output_type": "stream",
     "text": [
      "Train Loss: 0.2442 | Val Loss: 0.2953\n",
      "Saved best model to best_model.pt\n",
      "\n",
      "Epoch 15/50\n"
     ]
    },
    {
     "data": {
      "application/vnd.jupyter.widget-view+json": {
       "model_id": "1c504f2367f24cd7805145dcb33f295e",
       "version_major": 2,
       "version_minor": 0
      },
      "text/plain": [
       "Training:   0%|          | 0/503 [00:00<?, ?it/s]"
      ]
     },
     "metadata": {},
     "output_type": "display_data"
    },
    {
     "data": {
      "application/vnd.jupyter.widget-view+json": {
       "model_id": "39e5c3e162bb48d1ac8e9f0deef25436",
       "version_major": 2,
       "version_minor": 0
      },
      "text/plain": [
       "Evaluating:   0%|          | 0/108 [00:00<?, ?it/s]"
      ]
     },
     "metadata": {},
     "output_type": "display_data"
    },
    {
     "name": "stdout",
     "output_type": "stream",
     "text": [
      "Train Loss: 0.2194 | Val Loss: 0.2860\n",
      "Saved best model to best_model.pt\n",
      "\n",
      "Epoch 16/50\n"
     ]
    },
    {
     "data": {
      "application/vnd.jupyter.widget-view+json": {
       "model_id": "5de93eb511b048158ceefebcfd5ce74f",
       "version_major": 2,
       "version_minor": 0
      },
      "text/plain": [
       "Training:   0%|          | 0/503 [00:00<?, ?it/s]"
      ]
     },
     "metadata": {},
     "output_type": "display_data"
    },
    {
     "data": {
      "application/vnd.jupyter.widget-view+json": {
       "model_id": "f974f5126b56427c84fd73e61443bdc7",
       "version_major": 2,
       "version_minor": 0
      },
      "text/plain": [
       "Evaluating:   0%|          | 0/108 [00:00<?, ?it/s]"
      ]
     },
     "metadata": {},
     "output_type": "display_data"
    },
    {
     "name": "stdout",
     "output_type": "stream",
     "text": [
      "Train Loss: 0.2017 | Val Loss: 0.2758\n",
      "Saved best model to best_model.pt\n",
      "\n",
      "Epoch 17/50\n"
     ]
    },
    {
     "data": {
      "application/vnd.jupyter.widget-view+json": {
       "model_id": "37517ba1ffdc4e4d96b43a35e9c64f19",
       "version_major": 2,
       "version_minor": 0
      },
      "text/plain": [
       "Training:   0%|          | 0/503 [00:00<?, ?it/s]"
      ]
     },
     "metadata": {},
     "output_type": "display_data"
    },
    {
     "data": {
      "application/vnd.jupyter.widget-view+json": {
       "model_id": "ec072d8f04c84f709186eceb46062460",
       "version_major": 2,
       "version_minor": 0
      },
      "text/plain": [
       "Evaluating:   0%|          | 0/108 [00:00<?, ?it/s]"
      ]
     },
     "metadata": {},
     "output_type": "display_data"
    },
    {
     "name": "stdout",
     "output_type": "stream",
     "text": [
      "Train Loss: 0.1824 | Val Loss: 0.2671\n",
      "Saved best model to best_model.pt\n",
      "\n",
      "Epoch 18/50\n"
     ]
    },
    {
     "data": {
      "application/vnd.jupyter.widget-view+json": {
       "model_id": "b1d734979f8a4239874b237630a0eb30",
       "version_major": 2,
       "version_minor": 0
      },
      "text/plain": [
       "Training:   0%|          | 0/503 [00:00<?, ?it/s]"
      ]
     },
     "metadata": {},
     "output_type": "display_data"
    },
    {
     "data": {
      "application/vnd.jupyter.widget-view+json": {
       "model_id": "8a0f1e50051d4de5a5e8d80be3a5d4eb",
       "version_major": 2,
       "version_minor": 0
      },
      "text/plain": [
       "Evaluating:   0%|          | 0/108 [00:00<?, ?it/s]"
      ]
     },
     "metadata": {},
     "output_type": "display_data"
    },
    {
     "name": "stdout",
     "output_type": "stream",
     "text": [
      "Train Loss: 0.1685 | Val Loss: 0.2668\n",
      "Saved best model to best_model.pt\n",
      "\n",
      "Epoch 19/50\n"
     ]
    },
    {
     "data": {
      "application/vnd.jupyter.widget-view+json": {
       "model_id": "e8d93077df314c239edf759c1a6a97b2",
       "version_major": 2,
       "version_minor": 0
      },
      "text/plain": [
       "Training:   0%|          | 0/503 [00:00<?, ?it/s]"
      ]
     },
     "metadata": {},
     "output_type": "display_data"
    },
    {
     "data": {
      "application/vnd.jupyter.widget-view+json": {
       "model_id": "329e0a382e5d4e94a18e138b69d02bf9",
       "version_major": 2,
       "version_minor": 0
      },
      "text/plain": [
       "Evaluating:   0%|          | 0/108 [00:00<?, ?it/s]"
      ]
     },
     "metadata": {},
     "output_type": "display_data"
    },
    {
     "name": "stdout",
     "output_type": "stream",
     "text": [
      "Train Loss: 0.1557 | Val Loss: 0.2562\n",
      "Saved best model to best_model.pt\n",
      "\n",
      "Epoch 20/50\n"
     ]
    },
    {
     "data": {
      "application/vnd.jupyter.widget-view+json": {
       "model_id": "20cbf32dd30346abb01c19965a9dad47",
       "version_major": 2,
       "version_minor": 0
      },
      "text/plain": [
       "Training:   0%|          | 0/503 [00:00<?, ?it/s]"
      ]
     },
     "metadata": {},
     "output_type": "display_data"
    },
    {
     "data": {
      "application/vnd.jupyter.widget-view+json": {
       "model_id": "e67841b1371a45c1809bf334ef9fe288",
       "version_major": 2,
       "version_minor": 0
      },
      "text/plain": [
       "Evaluating:   0%|          | 0/108 [00:00<?, ?it/s]"
      ]
     },
     "metadata": {},
     "output_type": "display_data"
    },
    {
     "name": "stdout",
     "output_type": "stream",
     "text": [
      "Train Loss: 0.1462 | Val Loss: 0.2514\n",
      "Saved best model to best_model.pt\n",
      "\n",
      "Epoch 21/50\n"
     ]
    },
    {
     "data": {
      "application/vnd.jupyter.widget-view+json": {
       "model_id": "0b6bbd612c7b44de9de957bb3aed99d1",
       "version_major": 2,
       "version_minor": 0
      },
      "text/plain": [
       "Training:   0%|          | 0/503 [00:00<?, ?it/s]"
      ]
     },
     "metadata": {},
     "output_type": "display_data"
    },
    {
     "data": {
      "application/vnd.jupyter.widget-view+json": {
       "model_id": "f99082f43b5c4816a129e3c9094f2b1d",
       "version_major": 2,
       "version_minor": 0
      },
      "text/plain": [
       "Evaluating:   0%|          | 0/108 [00:00<?, ?it/s]"
      ]
     },
     "metadata": {},
     "output_type": "display_data"
    },
    {
     "name": "stdout",
     "output_type": "stream",
     "text": [
      "Train Loss: 0.1381 | Val Loss: 0.2533\n",
      "\n",
      "Epoch 22/50\n"
     ]
    },
    {
     "data": {
      "application/vnd.jupyter.widget-view+json": {
       "model_id": "3d1f7d330bfd46b78e3a2dc526fc0e41",
       "version_major": 2,
       "version_minor": 0
      },
      "text/plain": [
       "Training:   0%|          | 0/503 [00:00<?, ?it/s]"
      ]
     },
     "metadata": {},
     "output_type": "display_data"
    },
    {
     "data": {
      "application/vnd.jupyter.widget-view+json": {
       "model_id": "e678749f4ddd4226bcf7cf6ff919c862",
       "version_major": 2,
       "version_minor": 0
      },
      "text/plain": [
       "Evaluating:   0%|          | 0/108 [00:00<?, ?it/s]"
      ]
     },
     "metadata": {},
     "output_type": "display_data"
    },
    {
     "name": "stdout",
     "output_type": "stream",
     "text": [
      "Train Loss: 0.1228 | Val Loss: 0.2471\n",
      "Saved best model to best_model.pt\n",
      "\n",
      "Epoch 23/50\n"
     ]
    },
    {
     "data": {
      "application/vnd.jupyter.widget-view+json": {
       "model_id": "fac0795f88d94ff69b423b9958f551a8",
       "version_major": 2,
       "version_minor": 0
      },
      "text/plain": [
       "Training:   0%|          | 0/503 [00:00<?, ?it/s]"
      ]
     },
     "metadata": {},
     "output_type": "display_data"
    },
    {
     "data": {
      "application/vnd.jupyter.widget-view+json": {
       "model_id": "8bb958fbb38a4afca90455fe15c23df0",
       "version_major": 2,
       "version_minor": 0
      },
      "text/plain": [
       "Evaluating:   0%|          | 0/108 [00:00<?, ?it/s]"
      ]
     },
     "metadata": {},
     "output_type": "display_data"
    },
    {
     "name": "stdout",
     "output_type": "stream",
     "text": [
      "Train Loss: 0.1176 | Val Loss: 0.2420\n",
      "Saved best model to best_model.pt\n",
      "\n",
      "Epoch 24/50\n"
     ]
    },
    {
     "data": {
      "application/vnd.jupyter.widget-view+json": {
       "model_id": "f3ea650e05ee4beb8e7a5342825493bf",
       "version_major": 2,
       "version_minor": 0
      },
      "text/plain": [
       "Training:   0%|          | 0/503 [00:00<?, ?it/s]"
      ]
     },
     "metadata": {},
     "output_type": "display_data"
    },
    {
     "data": {
      "application/vnd.jupyter.widget-view+json": {
       "model_id": "b14403bb1ad044a59b137b6c200e0564",
       "version_major": 2,
       "version_minor": 0
      },
      "text/plain": [
       "Evaluating:   0%|          | 0/108 [00:00<?, ?it/s]"
      ]
     },
     "metadata": {},
     "output_type": "display_data"
    },
    {
     "name": "stdout",
     "output_type": "stream",
     "text": [
      "Train Loss: 0.1125 | Val Loss: 0.2521\n",
      "\n",
      "Epoch 25/50\n"
     ]
    },
    {
     "data": {
      "application/vnd.jupyter.widget-view+json": {
       "model_id": "b04fdcc4b66a411baea66a8dccef3248",
       "version_major": 2,
       "version_minor": 0
      },
      "text/plain": [
       "Training:   0%|          | 0/503 [00:00<?, ?it/s]"
      ]
     },
     "metadata": {},
     "output_type": "display_data"
    },
    {
     "data": {
      "application/vnd.jupyter.widget-view+json": {
       "model_id": "24aea014171b46018f25d0f514f955f8",
       "version_major": 2,
       "version_minor": 0
      },
      "text/plain": [
       "Evaluating:   0%|          | 0/108 [00:00<?, ?it/s]"
      ]
     },
     "metadata": {},
     "output_type": "display_data"
    },
    {
     "name": "stdout",
     "output_type": "stream",
     "text": [
      "Train Loss: 0.1016 | Val Loss: 0.2452\n",
      "\n",
      "Epoch 26/50\n"
     ]
    },
    {
     "data": {
      "application/vnd.jupyter.widget-view+json": {
       "model_id": "434ea977748746f0a96f3289d0c8994a",
       "version_major": 2,
       "version_minor": 0
      },
      "text/plain": [
       "Training:   0%|          | 0/503 [00:00<?, ?it/s]"
      ]
     },
     "metadata": {},
     "output_type": "display_data"
    },
    {
     "data": {
      "application/vnd.jupyter.widget-view+json": {
       "model_id": "dfa7f2a083b4484ab5248669e01fe0d7",
       "version_major": 2,
       "version_minor": 0
      },
      "text/plain": [
       "Evaluating:   0%|          | 0/108 [00:00<?, ?it/s]"
      ]
     },
     "metadata": {},
     "output_type": "display_data"
    },
    {
     "name": "stdout",
     "output_type": "stream",
     "text": [
      "Train Loss: 0.0977 | Val Loss: 0.2433\n",
      "\n",
      "Epoch 27/50\n"
     ]
    },
    {
     "data": {
      "application/vnd.jupyter.widget-view+json": {
       "model_id": "b06d56d919da4ef8afede79c72741ada",
       "version_major": 2,
       "version_minor": 0
      },
      "text/plain": [
       "Training:   0%|          | 0/503 [00:00<?, ?it/s]"
      ]
     },
     "metadata": {},
     "output_type": "display_data"
    },
    {
     "data": {
      "application/vnd.jupyter.widget-view+json": {
       "model_id": "aeead60567924bbe9a8a0fee07c4221a",
       "version_major": 2,
       "version_minor": 0
      },
      "text/plain": [
       "Evaluating:   0%|          | 0/108 [00:00<?, ?it/s]"
      ]
     },
     "metadata": {},
     "output_type": "display_data"
    },
    {
     "name": "stdout",
     "output_type": "stream",
     "text": [
      "Train Loss: 0.0902 | Val Loss: 0.2396\n",
      "Saved best model to best_model.pt\n",
      "\n",
      "Epoch 28/50\n"
     ]
    },
    {
     "data": {
      "application/vnd.jupyter.widget-view+json": {
       "model_id": "91f2d6ab98ce426583cf3198c94896ad",
       "version_major": 2,
       "version_minor": 0
      },
      "text/plain": [
       "Training:   0%|          | 0/503 [00:00<?, ?it/s]"
      ]
     },
     "metadata": {},
     "output_type": "display_data"
    },
    {
     "data": {
      "application/vnd.jupyter.widget-view+json": {
       "model_id": "21cc196bce864364a95bbf7087f20caf",
       "version_major": 2,
       "version_minor": 0
      },
      "text/plain": [
       "Evaluating:   0%|          | 0/108 [00:00<?, ?it/s]"
      ]
     },
     "metadata": {},
     "output_type": "display_data"
    },
    {
     "name": "stdout",
     "output_type": "stream",
     "text": [
      "Train Loss: 0.0855 | Val Loss: 0.2368\n",
      "Saved best model to best_model.pt\n",
      "\n",
      "Epoch 29/50\n"
     ]
    },
    {
     "data": {
      "application/vnd.jupyter.widget-view+json": {
       "model_id": "55d6720d64d446cb845b8b758e9d81c7",
       "version_major": 2,
       "version_minor": 0
      },
      "text/plain": [
       "Training:   0%|          | 0/503 [00:00<?, ?it/s]"
      ]
     },
     "metadata": {},
     "output_type": "display_data"
    },
    {
     "data": {
      "application/vnd.jupyter.widget-view+json": {
       "model_id": "8f5ad30db0a9455083ce97bbac3f7724",
       "version_major": 2,
       "version_minor": 0
      },
      "text/plain": [
       "Evaluating:   0%|          | 0/108 [00:00<?, ?it/s]"
      ]
     },
     "metadata": {},
     "output_type": "display_data"
    },
    {
     "name": "stdout",
     "output_type": "stream",
     "text": [
      "Train Loss: 0.0829 | Val Loss: 0.2453\n",
      "\n",
      "Epoch 30/50\n"
     ]
    },
    {
     "data": {
      "application/vnd.jupyter.widget-view+json": {
       "model_id": "07fa8f01e9b74122b5d987d2d84d6df1",
       "version_major": 2,
       "version_minor": 0
      },
      "text/plain": [
       "Training:   0%|          | 0/503 [00:00<?, ?it/s]"
      ]
     },
     "metadata": {},
     "output_type": "display_data"
    },
    {
     "data": {
      "application/vnd.jupyter.widget-view+json": {
       "model_id": "e5ff6c98a5804e5594a2ce8416d19318",
       "version_major": 2,
       "version_minor": 0
      },
      "text/plain": [
       "Evaluating:   0%|          | 0/108 [00:00<?, ?it/s]"
      ]
     },
     "metadata": {},
     "output_type": "display_data"
    },
    {
     "name": "stdout",
     "output_type": "stream",
     "text": [
      "Train Loss: 0.0764 | Val Loss: 0.2481\n",
      "\n",
      "Epoch 31/50\n"
     ]
    },
    {
     "data": {
      "application/vnd.jupyter.widget-view+json": {
       "model_id": "ba0c029b990e468ba8ec4664f80a1ede",
       "version_major": 2,
       "version_minor": 0
      },
      "text/plain": [
       "Training:   0%|          | 0/503 [00:00<?, ?it/s]"
      ]
     },
     "metadata": {},
     "output_type": "display_data"
    },
    {
     "data": {
      "application/vnd.jupyter.widget-view+json": {
       "model_id": "472fc3568fbd4941bae98404ff8db302",
       "version_major": 2,
       "version_minor": 0
      },
      "text/plain": [
       "Evaluating:   0%|          | 0/108 [00:00<?, ?it/s]"
      ]
     },
     "metadata": {},
     "output_type": "display_data"
    },
    {
     "name": "stdout",
     "output_type": "stream",
     "text": [
      "Train Loss: 0.0745 | Val Loss: 0.2314\n",
      "Saved best model to best_model.pt\n",
      "\n",
      "Epoch 32/50\n"
     ]
    },
    {
     "data": {
      "application/vnd.jupyter.widget-view+json": {
       "model_id": "381e1aacbb754bc48902fd9bff38d8c2",
       "version_major": 2,
       "version_minor": 0
      },
      "text/plain": [
       "Training:   0%|          | 0/503 [00:00<?, ?it/s]"
      ]
     },
     "metadata": {},
     "output_type": "display_data"
    },
    {
     "data": {
      "application/vnd.jupyter.widget-view+json": {
       "model_id": "8baf46b0d28c484fb3c559012ccd3e3c",
       "version_major": 2,
       "version_minor": 0
      },
      "text/plain": [
       "Evaluating:   0%|          | 0/108 [00:00<?, ?it/s]"
      ]
     },
     "metadata": {},
     "output_type": "display_data"
    },
    {
     "name": "stdout",
     "output_type": "stream",
     "text": [
      "Train Loss: 0.0707 | Val Loss: 0.2434\n",
      "\n",
      "Epoch 33/50\n"
     ]
    },
    {
     "data": {
      "application/vnd.jupyter.widget-view+json": {
       "model_id": "5ee69c397bf54ca0b1699e883f8c36c9",
       "version_major": 2,
       "version_minor": 0
      },
      "text/plain": [
       "Training:   0%|          | 0/503 [00:00<?, ?it/s]"
      ]
     },
     "metadata": {},
     "output_type": "display_data"
    },
    {
     "data": {
      "application/vnd.jupyter.widget-view+json": {
       "model_id": "264098c9708e4d83b04637123820e27e",
       "version_major": 2,
       "version_minor": 0
      },
      "text/plain": [
       "Evaluating:   0%|          | 0/108 [00:00<?, ?it/s]"
      ]
     },
     "metadata": {},
     "output_type": "display_data"
    },
    {
     "name": "stdout",
     "output_type": "stream",
     "text": [
      "Train Loss: 0.0660 | Val Loss: 0.2423\n",
      "\n",
      "Epoch 34/50\n"
     ]
    },
    {
     "data": {
      "application/vnd.jupyter.widget-view+json": {
       "model_id": "861a6e6e7d81445e9f3cafae51752064",
       "version_major": 2,
       "version_minor": 0
      },
      "text/plain": [
       "Training:   0%|          | 0/503 [00:00<?, ?it/s]"
      ]
     },
     "metadata": {},
     "output_type": "display_data"
    },
    {
     "data": {
      "application/vnd.jupyter.widget-view+json": {
       "model_id": "00b0122bd9ef4a429d6c6672956f2351",
       "version_major": 2,
       "version_minor": 0
      },
      "text/plain": [
       "Evaluating:   0%|          | 0/108 [00:00<?, ?it/s]"
      ]
     },
     "metadata": {},
     "output_type": "display_data"
    },
    {
     "name": "stdout",
     "output_type": "stream",
     "text": [
      "Train Loss: 0.0622 | Val Loss: 0.2408\n",
      "\n",
      "Epoch 35/50\n"
     ]
    },
    {
     "data": {
      "application/vnd.jupyter.widget-view+json": {
       "model_id": "2f72ffcb4bfa44768eadff003409b738",
       "version_major": 2,
       "version_minor": 0
      },
      "text/plain": [
       "Training:   0%|          | 0/503 [00:00<?, ?it/s]"
      ]
     },
     "metadata": {},
     "output_type": "display_data"
    },
    {
     "data": {
      "application/vnd.jupyter.widget-view+json": {
       "model_id": "e026c5935251470dad9951db9446c37f",
       "version_major": 2,
       "version_minor": 0
      },
      "text/plain": [
       "Evaluating:   0%|          | 0/108 [00:00<?, ?it/s]"
      ]
     },
     "metadata": {},
     "output_type": "display_data"
    },
    {
     "name": "stdout",
     "output_type": "stream",
     "text": [
      "Train Loss: 0.0632 | Val Loss: 0.2608\n",
      "\n",
      "Epoch 36/50\n"
     ]
    },
    {
     "data": {
      "application/vnd.jupyter.widget-view+json": {
       "model_id": "f2207f70db684f84b0394eede89f1f67",
       "version_major": 2,
       "version_minor": 0
      },
      "text/plain": [
       "Training:   0%|          | 0/503 [00:00<?, ?it/s]"
      ]
     },
     "metadata": {},
     "output_type": "display_data"
    },
    {
     "data": {
      "application/vnd.jupyter.widget-view+json": {
       "model_id": "5a0370e79c6d4fe1a19ee6a71bd2330b",
       "version_major": 2,
       "version_minor": 0
      },
      "text/plain": [
       "Evaluating:   0%|          | 0/108 [00:00<?, ?it/s]"
      ]
     },
     "metadata": {},
     "output_type": "display_data"
    },
    {
     "name": "stdout",
     "output_type": "stream",
     "text": [
      "Train Loss: 0.0615 | Val Loss: 0.2462\n",
      "\n",
      "Epoch 37/50\n"
     ]
    },
    {
     "data": {
      "application/vnd.jupyter.widget-view+json": {
       "model_id": "1665b8d3a5e94291927e50247b0a8721",
       "version_major": 2,
       "version_minor": 0
      },
      "text/plain": [
       "Training:   0%|          | 0/503 [00:00<?, ?it/s]"
      ]
     },
     "metadata": {},
     "output_type": "display_data"
    },
    {
     "data": {
      "application/vnd.jupyter.widget-view+json": {
       "model_id": "506a564fceb0423fbe96b18ff972fee9",
       "version_major": 2,
       "version_minor": 0
      },
      "text/plain": [
       "Evaluating:   0%|          | 0/108 [00:00<?, ?it/s]"
      ]
     },
     "metadata": {},
     "output_type": "display_data"
    },
    {
     "name": "stdout",
     "output_type": "stream",
     "text": [
      "Train Loss: 0.0571 | Val Loss: 0.2455\n",
      "\n",
      "Epoch 38/50\n"
     ]
    },
    {
     "data": {
      "application/vnd.jupyter.widget-view+json": {
       "model_id": "194cab797d224566b112d90076097ed9",
       "version_major": 2,
       "version_minor": 0
      },
      "text/plain": [
       "Training:   0%|          | 0/503 [00:00<?, ?it/s]"
      ]
     },
     "metadata": {},
     "output_type": "display_data"
    },
    {
     "data": {
      "application/vnd.jupyter.widget-view+json": {
       "model_id": "f26b52617a3e45a685f593de010d7e7e",
       "version_major": 2,
       "version_minor": 0
      },
      "text/plain": [
       "Evaluating:   0%|          | 0/108 [00:00<?, ?it/s]"
      ]
     },
     "metadata": {},
     "output_type": "display_data"
    },
    {
     "name": "stdout",
     "output_type": "stream",
     "text": [
      "Train Loss: 0.0540 | Val Loss: 0.2397\n",
      "\n",
      "Epoch 39/50\n"
     ]
    },
    {
     "data": {
      "application/vnd.jupyter.widget-view+json": {
       "model_id": "e241e37229fd457a98c88ab6e64858e7",
       "version_major": 2,
       "version_minor": 0
      },
      "text/plain": [
       "Training:   0%|          | 0/503 [00:00<?, ?it/s]"
      ]
     },
     "metadata": {},
     "output_type": "display_data"
    },
    {
     "data": {
      "application/vnd.jupyter.widget-view+json": {
       "model_id": "f3fa1ff008cf4d3b8987230003a6554b",
       "version_major": 2,
       "version_minor": 0
      },
      "text/plain": [
       "Evaluating:   0%|          | 0/108 [00:00<?, ?it/s]"
      ]
     },
     "metadata": {},
     "output_type": "display_data"
    },
    {
     "name": "stdout",
     "output_type": "stream",
     "text": [
      "Train Loss: 0.0522 | Val Loss: 0.2447\n",
      "\n",
      "Epoch 40/50\n"
     ]
    },
    {
     "data": {
      "application/vnd.jupyter.widget-view+json": {
       "model_id": "387ffce91a4e44b091b1307e35430949",
       "version_major": 2,
       "version_minor": 0
      },
      "text/plain": [
       "Training:   0%|          | 0/503 [00:00<?, ?it/s]"
      ]
     },
     "metadata": {},
     "output_type": "display_data"
    },
    {
     "data": {
      "application/vnd.jupyter.widget-view+json": {
       "model_id": "23858d1fed694f72a36172f90f1ec00a",
       "version_major": 2,
       "version_minor": 0
      },
      "text/plain": [
       "Evaluating:   0%|          | 0/108 [00:00<?, ?it/s]"
      ]
     },
     "metadata": {},
     "output_type": "display_data"
    },
    {
     "name": "stdout",
     "output_type": "stream",
     "text": [
      "Train Loss: 0.0523 | Val Loss: 0.2306\n",
      "Saved best model to best_model.pt\n",
      "\n",
      "Epoch 41/50\n"
     ]
    },
    {
     "data": {
      "application/vnd.jupyter.widget-view+json": {
       "model_id": "f13b73ac280a4de5a0a02a2fa09f4de5",
       "version_major": 2,
       "version_minor": 0
      },
      "text/plain": [
       "Training:   0%|          | 0/503 [00:00<?, ?it/s]"
      ]
     },
     "metadata": {},
     "output_type": "display_data"
    },
    {
     "data": {
      "application/vnd.jupyter.widget-view+json": {
       "model_id": "7d4024f4a16a4510b664fc777c6fecca",
       "version_major": 2,
       "version_minor": 0
      },
      "text/plain": [
       "Evaluating:   0%|          | 0/108 [00:00<?, ?it/s]"
      ]
     },
     "metadata": {},
     "output_type": "display_data"
    },
    {
     "name": "stdout",
     "output_type": "stream",
     "text": [
      "Train Loss: 0.0469 | Val Loss: 0.2408\n",
      "\n",
      "Epoch 42/50\n"
     ]
    },
    {
     "data": {
      "application/vnd.jupyter.widget-view+json": {
       "model_id": "8955fb0f0e454c169d7594e4ce031b39",
       "version_major": 2,
       "version_minor": 0
      },
      "text/plain": [
       "Training:   0%|          | 0/503 [00:00<?, ?it/s]"
      ]
     },
     "metadata": {},
     "output_type": "display_data"
    },
    {
     "data": {
      "application/vnd.jupyter.widget-view+json": {
       "model_id": "397b39a03dbc48e0b1b632c585468ba4",
       "version_major": 2,
       "version_minor": 0
      },
      "text/plain": [
       "Evaluating:   0%|          | 0/108 [00:00<?, ?it/s]"
      ]
     },
     "metadata": {},
     "output_type": "display_data"
    },
    {
     "name": "stdout",
     "output_type": "stream",
     "text": [
      "Train Loss: 0.0457 | Val Loss: 0.2515\n",
      "\n",
      "Epoch 43/50\n"
     ]
    },
    {
     "data": {
      "application/vnd.jupyter.widget-view+json": {
       "model_id": "d755c77c38b148d59b6db847d845e960",
       "version_major": 2,
       "version_minor": 0
      },
      "text/plain": [
       "Training:   0%|          | 0/503 [00:00<?, ?it/s]"
      ]
     },
     "metadata": {},
     "output_type": "display_data"
    },
    {
     "data": {
      "application/vnd.jupyter.widget-view+json": {
       "model_id": "25be1536a9ee435781abac7f093db59f",
       "version_major": 2,
       "version_minor": 0
      },
      "text/plain": [
       "Evaluating:   0%|          | 0/108 [00:00<?, ?it/s]"
      ]
     },
     "metadata": {},
     "output_type": "display_data"
    },
    {
     "name": "stdout",
     "output_type": "stream",
     "text": [
      "Train Loss: 0.0483 | Val Loss: 0.2757\n",
      "\n",
      "Epoch 44/50\n"
     ]
    },
    {
     "data": {
      "application/vnd.jupyter.widget-view+json": {
       "model_id": "3840ba0d3b194df9a175ca500f0097ec",
       "version_major": 2,
       "version_minor": 0
      },
      "text/plain": [
       "Training:   0%|          | 0/503 [00:00<?, ?it/s]"
      ]
     },
     "metadata": {},
     "output_type": "display_data"
    },
    {
     "data": {
      "application/vnd.jupyter.widget-view+json": {
       "model_id": "959435a49c6941428ce95f1adddaa485",
       "version_major": 2,
       "version_minor": 0
      },
      "text/plain": [
       "Evaluating:   0%|          | 0/108 [00:00<?, ?it/s]"
      ]
     },
     "metadata": {},
     "output_type": "display_data"
    },
    {
     "name": "stdout",
     "output_type": "stream",
     "text": [
      "Train Loss: 0.0440 | Val Loss: 0.2505\n",
      "\n",
      "Epoch 45/50\n"
     ]
    },
    {
     "data": {
      "application/vnd.jupyter.widget-view+json": {
       "model_id": "9886e6279245407ab96ccd2b9dc4dfb3",
       "version_major": 2,
       "version_minor": 0
      },
      "text/plain": [
       "Training:   0%|          | 0/503 [00:00<?, ?it/s]"
      ]
     },
     "metadata": {},
     "output_type": "display_data"
    },
    {
     "data": {
      "application/vnd.jupyter.widget-view+json": {
       "model_id": "575f7e09a1a94636ae09dfe1904c9073",
       "version_major": 2,
       "version_minor": 0
      },
      "text/plain": [
       "Evaluating:   0%|          | 0/108 [00:00<?, ?it/s]"
      ]
     },
     "metadata": {},
     "output_type": "display_data"
    },
    {
     "name": "stdout",
     "output_type": "stream",
     "text": [
      "Train Loss: 0.0430 | Val Loss: 0.2464\n",
      "\n",
      "Epoch 46/50\n"
     ]
    },
    {
     "data": {
      "application/vnd.jupyter.widget-view+json": {
       "model_id": "7e9c117915154772ab7eb16243a3fc9a",
       "version_major": 2,
       "version_minor": 0
      },
      "text/plain": [
       "Training:   0%|          | 0/503 [00:00<?, ?it/s]"
      ]
     },
     "metadata": {},
     "output_type": "display_data"
    },
    {
     "data": {
      "application/vnd.jupyter.widget-view+json": {
       "model_id": "be4fb6d025524de4a173646ea9e648d0",
       "version_major": 2,
       "version_minor": 0
      },
      "text/plain": [
       "Evaluating:   0%|          | 0/108 [00:00<?, ?it/s]"
      ]
     },
     "metadata": {},
     "output_type": "display_data"
    },
    {
     "name": "stdout",
     "output_type": "stream",
     "text": [
      "Train Loss: 0.0406 | Val Loss: 0.2381\n",
      "\n",
      "Epoch 47/50\n"
     ]
    },
    {
     "data": {
      "application/vnd.jupyter.widget-view+json": {
       "model_id": "b50c5b4cff244b8f9fc220612df60ce7",
       "version_major": 2,
       "version_minor": 0
      },
      "text/plain": [
       "Training:   0%|          | 0/503 [00:00<?, ?it/s]"
      ]
     },
     "metadata": {},
     "output_type": "display_data"
    },
    {
     "data": {
      "application/vnd.jupyter.widget-view+json": {
       "model_id": "8ecae12650b747e6b26ead0a869860a8",
       "version_major": 2,
       "version_minor": 0
      },
      "text/plain": [
       "Evaluating:   0%|          | 0/108 [00:00<?, ?it/s]"
      ]
     },
     "metadata": {},
     "output_type": "display_data"
    },
    {
     "name": "stdout",
     "output_type": "stream",
     "text": [
      "Train Loss: 0.0419 | Val Loss: 0.2418\n",
      "\n",
      "Epoch 48/50\n"
     ]
    },
    {
     "data": {
      "application/vnd.jupyter.widget-view+json": {
       "model_id": "30c9774274c443f2b240761ab4b852eb",
       "version_major": 2,
       "version_minor": 0
      },
      "text/plain": [
       "Training:   0%|          | 0/503 [00:00<?, ?it/s]"
      ]
     },
     "metadata": {},
     "output_type": "display_data"
    },
    {
     "data": {
      "application/vnd.jupyter.widget-view+json": {
       "model_id": "15057ad0895f4aa7a102280f23f18afb",
       "version_major": 2,
       "version_minor": 0
      },
      "text/plain": [
       "Evaluating:   0%|          | 0/108 [00:00<?, ?it/s]"
      ]
     },
     "metadata": {},
     "output_type": "display_data"
    },
    {
     "name": "stdout",
     "output_type": "stream",
     "text": [
      "Train Loss: 0.0411 | Val Loss: 0.2359\n",
      "\n",
      "Epoch 49/50\n"
     ]
    },
    {
     "data": {
      "application/vnd.jupyter.widget-view+json": {
       "model_id": "4405726ceab448cca7c7b1ba6960f1b6",
       "version_major": 2,
       "version_minor": 0
      },
      "text/plain": [
       "Training:   0%|          | 0/503 [00:00<?, ?it/s]"
      ]
     },
     "metadata": {},
     "output_type": "display_data"
    },
    {
     "data": {
      "application/vnd.jupyter.widget-view+json": {
       "model_id": "c2586d9c9f6d471a8a2951bbf7bb97f3",
       "version_major": 2,
       "version_minor": 0
      },
      "text/plain": [
       "Evaluating:   0%|          | 0/108 [00:00<?, ?it/s]"
      ]
     },
     "metadata": {},
     "output_type": "display_data"
    },
    {
     "name": "stdout",
     "output_type": "stream",
     "text": [
      "Train Loss: 0.0403 | Val Loss: 0.2691\n",
      "\n",
      "Epoch 50/50\n"
     ]
    },
    {
     "data": {
      "application/vnd.jupyter.widget-view+json": {
       "model_id": "5c6517bdf1cf4aa78c9dce63fe4af057",
       "version_major": 2,
       "version_minor": 0
      },
      "text/plain": [
       "Training:   0%|          | 0/503 [00:00<?, ?it/s]"
      ]
     },
     "metadata": {},
     "output_type": "display_data"
    },
    {
     "data": {
      "application/vnd.jupyter.widget-view+json": {
       "model_id": "836fd24858a04339a2dc03e5d0568c28",
       "version_major": 2,
       "version_minor": 0
      },
      "text/plain": [
       "Evaluating:   0%|          | 0/108 [00:00<?, ?it/s]"
      ]
     },
     "metadata": {},
     "output_type": "display_data"
    },
    {
     "name": "stdout",
     "output_type": "stream",
     "text": [
      "Train Loss: 0.0381 | Val Loss: 0.2383\n"
     ]
    },
    {
     "data": {
      "image/png": "[encoded data removed]",
      "text/plain": [
       "<Figure size 800x400 with 1 Axes>"
      ]
     },
     "metadata": {},
     "output_type": "display_data"
    },
    {
     "name": "stdout",
     "output_type": "stream",
     "text": [
      "Saved loss curve to loss_curve.png\n"
     ]
    }
   ],
   "source": [
    "model = Im2LatexModel(\n",
    "    vocab_size=len(token2idx),\n",
    "    d_model=256,\n",
    "    max_seq_len=max_seq_length\n",
    ").to(\"cuda\")\n",
    "\n",
    "fit(\n",
    "    model=model,\n",
    "    train_loader=train_loader,\n",
    "    val_loader=val_loader,\n",
    "    token2idx=token2idx,\n",
    "    epochs=50,\n",
    "    lr=1e-4,\n",
    "    device=\"cuda\"\n",
    ")"
   ]
  },
  {
   "cell_type": "code",
   "execution_count": 29,
   "id": "c4ab4f9e",
   "metadata": {},
   "outputs": [],
   "source": [
    "def beam_search_decode(model, image, token2idx, idx2token, beam_width=3, max_len=256, device=\"cuda\"):\n",
    "    model.eval()\n",
    "    \n",
    "    if not image.is_cuda:\n",
    "        image = image.to(device)\n",
    "    \n",
    "    with torch.no_grad():\n",
    "        memory = model.encoder(image.unsqueeze(0))  # [1, C, H, W]\n",
    "        memory = memory.expand(beam_width, *memory.shape[1:])  # [beam, C, H, W]\n",
    "\n",
    "        sequences = [[token2idx['<s>']] for _ in range(beam_width)]\n",
    "        scores = torch.zeros(beam_width, device=device)\n",
    "        completed = []\n",
    "\n",
    "        for step in range(max_len):\n",
    "            all_candidates = []\n",
    "            for i, seq in enumerate(sequences):\n",
    "                if len(seq) > 1 and seq[-1] == token2idx['</s>']:\n",
    "                    completed.append((seq, scores[i].item()))\n",
    "                    continue\n",
    "\n",
    "                tgt_input = torch.tensor(seq, dtype=torch.long, device=device).unsqueeze(0)\n",
    "                tgt_mask = generate_square_subsequent_mask(tgt_input.size(1)).to(device)\n",
    "                output = model.decoder(tgt_input, memory[i:i+1], tgt_mask)\n",
    "                probs = torch.log_softmax(output[0, -1], dim=-1)  # log-probs\n",
    "\n",
    "                topk_probs, topk_idx = torch.topk(probs, beam_width)\n",
    "                for j in range(beam_width):\n",
    "                    candidate = seq + [topk_idx[j].item()]\n",
    "                    score = scores[i] + topk_probs[j]\n",
    "                    all_candidates.append((candidate, score))\n",
    "\n",
    "            all_candidates = sorted(all_candidates, key=lambda x: x[1], reverse=True)[:beam_width]\n",
    "            sequences = [cand[0] for cand in all_candidates]\n",
    "            scores = torch.tensor([cand[1] for cand in all_candidates], device=device)\n",
    "\n",
    "        completed += list(zip(sequences, scores.tolist()))\n",
    "        completed = sorted(completed, key=lambda x: x[1], reverse=True)\n",
    "\n",
    "        best_seq = completed[0][0]\n",
    "        return [idx2token[idx] for idx in best_seq[1:-1] if idx in idx2token]\n"
   ]
  },
  {
   "cell_type": "code",
   "execution_count": 30,
   "id": "80043422",
   "metadata": {},
   "outputs": [],
   "source": [
    "@torch.no_grad()\n",
    "def evaluate_model_with_beam(model, dataset, token2idx, idx2token, num_samples, beam_width=3, max_len=256, visualize=True):\n",
    "    model.eval()\n",
    "    correct = 0\n",
    "    total = 0\n",
    "\n",
    "    device = next(model.parameters()).device\n",
    "\n",
    "    def tokens_to_str(tokens):\n",
    "        return ''.join(t for t in tokens if t not in ['<s>', '</s>', '<pad>'])\n",
    "\n",
    "    for i in range(num_samples):\n",
    "        image, label = dataset[i]\n",
    "        image = image.to(device)  # 🛠 把图片也搬上GPU\n",
    "        \n",
    "        pred_tokens = beam_search_decode(model, image, token2idx, idx2token, beam_width, max_len, device=device)\n",
    "        true_tokens = [idx2token[idx.item()] for idx in label if idx.item() != token2idx['<pad>']]\n",
    "\n",
    "        pred_str = tokens_to_str(pred_tokens)\n",
    "        true_str = tokens_to_str(true_tokens)\n",
    "\n",
    "        match = pred_str == true_str\n",
    "        correct += int(match)\n",
    "        total += 1\n",
    "\n",
    "        if visualize:\n",
    "            fig, axes = plt.subplots(1, 2, figsize=(12, 3))\n",
    "            axes[0].imshow(image.permute(1, 2, 0).squeeze().cpu(), cmap='gray')\n",
    "            axes[0].set_title(\"Input Image\")\n",
    "            axes[0].axis(\"off\")\n",
    "\n",
    "            axes[1].text(0.5, 0.7, f\"GT: ${true_str}$\", ha='center', fontsize=12)\n",
    "            axes[1].text(0.5, 0.3, f\"Pred: ${pred_str}$\", ha='center', fontsize=12, color=('green' if match else 'red'))\n",
    "            axes[1].axis(\"off\")\n",
    "            plt.show()\n",
    "\n",
    "        if (i+1) % 100 == 0:\n",
    "            print(f\"Processed {i+1}/{num_samples} samples...\")\n",
    "\n",
    "    acc = correct / total\n",
    "    print(f\"\\nBeam Search Accuracy (exact match): {acc * 100:.2f}%\")\n",
    "    return acc\n"
   ]
  },
  {
   "cell_type": "code",
   "execution_count": 31,
   "id": "ddeb896e",
   "metadata": {},
   "outputs": [
    {
     "name": "stdout",
     "output_type": "stream",
     "text": [
      "Processed 100/3448 samples...\n",
      "Processed 200/3448 samples...\n",
      "Processed 300/3448 samples...\n",
      "Processed 400/3448 samples...\n",
      "Processed 500/3448 samples...\n",
      "Processed 600/3448 samples...\n",
      "Processed 700/3448 samples...\n",
      "Processed 800/3448 samples...\n",
      "Processed 900/3448 samples...\n",
      "Processed 1000/3448 samples...\n",
      "Processed 1100/3448 samples...\n",
      "Processed 1200/3448 samples...\n",
      "Processed 1300/3448 samples...\n",
      "Processed 1400/3448 samples...\n",
      "Processed 1500/3448 samples...\n",
      "Processed 1600/3448 samples...\n",
      "Processed 1700/3448 samples...\n",
      "Processed 1800/3448 samples...\n",
      "Processed 1900/3448 samples...\n",
      "Processed 2000/3448 samples...\n",
      "Processed 2100/3448 samples...\n",
      "Processed 2200/3448 samples...\n",
      "Processed 2300/3448 samples...\n",
      "Processed 2400/3448 samples...\n",
      "Processed 2500/3448 samples...\n",
      "Processed 2600/3448 samples...\n",
      "Processed 2700/3448 samples...\n",
      "Processed 2800/3448 samples...\n",
      "Processed 2900/3448 samples...\n",
      "Processed 3000/3448 samples...\n",
      "Processed 3100/3448 samples...\n",
      "Processed 3200/3448 samples...\n",
      "Processed 3300/3448 samples...\n",
      "Processed 3400/3448 samples...\n",
      "\n",
      "Beam Search Accuracy (exact match): 56.73%\n"
     ]
    },
    {
     "data": {
      "text/plain": [
       "0.5672853828306265"
      ]
     },
     "execution_count": 31,
     "metadata": {},
     "output_type": "execute_result"
    }
   ],
   "source": [
    "evaluate_model_with_beam(\n",
    "    model=model,\n",
    "    dataset=test_dataset,\n",
    "    token2idx=token2idx,\n",
    "    idx2token=idx2token,\n",
    "    num_samples=len(test_dataset),\n",
    "    beam_width=3,\n",
    "    visualize=False\n",
    ")"
   ]
  },
  {
   "cell_type": "code",
   "execution_count": null,
   "id": "7b6d64c4",
   "metadata": {},
   "outputs": [],
   "source": [
    "def evaluate_token_level_accuracy(model, dataset, token2idx, idx2token, num_samples=50, beam_width=3, max_len=256):\n",
    "    model.eval()\n",
    "    total_tokens = 0\n",
    "    correct_tokens = 0\n",
    "\n",
    "    device = next(model.parameters()).device\n",
    "    print(f\"Evaluating on device: {device}\")\n",
    "\n",
    "    def strip_tokens(tokens):\n",
    "        return [t for t in tokens if t not in ['<pad>', '<s>', '</s>']]\n",
    "\n",
    "    for i in range(num_samples):\n",
    "        image, label = dataset[i]\n",
    "        image = image.to(device)\n",
    "\n",
    "        pred_tokens = beam_search_decode(model, image, token2idx, idx2token, beam_width, max_len, device=device)\n",
    "        true_tokens = [idx2token[idx.item()] for idx in label]\n",
    "\n",
    "        pred = strip_tokens(pred_tokens)\n",
    "        true = strip_tokens(true_tokens)\n",
    "\n",
    "        for p, t in zip(pred, true):\n",
    "            total_tokens += 1\n",
    "            if p == t:\n",
    "                correct_tokens += 1\n",
    "\n",
    "        total_tokens += abs(len(pred) - len(true))\n",
    "\n",
    "        if (i+1) % 100 == 0:\n",
    "            print(f\"Processed {i+1}/{num_samples} samples...\")\n",
    "\n",
    "    accuracy = correct_tokens / total_tokens if total_tokens > 0 else 0.0\n",
    "    print(f\"Token-level accuracy: {accuracy * 100:.2f}%\")\n",
    "    return accuracy"
   ]
  },
  {
   "cell_type": "code",
   "execution_count": 33,
   "id": "c21696c6",
   "metadata": {},
   "outputs": [
    {
     "name": "stdout",
     "output_type": "stream",
     "text": [
      "Evaluating on device: cuda:0\n",
      "Processed 100/3448 samples...\n",
      "Processed 200/3448 samples...\n",
      "Processed 300/3448 samples...\n",
      "Processed 400/3448 samples...\n",
      "Processed 500/3448 samples...\n",
      "Processed 600/3448 samples...\n",
      "Processed 700/3448 samples...\n",
      "Processed 800/3448 samples...\n",
      "Processed 900/3448 samples...\n",
      "Processed 1000/3448 samples...\n",
      "Processed 1100/3448 samples...\n",
      "Processed 1200/3448 samples...\n",
      "Processed 1300/3448 samples...\n",
      "Processed 1400/3448 samples...\n",
      "Processed 1500/3448 samples...\n",
      "Processed 1600/3448 samples...\n",
      "Processed 1700/3448 samples...\n",
      "Processed 1800/3448 samples...\n",
      "Processed 1900/3448 samples...\n",
      "Processed 2000/3448 samples...\n",
      "Processed 2100/3448 samples...\n",
      "Processed 2200/3448 samples...\n",
      "Processed 2300/3448 samples...\n",
      "Processed 2400/3448 samples...\n",
      "Processed 2500/3448 samples...\n",
      "Processed 2600/3448 samples...\n",
      "Processed 2700/3448 samples...\n",
      "Processed 2800/3448 samples...\n",
      "Processed 2900/3448 samples...\n",
      "Processed 3000/3448 samples...\n",
      "Processed 3100/3448 samples...\n",
      "Processed 3200/3448 samples...\n",
      "Processed 3300/3448 samples...\n",
      "Processed 3400/3448 samples...\n",
      "Token-level accuracy: 71.34%\n"
     ]
    }
   ],
   "source": [
    "accuracy = evaluate_token_level_accuracy(\n",
    "    model=model,\n",
    "    dataset=test_dataset,\n",
    "    token2idx=token2idx,\n",
    "    idx2token=idx2token,\n",
    "    num_samples=len(test_dataset),\n",
    "    beam_width=3\n",
    ")"
   ]
  },
  {
   "cell_type": "code",
   "execution_count": 34,
   "id": "47a8c050",
   "metadata": {},
   "outputs": [],
   "source": [
    "@torch.no_grad()\n",
    "def evaluate_edit_distance(model, dataset, token2idx, idx2token, num_samples=50, beam_width=3, max_len=256):\n",
    "    model.eval()\n",
    "    total_ned = 0.0\n",
    "    count = 0\n",
    "\n",
    "    device = next(model.parameters()).device\n",
    "\n",
    "    def strip_tokens(tokens):\n",
    "        return [t for t in tokens if t not in ['<pad>', '<s>', '</s>']]\n",
    "\n",
    "    for i in range(num_samples):\n",
    "        image, label = dataset[i]\n",
    "        image = image.to(device)\n",
    "\n",
    "        pred_tokens = beam_search_decode(model, image, token2idx, idx2token, beam_width, max_len, device=device)\n",
    "        true_tokens = [idx2token[idx.item()] for idx in label]\n",
    "\n",
    "        pred = strip_tokens(pred_tokens)\n",
    "        true = strip_tokens(true_tokens)\n",
    "\n",
    "        pred_str = ' '.join(pred)\n",
    "        true_str = ' '.join(true)\n",
    "\n",
    "        if len(true_str.strip()) == 0:\n",
    "            continue\n",
    "\n",
    "        lev_dist = Levenshtein.distance(pred_str, true_str)\n",
    "        max_len_str = max(len(pred_str), len(true_str))\n",
    "        ned = 1 - lev_dist / max_len_str\n",
    "        total_ned += ned\n",
    "        count += 1\n",
    "\n",
    "        if (i+1) % 100 == 0:\n",
    "            print(f\"Processed {i+1}/{num_samples} samples...\")\n",
    "\n",
    "    avg_ned = total_ned / count if count > 0 else 0.0\n",
    "    print(f\"Normalized Edit Distance (NED): {avg_ned * 100:.2f}%\")\n",
    "    return avg_ned\n"
   ]
  },
  {
   "cell_type": "code",
   "execution_count": 35,
   "id": "7589448f",
   "metadata": {},
   "outputs": [
    {
     "name": "stdout",
     "output_type": "stream",
     "text": [
      "Processed 100/3448 samples...\n",
      "Processed 200/3448 samples...\n",
      "Processed 300/3448 samples...\n",
      "Processed 400/3448 samples...\n",
      "Processed 500/3448 samples...\n",
      "Processed 600/3448 samples...\n",
      "Processed 700/3448 samples...\n",
      "Processed 800/3448 samples...\n",
      "Processed 900/3448 samples...\n",
      "Processed 1000/3448 samples...\n",
      "Processed 1100/3448 samples...\n",
      "Processed 1200/3448 samples...\n",
      "Processed 1300/3448 samples...\n",
      "Processed 1400/3448 samples...\n",
      "Processed 1500/3448 samples...\n",
      "Processed 1600/3448 samples...\n",
      "Processed 1700/3448 samples...\n",
      "Processed 1800/3448 samples...\n",
      "Processed 1900/3448 samples...\n",
      "Processed 2000/3448 samples...\n",
      "Processed 2100/3448 samples...\n",
      "Processed 2200/3448 samples...\n",
      "Processed 2300/3448 samples...\n",
      "Processed 2400/3448 samples...\n",
      "Processed 2500/3448 samples...\n",
      "Processed 2600/3448 samples...\n",
      "Processed 2700/3448 samples...\n",
      "Processed 2800/3448 samples...\n",
      "Processed 2900/3448 samples...\n",
      "Processed 3000/3448 samples...\n",
      "Processed 3100/3448 samples...\n",
      "Processed 3200/3448 samples...\n",
      "Processed 3300/3448 samples...\n",
      "Processed 3400/3448 samples...\n",
      "Normalized Edit Distance (NED): 87.75%\n"
     ]
    },
    {
     "data": {
      "text/plain": [
       "0.8775064852633061"
      ]
     },
     "execution_count": 35,
     "metadata": {},
     "output_type": "execute_result"
    }
   ],
   "source": [
    "evaluate_edit_distance(\n",
    "    model=model,\n",
    "    dataset=test_dataset,\n",
    "    token2idx=token2idx,\n",
    "    idx2token=idx2token,\n",
    "    num_samples=len(test_dataset),\n",
    "    beam_width=3\n",
    ")"
   ]
  },
  {
   "cell_type": "code",
   "execution_count": 36,
   "id": "fd3fe03a",
   "metadata": {},
   "outputs": [],
   "source": [
    "@torch.no_grad()\n",
    "def export_predictions_to_csv(model, dataset, token2idx, idx2token, beam_width=3, max_len=256, num_samples=100, output_file=\"prediction_results.csv\"):\n",
    "    model.eval()\n",
    "    results = []\n",
    "\n",
    "    device = next(model.parameters()).device\n",
    "\n",
    "    def strip_tokens(tokens):\n",
    "        return [t for t in tokens if t not in ['<pad>', '<s>', '</s>']]\n",
    "\n",
    "    for i in range(num_samples):\n",
    "        image, label = dataset[i]\n",
    "        image = image.to(device)\n",
    "\n",
    "        pred_tokens = beam_search_decode(model, image, token2idx, idx2token, beam_width, max_len, device=device)\n",
    "        true_tokens = [idx2token[idx.item()] for idx in label]\n",
    "\n",
    "        pred = strip_tokens(pred_tokens)\n",
    "        true = strip_tokens(true_tokens)\n",
    "\n",
    "        pred_str = ' '.join(pred)\n",
    "        true_str = ' '.join(true)\n",
    "\n",
    "        sentence_match = pred == true\n",
    "\n",
    "        if len(true) > 0:\n",
    "            match_count = sum(p == t for p, t in zip(pred, true))\n",
    "            token_accuracy = match_count / len(true)\n",
    "        else:\n",
    "            token_accuracy = 0.0\n",
    "\n",
    "        if len(true_str.strip()) > 0:\n",
    "            lev = Levenshtein.distance(pred_str, true_str)\n",
    "            ned = 1 - lev / max(len(pred_str), len(true_str))\n",
    "        else:\n",
    "            ned = 0.0\n",
    "\n",
    "        results.append({\n",
    "            \"index\": i,\n",
    "            \"true_latex\": true_str,\n",
    "            \"pred_latex\": pred_str,\n",
    "            \"sentence_match\": sentence_match,\n",
    "            \"token_accuracy(%)\": round(token_accuracy * 100, 2),\n",
    "            \"normalized_edit_distance(%)\": round(ned * 100, 2)\n",
    "        })\n",
    "\n",
    "        if (i+1) % 100 == 0:\n",
    "            print(f\"Processed {i+1}/{num_samples} samples...\")\n",
    "\n",
    "    df = pd.DataFrame(results)\n",
    "    df.to_csv(output_file, index=False)\n",
    "    print(f\"Saved prediction results to: {output_file}\")\n",
    "    return df\n"
   ]
  },
  {
   "cell_type": "code",
   "execution_count": 37,
   "id": "2d25204a",
   "metadata": {},
   "outputs": [
    {
     "name": "stdout",
     "output_type": "stream",
     "text": [
      "Processed 100/3448 samples...\n",
      "Processed 200/3448 samples...\n",
      "Processed 300/3448 samples...\n",
      "Processed 400/3448 samples...\n",
      "Processed 500/3448 samples...\n",
      "Processed 600/3448 samples...\n",
      "Processed 700/3448 samples...\n",
      "Processed 800/3448 samples...\n",
      "Processed 900/3448 samples...\n",
      "Processed 1000/3448 samples...\n",
      "Processed 1100/3448 samples...\n",
      "Processed 1200/3448 samples...\n",
      "Processed 1300/3448 samples...\n",
      "Processed 1400/3448 samples...\n",
      "Processed 1500/3448 samples...\n",
      "Processed 1600/3448 samples...\n",
      "Processed 1700/3448 samples...\n",
      "Processed 1800/3448 samples...\n",
      "Processed 1900/3448 samples...\n",
      "Processed 2000/3448 samples...\n",
      "Processed 2100/3448 samples...\n",
      "Processed 2200/3448 samples...\n",
      "Processed 2300/3448 samples...\n",
      "Processed 2400/3448 samples...\n",
      "Processed 2500/3448 samples...\n",
      "Processed 2600/3448 samples...\n",
      "Processed 2700/3448 samples...\n",
      "Processed 2800/3448 samples...\n",
      "Processed 2900/3448 samples...\n",
      "Processed 3000/3448 samples...\n",
      "Processed 3100/3448 samples...\n",
      "Processed 3200/3448 samples...\n",
      "Processed 3300/3448 samples...\n",
      "Processed 3400/3448 samples...\n",
      "Saved prediction results to: latex_predictions.csv\n"
     ]
    }
   ],
   "source": [
    "df_results = export_predictions_to_csv(\n",
    "    model=model,\n",
    "    dataset=test_dataset,\n",
    "    token2idx=token2idx,\n",
    "    idx2token=idx2token,\n",
    "    beam_width=3,\n",
    "    num_samples=len(test_dataset),\n",
    "    output_file=\"latex_predictions.csv\"\n",
    ")"
   ]
  },
  {
   "cell_type": "code",
   "execution_count": 38,
   "id": "c5aef2c5",
   "metadata": {},
   "outputs": [],
   "source": [
    "def render_prediction_comparison(image_tensor, true_latex, pred_latex):\n",
    "    plt.figure(figsize=(12, 4))\n",
    "    gs = gridspec.GridSpec(1, 3, width_ratios=[1, 1, 1])\n",
    "\n",
    "    # 图像\n",
    "    ax0 = plt.subplot(gs[0])\n",
    "    ax0.imshow(image_tensor.permute(1, 2, 0).squeeze(), cmap='gray')\n",
    "    ax0.set_title(\"Input Image\")\n",
    "    ax0.axis(\"off\")\n",
    "\n",
    "    # GT LaTeX\n",
    "    ax1 = plt.subplot(gs[1])\n",
    "    ax1.text(0.5, 0.5, f\"${true_latex}$\", fontsize=18, ha='center', va='center')\n",
    "    ax1.set_title(\"Ground Truth\")\n",
    "    ax1.axis(\"off\")\n",
    "\n",
    "    # Prediction LaTeX\n",
    "    ax2 = plt.subplot(gs[2])\n",
    "    ax2.text(0.5, 0.5, f\"${pred_latex}$\", fontsize=18, ha='center', va='center')\n",
    "    ax2.set_title(\"Prediction\")\n",
    "    ax2.axis(\"off\")\n",
    "\n",
    "    plt.tight_layout()\n",
    "    plt.show()"
   ]
  },
  {
   "cell_type": "code",
   "execution_count": 75,
   "id": "ba6889bf",
   "metadata": {},
   "outputs": [
    {
     "data": {
      "image/png": "[encoded data removed]",
      "text/plain": [
       "<Figure size 1200x400 with 3 Axes>"
      ]
     },
     "metadata": {},
     "output_type": "display_data"
    }
   ],
   "source": [
    "# 选择一个样本，比如第 7 个\n",
    "index = random.randint(0, len(test_dataset) - 1)\n",
    "image, label = test_dataset[index]\n",
    "\n",
    "# 预测\n",
    "pred_tokens = beam_search_decode(model, image, token2idx, idx2token, beam_width=3)\n",
    "true_tokens = [idx2token[idx.item()] for idx in label]\n",
    "\n",
    "# 去除特殊符号\n",
    "def clean(toks): return ''.join(t for t in toks if t not in ['<s>', '</s>', '<pad>'])\n",
    "true_str = clean(true_tokens)\n",
    "pred_str = clean(pred_tokens)\n",
    "\n",
    "# 渲染对比图\n",
    "render_prediction_comparison(image, true_str, pred_str)\n"
   ]
  },
  {
   "cell_type": "code",
   "execution_count": 57,
   "id": "280cee5c",
   "metadata": {},
   "outputs": [],
   "source": [
    "@torch.no_grad()\n",
    "def build_confusion_matrix_gpu(model, dataset, token2idx, idx2token,\n",
    "                                num_samples=200, beam_width=3, max_len=256, top_k_tokens=30):\n",
    "    model.eval()\n",
    "    true_labels = []\n",
    "    pred_labels = []\n",
    "\n",
    "    device = next(model.parameters()).device\n",
    "\n",
    "    def strip(tokens):\n",
    "        return [t for t in tokens if t not in ['<pad>', '<s>', '</s>']]\n",
    "\n",
    "    for i in range(num_samples):\n",
    "        image, label = dataset[i]\n",
    "        image = image.to(device)  # 🔥 图片搬到GPU\n",
    "\n",
    "        pred_tokens = beam_search_decode(model, image, token2idx, idx2token, beam_width, max_len, device=device)\n",
    "        true_tokens = [idx2token[idx.item()] for idx in label]\n",
    "\n",
    "        pred = strip(pred_tokens)\n",
    "        true = strip(true_tokens)\n",
    "\n",
    "        min_len = min(len(pred), len(true))\n",
    "        true_labels.extend(true[:min_len])\n",
    "        pred_labels.extend(pred[:min_len])\n",
    "\n",
    "        if (i+1) % 100 == 0:\n",
    "            print(f\"Processed {i+1}/{num_samples} samples...\")\n",
    "\n",
    "    # 统计 Top-K token\n",
    "    all_tokens = Counter(true_labels + pred_labels)\n",
    "    most_common = [tok for tok, _ in all_tokens.most_common(top_k_tokens)]\n",
    "    most_common_set = set(most_common)\n",
    "\n",
    "    def map_tok(tok):\n",
    "        return tok if tok in most_common_set else 'other'\n",
    "\n",
    "    mapped_true = [map_tok(tok) for tok in true_labels]\n",
    "    mapped_pred = [map_tok(tok) for tok in pred_labels]\n",
    "\n",
    "    labels_sorted = sorted(set(mapped_true + mapped_pred))\n",
    "\n",
    "    cm = confusion_matrix(mapped_true, mapped_pred, labels=labels_sorted)\n",
    "\n",
    "    # 绘制混淆矩阵\n",
    "    plt.figure(figsize=(12, 10))\n",
    "    sns.heatmap(cm, annot=True, fmt=\"d\", cmap=\"Blues\",\n",
    "                xticklabels=labels_sorted, yticklabels=labels_sorted)\n",
    "    plt.xlabel(\"Predicted Token\")\n",
    "    plt.ylabel(\"Ground Truth Token\")\n",
    "    plt.title(f\"Confusion Matrix (Top {top_k_tokens} Tokens + 'other')\")\n",
    "    plt.tight_layout()\n",
    "    plt.show()\n",
    "\n",
    "    return cm, labels_sorted, true_labels, pred_labels\n"
   ]
  },
  {
   "cell_type": "code",
   "execution_count": 58,
   "id": "4388c883",
   "metadata": {},
   "outputs": [],
   "source": [
    "def analyze_top_confusions(true_labels, pred_labels, top_k=10):\n",
    "    \"\"\"\n",
    "    分析最常见的混淆对\n",
    "    \"\"\"\n",
    "    assert len(true_labels) == len(pred_labels)\n",
    "\n",
    "    confusions = Counter()\n",
    "\n",
    "    for t, p in zip(true_labels, pred_labels):\n",
    "        if t != p:\n",
    "            confusions[(t, p)] += 1\n",
    "\n",
    "    most_common_confusions = confusions.most_common(top_k)\n",
    "\n",
    "    print(f\"\\nTop-{top_k} Most Common Confusions:\")\n",
    "    for (true_tok, pred_tok), count in most_common_confusions:\n",
    "        print(f\"  '{true_tok}' → '{pred_tok}' : {count} times\")\n",
    "\n",
    "    return most_common_confusions\n"
   ]
  },
  {
   "cell_type": "code",
   "execution_count": 59,
   "id": "65041084",
   "metadata": {},
   "outputs": [
    {
     "name": "stdout",
     "output_type": "stream",
     "text": [
      "Processed 100/3448 samples...\n",
      "Processed 200/3448 samples...\n",
      "Processed 300/3448 samples...\n",
      "Processed 400/3448 samples...\n",
      "Processed 500/3448 samples...\n",
      "Processed 600/3448 samples...\n",
      "Processed 700/3448 samples...\n",
      "Processed 800/3448 samples...\n",
      "Processed 900/3448 samples...\n",
      "Processed 1000/3448 samples...\n",
      "Processed 1100/3448 samples...\n",
      "Processed 1200/3448 samples...\n",
      "Processed 1300/3448 samples...\n",
      "Processed 1400/3448 samples...\n",
      "Processed 1500/3448 samples...\n",
      "Processed 1600/3448 samples...\n",
      "Processed 1700/3448 samples...\n",
      "Processed 1800/3448 samples...\n",
      "Processed 1900/3448 samples...\n",
      "Processed 2000/3448 samples...\n",
      "Processed 2100/3448 samples...\n",
      "Processed 2200/3448 samples...\n",
      "Processed 2300/3448 samples...\n",
      "Processed 2400/3448 samples...\n",
      "Processed 2500/3448 samples...\n",
      "Processed 2600/3448 samples...\n",
      "Processed 2700/3448 samples...\n",
      "Processed 2800/3448 samples...\n",
      "Processed 2900/3448 samples...\n",
      "Processed 3000/3448 samples...\n",
      "Processed 3100/3448 samples...\n",
      "Processed 3200/3448 samples...\n",
      "Processed 3300/3448 samples...\n",
      "Processed 3400/3448 samples...\n"
     ]
    },
    {
     "data": {
      "image/png": "[encoded data removed]",
      "text/plain": [
       "<Figure size 1200x1000 with 2 Axes>"
      ]
     },
     "metadata": {},
     "output_type": "display_data"
    },
    {
     "name": "stdout",
     "output_type": "stream",
     "text": [
      "\n",
      "Top-15 Most Common Confusions:\n",
      "  '}' → '{' : 339 times\n",
      "  '{' → '}' : 318 times\n",
      "  ' ' → '{' : 160 times\n",
      "  '}' → ' ' : 144 times\n",
      "  '{' → ' ' : 143 times\n",
      "  ' ' → '}' : 136 times\n",
      "  '^' → '{' : 126 times\n",
      "  '{' → '_' : 110 times\n",
      "  '_' → '{' : 108 times\n",
      "  '2' → '}' : 101 times\n",
      "  '{' → '^' : 84 times\n",
      "  '2' → '{' : 80 times\n",
      "  '{' → '2' : 77 times\n",
      "  '}' → '2' : 76 times\n",
      "  '{' → '1' : 74 times\n"
     ]
    }
   ],
   "source": [
    "cm, labels_sorted, true_labels, pred_labels = build_confusion_matrix_gpu(\n",
    "    model=model,\n",
    "    dataset=test_dataset,\n",
    "    token2idx=token2idx,\n",
    "    idx2token=idx2token,\n",
    "    num_samples=len(test_dataset),\n",
    "    beam_width=3,\n",
    "    max_len=256,\n",
    "    top_k_tokens=30\n",
    ")\n",
    "\n",
    "top_confusions = analyze_top_confusions(true_labels, pred_labels, top_k=15)"
   ]
  }
 ],
 "metadata": {
  "kernelspec": {
   "display_name": ".venv",
   "language": "python",
   "name": "python3"
  },
  "language_info": {
   "codemirror_mode": {
    "name": "ipython",
    "version": 3
   },
   "file_extension": ".py",
   "mimetype": "text/x-python",
   "name": "python",
   "nbconvert_exporter": "python",
   "pygments_lexer": "ipython3",
   "version": "3.9.13"
  }
 },
 "nbformat": 4,
 "nbformat_minor": 5
}
